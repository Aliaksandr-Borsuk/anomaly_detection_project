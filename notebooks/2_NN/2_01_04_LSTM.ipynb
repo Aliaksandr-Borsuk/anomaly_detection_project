{
 "cells": [
  {
   "cell_type": "markdown",
   "id": "7740fd61-6a42-4f9d-aff9-04c4ca669c86",
   "metadata": {},
   "source": [
    "## Попробуем LSTM, подбор гиперпараметров Optuna\n",
    "- **помним про временные split, признаки и метрики те же**"
   ]
  },
  {
   "cell_type": "markdown",
   "id": "f1705c0c-cee0-47c5-b932-ab4fb0e9be7d",
   "metadata": {},
   "source": [
    "## 1. Импорты\n"
   ]
  },
  {
   "cell_type": "code",
   "execution_count": 1,
   "id": "2378b116-ba74-4ebc-be99-fe88c6ed3f11",
   "metadata": {},
   "outputs": [
    {
     "name": "stdout",
     "output_type": "stream",
     "text": [
      "device: cuda\n"
     ]
    }
   ],
   "source": [
    "import os, warnings, random, json, math\n",
    "import numpy as np\n",
    "import pandas as pd\n",
    "import matplotlib.pyplot as plt\n",
    "import seaborn as sns\n",
    "import torch\n",
    "import torch.nn as nn\n",
    "from sklearn.metrics import (precision_score, recall_score, f1_score,\n",
    "                             roc_auc_score, precision_recall_curve, auc,\n",
    "                             average_precision_score, confusion_matrix)\n",
    "from sklearn.preprocessing import RobustScaler\n",
    "from IPython.display import clear_output\n",
    "\n",
    "import optuna\n",
    "from optuna.samplers import TPESampler\n",
    "\n",
    "warnings.filterwarnings('ignore')\n",
    "plt.style.use('seaborn-v0_8-whitegrid')\n",
    "plt.rcParams['figure.figsize'] = (8, 4)\n",
    "\n",
    "# 2 фиксируем сиды\n",
    "RANDOM_STATE = 42\n",
    "def set_seed(seed=RANDOM_STATE):\n",
    "    torch.manual_seed(seed); torch.cuda.manual_seed_all(seed)\n",
    "    np.random.seed(seed); random.seed(seed)\n",
    "    torch.backends.cudnn.deterministic = True\n",
    "    torch.backends.cudnn.benchmark = False\n",
    "set_seed()\n",
    "device = torch.device(\"cuda\" if torch.cuda.is_available() else \"cpu\")\n",
    "print(\"device:\", device)"
   ]
  },
  {
   "cell_type": "markdown",
   "id": "c9ff9485-a469-4e80-b99b-67df88a2bd7e",
   "metadata": {},
   "source": [
    "## 2. Загрузка"
   ]
  },
  {
   "cell_type": "code",
   "execution_count": 2,
   "id": "842fd046-4440-4d9b-9c91-de7aff398ade",
   "metadata": {},
   "outputs": [
    {
     "name": "stdout",
     "output_type": "stream",
     "text": [
      "\n",
      "Размер данных: 284807 строк, 35 столбцов\n",
      "Распределение классов:\n",
      "Class\n",
      "0    0.998273\n",
      "1    0.001727\n",
      "Name: proportion, dtype: float64\n"
     ]
    }
   ],
   "source": [
    "def find_path_within_project(project_name, path_to_data):\n",
    "    current_path = os.getcwd()\n",
    "    while True:\n",
    "        if project_name in os.listdir(current_path):\n",
    "            return os.path.join(current_path, project_name, path_to_data)\n",
    "        parent_path = os.path.dirname(current_path)\n",
    "        if parent_path == current_path:\n",
    "            raise FileNotFoundError(f\"Проект '{project_name}' не найден\")\n",
    "        current_path = parent_path\n",
    "\n",
    "full_path = find_path_within_project(\n",
    "    \"anomaly_detection_project\",\n",
    "    os.path.join(\"data\", \"raw\", \"creditcard_1_02_00.csv\")\n",
    ")\n",
    "df = pd.read_csv(full_path)\n",
    "print(f\"\\nРазмер данных: {df.shape[0]} строк, {df.shape[1]} столбцов\")\n",
    "print(f\"Распределение классов:\\n{df['Class'].value_counts(normalize=True)}\")"
   ]
  },
  {
   "cell_type": "markdown",
   "id": "568a9a72-04ef-400d-8958-187e43eaaade",
   "metadata": {},
   "source": [
    "## 3.сплиты"
   ]
  },
  {
   "cell_type": "code",
   "execution_count": 3,
   "id": "691e2c84-473b-4e21-9794-33d6b54cecf6",
   "metadata": {},
   "outputs": [
    {
     "name": "stdout",
     "output_type": "stream",
     "text": [
      "train: 0.0–39.0 | test: 40.0–47.0\n",
      "train: 0.0–31.0 | test: 32.0–39.0\n"
     ]
    }
   ],
   "source": [
    "time_col = 'Time_abs_hour'\n",
    "def get_train_test(df, col, train_finish, train_start=0, test_finish=0, gap=0):\n",
    "    if test_finish == 0:\n",
    "        test_finish = df[col].max()\n",
    "    test_start = train_finish + gap + 1\n",
    "    df_train = df[(df[col] >= train_start) & (df[col] <= train_finish)]\n",
    "    df_test  = df[(df[col] >= test_start)  & (df[col] <= test_finish)]\n",
    "    print(f\"train: {df_train[col].min()}–{df_train[col].max()} | test: {df_test[col].min()}–{df_test[col].max()}\")\n",
    "    return df_train, df_test\n",
    "\n",
    "train_finish = df[time_col].max() - 8\n",
    "df_train, df_test = get_train_test(df, time_col, train_finish)\n",
    "\n",
    "train_finish_2 = df_train[time_col].max() - 8\n",
    "df_train_2, df_val = get_train_test(df_train, time_col, train_finish_2)"
   ]
  },
  {
   "cell_type": "markdown",
   "id": "4bf0e8df-d33f-4cac-99a4-b1f82eca1045",
   "metadata": {},
   "source": [
    "## 4. Признаки и целевая переменная"
   ]
  },
  {
   "cell_type": "code",
   "execution_count": 4,
   "id": "6088478d-3a47-415c-a6fe-99e12956c2af",
   "metadata": {},
   "outputs": [],
   "source": [
    "unnecessary_cols = ['Time','Amount','Time_hour','Time_day','Amount_log', time_col]\n",
    "target_col = 'Class'\n",
    "drop_cols = [target_col] + unnecessary_cols\n",
    "\n",
    "def xy(df):\n",
    "    X = df.drop(drop_cols, axis=1).astype('float32').values\n",
    "    y = df[target_col].values\n",
    "    return X, y\n",
    "\n",
    "X_tr,   y_tr   = xy(df_train_2)\n",
    "X_val,  y_val  = xy(df_val)\n",
    "X_test, y_test = xy(df_test)\n",
    "X_train, y_train = xy(df_train)\n",
    "\n",
    "# Определим n_features до objective\n",
    "n_features = X_tr.shape[1]"
   ]
  },
  {
   "cell_type": "markdown",
   "id": "29a7519e-e523-4db5-9c9e-c1643816551d",
   "metadata": {},
   "source": [
    "## 5. Dataset / Loader"
   ]
  },
  {
   "cell_type": "code",
   "execution_count": 5,
   "id": "b657b8a3-50a2-4ec4-86e1-b008a399832b",
   "metadata": {},
   "outputs": [],
   "source": [
    "# датасет с ленивым окном\n",
    "from torch.utils.data import Dataset\n",
    "\n",
    "class LazySeqDataset(Dataset):\n",
    "    \"\"\"\n",
    "    Хранит только 2-D X и 1-D y.\n",
    "    В __getitem__ формирует окно [idx : idx+seq_len] без копирования данных.\n",
    "    \"\"\"\n",
    "    def __init__(self, X, y, seq_len):\n",
    "        super().__init__()\n",
    "        self.X = X           # (N, n_features)\n",
    "        self.y = y           # (N,)\n",
    "        self.seq_len = seq_len\n",
    "\n",
    "    def __len__(self):\n",
    "        return len(self.y) - self.seq_len + 1   # кол-во допустимых окон\n",
    "\n",
    "    def __getitem__(self, idx):\n",
    "        # Срез numpy не копирует память\n",
    "        x_window = self.X[idx : idx + self.seq_len]   # (seq_len, n_features)\n",
    "        y_target = self.y[idx + self.seq_len - 1]     # метка последнего шага\n",
    "        return torch.tensor(x_window, dtype=torch.float32), \\\n",
    "               torch.tensor(y_target, dtype=torch.float32)"
   ]
  },
  {
   "cell_type": "code",
   "execution_count": null,
   "id": "6abf380a-fce3-422f-ae80-fd283b57d671",
   "metadata": {},
   "outputs": [],
   "source": [
    "# даталоадер\n",
    "SEQ_LEN = 5\n",
    "\n",
    "tr_ds = LazySeqDataset(X_tr, y_tr, seq_len=SEQ_LEN)\n",
    "val_ds = LazySeqDataset(X_val, y_val, seq_len=SEQ_LEN)\n",
    "test_ds = LazySeqDataset(X_test, y_test, seq_len=SEQ_LEN)\n",
    "train_ds = LazySeqDataset(X_train, y_train, seq_len=SEQ_LEN)\n",
    "\n",
    "\n",
    "\n",
    "\n",
    "batch_size=128\n",
    "\n",
    "\n",
    "\n",
    "test_loader = torch.utils.data.DataLoader(\n",
    "    test_ds, batch_size=batch_size, shuffle=True, drop_last=True\n",
    ")\n",
    "train_loader = torch.utils.data.DataLoader(\n",
    "    train_ds, batch_size=batch_size, shuffle=True, drop_last=True\n",
    ")"
   ]
  },
  {
   "cell_type": "code",
   "execution_count": 7,
   "id": "90ad9ced-860e-4896-94ef-34f9e02ae2e4",
   "metadata": {},
   "outputs": [],
   "source": [
    "# 9. Модель LSTM\n",
    "class LSTMAnomaly(nn.Module):\n",
    "    \"\"\"\n",
    "    Простая LSTM для бинарной классификации.\n",
    "    Вход: (batch, seq_len, n_features)\n",
    "    Выход: скаляр-логит\n",
    "    \"\"\"\n",
    "    def __init__(self, n_features, hidden_size=64,\n",
    "                 num_layers=2, dropout=0.2):\n",
    "        super().__init__()\n",
    "        self.lstm = nn.LSTM(\n",
    "            input_size=n_features,\n",
    "            hidden_size=hidden_size,\n",
    "            num_layers=num_layers,\n",
    "            batch_first=True,\n",
    "            dropout=dropout if num_layers > 1 else 0.0\n",
    "        )\n",
    "        self.fc = nn.Linear(hidden_size, 1)\n",
    "\n",
    "    def forward(self, x):\n",
    "        # x: (B, seq_len, n_features)\n",
    "        out, _ = self.lstm(x)           # (B, seq_len, hidden)\n",
    "        last_out = out[:, -1, :]        # берём последний тайм-степ\n",
    "        return self.fc(last_out).squeeze(-1)  # (B,)"
   ]
  },
  {
   "cell_type": "markdown",
   "id": "c422ab15-73a1-4e34-937e-24e993c5d203",
   "metadata": {},
   "source": [
    "## 7. Функция потерь и метрика"
   ]
  },
  {
   "cell_type": "code",
   "execution_count": 8,
   "id": "4087efdb-2aa7-4af6-9186-64afa4820c1b",
   "metadata": {},
   "outputs": [],
   "source": [
    "class PR_AUC_Metric:\n",
    "    def __init__(self):\n",
    "        self._name = \"pr_auc\"\n",
    "        self._maximize = True\n",
    "    def __call__(self, y_true, y_score):\n",
    "        return average_precision_score(y_true, y_score)\n",
    "\n",
    "loss_fn = nn.BCEWithLogitsLoss(pos_weight=torch.tensor([len(y_tr)/y_tr.sum()], device=device))"
   ]
  },
  {
   "cell_type": "markdown",
   "id": "823ffab1-6def-4197-b109-0d07522ed100",
   "metadata": {},
   "source": [
    "## 8. Optuna — подбор гиперпараметров"
   ]
  },
  {
   "cell_type": "code",
   "execution_count": null,
   "id": "676301d2-1956-43c9-bfa2-494a97f3dc77",
   "metadata": {
    "scrolled": true
   },
   "outputs": [
    {
     "name": "stderr",
     "output_type": "stream",
     "text": [
      "[I 2025-08-31 22:22:24,509] A new study created in memory with name: no-name-6d3bc987-3d74-49d7-9c6d-39dbf763f184\n"
     ]
    },
    {
     "data": {
      "application/vnd.jupyter.widget-view+json": {
       "model_id": "9164c9fc597543b297339e4501b2b3ac",
       "version_major": 2,
       "version_minor": 0
      },
      "text/plain": [
       "  0%|          | 0/5 [00:00<?, ?it/s]"
      ]
     },
     "metadata": {},
     "output_type": "display_data"
    },
    {
     "name": "stdout",
     "output_type": "stream",
     "text": [
      "\n",
      "Учились 19 эпох.\n",
      "[I 2025-08-31 22:27:38,108] Trial 0 finished with value: 0.7652670204846298 and parameters: {'lr': 5.6115164153345e-05, 'batch_size': 32, 'hidden_size': 64, 'num_layers': 1, 'dropout': 0.04679835610086079}. Best is trial 0 with value: 0.7652670204846298.\n",
      "\n",
      "Учились 38 эпох.\n",
      "[I 2025-08-31 22:37:50,043] Trial 1 finished with value: 0.7624956995144203 and parameters: {'lr': 1.3066739238053272e-05, 'batch_size': 32, 'hidden_size': 64, 'num_layers': 1, 'dropout': 0.29097295564859826}. Best is trial 0 with value: 0.7652670204846298.\n",
      "\n",
      "Учились 6 эпох.\n",
      "[I 2025-08-31 22:39:49,419] Trial 2 finished with value: 0.7659156709060089 and parameters: {'lr': 0.000462258900102083, 'batch_size': 32, 'hidden_size': 32, 'num_layers': 1, 'dropout': 0.15742692948967135}. Best is trial 2 with value: 0.7659156709060089.\n",
      "\n",
      "Учились 10 эпох.\n",
      "[I 2025-08-31 22:41:39,683] Trial 3 finished with value: 0.736255802615317 and parameters: {'lr': 7.309539835912905e-05, 'batch_size': 64, 'hidden_size': 32, 'num_layers': 1, 'dropout': 0.1099085529881075}. Best is trial 2 with value: 0.7659156709060089.\n",
      "\n",
      "Учились 7 эпох.\n",
      "[I 2025-08-31 22:43:59,308] Trial 4 finished with value: 0.7399743144315344 and parameters: {'lr': 8.168455894760161e-05, 'batch_size': 32, 'hidden_size': 64, 'num_layers': 2, 'dropout': 0.013935123815999317}. Best is trial 2 with value: 0.7659156709060089.\n",
      "Best trial: {'lr': 0.000462258900102083, 'batch_size': 32, 'hidden_size': 32, 'num_layers': 1, 'dropout': 0.15742692948967135}\n",
      "Best PR-AUC: 0.7659156709060089\n"
     ]
    }
   ],
   "source": [
    "def objective(trial):\n",
    "    lr = trial.suggest_float(\"lr\", 1e-5, 1e-3, log=True)\n",
    "    batch_size = trial.suggest_categorical(\"batch_size\", [32, 64])\n",
    "    hidden_size = trial.suggest_int(\"hidden_size\", 32, 64, step=32)\n",
    "    num_layers = trial.suggest_int(\"num_layers\", 1, 3)\n",
    "    dropout = trial.suggest_float(\"dropout\", 0.0, 0.3)\n",
    "\n",
    "    model = LSTMAnomaly(\n",
    "        n_features = n_features,\n",
    "        hidden_size=hidden_size,\n",
    "        num_layers=num_layers,\n",
    "        dropout=dropout\n",
    "    ).to(device)\n",
    "    optimizer = torch.optim.AdamW(model.parameters(), lr=lr)\n",
    "    scheduler = torch.optim.lr_scheduler.CosineAnnealingWarmRestarts(optimizer, T_0=10, T_mult=1)\n",
    "\n",
    "\n",
    "    # 1. DataLoader, который делает окна «на лету»\n",
    "\n",
    "    tr_loader = torch.utils.data.DataLoader(\n",
    "        tr_ds, batch_size=batch_size, shuffle=True, drop_last=True\n",
    "    )\n",
    "    val_loader = torch.utils.data.DataLoader(\n",
    "        val_ds, batch_size=batch_size, shuffle=False, drop_last=False\n",
    "    )\n",
    "\n",
    "    best_pr_auc = 0.0\n",
    "    patience, counter = 5, 0\n",
    "\n",
    "    for epoch in range(50):\n",
    "        # --- train ---\n",
    "        model.train()\n",
    "        for X, y in tr_loader:  # X: (B, seq_len, n_features)\n",
    "            X, y = X.to(device), y.to(device)\n",
    "            optimizer.zero_grad()\n",
    "            loss = loss_fn(model(X), y)\n",
    "            loss.backward()\n",
    "            optimizer.step()\n",
    "        scheduler.step()\n",
    "\n",
    "        # --- eval ---\n",
    "        model.eval()\n",
    "        preds, labels = [], []\n",
    "        with torch.no_grad():\n",
    "            for X, y in val_loader:\n",
    "                X = X.to(device)\n",
    "                logits = model(X)           # (B,)\n",
    "                preds.append(torch.sigmoid(logits).cpu())\n",
    "                labels.append(y)\n",
    "        preds = torch.cat(preds).numpy()\n",
    "        labels = torch.cat(labels).numpy()\n",
    "        pr_auc = average_precision_score(labels, preds)\n",
    "\n",
    "        if pr_auc > best_pr_auc + 1e-4:\n",
    "            best_pr_auc = pr_auc\n",
    "            counter = 0\n",
    "        else:\n",
    "            counter += 1\n",
    "        if counter >= patience:\n",
    "            break\n",
    "    print(f\"\\nУчились {epoch} эпох.\")\n",
    "    return best_pr_auc\n",
    "\n",
    "\n",
    "set_seed()\n",
    "\n",
    "SEQ_LEN = 20\n",
    "n_trials=5\n",
    "\n",
    "tr_ds = LazySeqDataset(X_tr, y_tr, seq_len=SEQ_LEN)\n",
    "val_ds = LazySeqDataset(X_val, y_val, seq_len=SEQ_LEN)\n",
    "\n",
    "study = optuna.create_study(direction=\"maximize\", sampler=TPESampler(seed=RANDOM_STATE))\n",
    "study.optimize(objective, n_trials=n_trials, show_progress_bar=True)\n",
    "\n",
    "print(\"Best trial:\", study.best_trial.params)\n",
    "print(\"Best PR-AUC:\", study.best_value)"
   ]
  },
  {
   "cell_type": "code",
   "execution_count": 11,
   "id": "109d765e-7e4c-45ba-a10e-809220a562cb",
   "metadata": {},
   "outputs": [
    {
     "data": {
      "application/vnd.plotly.v1+json": {
       "config": {
        "plotlyServerURL": "https://plot.ly"
       },
       "data": [
        {
         "mode": "markers",
         "name": "Objective Value",
         "type": "scatter",
         "x": [
          0,
          1,
          2,
          3,
          4
         ],
         "y": [
          0.7652670204846298,
          0.7624956995144203,
          0.7659156709060089,
          0.736255802615317,
          0.7399743144315344
         ]
        },
        {
         "mode": "lines",
         "name": "Best Value",
         "type": "scatter",
         "x": [
          0,
          1,
          2,
          3,
          4
         ],
         "y": [
          0.7652670204846298,
          0.7652670204846298,
          0.7659156709060089,
          0.7659156709060089,
          0.7659156709060089
         ]
        },
        {
         "marker": {
          "color": "#cccccc"
         },
         "mode": "markers",
         "name": "Infeasible Trial",
         "showlegend": false,
         "type": "scatter",
         "x": [],
         "y": []
        }
       ],
       "layout": {
        "template": {
         "data": {
          "bar": [
           {
            "error_x": {
             "color": "#2a3f5f"
            },
            "error_y": {
             "color": "#2a3f5f"
            },
            "marker": {
             "line": {
              "color": "#E5ECF6",
              "width": 0.5
             },
             "pattern": {
              "fillmode": "overlay",
              "size": 10,
              "solidity": 0.2
             }
            },
            "type": "bar"
           }
          ],
          "barpolar": [
           {
            "marker": {
             "line": {
              "color": "#E5ECF6",
              "width": 0.5
             },
             "pattern": {
              "fillmode": "overlay",
              "size": 10,
              "solidity": 0.2
             }
            },
            "type": "barpolar"
           }
          ],
          "carpet": [
           {
            "aaxis": {
             "endlinecolor": "#2a3f5f",
             "gridcolor": "white",
             "linecolor": "white",
             "minorgridcolor": "white",
             "startlinecolor": "#2a3f5f"
            },
            "baxis": {
             "endlinecolor": "#2a3f5f",
             "gridcolor": "white",
             "linecolor": "white",
             "minorgridcolor": "white",
             "startlinecolor": "#2a3f5f"
            },
            "type": "carpet"
           }
          ],
          "choropleth": [
           {
            "colorbar": {
             "outlinewidth": 0,
             "ticks": ""
            },
            "type": "choropleth"
           }
          ],
          "contour": [
           {
            "colorbar": {
             "outlinewidth": 0,
             "ticks": ""
            },
            "colorscale": [
             [
              0,
              "#0d0887"
             ],
             [
              0.1111111111111111,
              "#46039f"
             ],
             [
              0.2222222222222222,
              "#7201a8"
             ],
             [
              0.3333333333333333,
              "#9c179e"
             ],
             [
              0.4444444444444444,
              "#bd3786"
             ],
             [
              0.5555555555555556,
              "#d8576b"
             ],
             [
              0.6666666666666666,
              "#ed7953"
             ],
             [
              0.7777777777777778,
              "#fb9f3a"
             ],
             [
              0.8888888888888888,
              "#fdca26"
             ],
             [
              1,
              "#f0f921"
             ]
            ],
            "type": "contour"
           }
          ],
          "contourcarpet": [
           {
            "colorbar": {
             "outlinewidth": 0,
             "ticks": ""
            },
            "type": "contourcarpet"
           }
          ],
          "heatmap": [
           {
            "colorbar": {
             "outlinewidth": 0,
             "ticks": ""
            },
            "colorscale": [
             [
              0,
              "#0d0887"
             ],
             [
              0.1111111111111111,
              "#46039f"
             ],
             [
              0.2222222222222222,
              "#7201a8"
             ],
             [
              0.3333333333333333,
              "#9c179e"
             ],
             [
              0.4444444444444444,
              "#bd3786"
             ],
             [
              0.5555555555555556,
              "#d8576b"
             ],
             [
              0.6666666666666666,
              "#ed7953"
             ],
             [
              0.7777777777777778,
              "#fb9f3a"
             ],
             [
              0.8888888888888888,
              "#fdca26"
             ],
             [
              1,
              "#f0f921"
             ]
            ],
            "type": "heatmap"
           }
          ],
          "histogram": [
           {
            "marker": {
             "pattern": {
              "fillmode": "overlay",
              "size": 10,
              "solidity": 0.2
             }
            },
            "type": "histogram"
           }
          ],
          "histogram2d": [
           {
            "colorbar": {
             "outlinewidth": 0,
             "ticks": ""
            },
            "colorscale": [
             [
              0,
              "#0d0887"
             ],
             [
              0.1111111111111111,
              "#46039f"
             ],
             [
              0.2222222222222222,
              "#7201a8"
             ],
             [
              0.3333333333333333,
              "#9c179e"
             ],
             [
              0.4444444444444444,
              "#bd3786"
             ],
             [
              0.5555555555555556,
              "#d8576b"
             ],
             [
              0.6666666666666666,
              "#ed7953"
             ],
             [
              0.7777777777777778,
              "#fb9f3a"
             ],
             [
              0.8888888888888888,
              "#fdca26"
             ],
             [
              1,
              "#f0f921"
             ]
            ],
            "type": "histogram2d"
           }
          ],
          "histogram2dcontour": [
           {
            "colorbar": {
             "outlinewidth": 0,
             "ticks": ""
            },
            "colorscale": [
             [
              0,
              "#0d0887"
             ],
             [
              0.1111111111111111,
              "#46039f"
             ],
             [
              0.2222222222222222,
              "#7201a8"
             ],
             [
              0.3333333333333333,
              "#9c179e"
             ],
             [
              0.4444444444444444,
              "#bd3786"
             ],
             [
              0.5555555555555556,
              "#d8576b"
             ],
             [
              0.6666666666666666,
              "#ed7953"
             ],
             [
              0.7777777777777778,
              "#fb9f3a"
             ],
             [
              0.8888888888888888,
              "#fdca26"
             ],
             [
              1,
              "#f0f921"
             ]
            ],
            "type": "histogram2dcontour"
           }
          ],
          "mesh3d": [
           {
            "colorbar": {
             "outlinewidth": 0,
             "ticks": ""
            },
            "type": "mesh3d"
           }
          ],
          "parcoords": [
           {
            "line": {
             "colorbar": {
              "outlinewidth": 0,
              "ticks": ""
             }
            },
            "type": "parcoords"
           }
          ],
          "pie": [
           {
            "automargin": true,
            "type": "pie"
           }
          ],
          "scatter": [
           {
            "fillpattern": {
             "fillmode": "overlay",
             "size": 10,
             "solidity": 0.2
            },
            "type": "scatter"
           }
          ],
          "scatter3d": [
           {
            "line": {
             "colorbar": {
              "outlinewidth": 0,
              "ticks": ""
             }
            },
            "marker": {
             "colorbar": {
              "outlinewidth": 0,
              "ticks": ""
             }
            },
            "type": "scatter3d"
           }
          ],
          "scattercarpet": [
           {
            "marker": {
             "colorbar": {
              "outlinewidth": 0,
              "ticks": ""
             }
            },
            "type": "scattercarpet"
           }
          ],
          "scattergeo": [
           {
            "marker": {
             "colorbar": {
              "outlinewidth": 0,
              "ticks": ""
             }
            },
            "type": "scattergeo"
           }
          ],
          "scattergl": [
           {
            "marker": {
             "colorbar": {
              "outlinewidth": 0,
              "ticks": ""
             }
            },
            "type": "scattergl"
           }
          ],
          "scattermap": [
           {
            "marker": {
             "colorbar": {
              "outlinewidth": 0,
              "ticks": ""
             }
            },
            "type": "scattermap"
           }
          ],
          "scattermapbox": [
           {
            "marker": {
             "colorbar": {
              "outlinewidth": 0,
              "ticks": ""
             }
            },
            "type": "scattermapbox"
           }
          ],
          "scatterpolar": [
           {
            "marker": {
             "colorbar": {
              "outlinewidth": 0,
              "ticks": ""
             }
            },
            "type": "scatterpolar"
           }
          ],
          "scatterpolargl": [
           {
            "marker": {
             "colorbar": {
              "outlinewidth": 0,
              "ticks": ""
             }
            },
            "type": "scatterpolargl"
           }
          ],
          "scatterternary": [
           {
            "marker": {
             "colorbar": {
              "outlinewidth": 0,
              "ticks": ""
             }
            },
            "type": "scatterternary"
           }
          ],
          "surface": [
           {
            "colorbar": {
             "outlinewidth": 0,
             "ticks": ""
            },
            "colorscale": [
             [
              0,
              "#0d0887"
             ],
             [
              0.1111111111111111,
              "#46039f"
             ],
             [
              0.2222222222222222,
              "#7201a8"
             ],
             [
              0.3333333333333333,
              "#9c179e"
             ],
             [
              0.4444444444444444,
              "#bd3786"
             ],
             [
              0.5555555555555556,
              "#d8576b"
             ],
             [
              0.6666666666666666,
              "#ed7953"
             ],
             [
              0.7777777777777778,
              "#fb9f3a"
             ],
             [
              0.8888888888888888,
              "#fdca26"
             ],
             [
              1,
              "#f0f921"
             ]
            ],
            "type": "surface"
           }
          ],
          "table": [
           {
            "cells": {
             "fill": {
              "color": "#EBF0F8"
             },
             "line": {
              "color": "white"
             }
            },
            "header": {
             "fill": {
              "color": "#C8D4E3"
             },
             "line": {
              "color": "white"
             }
            },
            "type": "table"
           }
          ]
         },
         "layout": {
          "annotationdefaults": {
           "arrowcolor": "#2a3f5f",
           "arrowhead": 0,
           "arrowwidth": 1
          },
          "autotypenumbers": "strict",
          "coloraxis": {
           "colorbar": {
            "outlinewidth": 0,
            "ticks": ""
           }
          },
          "colorscale": {
           "diverging": [
            [
             0,
             "#8e0152"
            ],
            [
             0.1,
             "#c51b7d"
            ],
            [
             0.2,
             "#de77ae"
            ],
            [
             0.3,
             "#f1b6da"
            ],
            [
             0.4,
             "#fde0ef"
            ],
            [
             0.5,
             "#f7f7f7"
            ],
            [
             0.6,
             "#e6f5d0"
            ],
            [
             0.7,
             "#b8e186"
            ],
            [
             0.8,
             "#7fbc41"
            ],
            [
             0.9,
             "#4d9221"
            ],
            [
             1,
             "#276419"
            ]
           ],
           "sequential": [
            [
             0,
             "#0d0887"
            ],
            [
             0.1111111111111111,
             "#46039f"
            ],
            [
             0.2222222222222222,
             "#7201a8"
            ],
            [
             0.3333333333333333,
             "#9c179e"
            ],
            [
             0.4444444444444444,
             "#bd3786"
            ],
            [
             0.5555555555555556,
             "#d8576b"
            ],
            [
             0.6666666666666666,
             "#ed7953"
            ],
            [
             0.7777777777777778,
             "#fb9f3a"
            ],
            [
             0.8888888888888888,
             "#fdca26"
            ],
            [
             1,
             "#f0f921"
            ]
           ],
           "sequentialminus": [
            [
             0,
             "#0d0887"
            ],
            [
             0.1111111111111111,
             "#46039f"
            ],
            [
             0.2222222222222222,
             "#7201a8"
            ],
            [
             0.3333333333333333,
             "#9c179e"
            ],
            [
             0.4444444444444444,
             "#bd3786"
            ],
            [
             0.5555555555555556,
             "#d8576b"
            ],
            [
             0.6666666666666666,
             "#ed7953"
            ],
            [
             0.7777777777777778,
             "#fb9f3a"
            ],
            [
             0.8888888888888888,
             "#fdca26"
            ],
            [
             1,
             "#f0f921"
            ]
           ]
          },
          "colorway": [
           "#636efa",
           "#EF553B",
           "#00cc96",
           "#ab63fa",
           "#FFA15A",
           "#19d3f3",
           "#FF6692",
           "#B6E880",
           "#FF97FF",
           "#FECB52"
          ],
          "font": {
           "color": "#2a3f5f"
          },
          "geo": {
           "bgcolor": "white",
           "lakecolor": "white",
           "landcolor": "#E5ECF6",
           "showlakes": true,
           "showland": true,
           "subunitcolor": "white"
          },
          "hoverlabel": {
           "align": "left"
          },
          "hovermode": "closest",
          "mapbox": {
           "style": "light"
          },
          "paper_bgcolor": "white",
          "plot_bgcolor": "#E5ECF6",
          "polar": {
           "angularaxis": {
            "gridcolor": "white",
            "linecolor": "white",
            "ticks": ""
           },
           "bgcolor": "#E5ECF6",
           "radialaxis": {
            "gridcolor": "white",
            "linecolor": "white",
            "ticks": ""
           }
          },
          "scene": {
           "xaxis": {
            "backgroundcolor": "#E5ECF6",
            "gridcolor": "white",
            "gridwidth": 2,
            "linecolor": "white",
            "showbackground": true,
            "ticks": "",
            "zerolinecolor": "white"
           },
           "yaxis": {
            "backgroundcolor": "#E5ECF6",
            "gridcolor": "white",
            "gridwidth": 2,
            "linecolor": "white",
            "showbackground": true,
            "ticks": "",
            "zerolinecolor": "white"
           },
           "zaxis": {
            "backgroundcolor": "#E5ECF6",
            "gridcolor": "white",
            "gridwidth": 2,
            "linecolor": "white",
            "showbackground": true,
            "ticks": "",
            "zerolinecolor": "white"
           }
          },
          "shapedefaults": {
           "line": {
            "color": "#2a3f5f"
           }
          },
          "ternary": {
           "aaxis": {
            "gridcolor": "white",
            "linecolor": "white",
            "ticks": ""
           },
           "baxis": {
            "gridcolor": "white",
            "linecolor": "white",
            "ticks": ""
           },
           "bgcolor": "#E5ECF6",
           "caxis": {
            "gridcolor": "white",
            "linecolor": "white",
            "ticks": ""
           }
          },
          "title": {
           "x": 0.05
          },
          "xaxis": {
           "automargin": true,
           "gridcolor": "white",
           "linecolor": "white",
           "ticks": "",
           "title": {
            "standoff": 15
           },
           "zerolinecolor": "white",
           "zerolinewidth": 2
          },
          "yaxis": {
           "automargin": true,
           "gridcolor": "white",
           "linecolor": "white",
           "ticks": "",
           "title": {
            "standoff": 15
           },
           "zerolinecolor": "white",
           "zerolinewidth": 2
          }
         }
        },
        "title": {
         "text": "Optimization History Plot"
        },
        "xaxis": {
         "title": {
          "text": "Trial"
         }
        },
        "yaxis": {
         "title": {
          "text": "Objective Value"
         }
        }
       }
      },
      "image/png": "[encoded data removed]"
     },
     "metadata": {},
     "output_type": "display_data"
    },
    {
     "data": {
      "application/vnd.plotly.v1+json": {
       "config": {
        "plotlyServerURL": "https://plot.ly"
       },
       "data": [
        {
         "cliponaxis": false,
         "hovertemplate": [
          "num_layers (IntDistribution): 0.031637340112326065<extra></extra>",
          "hidden_size (IntDistribution): 0.04751265622315704<extra></extra>",
          "lr (FloatDistribution): 0.21296807304391188<extra></extra>",
          "batch_size (CategoricalDistribution): 0.2762531744077806<extra></extra>",
          "dropout (FloatDistribution): 0.4316287562128245<extra></extra>"
         ],
         "name": "Objective Value",
         "orientation": "h",
         "text": [
          "0.03",
          "0.05",
          "0.21",
          "0.28",
          "0.43"
         ],
         "textposition": "outside",
         "type": "bar",
         "x": [
          0.031637340112326065,
          0.04751265622315704,
          0.21296807304391188,
          0.2762531744077806,
          0.4316287562128245
         ],
         "y": [
          "num_layers",
          "hidden_size",
          "lr",
          "batch_size",
          "dropout"
         ]
        }
       ],
       "layout": {
        "template": {
         "data": {
          "bar": [
           {
            "error_x": {
             "color": "#2a3f5f"
            },
            "error_y": {
             "color": "#2a3f5f"
            },
            "marker": {
             "line": {
              "color": "#E5ECF6",
              "width": 0.5
             },
             "pattern": {
              "fillmode": "overlay",
              "size": 10,
              "solidity": 0.2
             }
            },
            "type": "bar"
           }
          ],
          "barpolar": [
           {
            "marker": {
             "line": {
              "color": "#E5ECF6",
              "width": 0.5
             },
             "pattern": {
              "fillmode": "overlay",
              "size": 10,
              "solidity": 0.2
             }
            },
            "type": "barpolar"
           }
          ],
          "carpet": [
           {
            "aaxis": {
             "endlinecolor": "#2a3f5f",
             "gridcolor": "white",
             "linecolor": "white",
             "minorgridcolor": "white",
             "startlinecolor": "#2a3f5f"
            },
            "baxis": {
             "endlinecolor": "#2a3f5f",
             "gridcolor": "white",
             "linecolor": "white",
             "minorgridcolor": "white",
             "startlinecolor": "#2a3f5f"
            },
            "type": "carpet"
           }
          ],
          "choropleth": [
           {
            "colorbar": {
             "outlinewidth": 0,
             "ticks": ""
            },
            "type": "choropleth"
           }
          ],
          "contour": [
           {
            "colorbar": {
             "outlinewidth": 0,
             "ticks": ""
            },
            "colorscale": [
             [
              0,
              "#0d0887"
             ],
             [
              0.1111111111111111,
              "#46039f"
             ],
             [
              0.2222222222222222,
              "#7201a8"
             ],
             [
              0.3333333333333333,
              "#9c179e"
             ],
             [
              0.4444444444444444,
              "#bd3786"
             ],
             [
              0.5555555555555556,
              "#d8576b"
             ],
             [
              0.6666666666666666,
              "#ed7953"
             ],
             [
              0.7777777777777778,
              "#fb9f3a"
             ],
             [
              0.8888888888888888,
              "#fdca26"
             ],
             [
              1,
              "#f0f921"
             ]
            ],
            "type": "contour"
           }
          ],
          "contourcarpet": [
           {
            "colorbar": {
             "outlinewidth": 0,
             "ticks": ""
            },
            "type": "contourcarpet"
           }
          ],
          "heatmap": [
           {
            "colorbar": {
             "outlinewidth": 0,
             "ticks": ""
            },
            "colorscale": [
             [
              0,
              "#0d0887"
             ],
             [
              0.1111111111111111,
              "#46039f"
             ],
             [
              0.2222222222222222,
              "#7201a8"
             ],
             [
              0.3333333333333333,
              "#9c179e"
             ],
             [
              0.4444444444444444,
              "#bd3786"
             ],
             [
              0.5555555555555556,
              "#d8576b"
             ],
             [
              0.6666666666666666,
              "#ed7953"
             ],
             [
              0.7777777777777778,
              "#fb9f3a"
             ],
             [
              0.8888888888888888,
              "#fdca26"
             ],
             [
              1,
              "#f0f921"
             ]
            ],
            "type": "heatmap"
           }
          ],
          "histogram": [
           {
            "marker": {
             "pattern": {
              "fillmode": "overlay",
              "size": 10,
              "solidity": 0.2
             }
            },
            "type": "histogram"
           }
          ],
          "histogram2d": [
           {
            "colorbar": {
             "outlinewidth": 0,
             "ticks": ""
            },
            "colorscale": [
             [
              0,
              "#0d0887"
             ],
             [
              0.1111111111111111,
              "#46039f"
             ],
             [
              0.2222222222222222,
              "#7201a8"
             ],
             [
              0.3333333333333333,
              "#9c179e"
             ],
             [
              0.4444444444444444,
              "#bd3786"
             ],
             [
              0.5555555555555556,
              "#d8576b"
             ],
             [
              0.6666666666666666,
              "#ed7953"
             ],
             [
              0.7777777777777778,
              "#fb9f3a"
             ],
             [
              0.8888888888888888,
              "#fdca26"
             ],
             [
              1,
              "#f0f921"
             ]
            ],
            "type": "histogram2d"
           }
          ],
          "histogram2dcontour": [
           {
            "colorbar": {
             "outlinewidth": 0,
             "ticks": ""
            },
            "colorscale": [
             [
              0,
              "#0d0887"
             ],
             [
              0.1111111111111111,
              "#46039f"
             ],
             [
              0.2222222222222222,
              "#7201a8"
             ],
             [
              0.3333333333333333,
              "#9c179e"
             ],
             [
              0.4444444444444444,
              "#bd3786"
             ],
             [
              0.5555555555555556,
              "#d8576b"
             ],
             [
              0.6666666666666666,
              "#ed7953"
             ],
             [
              0.7777777777777778,
              "#fb9f3a"
             ],
             [
              0.8888888888888888,
              "#fdca26"
             ],
             [
              1,
              "#f0f921"
             ]
            ],
            "type": "histogram2dcontour"
           }
          ],
          "mesh3d": [
           {
            "colorbar": {
             "outlinewidth": 0,
             "ticks": ""
            },
            "type": "mesh3d"
           }
          ],
          "parcoords": [
           {
            "line": {
             "colorbar": {
              "outlinewidth": 0,
              "ticks": ""
             }
            },
            "type": "parcoords"
           }
          ],
          "pie": [
           {
            "automargin": true,
            "type": "pie"
           }
          ],
          "scatter": [
           {
            "fillpattern": {
             "fillmode": "overlay",
             "size": 10,
             "solidity": 0.2
            },
            "type": "scatter"
           }
          ],
          "scatter3d": [
           {
            "line": {
             "colorbar": {
              "outlinewidth": 0,
              "ticks": ""
             }
            },
            "marker": {
             "colorbar": {
              "outlinewidth": 0,
              "ticks": ""
             }
            },
            "type": "scatter3d"
           }
          ],
          "scattercarpet": [
           {
            "marker": {
             "colorbar": {
              "outlinewidth": 0,
              "ticks": ""
             }
            },
            "type": "scattercarpet"
           }
          ],
          "scattergeo": [
           {
            "marker": {
             "colorbar": {
              "outlinewidth": 0,
              "ticks": ""
             }
            },
            "type": "scattergeo"
           }
          ],
          "scattergl": [
           {
            "marker": {
             "colorbar": {
              "outlinewidth": 0,
              "ticks": ""
             }
            },
            "type": "scattergl"
           }
          ],
          "scattermap": [
           {
            "marker": {
             "colorbar": {
              "outlinewidth": 0,
              "ticks": ""
             }
            },
            "type": "scattermap"
           }
          ],
          "scattermapbox": [
           {
            "marker": {
             "colorbar": {
              "outlinewidth": 0,
              "ticks": ""
             }
            },
            "type": "scattermapbox"
           }
          ],
          "scatterpolar": [
           {
            "marker": {
             "colorbar": {
              "outlinewidth": 0,
              "ticks": ""
             }
            },
            "type": "scatterpolar"
           }
          ],
          "scatterpolargl": [
           {
            "marker": {
             "colorbar": {
              "outlinewidth": 0,
              "ticks": ""
             }
            },
            "type": "scatterpolargl"
           }
          ],
          "scatterternary": [
           {
            "marker": {
             "colorbar": {
              "outlinewidth": 0,
              "ticks": ""
             }
            },
            "type": "scatterternary"
           }
          ],
          "surface": [
           {
            "colorbar": {
             "outlinewidth": 0,
             "ticks": ""
            },
            "colorscale": [
             [
              0,
              "#0d0887"
             ],
             [
              0.1111111111111111,
              "#46039f"
             ],
             [
              0.2222222222222222,
              "#7201a8"
             ],
             [
              0.3333333333333333,
              "#9c179e"
             ],
             [
              0.4444444444444444,
              "#bd3786"
             ],
             [
              0.5555555555555556,
              "#d8576b"
             ],
             [
              0.6666666666666666,
              "#ed7953"
             ],
             [
              0.7777777777777778,
              "#fb9f3a"
             ],
             [
              0.8888888888888888,
              "#fdca26"
             ],
             [
              1,
              "#f0f921"
             ]
            ],
            "type": "surface"
           }
          ],
          "table": [
           {
            "cells": {
             "fill": {
              "color": "#EBF0F8"
             },
             "line": {
              "color": "white"
             }
            },
            "header": {
             "fill": {
              "color": "#C8D4E3"
             },
             "line": {
              "color": "white"
             }
            },
            "type": "table"
           }
          ]
         },
         "layout": {
          "annotationdefaults": {
           "arrowcolor": "#2a3f5f",
           "arrowhead": 0,
           "arrowwidth": 1
          },
          "autotypenumbers": "strict",
          "coloraxis": {
           "colorbar": {
            "outlinewidth": 0,
            "ticks": ""
           }
          },
          "colorscale": {
           "diverging": [
            [
             0,
             "#8e0152"
            ],
            [
             0.1,
             "#c51b7d"
            ],
            [
             0.2,
             "#de77ae"
            ],
            [
             0.3,
             "#f1b6da"
            ],
            [
             0.4,
             "#fde0ef"
            ],
            [
             0.5,
             "#f7f7f7"
            ],
            [
             0.6,
             "#e6f5d0"
            ],
            [
             0.7,
             "#b8e186"
            ],
            [
             0.8,
             "#7fbc41"
            ],
            [
             0.9,
             "#4d9221"
            ],
            [
             1,
             "#276419"
            ]
           ],
           "sequential": [
            [
             0,
             "#0d0887"
            ],
            [
             0.1111111111111111,
             "#46039f"
            ],
            [
             0.2222222222222222,
             "#7201a8"
            ],
            [
             0.3333333333333333,
             "#9c179e"
            ],
            [
             0.4444444444444444,
             "#bd3786"
            ],
            [
             0.5555555555555556,
             "#d8576b"
            ],
            [
             0.6666666666666666,
             "#ed7953"
            ],
            [
             0.7777777777777778,
             "#fb9f3a"
            ],
            [
             0.8888888888888888,
             "#fdca26"
            ],
            [
             1,
             "#f0f921"
            ]
           ],
           "sequentialminus": [
            [
             0,
             "#0d0887"
            ],
            [
             0.1111111111111111,
             "#46039f"
            ],
            [
             0.2222222222222222,
             "#7201a8"
            ],
            [
             0.3333333333333333,
             "#9c179e"
            ],
            [
             0.4444444444444444,
             "#bd3786"
            ],
            [
             0.5555555555555556,
             "#d8576b"
            ],
            [
             0.6666666666666666,
             "#ed7953"
            ],
            [
             0.7777777777777778,
             "#fb9f3a"
            ],
            [
             0.8888888888888888,
             "#fdca26"
            ],
            [
             1,
             "#f0f921"
            ]
           ]
          },
          "colorway": [
           "#636efa",
           "#EF553B",
           "#00cc96",
           "#ab63fa",
           "#FFA15A",
           "#19d3f3",
           "#FF6692",
           "#B6E880",
           "#FF97FF",
           "#FECB52"
          ],
          "font": {
           "color": "#2a3f5f"
          },
          "geo": {
           "bgcolor": "white",
           "lakecolor": "white",
           "landcolor": "#E5ECF6",
           "showlakes": true,
           "showland": true,
           "subunitcolor": "white"
          },
          "hoverlabel": {
           "align": "left"
          },
          "hovermode": "closest",
          "mapbox": {
           "style": "light"
          },
          "paper_bgcolor": "white",
          "plot_bgcolor": "#E5ECF6",
          "polar": {
           "angularaxis": {
            "gridcolor": "white",
            "linecolor": "white",
            "ticks": ""
           },
           "bgcolor": "#E5ECF6",
           "radialaxis": {
            "gridcolor": "white",
            "linecolor": "white",
            "ticks": ""
           }
          },
          "scene": {
           "xaxis": {
            "backgroundcolor": "#E5ECF6",
            "gridcolor": "white",
            "gridwidth": 2,
            "linecolor": "white",
            "showbackground": true,
            "ticks": "",
            "zerolinecolor": "white"
           },
           "yaxis": {
            "backgroundcolor": "#E5ECF6",
            "gridcolor": "white",
            "gridwidth": 2,
            "linecolor": "white",
            "showbackground": true,
            "ticks": "",
            "zerolinecolor": "white"
           },
           "zaxis": {
            "backgroundcolor": "#E5ECF6",
            "gridcolor": "white",
            "gridwidth": 2,
            "linecolor": "white",
            "showbackground": true,
            "ticks": "",
            "zerolinecolor": "white"
           }
          },
          "shapedefaults": {
           "line": {
            "color": "#2a3f5f"
           }
          },
          "ternary": {
           "aaxis": {
            "gridcolor": "white",
            "linecolor": "white",
            "ticks": ""
           },
           "baxis": {
            "gridcolor": "white",
            "linecolor": "white",
            "ticks": ""
           },
           "bgcolor": "#E5ECF6",
           "caxis": {
            "gridcolor": "white",
            "linecolor": "white",
            "ticks": ""
           }
          },
          "title": {
           "x": 0.05
          },
          "xaxis": {
           "automargin": true,
           "gridcolor": "white",
           "linecolor": "white",
           "ticks": "",
           "title": {
            "standoff": 15
           },
           "zerolinecolor": "white",
           "zerolinewidth": 2
          },
          "yaxis": {
           "automargin": true,
           "gridcolor": "white",
           "linecolor": "white",
           "ticks": "",
           "title": {
            "standoff": 15
           },
           "zerolinecolor": "white",
           "zerolinewidth": 2
          }
         }
        },
        "title": {
         "text": "Hyperparameter Importances"
        },
        "xaxis": {
         "title": {
          "text": "Hyperparameter Importance"
         }
        },
        "yaxis": {
         "title": {
          "text": "Hyperparameter"
         }
        }
       }
      },
      "image/png": "[encoded data removed]"
     },
     "metadata": {},
     "output_type": "display_data"
    },
    {
     "data": {
      "application/vnd.plotly.v1+json": {
       "config": {
        "plotlyServerURL": "https://plot.ly"
       },
       "data": [
        {
         "dimensions": [
          {
           "label": "Objective Value",
           "range": [
            0.736255802615317,
            0.7659156709060089
           ],
           "values": [
            0.7652670204846298,
            0.7624956995144203,
            0.7659156709060089,
            0.7399743144315344,
            0.736255802615317
           ]
          },
          {
           "label": "batch_size",
           "range": [
            0,
            1
           ],
           "ticktext": [
            "32",
            "64"
           ],
           "tickvals": [
            0,
            1
           ],
           "values": [
            0,
            0,
            0,
            0,
            1
           ]
          },
          {
           "label": "dropout",
           "range": [
            0.013935123815999317,
            0.29097295564859826
           ],
           "values": [
            0.04679835610086079,
            0.29097295564859826,
            0.15742692948967135,
            0.013935123815999317,
            0.1099085529881075
           ]
          },
          {
           "label": "hidden_size",
           "range": [
            32,
            64
           ],
           "values": [
            64,
            64,
            32,
            64,
            32
           ]
          },
          {
           "label": "lr",
           "range": [
            -4.883832775663601,
            -3.3351147183991565
           ],
           "ticktext": [
            "1.31e-05",
            "0.0001",
            "0.000462"
           ],
           "tickvals": [
            -4.883832775663601,
            -4,
            -3.3351147183991565
           ],
           "values": [
            -4.2509197623052755,
            -4.883832775663601,
            -3.3351147183991565,
            -4.087860031565929,
            -4.136109962715769
           ]
          },
          {
           "label": "num_layers",
           "range": [
            1,
            2
           ],
           "values": [
            1,
            1,
            1,
            2,
            1
           ]
          }
         ],
         "labelangle": 30,
         "labelside": "bottom",
         "line": {
          "color": [
           0.7652670204846298,
           0.7624956995144203,
           0.7659156709060089,
           0.7399743144315344,
           0.736255802615317
          ],
          "colorbar": {
           "title": {
            "text": "Objective Value"
           }
          },
          "colorscale": [
           [
            0,
            "rgb(247,251,255)"
           ],
           [
            0.125,
            "rgb(222,235,247)"
           ],
           [
            0.25,
            "rgb(198,219,239)"
           ],
           [
            0.375,
            "rgb(158,202,225)"
           ],
           [
            0.5,
            "rgb(107,174,214)"
           ],
           [
            0.625,
            "rgb(66,146,198)"
           ],
           [
            0.75,
            "rgb(33,113,181)"
           ],
           [
            0.875,
            "rgb(8,81,156)"
           ],
           [
            1,
            "rgb(8,48,107)"
           ]
          ],
          "reversescale": false,
          "showscale": true
         },
         "type": "parcoords"
        }
       ],
       "layout": {
        "template": {
         "data": {
          "bar": [
           {
            "error_x": {
             "color": "#2a3f5f"
            },
            "error_y": {
             "color": "#2a3f5f"
            },
            "marker": {
             "line": {
              "color": "#E5ECF6",
              "width": 0.5
             },
             "pattern": {
              "fillmode": "overlay",
              "size": 10,
              "solidity": 0.2
             }
            },
            "type": "bar"
           }
          ],
          "barpolar": [
           {
            "marker": {
             "line": {
              "color": "#E5ECF6",
              "width": 0.5
             },
             "pattern": {
              "fillmode": "overlay",
              "size": 10,
              "solidity": 0.2
             }
            },
            "type": "barpolar"
           }
          ],
          "carpet": [
           {
            "aaxis": {
             "endlinecolor": "#2a3f5f",
             "gridcolor": "white",
             "linecolor": "white",
             "minorgridcolor": "white",
             "startlinecolor": "#2a3f5f"
            },
            "baxis": {
             "endlinecolor": "#2a3f5f",
             "gridcolor": "white",
             "linecolor": "white",
             "minorgridcolor": "white",
             "startlinecolor": "#2a3f5f"
            },
            "type": "carpet"
           }
          ],
          "choropleth": [
           {
            "colorbar": {
             "outlinewidth": 0,
             "ticks": ""
            },
            "type": "choropleth"
           }
          ],
          "contour": [
           {
            "colorbar": {
             "outlinewidth": 0,
             "ticks": ""
            },
            "colorscale": [
             [
              0,
              "#0d0887"
             ],
             [
              0.1111111111111111,
              "#46039f"
             ],
             [
              0.2222222222222222,
              "#7201a8"
             ],
             [
              0.3333333333333333,
              "#9c179e"
             ],
             [
              0.4444444444444444,
              "#bd3786"
             ],
             [
              0.5555555555555556,
              "#d8576b"
             ],
             [
              0.6666666666666666,
              "#ed7953"
             ],
             [
              0.7777777777777778,
              "#fb9f3a"
             ],
             [
              0.8888888888888888,
              "#fdca26"
             ],
             [
              1,
              "#f0f921"
             ]
            ],
            "type": "contour"
           }
          ],
          "contourcarpet": [
           {
            "colorbar": {
             "outlinewidth": 0,
             "ticks": ""
            },
            "type": "contourcarpet"
           }
          ],
          "heatmap": [
           {
            "colorbar": {
             "outlinewidth": 0,
             "ticks": ""
            },
            "colorscale": [
             [
              0,
              "#0d0887"
             ],
             [
              0.1111111111111111,
              "#46039f"
             ],
             [
              0.2222222222222222,
              "#7201a8"
             ],
             [
              0.3333333333333333,
              "#9c179e"
             ],
             [
              0.4444444444444444,
              "#bd3786"
             ],
             [
              0.5555555555555556,
              "#d8576b"
             ],
             [
              0.6666666666666666,
              "#ed7953"
             ],
             [
              0.7777777777777778,
              "#fb9f3a"
             ],
             [
              0.8888888888888888,
              "#fdca26"
             ],
             [
              1,
              "#f0f921"
             ]
            ],
            "type": "heatmap"
           }
          ],
          "histogram": [
           {
            "marker": {
             "pattern": {
              "fillmode": "overlay",
              "size": 10,
              "solidity": 0.2
             }
            },
            "type": "histogram"
           }
          ],
          "histogram2d": [
           {
            "colorbar": {
             "outlinewidth": 0,
             "ticks": ""
            },
            "colorscale": [
             [
              0,
              "#0d0887"
             ],
             [
              0.1111111111111111,
              "#46039f"
             ],
             [
              0.2222222222222222,
              "#7201a8"
             ],
             [
              0.3333333333333333,
              "#9c179e"
             ],
             [
              0.4444444444444444,
              "#bd3786"
             ],
             [
              0.5555555555555556,
              "#d8576b"
             ],
             [
              0.6666666666666666,
              "#ed7953"
             ],
             [
              0.7777777777777778,
              "#fb9f3a"
             ],
             [
              0.8888888888888888,
              "#fdca26"
             ],
             [
              1,
              "#f0f921"
             ]
            ],
            "type": "histogram2d"
           }
          ],
          "histogram2dcontour": [
           {
            "colorbar": {
             "outlinewidth": 0,
             "ticks": ""
            },
            "colorscale": [
             [
              0,
              "#0d0887"
             ],
             [
              0.1111111111111111,
              "#46039f"
             ],
             [
              0.2222222222222222,
              "#7201a8"
             ],
             [
              0.3333333333333333,
              "#9c179e"
             ],
             [
              0.4444444444444444,
              "#bd3786"
             ],
             [
              0.5555555555555556,
              "#d8576b"
             ],
             [
              0.6666666666666666,
              "#ed7953"
             ],
             [
              0.7777777777777778,
              "#fb9f3a"
             ],
             [
              0.8888888888888888,
              "#fdca26"
             ],
             [
              1,
              "#f0f921"
             ]
            ],
            "type": "histogram2dcontour"
           }
          ],
          "mesh3d": [
           {
            "colorbar": {
             "outlinewidth": 0,
             "ticks": ""
            },
            "type": "mesh3d"
           }
          ],
          "parcoords": [
           {
            "line": {
             "colorbar": {
              "outlinewidth": 0,
              "ticks": ""
             }
            },
            "type": "parcoords"
           }
          ],
          "pie": [
           {
            "automargin": true,
            "type": "pie"
           }
          ],
          "scatter": [
           {
            "fillpattern": {
             "fillmode": "overlay",
             "size": 10,
             "solidity": 0.2
            },
            "type": "scatter"
           }
          ],
          "scatter3d": [
           {
            "line": {
             "colorbar": {
              "outlinewidth": 0,
              "ticks": ""
             }
            },
            "marker": {
             "colorbar": {
              "outlinewidth": 0,
              "ticks": ""
             }
            },
            "type": "scatter3d"
           }
          ],
          "scattercarpet": [
           {
            "marker": {
             "colorbar": {
              "outlinewidth": 0,
              "ticks": ""
             }
            },
            "type": "scattercarpet"
           }
          ],
          "scattergeo": [
           {
            "marker": {
             "colorbar": {
              "outlinewidth": 0,
              "ticks": ""
             }
            },
            "type": "scattergeo"
           }
          ],
          "scattergl": [
           {
            "marker": {
             "colorbar": {
              "outlinewidth": 0,
              "ticks": ""
             }
            },
            "type": "scattergl"
           }
          ],
          "scattermap": [
           {
            "marker": {
             "colorbar": {
              "outlinewidth": 0,
              "ticks": ""
             }
            },
            "type": "scattermap"
           }
          ],
          "scattermapbox": [
           {
            "marker": {
             "colorbar": {
              "outlinewidth": 0,
              "ticks": ""
             }
            },
            "type": "scattermapbox"
           }
          ],
          "scatterpolar": [
           {
            "marker": {
             "colorbar": {
              "outlinewidth": 0,
              "ticks": ""
             }
            },
            "type": "scatterpolar"
           }
          ],
          "scatterpolargl": [
           {
            "marker": {
             "colorbar": {
              "outlinewidth": 0,
              "ticks": ""
             }
            },
            "type": "scatterpolargl"
           }
          ],
          "scatterternary": [
           {
            "marker": {
             "colorbar": {
              "outlinewidth": 0,
              "ticks": ""
             }
            },
            "type": "scatterternary"
           }
          ],
          "surface": [
           {
            "colorbar": {
             "outlinewidth": 0,
             "ticks": ""
            },
            "colorscale": [
             [
              0,
              "#0d0887"
             ],
             [
              0.1111111111111111,
              "#46039f"
             ],
             [
              0.2222222222222222,
              "#7201a8"
             ],
             [
              0.3333333333333333,
              "#9c179e"
             ],
             [
              0.4444444444444444,
              "#bd3786"
             ],
             [
              0.5555555555555556,
              "#d8576b"
             ],
             [
              0.6666666666666666,
              "#ed7953"
             ],
             [
              0.7777777777777778,
              "#fb9f3a"
             ],
             [
              0.8888888888888888,
              "#fdca26"
             ],
             [
              1,
              "#f0f921"
             ]
            ],
            "type": "surface"
           }
          ],
          "table": [
           {
            "cells": {
             "fill": {
              "color": "#EBF0F8"
             },
             "line": {
              "color": "white"
             }
            },
            "header": {
             "fill": {
              "color": "#C8D4E3"
             },
             "line": {
              "color": "white"
             }
            },
            "type": "table"
           }
          ]
         },
         "layout": {
          "annotationdefaults": {
           "arrowcolor": "#2a3f5f",
           "arrowhead": 0,
           "arrowwidth": 1
          },
          "autotypenumbers": "strict",
          "coloraxis": {
           "colorbar": {
            "outlinewidth": 0,
            "ticks": ""
           }
          },
          "colorscale": {
           "diverging": [
            [
             0,
             "#8e0152"
            ],
            [
             0.1,
             "#c51b7d"
            ],
            [
             0.2,
             "#de77ae"
            ],
            [
             0.3,
             "#f1b6da"
            ],
            [
             0.4,
             "#fde0ef"
            ],
            [
             0.5,
             "#f7f7f7"
            ],
            [
             0.6,
             "#e6f5d0"
            ],
            [
             0.7,
             "#b8e186"
            ],
            [
             0.8,
             "#7fbc41"
            ],
            [
             0.9,
             "#4d9221"
            ],
            [
             1,
             "#276419"
            ]
           ],
           "sequential": [
            [
             0,
             "#0d0887"
            ],
            [
             0.1111111111111111,
             "#46039f"
            ],
            [
             0.2222222222222222,
             "#7201a8"
            ],
            [
             0.3333333333333333,
             "#9c179e"
            ],
            [
             0.4444444444444444,
             "#bd3786"
            ],
            [
             0.5555555555555556,
             "#d8576b"
            ],
            [
             0.6666666666666666,
             "#ed7953"
            ],
            [
             0.7777777777777778,
             "#fb9f3a"
            ],
            [
             0.8888888888888888,
             "#fdca26"
            ],
            [
             1,
             "#f0f921"
            ]
           ],
           "sequentialminus": [
            [
             0,
             "#0d0887"
            ],
            [
             0.1111111111111111,
             "#46039f"
            ],
            [
             0.2222222222222222,
             "#7201a8"
            ],
            [
             0.3333333333333333,
             "#9c179e"
            ],
            [
             0.4444444444444444,
             "#bd3786"
            ],
            [
             0.5555555555555556,
             "#d8576b"
            ],
            [
             0.6666666666666666,
             "#ed7953"
            ],
            [
             0.7777777777777778,
             "#fb9f3a"
            ],
            [
             0.8888888888888888,
             "#fdca26"
            ],
            [
             1,
             "#f0f921"
            ]
           ]
          },
          "colorway": [
           "#636efa",
           "#EF553B",
           "#00cc96",
           "#ab63fa",
           "#FFA15A",
           "#19d3f3",
           "#FF6692",
           "#B6E880",
           "#FF97FF",
           "#FECB52"
          ],
          "font": {
           "color": "#2a3f5f"
          },
          "geo": {
           "bgcolor": "white",
           "lakecolor": "white",
           "landcolor": "#E5ECF6",
           "showlakes": true,
           "showland": true,
           "subunitcolor": "white"
          },
          "hoverlabel": {
           "align": "left"
          },
          "hovermode": "closest",
          "mapbox": {
           "style": "light"
          },
          "paper_bgcolor": "white",
          "plot_bgcolor": "#E5ECF6",
          "polar": {
           "angularaxis": {
            "gridcolor": "white",
            "linecolor": "white",
            "ticks": ""
           },
           "bgcolor": "#E5ECF6",
           "radialaxis": {
            "gridcolor": "white",
            "linecolor": "white",
            "ticks": ""
           }
          },
          "scene": {
           "xaxis": {
            "backgroundcolor": "#E5ECF6",
            "gridcolor": "white",
            "gridwidth": 2,
            "linecolor": "white",
            "showbackground": true,
            "ticks": "",
            "zerolinecolor": "white"
           },
           "yaxis": {
            "backgroundcolor": "#E5ECF6",
            "gridcolor": "white",
            "gridwidth": 2,
            "linecolor": "white",
            "showbackground": true,
            "ticks": "",
            "zerolinecolor": "white"
           },
           "zaxis": {
            "backgroundcolor": "#E5ECF6",
            "gridcolor": "white",
            "gridwidth": 2,
            "linecolor": "white",
            "showbackground": true,
            "ticks": "",
            "zerolinecolor": "white"
           }
          },
          "shapedefaults": {
           "line": {
            "color": "#2a3f5f"
           }
          },
          "ternary": {
           "aaxis": {
            "gridcolor": "white",
            "linecolor": "white",
            "ticks": ""
           },
           "baxis": {
            "gridcolor": "white",
            "linecolor": "white",
            "ticks": ""
           },
           "bgcolor": "#E5ECF6",
           "caxis": {
            "gridcolor": "white",
            "linecolor": "white",
            "ticks": ""
           }
          },
          "title": {
           "x": 0.05
          },
          "xaxis": {
           "automargin": true,
           "gridcolor": "white",
           "linecolor": "white",
           "ticks": "",
           "title": {
            "standoff": 15
           },
           "zerolinecolor": "white",
           "zerolinewidth": 2
          },
          "yaxis": {
           "automargin": true,
           "gridcolor": "white",
           "linecolor": "white",
           "ticks": "",
           "title": {
            "standoff": 15
           },
           "zerolinecolor": "white",
           "zerolinewidth": 2
          }
         }
        },
        "title": {
         "text": "Parallel Coordinate Plot"
        }
       }
      },
      "image/png": "[encoded data removed]"
     },
     "metadata": {},
     "output_type": "display_data"
    }
   ],
   "source": [
    "# optuna визуализация\n",
    "optuna.visualization.plot_optimization_history(study).show()\n",
    "optuna.visualization.plot_param_importances(study).show()\n",
    "optuna.visualization.plot_parallel_coordinate(study).show()"
   ]
  },
  {
   "cell_type": "markdown",
   "id": "76fd6a7e-d3d4-4159-b5b9-033f4ce9056b",
   "metadata": {},
   "source": [
    "## 9. Обучение финальной модели"
   ]
  },
  {
   "cell_type": "code",
   "execution_count": null,
   "id": "56005468-3198-4b37-8f14-4e099279f856",
   "metadata": {},
   "outputs": [],
   "source": [
    "def train_with_plot_and_scheduler(model, train_loader, val_loader, optimizer, criterion, epochs):\n",
    "\n",
    "    scheduler = torch.optim.lr_scheduler.CosineAnnealingWarmRestarts(optimizer, T_0=10, T_mult=1)\n",
    "\n",
    "    train_losses = []\n",
    "    val_losses = []\n",
    "    pr_aucs = []\n",
    "    roc_aucs = []\n",
    "    lrs = []\n",
    "\n",
    "    for epoch in range(epochs):\n",
    "        model.train()  # настраиваем на обучение\n",
    "        total_loss, n = 0., 0  # задаём стартовые значения\n",
    "        for X, y in train_loader:\n",
    "            X, y = X.to(device), y.float().to(device)\n",
    "            optimizer.zero_grad()    # обнуляем градиенты\n",
    "            preds = model(X)  # prediction\n",
    "            loss = criterion(preds, y)\n",
    "            loss.backward()\n",
    "            optimizer.step()\n",
    "            # собираем результат в кучку\n",
    "            total_loss += loss.item() * len(X)\n",
    "            n += len(X)\n",
    "        # среднее за эпоху\n",
    "        train_loss = total_loss / n\n",
    "\n",
    "        #\n",
    "        model.eval()  # режим оценки\n",
    "        # стартовая инициализация\n",
    "        total_loss, n = 0., 0\n",
    "        all_preds, all_labels = [], []\n",
    "\n",
    "        for X, y in val_loader:\n",
    "            X, y = X.to(device), y.float().to(device)\n",
    "            with torch.no_grad():\n",
    "                preds = torch.sigmoid(model(X))\n",
    "            total_loss += criterion(preds, y).item() * len(X)\n",
    "            n += len(X)\n",
    "            all_preds.append(preds.cpu())\n",
    "            all_labels.append(y.cpu())\n",
    "\n",
    "        preds = torch.cat(all_preds).numpy()\n",
    "        labels = torch.cat(all_labels).numpy()\n",
    "        pr_auc = auc(*precision_recall_curve(labels, preds)[1::-1])\n",
    "        roc_auc = roc_auc_score(labels, preds)\n",
    "        val_loss = total_loss / n\n",
    "\n",
    "\n",
    "        train_losses.append(train_loss)\n",
    "        val_losses.append(val_loss)\n",
    "        pr_aucs.append(pr_auc)\n",
    "        roc_aucs.append(roc_auc)\n",
    "        lrs.append(optimizer.param_groups[0]['lr'])\n",
    "\n",
    "        scheduler.step()  # обновляем learning rate\n",
    "\n",
    "        # Обновление графика\n",
    "        clear_output(wait=True)\n",
    "        plt.figure(figsize=(15, 5))\n",
    "\n",
    "        # Потери\n",
    "        plt.subplot(1, 3, 1)\n",
    "        plt.plot(train_losses, label='Train Loss')\n",
    "        plt.plot(val_losses, label='Val Loss')\n",
    "        plt.xlabel('Epoch')\n",
    "        plt.ylabel('Loss')\n",
    "        plt.title('Loss по эпохам')\n",
    "        plt.legend()\n",
    "        plt.xlim(0, epochs)\n",
    "\n",
    "        # Метрики\n",
    "        plt.subplot(1, 3, 2)\n",
    "        plt.plot(pr_aucs, label='PR AUC')\n",
    "        plt.plot(roc_aucs, label='ROC AUC')\n",
    "        plt.xlabel('Epoch')\n",
    "        plt.ylabel('Score')\n",
    "        plt.title('Тест Metrics')\n",
    "        plt.legend()\n",
    "        plt.xlim(0, epochs)\n",
    "\n",
    "        # Learning Rate\n",
    "        plt.subplot(1, 3, 3)\n",
    "        plt.plot(lrs, label='Learning Rate')\n",
    "        plt.xlabel('Epoch')\n",
    "        plt.ylabel('LR')\n",
    "        plt.title('Learning Rate Decay')\n",
    "        plt.legend()\n",
    "        plt.xlim(0, epochs)\n",
    "\n",
    "        plt.tight_layout()\n",
    "        plt.show()\n",
    "\n",
    "        print(f\"Эпоха {epoch+1}/{epochs} — Train Loss: {train_loss:.4f}, Val Loss: {val_loss:.4f}, PR AUC: {pr_auc:.4f}, ROC AUC: {roc_auc:.4f}, LR: {lrs[-1]:.6f}\")\n"
   ]
  },
  {
   "cell_type": "code",
   "execution_count": 16,
   "id": "6a65648e-cac7-4384-b3f5-a4dc641cd2f1",
   "metadata": {},
   "outputs": [
    {
     "data": {
      "image/png": "[encoded data removed]",
      "text/plain": [
       "<Figure size 1500x500 with 3 Axes>"
      ]
     },
     "metadata": {},
     "output_type": "display_data"
    },
    {
     "name": "stdout",
     "output_type": "stream",
     "text": [
      "Эпоха 50/50 — Train Loss: 0.0019, Val Loss: 0.9305, PR AUC: 0.7791, ROC AUC: 0.9642, LR: 0.000011\n"
     ]
    }
   ],
   "source": [
    "set_seed()\n",
    "best = study.best_trial.params\n",
    "model = LSTMAnomaly(\n",
    "    n_features=n_features,\n",
    "    hidden_size=best[\"hidden_size\"],\n",
    "    num_layers=best[\"num_layers\"],\n",
    "    dropout=best[\"dropout\"]\n",
    ").to(device)\n",
    "\n",
    "train_ds = LazySeqDataset(X_train, y_train, seq_len=SEQ_LEN)\n",
    "test_ds = LazySeqDataset(X_test, y_test, seq_len=SEQ_LEN)\n",
    "\n",
    "optimizer = torch.optim.AdamW(model.parameters(), lr=best[\"lr\"])\n",
    "train_with_plot_and_scheduler(\n",
    "    model,\n",
    "\n",
    "    train_loader = torch.utils.data.DataLoader(\n",
    "        train_ds, batch_size=best[\"batch_size\"], shuffle=True, drop_last=True\n",
    "    ),\n",
    "    val_loader = torch.utils.data.DataLoader(\n",
    "        test_ds, batch_size=best[\"batch_size\"], shuffle=False, drop_last=False\n",
    "    ),\n",
    "    optimizer=optimizer,\n",
    "    criterion=loss_fn,\n",
    "    epochs=50\n",
    ")"
   ]
  },
  {
   "cell_type": "markdown",
   "id": "6b99a30f-a2ea-4f70-9dd0-f7884a52f955",
   "metadata": {},
   "source": [
    "## 10. Оценка на тесте"
   ]
  },
  {
   "cell_type": "code",
   "execution_count": 26,
   "id": "4d88e0d7-84ea-4b6e-9ef7-3aa91b2b3bfb",
   "metadata": {},
   "outputs": [
    {
     "name": "stdout",
     "output_type": "stream",
     "text": [
      "Порог детекции аномалий 0,5\n",
      "Test PR-AUC: 0.7792998623451947\n",
      "Precision: 0.6904761904761905\n",
      "Recall: 0.7532467532467533\n",
      "F1: 0.7204968944099379\n"
     ]
    }
   ],
   "source": [
    "test_loader = torch.utils.data.DataLoader(\n",
    "        test_ds, batch_size=best[\"batch_size\"], shuffle=False, drop_last=False\n",
    "    )\n",
    "\n",
    "# 2) собираем предсказания батчами\n",
    "model.eval()\n",
    "all_scores, all_labels = [], []\n",
    "with torch.no_grad():\n",
    "    for xb, yb in test_loader:\n",
    "        xb = xb.to(device)                # (B, seq_len, n_features)\n",
    "        logits = model(xb)                # (B,)\n",
    "        scores = torch.sigmoid(logits).cpu()\n",
    "        all_scores.append(scores)\n",
    "        all_labels.append(yb)\n",
    "\n",
    "y_score = torch.cat(all_scores).numpy()\n",
    "y_true  = torch.cat(all_labels).numpy()\n",
    "y_pred = (y_score >= 0.5).astype(int)\n",
    "print(\"Порог детекции аномалий 0,5\")\n",
    "print(\"Test PR-AUC:\", average_precision_score(y_true, y_score))\n",
    "print(\"Precision:\", precision_score(y_true, y_pred))\n",
    "print(\"Recall:\",    recall_score(y_true, y_pred))\n",
    "print(\"F1:\",        f1_score(y_true, y_pred))"
   ]
  },
  {
   "cell_type": "markdown",
   "id": "74e0126c-9bc3-4ba2-9c07-5ab25b3704df",
   "metadata": {},
   "source": [
    "## 11. Подбор порога по валидации"
   ]
  },
  {
   "cell_type": "code",
   "execution_count": 34,
   "id": "8074416c-4152-43d8-9850-febd07621239",
   "metadata": {},
   "outputs": [
    {
     "name": "stdout",
     "output_type": "stream",
     "text": [
      "\n",
      "После поиска порога на val\n",
      "Оптимальный порог по val: 0.9970754\n",
      "Test PR-AUC: 0.7792998623451947\n",
      "Precision: 0.9814814814814815\n",
      "Recall: 0.6883116883116883\n",
      "F1: 0.8091603053435115\n"
     ]
    }
   ],
   "source": [
    "# 3) подбор порога по валидации (то же самое)\n",
    "val_ds = LazySeqDataset(X_val, y_val, seq_len=SEQ_LEN)\n",
    "val_loader = torch.utils.data.DataLoader(\n",
    "        val_ds, batch_size=best[\"batch_size\"], shuffle=False, drop_last=False\n",
    "    )\n",
    "model.eval()\n",
    "val_scores, val_labels = [], []\n",
    "with torch.no_grad():\n",
    "    for xb, yb in val_loader:\n",
    "        xb = xb.to(device)\n",
    "        scores = torch.sigmoid(model(xb)).cpu()\n",
    "        val_scores.append(scores)\n",
    "        val_labels.append(yb)\n",
    "val_score = torch.cat(val_scores).numpy()\n",
    "val_labels = torch.cat(val_labels).numpy()\n",
    "\n",
    "prec_v, rec_v, thr = precision_recall_curve(val_labels, val_score)\n",
    "f1_scores = 2 * prec_v * rec_v / (prec_v + rec_v + 1e-12)\n",
    "best_thr = thr[np.nanargmax(f1_scores)]\n",
    "print(\"\\nПосле поиска порога на val\")\n",
    "print(f\"Оптимальный порог по val: {best_thr:.7f}\")\n",
    "\n",
    "# 4) финальные метрики\n",
    "y_pred = (y_score >= best_thr).astype(int)\n",
    "print(\"Test PR-AUC:\", average_precision_score(y_true, y_score))\n",
    "print(\"Precision:\", precision_score(y_true, y_pred))\n",
    "print(\"Recall:\",    recall_score(y_true, y_pred))\n",
    "print(\"F1:\",        f1_score(y_true, y_pred))"
   ]
  },
  {
   "cell_type": "markdown",
   "id": "e523f351-1cdd-4f0d-a708-56f604c675aa",
   "metadata": {},
   "source": [
    "## 12. Финальные метрики и визуализация"
   ]
  },
  {
   "cell_type": "code",
   "execution_count": 35,
   "id": "8a2abb04-7a39-4eda-8ae6-b70a53c05f49",
   "metadata": {},
   "outputs": [
    {
     "name": "stdout",
     "output_type": "stream",
     "text": [
      "Test (порог подобран по валидации) PR-AUC=0.7791 Precision=0.981 Recall=0.688 F1=0.809\n"
     ]
    },
    {
     "data": {
      "image/png": "[encoded data removed]",
      "text/plain": [
       "<Figure size 800x300 with 3 Axes>"
      ]
     },
     "metadata": {},
     "output_type": "display_data"
    }
   ],
   "source": [
    "precision =  precision_score(y_true, y_pred)\n",
    "recall    = recall_score(y_true, y_pred)\n",
    "f1        = f1_score(y_true, y_pred)\n",
    "prec, rec, _ = precision_recall_curve(y_true, y_score)\n",
    "pr_auc = auc(rec, prec)\n",
    "\n",
    "print(\"Test (порог подобран по валидации) \"\n",
    "      f\"PR-AUC={pr_auc:0.4f} Precision={precision:0.3f} Recall={recall:0.3f} F1={f1:.3f}\")\n",
    "\n",
    "# визуализация\n",
    "labels = ['Норм (0)', 'Аномалии (1)']\n",
    "fig, axs = plt.subplots(1, 2, figsize=(8, 3))\n",
    "axs[0].plot(rec, prec, marker='.', color='teal')\n",
    "axs[0].set_xlabel(\"Recall\"); axs[0].set_ylabel(\"Precision\")\n",
    "axs[0].set_title(f\"PR Curve (AUC={pr_auc:.2f})\")\n",
    "\n",
    "cm = confusion_matrix(y_true, y_pred)\n",
    "sns.heatmap(cm, annot=True, fmt='d', cmap='Blues', xticklabels=labels, yticklabels=labels, ax=axs[1])\n",
    "axs[1].set_xlabel(\"Предсказаные метки\"); axs[1].set_ylabel(\"Истинные метки\")\n",
    "axs[1].set_title(\"Confusion Matrix\")\n",
    "plt.tight_layout(); plt.show()"
   ]
  },
  {
   "cell_type": "markdown",
   "id": "b4c87076-c42f-4db6-a454-f4536a23b47b",
   "metadata": {},
   "source": [
    "## 14. Выводы\n",
    "**Датасет**\n",
    "- **Объём**: 284 807 транзакций, 35 признаков.\n",
    "- **Ну очень сильный дисбаланс**: 0,17% транзакций — мошеннические (Class == 1).\n",
    "\n",
    "**Временное разбиение**: данные разделены по `Time_abs_hour`:\n",
    "  - **Train**: 0–39 часов (224 865 строк).  \n",
    "  - **Test**: 40–47 часов (59 942 строк).\n",
    "  \n",
    "**Модель**  \n",
    "- **LSTM**\n",
    "  \n",
    "**Подбор гиперпараметров**\n",
    "- **Optuna**\n",
    "  \n",
    "**Метрики**  | F1   | PR AUC |\n",
    "- **Test**     | 0.81 | 0.78   |\n",
    "\n",
    "**Вывод**\n",
    "- Модель справилась с задачей детекции аномалий(несмотря на слабый подбор гипрпараметров - видеокарта слабовата...().Как оказалось - **благодаря слабому подбору параметров**.В 2_01_04_LSTM_colab параметры подбирались активнее и результат оказался хуже. Да и здесь заметно как с увеличением эпох обучения метрики на test падают.\n",
    "- - PR-AUC: 0.78 — хороший результат для несбалансированных данных (аномалий всего 0.17%).\n",
    "- -  Precision: 0.98, Recall: 0.69, F1: 0.81 — при пороге 0.9970754, подобранном на валидации\n",
    "- Подбор гиперпараметров через Optuna был эффективен.\n",
    "- Модель справилась с дисбалансом классов (0.17% аномалий)\n",
    "- Подбор порога классификации - важен."
   ]
  },
  {
   "cell_type": "code",
   "execution_count": null,
   "id": "bf2cff92-ddb8-49db-b6b3-4fd29c95a3c8",
   "metadata": {},
   "outputs": [],
   "source": []
  }
 ],
 "metadata": {
  "kernelspec": {
   "display_name": "anomaly-detection",
   "language": "python",
   "name": "anomaly-detection"
  },
  "language_info": {
   "codemirror_mode": {
    "name": "ipython",
    "version": 3
   },
   "file_extension": ".py",
   "mimetype": "text/x-python",
   "name": "python",
   "nbconvert_exporter": "python",
   "pygments_lexer": "ipython3",
   "version": "3.10.11"
  }
 },
 "nbformat": 4,
 "nbformat_minor": 5
}
