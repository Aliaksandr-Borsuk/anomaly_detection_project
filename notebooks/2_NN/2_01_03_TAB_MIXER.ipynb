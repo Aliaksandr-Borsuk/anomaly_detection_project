{
 "cells": [
  {
   "cell_type": "markdown",
   "id": "7740fd61-6a42-4f9d-aff9-04c4ca669c86",
   "metadata": {},
   "source": [
    "## Попробуем TabMixer, подбор гиперпараметров Optuna\n",
    "- **помним про временные split, признаки и метрики те же**"
   ]
  },
  {
   "cell_type": "markdown",
   "id": "f1705c0c-cee0-47c5-b932-ab4fb0e9be7d",
   "metadata": {
    "jp-MarkdownHeadingCollapsed": true
   },
   "source": [
    "## 1. Импорты\n"
   ]
  },
  {
   "cell_type": "code",
   "execution_count": 1,
   "id": "2378b116-ba74-4ebc-be99-fe88c6ed3f11",
   "metadata": {},
   "outputs": [
    {
     "name": "stdout",
     "output_type": "stream",
     "text": [
      "device: cuda\n"
     ]
    }
   ],
   "source": [
    "import os, warnings, random, json, math\n",
    "import numpy as np\n",
    "import pandas as pd\n",
    "import matplotlib.pyplot as plt\n",
    "import seaborn as sns\n",
    "import torch, torch.nn as nn\n",
    "from sklearn.metrics import (precision_score, recall_score, f1_score,\n",
    "                             roc_auc_score, precision_recall_curve, auc,\n",
    "                             average_precision_score, confusion_matrix)\n",
    "from sklearn.preprocessing import RobustScaler\n",
    "from IPython.display import clear_output\n",
    "\n",
    "import optuna\n",
    "from optuna.samplers import TPESampler\n",
    "warnings.filterwarnings('ignore')\n",
    "plt.style.use('seaborn-v0_8-whitegrid')\n",
    "plt.rcParams['figure.figsize'] = (8, 4)\n",
    "\n",
    "RANDOM_STATE = 42\n",
    "def set_seed(seed=RANDOM_STATE):\n",
    "    torch.manual_seed(seed); torch.cuda.manual_seed_all(seed)\n",
    "    np.random.seed(seed); random.seed(seed)\n",
    "    torch.backends.cudnn.deterministic = True\n",
    "    torch.backends.cudnn.benchmark = False\n",
    "set_seed()\n",
    "device = torch.device(\"cuda\" if torch.cuda.is_available() else \"cpu\")\n",
    "print(\"device:\", device)"
   ]
  },
  {
   "cell_type": "markdown",
   "id": "c9ff9485-a469-4e80-b99b-67df88a2bd7e",
   "metadata": {
    "jp-MarkdownHeadingCollapsed": true
   },
   "source": [
    "## 2. Загрузка"
   ]
  },
  {
   "cell_type": "code",
   "execution_count": 2,
   "id": "842fd046-4440-4d9b-9c91-de7aff398ade",
   "metadata": {},
   "outputs": [
    {
     "name": "stdout",
     "output_type": "stream",
     "text": [
      "\n",
      "Размер данных: 284807 строк, 35 столбцов\n",
      "Распределение классов:\n",
      "Class\n",
      "0    0.998273\n",
      "1    0.001727\n",
      "Name: proportion, dtype: float64\n"
     ]
    }
   ],
   "source": [
    "def find_path_within_project(project_name, path_to_data):\n",
    "    current_path = os.getcwd()\n",
    "    while True:\n",
    "        if project_name in os.listdir(current_path):\n",
    "            return os.path.join(current_path, project_name, path_to_data)\n",
    "        parent_path = os.path.dirname(current_path)\n",
    "        if parent_path == current_path:\n",
    "            raise FileNotFoundError(f\"Проект '{project_name}' не найден\")\n",
    "        current_path = parent_path\n",
    "\n",
    "full_path = find_path_within_project(\n",
    "    \"anomaly_detection_project\",\n",
    "    os.path.join(\"data\", \"raw\", \"creditcard_1_02_00.csv\")\n",
    ")\n",
    "df = pd.read_csv(full_path)\n",
    "print(f\"\\nРазмер данных: {df.shape[0]} строк, {df.shape[1]} столбцов\")\n",
    "print(f\"Распределение классов:\\n{df['Class'].value_counts(normalize=True)}\")"
   ]
  },
  {
   "cell_type": "markdown",
   "id": "568a9a72-04ef-400d-8958-187e43eaaade",
   "metadata": {
    "jp-MarkdownHeadingCollapsed": true
   },
   "source": [
    "## 3.сплиты"
   ]
  },
  {
   "cell_type": "code",
   "execution_count": 3,
   "id": "691e2c84-473b-4e21-9794-33d6b54cecf6",
   "metadata": {},
   "outputs": [
    {
     "name": "stdout",
     "output_type": "stream",
     "text": [
      "train: 0.0–39.0 | test: 40.0–47.0\n",
      "train: 0.0–31.0 | test: 32.0–39.0\n"
     ]
    }
   ],
   "source": [
    "time_col = 'Time_abs_hour'\n",
    "def get_train_test(df, col, train_finish, train_start=0, test_finish=0, gap=0):\n",
    "    if test_finish == 0:\n",
    "        test_finish = df[col].max()\n",
    "    test_start = train_finish + gap + 1\n",
    "    df_train = df[(df[col] >= train_start) & (df[col] <= train_finish)]\n",
    "    df_test  = df[(df[col] >= test_start)  & (df[col] <= test_finish)]\n",
    "    print(f\"train: {df_train[col].min()}–{df_train[col].max()} | test: {df_test[col].min()}–{df_test[col].max()}\")\n",
    "    return df_train, df_test\n",
    "\n",
    "train_finish = df[time_col].max() - 8\n",
    "df_train, df_test = get_train_test(df, time_col, train_finish)\n",
    "\n",
    "train_finish_2 = df_train[time_col].max() - 8\n",
    "df_train_2, df_val = get_train_test(df_train, time_col, train_finish_2)"
   ]
  },
  {
   "cell_type": "markdown",
   "id": "4bf0e8df-d33f-4cac-99a4-b1f82eca1045",
   "metadata": {
    "jp-MarkdownHeadingCollapsed": true
   },
   "source": [
    "## 4. Признаки и целевая переменная"
   ]
  },
  {
   "cell_type": "code",
   "execution_count": 4,
   "id": "6088478d-3a47-415c-a6fe-99e12956c2af",
   "metadata": {},
   "outputs": [],
   "source": [
    "unnecessary_cols = ['Time','Amount','Time_hour','Time_day','Amount_log', time_col]\n",
    "target_col = 'Class'\n",
    "drop_cols = [target_col] + unnecessary_cols\n",
    "\n",
    "def xy(df):\n",
    "    X = df.drop(drop_cols, axis=1).astype('float32').values\n",
    "    y = df[target_col].values\n",
    "    return X, y\n",
    "\n",
    "X_tr,   y_tr   = xy(df_train_2)\n",
    "X_val,  y_val  = xy(df_val)\n",
    "X_test, y_test = xy(df_test)\n",
    "X_train, y_train = xy(df_train)\n",
    "\n",
    "# Определим n_features до objective\n",
    "n_features = X_tr.shape[1]"
   ]
  },
  {
   "cell_type": "markdown",
   "id": "29a7519e-e523-4db5-9c9e-c1643816551d",
   "metadata": {
    "jp-MarkdownHeadingCollapsed": true
   },
   "source": [
    "## 5. Torch Dataset / Loader"
   ]
  },
  {
   "cell_type": "code",
   "execution_count": 5,
   "id": "d909a2dc-4418-41ea-8ea8-3dc7987c5c64",
   "metadata": {},
   "outputs": [],
   "source": [
    "# обёртка для табличных данных, \n",
    "class TabDataset(torch.utils.data.Dataset):\n",
    "    def __init__(self, X, y):\n",
    "        self.X = torch.tensor(X, dtype=torch.float32)\n",
    "        self.y = torch.tensor(y, dtype=torch.float32)\n",
    "    def __len__(self): return len(self.y)\n",
    "    def __getitem__(self, idx): return self.X[idx], self.y[idx]\n",
    "# быстро получаем готовый DataLoader для обучения модели\n",
    "def build_loaders(X, y, batch_size, shuffle=True):\n",
    "    ds = TabDataset(X, y)\n",
    "    return torch.utils.data.DataLoader(ds, batch_size=batch_size, shuffle=shuffle, drop_last=True)"
   ]
  },
  {
   "cell_type": "markdown",
   "id": "0da48347-42df-4b91-8712-037d683aa66a",
   "metadata": {
    "jp-MarkdownHeadingCollapsed": true
   },
   "source": [
    "## 6. Модель TabMixer (MLP-Mixer)"
   ]
  },
  {
   "cell_type": "code",
   "execution_count": 6,
   "id": "8ae10f02-3697-4683-9970-ec4bb14a42ba",
   "metadata": {},
   "outputs": [],
   "source": [
    "class TabMixer(nn.Module):\n",
    "    \"\"\"\n",
    "    Упрощённый MLP-Mixer для таблиц:\n",
    "    \n",
    "     Концепция MLP-Mixer :\n",
    "        Оригинальный MLP-Mixer был придуман для изображений и состоял из чередующихся блоков:\n",
    "            Token-mixing – смешивает информацию между пикселями (или «патчами») внутри одного канала.\n",
    "            Channel-mixing – смешивает информацию между каналами внутри одного пикселя.\n",
    "        Для таблиц:\n",
    "            «Пиксели» → строки (объекты).\n",
    "            «Каналы» → признаки (столбцы).\n",
    "        Но в этом упрощённом варианте мы не разворачиваем матрицу и не делаем два отдельных MLP.\n",
    "        Вместо этого вся «смесь» делается одним MLP-блоком, который применяется к каждой строке независимо.\n",
    "        То есть фактически это обычный MLP-encoder, но название «Mixer» подчёркивает идеологическое родство.\n",
    "    \"\"\"\n",
    "    def __init__(self, n_features, dim=128, depth=4, dropout=0.1):\n",
    "        super().__init__()\n",
    "        self.embed = nn.Linear(n_features, dim)\n",
    "        layers = []\n",
    "        for _ in range(depth):\n",
    "            layers += [\n",
    "                nn.LayerNorm(dim),\n",
    "                nn.Linear(dim, dim*4),\n",
    "                nn.GELU(),\n",
    "                nn.Dropout(dropout),\n",
    "                nn.Linear(dim*4, dim),\n",
    "                nn.Dropout(dropout)\n",
    "            ]\n",
    "        self.mixer = nn.Sequential(*layers)\n",
    "        self.head = nn.Linear(dim, 1)\n",
    "\n",
    "    def forward(self, x):\n",
    "        x = self.embed(x)            # (B, dim)\n",
    "        x = self.mixer(x)\n",
    "        return self.head(x).squeeze(-1)"
   ]
  },
  {
   "cell_type": "markdown",
   "id": "c422ab15-73a1-4e34-937e-24e993c5d203",
   "metadata": {
    "jp-MarkdownHeadingCollapsed": true
   },
   "source": [
    "## 7. Функция потерь и метрика"
   ]
  },
  {
   "cell_type": "code",
   "execution_count": 7,
   "id": "4087efdb-2aa7-4af6-9186-64afa4820c1b",
   "metadata": {},
   "outputs": [],
   "source": [
    "class PR_AUC_Metric:\n",
    "    def __init__(self):\n",
    "        self._name = \"pr_auc\"\n",
    "        self._maximize = True\n",
    "    def __call__(self, y_true, y_score):\n",
    "        return average_precision_score(y_true, y_score)\n",
    "\n",
    "loss_fn = nn.BCEWithLogitsLoss(pos_weight=torch.tensor([len(y_tr)/y_tr.sum()], device=device))"
   ]
  },
  {
   "cell_type": "markdown",
   "id": "823ffab1-6def-4197-b109-0d07522ed100",
   "metadata": {
    "jp-MarkdownHeadingCollapsed": true
   },
   "source": [
    "## 8. Optuna — подбор гиперпараметров"
   ]
  },
  {
   "cell_type": "code",
   "execution_count": 8,
   "id": "676301d2-1956-43c9-bfa2-494a97f3dc77",
   "metadata": {
    "collapsed": true,
    "jupyter": {
     "outputs_hidden": true
    },
    "scrolled": true
   },
   "outputs": [
    {
     "name": "stderr",
     "output_type": "stream",
     "text": [
      "[I 2025-08-31 00:43:35,221] A new study created in memory with name: no-name-62a3697e-c1df-4b78-bf43-d0643bd3ad37\n"
     ]
    },
    {
     "data": {
      "application/vnd.jupyter.widget-view+json": {
       "model_id": "2ec7aa196df942fd8f7e5f8c74e5c05b",
       "version_major": 2,
       "version_minor": 0
      },
      "text/plain": [
       "  0%|          | 0/15 [00:00<?, ?it/s]"
      ]
     },
     "metadata": {},
     "output_type": "display_data"
    },
    {
     "name": "stdout",
     "output_type": "stream",
     "text": [
      "\n",
      "Учились 5 эпох.\n",
      "[I 2025-08-31 00:43:55,785] Trial 0 finished with value: 0.7578263464882509 and parameters: {'lr': 5.6115164153345e-05, 'batch_size': 128, 'dim': 128, 'depth': 1, 'dropout': 0.04027928764370635}. Best is trial 0 with value: 0.7578263464882509.\n",
      "\n",
      "Учились 16 эпох.\n",
      "[I 2025-08-31 00:44:50,124] Trial 1 finished with value: 0.7654568431427338 and parameters: {'lr': 1.3066739238053272e-05, 'batch_size': 128, 'dim': 128, 'depth': 1, 'dropout': 0.14608828078105926}. Best is trial 1 with value: 0.7654568431427338.\n",
      "\n",
      "Учились 9 эпох.\n",
      "[I 2025-08-31 00:45:33,342] Trial 2 finished with value: 0.6868666164290497 and parameters: {'lr': 0.000462258900102083, 'batch_size': 128, 'dim': 64, 'depth': 2, 'dropout': 0.08821833611219093}. Best is trial 1 with value: 0.7654568431427338.\n",
      "\n",
      "Учились 5 эпох.\n",
      "[I 2025-08-31 00:45:50,133] Trial 3 finished with value: 0.7196145109427619 and parameters: {'lr': 7.309539835912905e-05, 'batch_size': 256, 'dim': 64, 'depth': 2, 'dropout': 0.06762703962817992}. Best is trial 1 with value: 0.7654568431427338.\n",
      "\n",
      "Учились 16 эпох.\n",
      "[I 2025-08-31 00:47:17,883] Trial 4 finished with value: 0.6904836857248672 and parameters: {'lr': 8.168455894760161e-05, 'batch_size': 128, 'dim': 128, 'depth': 3, 'dropout': 0.026038553653599705}. Best is trial 1 with value: 0.7654568431427338.\n",
      "\n",
      "Учились 10 эпох.\n",
      "[I 2025-08-31 00:48:21,752] Trial 5 finished with value: 0.6536233732156462 and parameters: {'lr': 0.000164092867306479, 'batch_size': 128, 'dim': 128, 'depth': 4, 'dropout': 0.12509165525513996}. Best is trial 1 with value: 0.7654568431427338.\n",
      "\n",
      "Учились 8 эпох.\n",
      "[I 2025-08-31 00:48:42,902] Trial 6 finished with value: 0.74581495158618 and parameters: {'lr': 4.066563313514796e-05, 'batch_size': 256, 'dim': 64, 'depth': 1, 'dropout': 0.08437299831446513}. Best is trial 1 with value: 0.7654568431427338.\n",
      "\n",
      "Учились 6 эпох.\n",
      "[I 2025-08-31 00:49:12,396] Trial 7 finished with value: 0.7367520834588828 and parameters: {'lr': 1.1715937392307055e-05, 'batch_size': 128, 'dim': 128, 'depth': 2, 'dropout': 0.08760884275311541}. Best is trial 1 with value: 0.7654568431427338.\n",
      "\n",
      "Учились 6 эпох.\n",
      "[I 2025-08-31 00:49:36,881] Trial 8 finished with value: 0.6962048223377227 and parameters: {'lr': 0.00012399967836846095, 'batch_size': 256, 'dim': 128, 'depth': 4, 'dropout': 0.13632755555559434}. Best is trial 1 with value: 0.7654568431427338.\n",
      "\n",
      "Учились 5 эпох.\n",
      "[I 2025-08-31 00:49:56,639] Trial 9 finished with value: 0.758110182534289 and parameters: {'lr': 0.0001569639638866114, 'batch_size': 128, 'dim': 64, 'depth': 1, 'dropout': 0.06229294299922436}. Best is trial 1 with value: 0.7654568431427338.\n",
      "\n",
      "Учились 9 эпох.\n",
      "[I 2025-08-31 00:50:27,249] Trial 10 finished with value: 0.6915858410809418 and parameters: {'lr': 1.0991587445851024e-05, 'batch_size': 256, 'dim': 128, 'depth': 3, 'dropout': 0.14790632516329047}. Best is trial 1 with value: 0.7654568431427338.\n",
      "\n",
      "Учились 6 эпох.\n",
      "[I 2025-08-31 00:50:50,241] Trial 11 finished with value: 0.7642820095819958 and parameters: {'lr': 0.00036381856009232573, 'batch_size': 128, 'dim': 64, 'depth': 1, 'dropout': 0.11599272081425269}. Best is trial 1 with value: 0.7654568431427338.\n",
      "\n",
      "Учились 6 эпох.\n",
      "[I 2025-08-31 00:51:13,481] Trial 12 finished with value: 0.7317231949808829 and parameters: {'lr': 0.0009578001828243849, 'batch_size': 128, 'dim': 64, 'depth': 1, 'dropout': 0.11592198141817217}. Best is trial 1 with value: 0.7654568431427338.\n",
      "\n",
      "Учились 7 эпох.\n",
      "[I 2025-08-31 00:51:40,283] Trial 13 finished with value: 0.7240456976408897 and parameters: {'lr': 2.5280881052684574e-05, 'batch_size': 128, 'dim': 64, 'depth': 1, 'dropout': 0.11243110975207085}. Best is trial 1 with value: 0.7654568431427338.\n",
      "\n",
      "Учились 7 эпох.\n",
      "[I 2025-08-31 00:52:15,323] Trial 14 finished with value: 0.7146495584593859 and parameters: {'lr': 0.0003230577181441192, 'batch_size': 128, 'dim': 64, 'depth': 2, 'dropout': 0.14860408167071576}. Best is trial 1 with value: 0.7654568431427338.\n",
      "Best trial: {'lr': 1.3066739238053272e-05, 'batch_size': 128, 'dim': 128, 'depth': 1, 'dropout': 0.14608828078105926}\n",
      "Best PR-AUC: 0.7654568431427338\n"
     ]
    }
   ],
   "source": [
    "def objective(trial):\n",
    "    lr = trial.suggest_float(\"lr\", 1e-5, 1e-3, log=True)\n",
    "    batch_size = trial.suggest_categorical(\"batch_size\", [128, 256])\n",
    "    dim = trial.suggest_int(\"dim\", 64, 128, step=64)\n",
    "    depth = trial.suggest_int(\"depth\", 1, 4)\n",
    "    dropout = trial.suggest_float(\"dropout\", 0.02, 0.15)\n",
    "\n",
    "    model = TabMixer(n_features, dim=dim, depth=depth, dropout=dropout).to(device)\n",
    "    optimizer = torch.optim.AdamW(model.parameters(), lr=lr)\n",
    "    scheduler = torch.optim.lr_scheduler.CosineAnnealingWarmRestarts(optimizer, T_0=10, T_mult=1)\n",
    "\n",
    "\n",
    "    train_loader = build_loaders(X_tr, y_tr, batch_size)\n",
    "    val_loader   = build_loaders(X_val, y_val, batch_size, shuffle=False)\n",
    "\n",
    "    best_pr_auc = 0.0\n",
    "    patience, counter = 5, 0\n",
    "\n",
    "    for epoch in range(50):\n",
    "        # train\n",
    "        model.train()\n",
    "        for X, y in train_loader:\n",
    "            X, y = X.to(device), y.to(device)\n",
    "            optimizer.zero_grad()\n",
    "            logits = model(X)\n",
    "            loss = loss_fn(logits, y)\n",
    "            loss.backward()\n",
    "            optimizer.step()\n",
    "        scheduler.step()\n",
    "\n",
    "        # eval\n",
    "        model.eval()\n",
    "        with torch.no_grad():\n",
    "            preds = torch.sigmoid(model(torch.tensor(X_val, device=device))).cpu().numpy()\n",
    "        pr_auc = average_precision_score(y_val, preds)\n",
    "        \n",
    "        if pr_auc > best_pr_auc + 1e-4:\n",
    "            best_pr_auc = pr_auc\n",
    "            counter = 0\n",
    "        else:\n",
    "            counter += 1\n",
    "        if counter >= patience:\n",
    "            break\n",
    "    print(f\"\\nУчились {epoch} эпох.\")\n",
    "    return best_pr_auc\n",
    "\n",
    "\n",
    "set_seed()\n",
    "study = optuna.create_study(direction=\"maximize\", sampler=TPESampler(seed=RANDOM_STATE))\n",
    "study.optimize(objective, n_trials=15, show_progress_bar=True)\n",
    "\n",
    "print(\"Best trial:\", study.best_trial.params)\n",
    "print(\"Best PR-AUC:\", study.best_value)"
   ]
  },
  {
   "cell_type": "code",
   "execution_count": 9,
   "id": "109d765e-7e4c-45ba-a10e-809220a562cb",
   "metadata": {},
   "outputs": [
    {
     "data": {
      "application/vnd.plotly.v1+json": {
       "config": {
        "plotlyServerURL": "https://plot.ly"
       },
       "data": [
        {
         "mode": "markers",
         "name": "Objective Value",
         "type": "scatter",
         "x": [
          0,
          1,
          2,
          3,
          4,
          5,
          6,
          7,
          8,
          9,
          10,
          11,
          12,
          13,
          14
         ],
         "y": [
          0.7578263464882509,
          0.7654568431427338,
          0.6868666164290497,
          0.7196145109427619,
          0.6904836857248672,
          0.6536233732156462,
          0.74581495158618,
          0.7367520834588828,
          0.6962048223377227,
          0.758110182534289,
          0.6915858410809418,
          0.7642820095819958,
          0.7317231949808829,
          0.7240456976408897,
          0.7146495584593859
         ]
        },
        {
         "mode": "lines",
         "name": "Best Value",
         "type": "scatter",
         "x": [
          0,
          1,
          2,
          3,
          4,
          5,
          6,
          7,
          8,
          9,
          10,
          11,
          12,
          13,
          14
         ],
         "y": [
          0.7578263464882509,
          0.7654568431427338,
          0.7654568431427338,
          0.7654568431427338,
          0.7654568431427338,
          0.7654568431427338,
          0.7654568431427338,
          0.7654568431427338,
          0.7654568431427338,
          0.7654568431427338,
          0.7654568431427338,
          0.7654568431427338,
          0.7654568431427338,
          0.7654568431427338,
          0.7654568431427338
         ]
        },
        {
         "marker": {
          "color": "#cccccc"
         },
         "mode": "markers",
         "name": "Infeasible Trial",
         "showlegend": false,
         "type": "scatter",
         "x": [],
         "y": []
        }
       ],
       "layout": {
        "template": {
         "data": {
          "bar": [
           {
            "error_x": {
             "color": "#2a3f5f"
            },
            "error_y": {
             "color": "#2a3f5f"
            },
            "marker": {
             "line": {
              "color": "#E5ECF6",
              "width": 0.5
             },
             "pattern": {
              "fillmode": "overlay",
              "size": 10,
              "solidity": 0.2
             }
            },
            "type": "bar"
           }
          ],
          "barpolar": [
           {
            "marker": {
             "line": {
              "color": "#E5ECF6",
              "width": 0.5
             },
             "pattern": {
              "fillmode": "overlay",
              "size": 10,
              "solidity": 0.2
             }
            },
            "type": "barpolar"
           }
          ],
          "carpet": [
           {
            "aaxis": {
             "endlinecolor": "#2a3f5f",
             "gridcolor": "white",
             "linecolor": "white",
             "minorgridcolor": "white",
             "startlinecolor": "#2a3f5f"
            },
            "baxis": {
             "endlinecolor": "#2a3f5f",
             "gridcolor": "white",
             "linecolor": "white",
             "minorgridcolor": "white",
             "startlinecolor": "#2a3f5f"
            },
            "type": "carpet"
           }
          ],
          "choropleth": [
           {
            "colorbar": {
             "outlinewidth": 0,
             "ticks": ""
            },
            "type": "choropleth"
           }
          ],
          "contour": [
           {
            "colorbar": {
             "outlinewidth": 0,
             "ticks": ""
            },
            "colorscale": [
             [
              0,
              "#0d0887"
             ],
             [
              0.1111111111111111,
              "#46039f"
             ],
             [
              0.2222222222222222,
              "#7201a8"
             ],
             [
              0.3333333333333333,
              "#9c179e"
             ],
             [
              0.4444444444444444,
              "#bd3786"
             ],
             [
              0.5555555555555556,
              "#d8576b"
             ],
             [
              0.6666666666666666,
              "#ed7953"
             ],
             [
              0.7777777777777778,
              "#fb9f3a"
             ],
             [
              0.8888888888888888,
              "#fdca26"
             ],
             [
              1,
              "#f0f921"
             ]
            ],
            "type": "contour"
           }
          ],
          "contourcarpet": [
           {
            "colorbar": {
             "outlinewidth": 0,
             "ticks": ""
            },
            "type": "contourcarpet"
           }
          ],
          "heatmap": [
           {
            "colorbar": {
             "outlinewidth": 0,
             "ticks": ""
            },
            "colorscale": [
             [
              0,
              "#0d0887"
             ],
             [
              0.1111111111111111,
              "#46039f"
             ],
             [
              0.2222222222222222,
              "#7201a8"
             ],
             [
              0.3333333333333333,
              "#9c179e"
             ],
             [
              0.4444444444444444,
              "#bd3786"
             ],
             [
              0.5555555555555556,
              "#d8576b"
             ],
             [
              0.6666666666666666,
              "#ed7953"
             ],
             [
              0.7777777777777778,
              "#fb9f3a"
             ],
             [
              0.8888888888888888,
              "#fdca26"
             ],
             [
              1,
              "#f0f921"
             ]
            ],
            "type": "heatmap"
           }
          ],
          "histogram": [
           {
            "marker": {
             "pattern": {
              "fillmode": "overlay",
              "size": 10,
              "solidity": 0.2
             }
            },
            "type": "histogram"
           }
          ],
          "histogram2d": [
           {
            "colorbar": {
             "outlinewidth": 0,
             "ticks": ""
            },
            "colorscale": [
             [
              0,
              "#0d0887"
             ],
             [
              0.1111111111111111,
              "#46039f"
             ],
             [
              0.2222222222222222,
              "#7201a8"
             ],
             [
              0.3333333333333333,
              "#9c179e"
             ],
             [
              0.4444444444444444,
              "#bd3786"
             ],
             [
              0.5555555555555556,
              "#d8576b"
             ],
             [
              0.6666666666666666,
              "#ed7953"
             ],
             [
              0.7777777777777778,
              "#fb9f3a"
             ],
             [
              0.8888888888888888,
              "#fdca26"
             ],
             [
              1,
              "#f0f921"
             ]
            ],
            "type": "histogram2d"
           }
          ],
          "histogram2dcontour": [
           {
            "colorbar": {
             "outlinewidth": 0,
             "ticks": ""
            },
            "colorscale": [
             [
              0,
              "#0d0887"
             ],
             [
              0.1111111111111111,
              "#46039f"
             ],
             [
              0.2222222222222222,
              "#7201a8"
             ],
             [
              0.3333333333333333,
              "#9c179e"
             ],
             [
              0.4444444444444444,
              "#bd3786"
             ],
             [
              0.5555555555555556,
              "#d8576b"
             ],
             [
              0.6666666666666666,
              "#ed7953"
             ],
             [
              0.7777777777777778,
              "#fb9f3a"
             ],
             [
              0.8888888888888888,
              "#fdca26"
             ],
             [
              1,
              "#f0f921"
             ]
            ],
            "type": "histogram2dcontour"
           }
          ],
          "mesh3d": [
           {
            "colorbar": {
             "outlinewidth": 0,
             "ticks": ""
            },
            "type": "mesh3d"
           }
          ],
          "parcoords": [
           {
            "line": {
             "colorbar": {
              "outlinewidth": 0,
              "ticks": ""
             }
            },
            "type": "parcoords"
           }
          ],
          "pie": [
           {
            "automargin": true,
            "type": "pie"
           }
          ],
          "scatter": [
           {
            "fillpattern": {
             "fillmode": "overlay",
             "size": 10,
             "solidity": 0.2
            },
            "type": "scatter"
           }
          ],
          "scatter3d": [
           {
            "line": {
             "colorbar": {
              "outlinewidth": 0,
              "ticks": ""
             }
            },
            "marker": {
             "colorbar": {
              "outlinewidth": 0,
              "ticks": ""
             }
            },
            "type": "scatter3d"
           }
          ],
          "scattercarpet": [
           {
            "marker": {
             "colorbar": {
              "outlinewidth": 0,
              "ticks": ""
             }
            },
            "type": "scattercarpet"
           }
          ],
          "scattergeo": [
           {
            "marker": {
             "colorbar": {
              "outlinewidth": 0,
              "ticks": ""
             }
            },
            "type": "scattergeo"
           }
          ],
          "scattergl": [
           {
            "marker": {
             "colorbar": {
              "outlinewidth": 0,
              "ticks": ""
             }
            },
            "type": "scattergl"
           }
          ],
          "scattermap": [
           {
            "marker": {
             "colorbar": {
              "outlinewidth": 0,
              "ticks": ""
             }
            },
            "type": "scattermap"
           }
          ],
          "scattermapbox": [
           {
            "marker": {
             "colorbar": {
              "outlinewidth": 0,
              "ticks": ""
             }
            },
            "type": "scattermapbox"
           }
          ],
          "scatterpolar": [
           {
            "marker": {
             "colorbar": {
              "outlinewidth": 0,
              "ticks": ""
             }
            },
            "type": "scatterpolar"
           }
          ],
          "scatterpolargl": [
           {
            "marker": {
             "colorbar": {
              "outlinewidth": 0,
              "ticks": ""
             }
            },
            "type": "scatterpolargl"
           }
          ],
          "scatterternary": [
           {
            "marker": {
             "colorbar": {
              "outlinewidth": 0,
              "ticks": ""
             }
            },
            "type": "scatterternary"
           }
          ],
          "surface": [
           {
            "colorbar": {
             "outlinewidth": 0,
             "ticks": ""
            },
            "colorscale": [
             [
              0,
              "#0d0887"
             ],
             [
              0.1111111111111111,
              "#46039f"
             ],
             [
              0.2222222222222222,
              "#7201a8"
             ],
             [
              0.3333333333333333,
              "#9c179e"
             ],
             [
              0.4444444444444444,
              "#bd3786"
             ],
             [
              0.5555555555555556,
              "#d8576b"
             ],
             [
              0.6666666666666666,
              "#ed7953"
             ],
             [
              0.7777777777777778,
              "#fb9f3a"
             ],
             [
              0.8888888888888888,
              "#fdca26"
             ],
             [
              1,
              "#f0f921"
             ]
            ],
            "type": "surface"
           }
          ],
          "table": [
           {
            "cells": {
             "fill": {
              "color": "#EBF0F8"
             },
             "line": {
              "color": "white"
             }
            },
            "header": {
             "fill": {
              "color": "#C8D4E3"
             },
             "line": {
              "color": "white"
             }
            },
            "type": "table"
           }
          ]
         },
         "layout": {
          "annotationdefaults": {
           "arrowcolor": "#2a3f5f",
           "arrowhead": 0,
           "arrowwidth": 1
          },
          "autotypenumbers": "strict",
          "coloraxis": {
           "colorbar": {
            "outlinewidth": 0,
            "ticks": ""
           }
          },
          "colorscale": {
           "diverging": [
            [
             0,
             "#8e0152"
            ],
            [
             0.1,
             "#c51b7d"
            ],
            [
             0.2,
             "#de77ae"
            ],
            [
             0.3,
             "#f1b6da"
            ],
            [
             0.4,
             "#fde0ef"
            ],
            [
             0.5,
             "#f7f7f7"
            ],
            [
             0.6,
             "#e6f5d0"
            ],
            [
             0.7,
             "#b8e186"
            ],
            [
             0.8,
             "#7fbc41"
            ],
            [
             0.9,
             "#4d9221"
            ],
            [
             1,
             "#276419"
            ]
           ],
           "sequential": [
            [
             0,
             "#0d0887"
            ],
            [
             0.1111111111111111,
             "#46039f"
            ],
            [
             0.2222222222222222,
             "#7201a8"
            ],
            [
             0.3333333333333333,
             "#9c179e"
            ],
            [
             0.4444444444444444,
             "#bd3786"
            ],
            [
             0.5555555555555556,
             "#d8576b"
            ],
            [
             0.6666666666666666,
             "#ed7953"
            ],
            [
             0.7777777777777778,
             "#fb9f3a"
            ],
            [
             0.8888888888888888,
             "#fdca26"
            ],
            [
             1,
             "#f0f921"
            ]
           ],
           "sequentialminus": [
            [
             0,
             "#0d0887"
            ],
            [
             0.1111111111111111,
             "#46039f"
            ],
            [
             0.2222222222222222,
             "#7201a8"
            ],
            [
             0.3333333333333333,
             "#9c179e"
            ],
            [
             0.4444444444444444,
             "#bd3786"
            ],
            [
             0.5555555555555556,
             "#d8576b"
            ],
            [
             0.6666666666666666,
             "#ed7953"
            ],
            [
             0.7777777777777778,
             "#fb9f3a"
            ],
            [
             0.8888888888888888,
             "#fdca26"
            ],
            [
             1,
             "#f0f921"
            ]
           ]
          },
          "colorway": [
           "#636efa",
           "#EF553B",
           "#00cc96",
           "#ab63fa",
           "#FFA15A",
           "#19d3f3",
           "#FF6692",
           "#B6E880",
           "#FF97FF",
           "#FECB52"
          ],
          "font": {
           "color": "#2a3f5f"
          },
          "geo": {
           "bgcolor": "white",
           "lakecolor": "white",
           "landcolor": "#E5ECF6",
           "showlakes": true,
           "showland": true,
           "subunitcolor": "white"
          },
          "hoverlabel": {
           "align": "left"
          },
          "hovermode": "closest",
          "mapbox": {
           "style": "light"
          },
          "paper_bgcolor": "white",
          "plot_bgcolor": "#E5ECF6",
          "polar": {
           "angularaxis": {
            "gridcolor": "white",
            "linecolor": "white",
            "ticks": ""
           },
           "bgcolor": "#E5ECF6",
           "radialaxis": {
            "gridcolor": "white",
            "linecolor": "white",
            "ticks": ""
           }
          },
          "scene": {
           "xaxis": {
            "backgroundcolor": "#E5ECF6",
            "gridcolor": "white",
            "gridwidth": 2,
            "linecolor": "white",
            "showbackground": true,
            "ticks": "",
            "zerolinecolor": "white"
           },
           "yaxis": {
            "backgroundcolor": "#E5ECF6",
            "gridcolor": "white",
            "gridwidth": 2,
            "linecolor": "white",
            "showbackground": true,
            "ticks": "",
            "zerolinecolor": "white"
           },
           "zaxis": {
            "backgroundcolor": "#E5ECF6",
            "gridcolor": "white",
            "gridwidth": 2,
            "linecolor": "white",
            "showbackground": true,
            "ticks": "",
            "zerolinecolor": "white"
           }
          },
          "shapedefaults": {
           "line": {
            "color": "#2a3f5f"
           }
          },
          "ternary": {
           "aaxis": {
            "gridcolor": "white",
            "linecolor": "white",
            "ticks": ""
           },
           "baxis": {
            "gridcolor": "white",
            "linecolor": "white",
            "ticks": ""
           },
           "bgcolor": "#E5ECF6",
           "caxis": {
            "gridcolor": "white",
            "linecolor": "white",
            "ticks": ""
           }
          },
          "title": {
           "x": 0.05
          },
          "xaxis": {
           "automargin": true,
           "gridcolor": "white",
           "linecolor": "white",
           "ticks": "",
           "title": {
            "standoff": 15
           },
           "zerolinecolor": "white",
           "zerolinewidth": 2
          },
          "yaxis": {
           "automargin": true,
           "gridcolor": "white",
           "linecolor": "white",
           "ticks": "",
           "title": {
            "standoff": 15
           },
           "zerolinecolor": "white",
           "zerolinewidth": 2
          }
         }
        },
        "title": {
         "text": "Optimization History Plot"
        },
        "xaxis": {
         "title": {
          "text": "Trial"
         }
        },
        "yaxis": {
         "title": {
          "text": "Objective Value"
         }
        }
       }
      },
      "image/png": "[encoded data removed]"
     },
     "metadata": {},
     "output_type": "display_data"
    },
    {
     "data": {
      "application/vnd.plotly.v1+json": {
       "config": {
        "plotlyServerURL": "https://plot.ly"
       },
       "data": [
        {
         "cliponaxis": false,
         "hovertemplate": [
          "batch_size (CategoricalDistribution): 0.016236408773684936<extra></extra>",
          "dim (IntDistribution): 0.018303723542630636<extra></extra>",
          "lr (FloatDistribution): 0.09887571768642234<extra></extra>",
          "dropout (FloatDistribution): 0.11242952496154751<extra></extra>",
          "depth (IntDistribution): 0.7541546250357146<extra></extra>"
         ],
         "name": "Objective Value",
         "orientation": "h",
         "text": [
          "0.02",
          "0.02",
          "0.10",
          "0.11",
          "0.75"
         ],
         "textposition": "outside",
         "type": "bar",
         "x": [
          0.016236408773684936,
          0.018303723542630636,
          0.09887571768642234,
          0.11242952496154751,
          0.7541546250357146
         ],
         "y": [
          "batch_size",
          "dim",
          "lr",
          "dropout",
          "depth"
         ]
        }
       ],
       "layout": {
        "template": {
         "data": {
          "bar": [
           {
            "error_x": {
             "color": "#2a3f5f"
            },
            "error_y": {
             "color": "#2a3f5f"
            },
            "marker": {
             "line": {
              "color": "#E5ECF6",
              "width": 0.5
             },
             "pattern": {
              "fillmode": "overlay",
              "size": 10,
              "solidity": 0.2
             }
            },
            "type": "bar"
           }
          ],
          "barpolar": [
           {
            "marker": {
             "line": {
              "color": "#E5ECF6",
              "width": 0.5
             },
             "pattern": {
              "fillmode": "overlay",
              "size": 10,
              "solidity": 0.2
             }
            },
            "type": "barpolar"
           }
          ],
          "carpet": [
           {
            "aaxis": {
             "endlinecolor": "#2a3f5f",
             "gridcolor": "white",
             "linecolor": "white",
             "minorgridcolor": "white",
             "startlinecolor": "#2a3f5f"
            },
            "baxis": {
             "endlinecolor": "#2a3f5f",
             "gridcolor": "white",
             "linecolor": "white",
             "minorgridcolor": "white",
             "startlinecolor": "#2a3f5f"
            },
            "type": "carpet"
           }
          ],
          "choropleth": [
           {
            "colorbar": {
             "outlinewidth": 0,
             "ticks": ""
            },
            "type": "choropleth"
           }
          ],
          "contour": [
           {
            "colorbar": {
             "outlinewidth": 0,
             "ticks": ""
            },
            "colorscale": [
             [
              0,
              "#0d0887"
             ],
             [
              0.1111111111111111,
              "#46039f"
             ],
             [
              0.2222222222222222,
              "#7201a8"
             ],
             [
              0.3333333333333333,
              "#9c179e"
             ],
             [
              0.4444444444444444,
              "#bd3786"
             ],
             [
              0.5555555555555556,
              "#d8576b"
             ],
             [
              0.6666666666666666,
              "#ed7953"
             ],
             [
              0.7777777777777778,
              "#fb9f3a"
             ],
             [
              0.8888888888888888,
              "#fdca26"
             ],
             [
              1,
              "#f0f921"
             ]
            ],
            "type": "contour"
           }
          ],
          "contourcarpet": [
           {
            "colorbar": {
             "outlinewidth": 0,
             "ticks": ""
            },
            "type": "contourcarpet"
           }
          ],
          "heatmap": [
           {
            "colorbar": {
             "outlinewidth": 0,
             "ticks": ""
            },
            "colorscale": [
             [
              0,
              "#0d0887"
             ],
             [
              0.1111111111111111,
              "#46039f"
             ],
             [
              0.2222222222222222,
              "#7201a8"
             ],
             [
              0.3333333333333333,
              "#9c179e"
             ],
             [
              0.4444444444444444,
              "#bd3786"
             ],
             [
              0.5555555555555556,
              "#d8576b"
             ],
             [
              0.6666666666666666,
              "#ed7953"
             ],
             [
              0.7777777777777778,
              "#fb9f3a"
             ],
             [
              0.8888888888888888,
              "#fdca26"
             ],
             [
              1,
              "#f0f921"
             ]
            ],
            "type": "heatmap"
           }
          ],
          "histogram": [
           {
            "marker": {
             "pattern": {
              "fillmode": "overlay",
              "size": 10,
              "solidity": 0.2
             }
            },
            "type": "histogram"
           }
          ],
          "histogram2d": [
           {
            "colorbar": {
             "outlinewidth": 0,
             "ticks": ""
            },
            "colorscale": [
             [
              0,
              "#0d0887"
             ],
             [
              0.1111111111111111,
              "#46039f"
             ],
             [
              0.2222222222222222,
              "#7201a8"
             ],
             [
              0.3333333333333333,
              "#9c179e"
             ],
             [
              0.4444444444444444,
              "#bd3786"
             ],
             [
              0.5555555555555556,
              "#d8576b"
             ],
             [
              0.6666666666666666,
              "#ed7953"
             ],
             [
              0.7777777777777778,
              "#fb9f3a"
             ],
             [
              0.8888888888888888,
              "#fdca26"
             ],
             [
              1,
              "#f0f921"
             ]
            ],
            "type": "histogram2d"
           }
          ],
          "histogram2dcontour": [
           {
            "colorbar": {
             "outlinewidth": 0,
             "ticks": ""
            },
            "colorscale": [
             [
              0,
              "#0d0887"
             ],
             [
              0.1111111111111111,
              "#46039f"
             ],
             [
              0.2222222222222222,
              "#7201a8"
             ],
             [
              0.3333333333333333,
              "#9c179e"
             ],
             [
              0.4444444444444444,
              "#bd3786"
             ],
             [
              0.5555555555555556,
              "#d8576b"
             ],
             [
              0.6666666666666666,
              "#ed7953"
             ],
             [
              0.7777777777777778,
              "#fb9f3a"
             ],
             [
              0.8888888888888888,
              "#fdca26"
             ],
             [
              1,
              "#f0f921"
             ]
            ],
            "type": "histogram2dcontour"
           }
          ],
          "mesh3d": [
           {
            "colorbar": {
             "outlinewidth": 0,
             "ticks": ""
            },
            "type": "mesh3d"
           }
          ],
          "parcoords": [
           {
            "line": {
             "colorbar": {
              "outlinewidth": 0,
              "ticks": ""
             }
            },
            "type": "parcoords"
           }
          ],
          "pie": [
           {
            "automargin": true,
            "type": "pie"
           }
          ],
          "scatter": [
           {
            "fillpattern": {
             "fillmode": "overlay",
             "size": 10,
             "solidity": 0.2
            },
            "type": "scatter"
           }
          ],
          "scatter3d": [
           {
            "line": {
             "colorbar": {
              "outlinewidth": 0,
              "ticks": ""
             }
            },
            "marker": {
             "colorbar": {
              "outlinewidth": 0,
              "ticks": ""
             }
            },
            "type": "scatter3d"
           }
          ],
          "scattercarpet": [
           {
            "marker": {
             "colorbar": {
              "outlinewidth": 0,
              "ticks": ""
             }
            },
            "type": "scattercarpet"
           }
          ],
          "scattergeo": [
           {
            "marker": {
             "colorbar": {
              "outlinewidth": 0,
              "ticks": ""
             }
            },
            "type": "scattergeo"
           }
          ],
          "scattergl": [
           {
            "marker": {
             "colorbar": {
              "outlinewidth": 0,
              "ticks": ""
             }
            },
            "type": "scattergl"
           }
          ],
          "scattermap": [
           {
            "marker": {
             "colorbar": {
              "outlinewidth": 0,
              "ticks": ""
             }
            },
            "type": "scattermap"
           }
          ],
          "scattermapbox": [
           {
            "marker": {
             "colorbar": {
              "outlinewidth": 0,
              "ticks": ""
             }
            },
            "type": "scattermapbox"
           }
          ],
          "scatterpolar": [
           {
            "marker": {
             "colorbar": {
              "outlinewidth": 0,
              "ticks": ""
             }
            },
            "type": "scatterpolar"
           }
          ],
          "scatterpolargl": [
           {
            "marker": {
             "colorbar": {
              "outlinewidth": 0,
              "ticks": ""
             }
            },
            "type": "scatterpolargl"
           }
          ],
          "scatterternary": [
           {
            "marker": {
             "colorbar": {
              "outlinewidth": 0,
              "ticks": ""
             }
            },
            "type": "scatterternary"
           }
          ],
          "surface": [
           {
            "colorbar": {
             "outlinewidth": 0,
             "ticks": ""
            },
            "colorscale": [
             [
              0,
              "#0d0887"
             ],
             [
              0.1111111111111111,
              "#46039f"
             ],
             [
              0.2222222222222222,
              "#7201a8"
             ],
             [
              0.3333333333333333,
              "#9c179e"
             ],
             [
              0.4444444444444444,
              "#bd3786"
             ],
             [
              0.5555555555555556,
              "#d8576b"
             ],
             [
              0.6666666666666666,
              "#ed7953"
             ],
             [
              0.7777777777777778,
              "#fb9f3a"
             ],
             [
              0.8888888888888888,
              "#fdca26"
             ],
             [
              1,
              "#f0f921"
             ]
            ],
            "type": "surface"
           }
          ],
          "table": [
           {
            "cells": {
             "fill": {
              "color": "#EBF0F8"
             },
             "line": {
              "color": "white"
             }
            },
            "header": {
             "fill": {
              "color": "#C8D4E3"
             },
             "line": {
              "color": "white"
             }
            },
            "type": "table"
           }
          ]
         },
         "layout": {
          "annotationdefaults": {
           "arrowcolor": "#2a3f5f",
           "arrowhead": 0,
           "arrowwidth": 1
          },
          "autotypenumbers": "strict",
          "coloraxis": {
           "colorbar": {
            "outlinewidth": 0,
            "ticks": ""
           }
          },
          "colorscale": {
           "diverging": [
            [
             0,
             "#8e0152"
            ],
            [
             0.1,
             "#c51b7d"
            ],
            [
             0.2,
             "#de77ae"
            ],
            [
             0.3,
             "#f1b6da"
            ],
            [
             0.4,
             "#fde0ef"
            ],
            [
             0.5,
             "#f7f7f7"
            ],
            [
             0.6,
             "#e6f5d0"
            ],
            [
             0.7,
             "#b8e186"
            ],
            [
             0.8,
             "#7fbc41"
            ],
            [
             0.9,
             "#4d9221"
            ],
            [
             1,
             "#276419"
            ]
           ],
           "sequential": [
            [
             0,
             "#0d0887"
            ],
            [
             0.1111111111111111,
             "#46039f"
            ],
            [
             0.2222222222222222,
             "#7201a8"
            ],
            [
             0.3333333333333333,
             "#9c179e"
            ],
            [
             0.4444444444444444,
             "#bd3786"
            ],
            [
             0.5555555555555556,
             "#d8576b"
            ],
            [
             0.6666666666666666,
             "#ed7953"
            ],
            [
             0.7777777777777778,
             "#fb9f3a"
            ],
            [
             0.8888888888888888,
             "#fdca26"
            ],
            [
             1,
             "#f0f921"
            ]
           ],
           "sequentialminus": [
            [
             0,
             "#0d0887"
            ],
            [
             0.1111111111111111,
             "#46039f"
            ],
            [
             0.2222222222222222,
             "#7201a8"
            ],
            [
             0.3333333333333333,
             "#9c179e"
            ],
            [
             0.4444444444444444,
             "#bd3786"
            ],
            [
             0.5555555555555556,
             "#d8576b"
            ],
            [
             0.6666666666666666,
             "#ed7953"
            ],
            [
             0.7777777777777778,
             "#fb9f3a"
            ],
            [
             0.8888888888888888,
             "#fdca26"
            ],
            [
             1,
             "#f0f921"
            ]
           ]
          },
          "colorway": [
           "#636efa",
           "#EF553B",
           "#00cc96",
           "#ab63fa",
           "#FFA15A",
           "#19d3f3",
           "#FF6692",
           "#B6E880",
           "#FF97FF",
           "#FECB52"
          ],
          "font": {
           "color": "#2a3f5f"
          },
          "geo": {
           "bgcolor": "white",
           "lakecolor": "white",
           "landcolor": "#E5ECF6",
           "showlakes": true,
           "showland": true,
           "subunitcolor": "white"
          },
          "hoverlabel": {
           "align": "left"
          },
          "hovermode": "closest",
          "mapbox": {
           "style": "light"
          },
          "paper_bgcolor": "white",
          "plot_bgcolor": "#E5ECF6",
          "polar": {
           "angularaxis": {
            "gridcolor": "white",
            "linecolor": "white",
            "ticks": ""
           },
           "bgcolor": "#E5ECF6",
           "radialaxis": {
            "gridcolor": "white",
            "linecolor": "white",
            "ticks": ""
           }
          },
          "scene": {
           "xaxis": {
            "backgroundcolor": "#E5ECF6",
            "gridcolor": "white",
            "gridwidth": 2,
            "linecolor": "white",
            "showbackground": true,
            "ticks": "",
            "zerolinecolor": "white"
           },
           "yaxis": {
            "backgroundcolor": "#E5ECF6",
            "gridcolor": "white",
            "gridwidth": 2,
            "linecolor": "white",
            "showbackground": true,
            "ticks": "",
            "zerolinecolor": "white"
           },
           "zaxis": {
            "backgroundcolor": "#E5ECF6",
            "gridcolor": "white",
            "gridwidth": 2,
            "linecolor": "white",
            "showbackground": true,
            "ticks": "",
            "zerolinecolor": "white"
           }
          },
          "shapedefaults": {
           "line": {
            "color": "#2a3f5f"
           }
          },
          "ternary": {
           "aaxis": {
            "gridcolor": "white",
            "linecolor": "white",
            "ticks": ""
           },
           "baxis": {
            "gridcolor": "white",
            "linecolor": "white",
            "ticks": ""
           },
           "bgcolor": "#E5ECF6",
           "caxis": {
            "gridcolor": "white",
            "linecolor": "white",
            "ticks": ""
           }
          },
          "title": {
           "x": 0.05
          },
          "xaxis": {
           "automargin": true,
           "gridcolor": "white",
           "linecolor": "white",
           "ticks": "",
           "title": {
            "standoff": 15
           },
           "zerolinecolor": "white",
           "zerolinewidth": 2
          },
          "yaxis": {
           "automargin": true,
           "gridcolor": "white",
           "linecolor": "white",
           "ticks": "",
           "title": {
            "standoff": 15
           },
           "zerolinecolor": "white",
           "zerolinewidth": 2
          }
         }
        },
        "title": {
         "text": "Hyperparameter Importances"
        },
        "xaxis": {
         "title": {
          "text": "Hyperparameter Importance"
         }
        },
        "yaxis": {
         "title": {
          "text": "Hyperparameter"
         }
        }
       }
      },
      "image/png": "[encoded data removed]"
     },
     "metadata": {},
     "output_type": "display_data"
    },
    {
     "data": {
      "application/vnd.plotly.v1+json": {
       "config": {
        "plotlyServerURL": "https://plot.ly"
       },
       "data": [
        {
         "dimensions": [
          {
           "label": "Objective Value",
           "range": [
            0.6536233732156462,
            0.7654568431427338
           ],
           "values": [
            0.7578263464882509,
            0.7654568431427338,
            0.6868666164290497,
            0.6904836857248672,
            0.6536233732156462,
            0.7367520834588828,
            0.758110182534289,
            0.7642820095819958,
            0.7317231949808829,
            0.7240456976408897,
            0.7146495584593859,
            0.7196145109427619,
            0.74581495158618,
            0.6962048223377227,
            0.6915858410809418
           ]
          },
          {
           "label": "batch_size",
           "range": [
            0,
            1
           ],
           "ticktext": [
            "128",
            "256"
           ],
           "tickvals": [
            0,
            1
           ],
           "values": [
            0,
            0,
            0,
            0,
            0,
            0,
            0,
            0,
            0,
            0,
            0,
            1,
            1,
            1,
            1
           ]
          },
          {
           "label": "depth",
           "range": [
            1,
            4
           ],
           "values": [
            1,
            1,
            2,
            3,
            4,
            2,
            1,
            1,
            1,
            1,
            2,
            2,
            1,
            4,
            3
           ]
          },
          {
           "label": "dim",
           "range": [
            64,
            128
           ],
           "values": [
            128,
            128,
            64,
            128,
            128,
            128,
            64,
            64,
            64,
            64,
            64,
            64,
            64,
            128,
            128
           ]
          },
          {
           "label": "dropout",
           "range": [
            0.026038553653599705,
            0.14860408167071576
           ],
           "values": [
            0.04027928764370635,
            0.14608828078105926,
            0.08821833611219093,
            0.026038553653599705,
            0.12509165525513996,
            0.08760884275311541,
            0.06229294299922436,
            0.11599272081425269,
            0.11592198141817217,
            0.11243110975207085,
            0.14860408167071576,
            0.06762703962817992,
            0.08437299831446513,
            0.13632755555559434,
            0.14790632516329047
           ]
          },
          {
           "label": "lr",
           "range": [
            -4.958939580625936,
            -3.0187250843955056
           ],
           "ticktext": [
            "1.1e-05",
            "0.0001",
            "0.000958"
           ],
           "tickvals": [
            -4.958939580625936,
            -4,
            -3.0187250843955056
           ],
           "values": [
            -4.2509197623052755,
            -4.883832775663601,
            -3.3351147183991565,
            -4.087860031565929,
            -3.7849102961971237,
            -4.931222957769563,
            -3.8042000423778295,
            -3.439115149307516,
            -3.0187250843955056,
            -4.597207794723056,
            -3.4907198788078064,
            -4.136109962715769,
            -4.390772461653258,
            -3.9065794413134407,
            -4.958939580625936
           ]
          }
         ],
         "labelangle": 30,
         "labelside": "bottom",
         "line": {
          "color": [
           0.7578263464882509,
           0.7654568431427338,
           0.6868666164290497,
           0.6904836857248672,
           0.6536233732156462,
           0.7367520834588828,
           0.758110182534289,
           0.7642820095819958,
           0.7317231949808829,
           0.7240456976408897,
           0.7146495584593859,
           0.7196145109427619,
           0.74581495158618,
           0.6962048223377227,
           0.6915858410809418
          ],
          "colorbar": {
           "title": {
            "text": "Objective Value"
           }
          },
          "colorscale": [
           [
            0,
            "rgb(247,251,255)"
           ],
           [
            0.125,
            "rgb(222,235,247)"
           ],
           [
            0.25,
            "rgb(198,219,239)"
           ],
           [
            0.375,
            "rgb(158,202,225)"
           ],
           [
            0.5,
            "rgb(107,174,214)"
           ],
           [
            0.625,
            "rgb(66,146,198)"
           ],
           [
            0.75,
            "rgb(33,113,181)"
           ],
           [
            0.875,
            "rgb(8,81,156)"
           ],
           [
            1,
            "rgb(8,48,107)"
           ]
          ],
          "reversescale": false,
          "showscale": true
         },
         "type": "parcoords"
        }
       ],
       "layout": {
        "template": {
         "data": {
          "bar": [
           {
            "error_x": {
             "color": "#2a3f5f"
            },
            "error_y": {
             "color": "#2a3f5f"
            },
            "marker": {
             "line": {
              "color": "#E5ECF6",
              "width": 0.5
             },
             "pattern": {
              "fillmode": "overlay",
              "size": 10,
              "solidity": 0.2
             }
            },
            "type": "bar"
           }
          ],
          "barpolar": [
           {
            "marker": {
             "line": {
              "color": "#E5ECF6",
              "width": 0.5
             },
             "pattern": {
              "fillmode": "overlay",
              "size": 10,
              "solidity": 0.2
             }
            },
            "type": "barpolar"
           }
          ],
          "carpet": [
           {
            "aaxis": {
             "endlinecolor": "#2a3f5f",
             "gridcolor": "white",
             "linecolor": "white",
             "minorgridcolor": "white",
             "startlinecolor": "#2a3f5f"
            },
            "baxis": {
             "endlinecolor": "#2a3f5f",
             "gridcolor": "white",
             "linecolor": "white",
             "minorgridcolor": "white",
             "startlinecolor": "#2a3f5f"
            },
            "type": "carpet"
           }
          ],
          "choropleth": [
           {
            "colorbar": {
             "outlinewidth": 0,
             "ticks": ""
            },
            "type": "choropleth"
           }
          ],
          "contour": [
           {
            "colorbar": {
             "outlinewidth": 0,
             "ticks": ""
            },
            "colorscale": [
             [
              0,
              "#0d0887"
             ],
             [
              0.1111111111111111,
              "#46039f"
             ],
             [
              0.2222222222222222,
              "#7201a8"
             ],
             [
              0.3333333333333333,
              "#9c179e"
             ],
             [
              0.4444444444444444,
              "#bd3786"
             ],
             [
              0.5555555555555556,
              "#d8576b"
             ],
             [
              0.6666666666666666,
              "#ed7953"
             ],
             [
              0.7777777777777778,
              "#fb9f3a"
             ],
             [
              0.8888888888888888,
              "#fdca26"
             ],
             [
              1,
              "#f0f921"
             ]
            ],
            "type": "contour"
           }
          ],
          "contourcarpet": [
           {
            "colorbar": {
             "outlinewidth": 0,
             "ticks": ""
            },
            "type": "contourcarpet"
           }
          ],
          "heatmap": [
           {
            "colorbar": {
             "outlinewidth": 0,
             "ticks": ""
            },
            "colorscale": [
             [
              0,
              "#0d0887"
             ],
             [
              0.1111111111111111,
              "#46039f"
             ],
             [
              0.2222222222222222,
              "#7201a8"
             ],
             [
              0.3333333333333333,
              "#9c179e"
             ],
             [
              0.4444444444444444,
              "#bd3786"
             ],
             [
              0.5555555555555556,
              "#d8576b"
             ],
             [
              0.6666666666666666,
              "#ed7953"
             ],
             [
              0.7777777777777778,
              "#fb9f3a"
             ],
             [
              0.8888888888888888,
              "#fdca26"
             ],
             [
              1,
              "#f0f921"
             ]
            ],
            "type": "heatmap"
           }
          ],
          "histogram": [
           {
            "marker": {
             "pattern": {
              "fillmode": "overlay",
              "size": 10,
              "solidity": 0.2
             }
            },
            "type": "histogram"
           }
          ],
          "histogram2d": [
           {
            "colorbar": {
             "outlinewidth": 0,
             "ticks": ""
            },
            "colorscale": [
             [
              0,
              "#0d0887"
             ],
             [
              0.1111111111111111,
              "#46039f"
             ],
             [
              0.2222222222222222,
              "#7201a8"
             ],
             [
              0.3333333333333333,
              "#9c179e"
             ],
             [
              0.4444444444444444,
              "#bd3786"
             ],
             [
              0.5555555555555556,
              "#d8576b"
             ],
             [
              0.6666666666666666,
              "#ed7953"
             ],
             [
              0.7777777777777778,
              "#fb9f3a"
             ],
             [
              0.8888888888888888,
              "#fdca26"
             ],
             [
              1,
              "#f0f921"
             ]
            ],
            "type": "histogram2d"
           }
          ],
          "histogram2dcontour": [
           {
            "colorbar": {
             "outlinewidth": 0,
             "ticks": ""
            },
            "colorscale": [
             [
              0,
              "#0d0887"
             ],
             [
              0.1111111111111111,
              "#46039f"
             ],
             [
              0.2222222222222222,
              "#7201a8"
             ],
             [
              0.3333333333333333,
              "#9c179e"
             ],
             [
              0.4444444444444444,
              "#bd3786"
             ],
             [
              0.5555555555555556,
              "#d8576b"
             ],
             [
              0.6666666666666666,
              "#ed7953"
             ],
             [
              0.7777777777777778,
              "#fb9f3a"
             ],
             [
              0.8888888888888888,
              "#fdca26"
             ],
             [
              1,
              "#f0f921"
             ]
            ],
            "type": "histogram2dcontour"
           }
          ],
          "mesh3d": [
           {
            "colorbar": {
             "outlinewidth": 0,
             "ticks": ""
            },
            "type": "mesh3d"
           }
          ],
          "parcoords": [
           {
            "line": {
             "colorbar": {
              "outlinewidth": 0,
              "ticks": ""
             }
            },
            "type": "parcoords"
           }
          ],
          "pie": [
           {
            "automargin": true,
            "type": "pie"
           }
          ],
          "scatter": [
           {
            "fillpattern": {
             "fillmode": "overlay",
             "size": 10,
             "solidity": 0.2
            },
            "type": "scatter"
           }
          ],
          "scatter3d": [
           {
            "line": {
             "colorbar": {
              "outlinewidth": 0,
              "ticks": ""
             }
            },
            "marker": {
             "colorbar": {
              "outlinewidth": 0,
              "ticks": ""
             }
            },
            "type": "scatter3d"
           }
          ],
          "scattercarpet": [
           {
            "marker": {
             "colorbar": {
              "outlinewidth": 0,
              "ticks": ""
             }
            },
            "type": "scattercarpet"
           }
          ],
          "scattergeo": [
           {
            "marker": {
             "colorbar": {
              "outlinewidth": 0,
              "ticks": ""
             }
            },
            "type": "scattergeo"
           }
          ],
          "scattergl": [
           {
            "marker": {
             "colorbar": {
              "outlinewidth": 0,
              "ticks": ""
             }
            },
            "type": "scattergl"
           }
          ],
          "scattermap": [
           {
            "marker": {
             "colorbar": {
              "outlinewidth": 0,
              "ticks": ""
             }
            },
            "type": "scattermap"
           }
          ],
          "scattermapbox": [
           {
            "marker": {
             "colorbar": {
              "outlinewidth": 0,
              "ticks": ""
             }
            },
            "type": "scattermapbox"
           }
          ],
          "scatterpolar": [
           {
            "marker": {
             "colorbar": {
              "outlinewidth": 0,
              "ticks": ""
             }
            },
            "type": "scatterpolar"
           }
          ],
          "scatterpolargl": [
           {
            "marker": {
             "colorbar": {
              "outlinewidth": 0,
              "ticks": ""
             }
            },
            "type": "scatterpolargl"
           }
          ],
          "scatterternary": [
           {
            "marker": {
             "colorbar": {
              "outlinewidth": 0,
              "ticks": ""
             }
            },
            "type": "scatterternary"
           }
          ],
          "surface": [
           {
            "colorbar": {
             "outlinewidth": 0,
             "ticks": ""
            },
            "colorscale": [
             [
              0,
              "#0d0887"
             ],
             [
              0.1111111111111111,
              "#46039f"
             ],
             [
              0.2222222222222222,
              "#7201a8"
             ],
             [
              0.3333333333333333,
              "#9c179e"
             ],
             [
              0.4444444444444444,
              "#bd3786"
             ],
             [
              0.5555555555555556,
              "#d8576b"
             ],
             [
              0.6666666666666666,
              "#ed7953"
             ],
             [
              0.7777777777777778,
              "#fb9f3a"
             ],
             [
              0.8888888888888888,
              "#fdca26"
             ],
             [
              1,
              "#f0f921"
             ]
            ],
            "type": "surface"
           }
          ],
          "table": [
           {
            "cells": {
             "fill": {
              "color": "#EBF0F8"
             },
             "line": {
              "color": "white"
             }
            },
            "header": {
             "fill": {
              "color": "#C8D4E3"
             },
             "line": {
              "color": "white"
             }
            },
            "type": "table"
           }
          ]
         },
         "layout": {
          "annotationdefaults": {
           "arrowcolor": "#2a3f5f",
           "arrowhead": 0,
           "arrowwidth": 1
          },
          "autotypenumbers": "strict",
          "coloraxis": {
           "colorbar": {
            "outlinewidth": 0,
            "ticks": ""
           }
          },
          "colorscale": {
           "diverging": [
            [
             0,
             "#8e0152"
            ],
            [
             0.1,
             "#c51b7d"
            ],
            [
             0.2,
             "#de77ae"
            ],
            [
             0.3,
             "#f1b6da"
            ],
            [
             0.4,
             "#fde0ef"
            ],
            [
             0.5,
             "#f7f7f7"
            ],
            [
             0.6,
             "#e6f5d0"
            ],
            [
             0.7,
             "#b8e186"
            ],
            [
             0.8,
             "#7fbc41"
            ],
            [
             0.9,
             "#4d9221"
            ],
            [
             1,
             "#276419"
            ]
           ],
           "sequential": [
            [
             0,
             "#0d0887"
            ],
            [
             0.1111111111111111,
             "#46039f"
            ],
            [
             0.2222222222222222,
             "#7201a8"
            ],
            [
             0.3333333333333333,
             "#9c179e"
            ],
            [
             0.4444444444444444,
             "#bd3786"
            ],
            [
             0.5555555555555556,
             "#d8576b"
            ],
            [
             0.6666666666666666,
             "#ed7953"
            ],
            [
             0.7777777777777778,
             "#fb9f3a"
            ],
            [
             0.8888888888888888,
             "#fdca26"
            ],
            [
             1,
             "#f0f921"
            ]
           ],
           "sequentialminus": [
            [
             0,
             "#0d0887"
            ],
            [
             0.1111111111111111,
             "#46039f"
            ],
            [
             0.2222222222222222,
             "#7201a8"
            ],
            [
             0.3333333333333333,
             "#9c179e"
            ],
            [
             0.4444444444444444,
             "#bd3786"
            ],
            [
             0.5555555555555556,
             "#d8576b"
            ],
            [
             0.6666666666666666,
             "#ed7953"
            ],
            [
             0.7777777777777778,
             "#fb9f3a"
            ],
            [
             0.8888888888888888,
             "#fdca26"
            ],
            [
             1,
             "#f0f921"
            ]
           ]
          },
          "colorway": [
           "#636efa",
           "#EF553B",
           "#00cc96",
           "#ab63fa",
           "#FFA15A",
           "#19d3f3",
           "#FF6692",
           "#B6E880",
           "#FF97FF",
           "#FECB52"
          ],
          "font": {
           "color": "#2a3f5f"
          },
          "geo": {
           "bgcolor": "white",
           "lakecolor": "white",
           "landcolor": "#E5ECF6",
           "showlakes": true,
           "showland": true,
           "subunitcolor": "white"
          },
          "hoverlabel": {
           "align": "left"
          },
          "hovermode": "closest",
          "mapbox": {
           "style": "light"
          },
          "paper_bgcolor": "white",
          "plot_bgcolor": "#E5ECF6",
          "polar": {
           "angularaxis": {
            "gridcolor": "white",
            "linecolor": "white",
            "ticks": ""
           },
           "bgcolor": "#E5ECF6",
           "radialaxis": {
            "gridcolor": "white",
            "linecolor": "white",
            "ticks": ""
           }
          },
          "scene": {
           "xaxis": {
            "backgroundcolor": "#E5ECF6",
            "gridcolor": "white",
            "gridwidth": 2,
            "linecolor": "white",
            "showbackground": true,
            "ticks": "",
            "zerolinecolor": "white"
           },
           "yaxis": {
            "backgroundcolor": "#E5ECF6",
            "gridcolor": "white",
            "gridwidth": 2,
            "linecolor": "white",
            "showbackground": true,
            "ticks": "",
            "zerolinecolor": "white"
           },
           "zaxis": {
            "backgroundcolor": "#E5ECF6",
            "gridcolor": "white",
            "gridwidth": 2,
            "linecolor": "white",
            "showbackground": true,
            "ticks": "",
            "zerolinecolor": "white"
           }
          },
          "shapedefaults": {
           "line": {
            "color": "#2a3f5f"
           }
          },
          "ternary": {
           "aaxis": {
            "gridcolor": "white",
            "linecolor": "white",
            "ticks": ""
           },
           "baxis": {
            "gridcolor": "white",
            "linecolor": "white",
            "ticks": ""
           },
           "bgcolor": "#E5ECF6",
           "caxis": {
            "gridcolor": "white",
            "linecolor": "white",
            "ticks": ""
           }
          },
          "title": {
           "x": 0.05
          },
          "xaxis": {
           "automargin": true,
           "gridcolor": "white",
           "linecolor": "white",
           "ticks": "",
           "title": {
            "standoff": 15
           },
           "zerolinecolor": "white",
           "zerolinewidth": 2
          },
          "yaxis": {
           "automargin": true,
           "gridcolor": "white",
           "linecolor": "white",
           "ticks": "",
           "title": {
            "standoff": 15
           },
           "zerolinecolor": "white",
           "zerolinewidth": 2
          }
         }
        },
        "title": {
         "text": "Parallel Coordinate Plot"
        }
       }
      },
      "image/png": "[encoded data removed]"
     },
     "metadata": {},
     "output_type": "display_data"
    }
   ],
   "source": [
    "# optuna визуализация\n",
    "optuna.visualization.plot_optimization_history(study).show()\n",
    "optuna.visualization.plot_param_importances(study).show()\n",
    "optuna.visualization.plot_parallel_coordinate(study).show()"
   ]
  },
  {
   "cell_type": "markdown",
   "id": "76fd6a7e-d3d4-4159-b5b9-033f4ce9056b",
   "metadata": {},
   "source": [
    "## 9. Обучение финальной модели"
   ]
  },
  {
   "cell_type": "code",
   "execution_count": 10,
   "id": "56005468-3198-4b37-8f14-4e099279f856",
   "metadata": {},
   "outputs": [],
   "source": [
    "def train_with_plot_and_scheduler(model, train_loader, val_loader, optimizer, criterion, epochs):\n",
    "\n",
    "    scheduler = torch.optim.lr_scheduler.CosineAnnealingWarmRestarts(optimizer, T_0=10, T_mult=1)\n",
    "\n",
    "    train_losses = []\n",
    "    val_losses = []\n",
    "    pr_aucs = []\n",
    "    roc_aucs = []\n",
    "    lrs = []\n",
    "\n",
    "    for epoch in range(epochs):\n",
    "        model.train()  # настраиваем на обучение\n",
    "        total_loss, n = 0., 0  # задаём стартовые значения\n",
    "        for X, y in train_loader:\n",
    "            X, y = X.to(device), y.float().to(device)\n",
    "            optimizer.zero_grad()    # обнуляем градиенты\n",
    "            preds = model(X)  # prediction\n",
    "            loss = criterion(preds, y)\n",
    "            loss.backward()\n",
    "            optimizer.step()\n",
    "            # собираем результат в кучку\n",
    "            total_loss += loss.item() * len(X)\n",
    "            n += len(X)\n",
    "        # среднее за эпоху\n",
    "        train_loss = total_loss / n\n",
    "\n",
    "        # \n",
    "        model.eval()  # режим оценки\n",
    "        # стартовая инициализация\n",
    "        total_loss, n = 0., 0\n",
    "        all_preds, all_labels = [], []\n",
    "        \n",
    "        for X, y in val_loader:\n",
    "            X, y = X.to(device), y.float().to(device)\n",
    "            with torch.no_grad():\n",
    "                preds = torch.sigmoid(model(X))\n",
    "            total_loss += criterion(preds, y).item() * len(X)\n",
    "            n += len(X)\n",
    "            all_preds.append(preds.cpu())\n",
    "            all_labels.append(y.cpu())\n",
    "    \n",
    "        preds = torch.cat(all_preds).numpy()\n",
    "        labels = torch.cat(all_labels).numpy()\n",
    "        pr_auc = auc(*precision_recall_curve(labels, preds)[1::-1])\n",
    "        roc_auc = roc_auc_score(labels, preds)\n",
    "        val_loss = total_loss / n\n",
    "            \n",
    "\n",
    "        train_losses.append(train_loss)\n",
    "        val_losses.append(val_loss)\n",
    "        pr_aucs.append(pr_auc)\n",
    "        roc_aucs.append(roc_auc)\n",
    "        lrs.append(optimizer.param_groups[0]['lr'])\n",
    "\n",
    "        scheduler.step()  # обновляем learning rate\n",
    "\n",
    "        # Обновление графика\n",
    "        clear_output(wait=True)\n",
    "        plt.figure(figsize=(15, 5))\n",
    "\n",
    "        # Потери\n",
    "        plt.subplot(1, 3, 1)\n",
    "        plt.plot(train_losses, label='Train Loss')\n",
    "        plt.plot(val_losses, label='Val Loss')\n",
    "        plt.xlabel('Epoch')\n",
    "        plt.ylabel('Loss')\n",
    "        plt.title('Loss по эпохам')\n",
    "        plt.legend()\n",
    "        plt.xlim(0, epochs)\n",
    "\n",
    "        # Метрики\n",
    "        plt.subplot(1, 3, 2)\n",
    "        plt.plot(pr_aucs, label='PR AUC')\n",
    "        plt.plot(roc_aucs, label='ROC AUC')\n",
    "        plt.xlabel('Epoch')\n",
    "        plt.ylabel('Score')\n",
    "        plt.title('Тест Metrics')\n",
    "        plt.legend()\n",
    "        plt.xlim(0, epochs)\n",
    "\n",
    "        # Learning Rate\n",
    "        plt.subplot(1, 3, 3)\n",
    "        plt.plot(lrs, label='Learning Rate')\n",
    "        plt.xlabel('Epoch')\n",
    "        plt.ylabel('LR')\n",
    "        plt.title('Learning Rate Decay')\n",
    "        plt.legend()\n",
    "        plt.xlim(0, epochs)\n",
    "\n",
    "        plt.tight_layout()\n",
    "        plt.show()\n",
    "\n",
    "        print(f\"Эпоха {epoch+1}/{epochs} — Train Loss: {train_loss:.4f}, Val Loss: {val_loss:.4f}, PR AUC: {pr_auc:.4f}, ROC AUC: {roc_auc:.4f}, LR: {lrs[-1]:.6f}\")\n"
   ]
  },
  {
   "cell_type": "code",
   "execution_count": 11,
   "id": "b36ca123-6b34-4d4d-a087-9380d6771e5e",
   "metadata": {},
   "outputs": [
    {
     "data": {
      "image/png": "[encoded data removed]",
      "text/plain": [
       "<Figure size 1500x500 with 3 Axes>"
      ]
     },
     "metadata": {},
     "output_type": "display_data"
    },
    {
     "name": "stdout",
     "output_type": "stream",
     "text": [
      "Эпоха 50/50 — Train Loss: 0.1401, Val Loss: 0.9190, PR AUC: 0.8138, ROC AUC: 0.9908, LR: 0.000000\n"
     ]
    }
   ],
   "source": [
    "set_seed()\n",
    "\n",
    "best = study.best_params\n",
    "model =  TabMixer(n_features, dim=best[\"dim\"], depth=best[\"depth\"], dropout=best[\"dropout\"]).to(device)\n",
    "optimizer = torch.optim.AdamW(model.parameters(), lr=best[\"lr\"])\n",
    "\n",
    "batch_size = best[\"batch_size\"]\n",
    "\n",
    "train_with_plot_and_scheduler(model, build_loaders(X_train, y_train, batch_size),\n",
    "                              build_loaders(X_test, y_test, batch_size, shuffle=False),\n",
    "                              optimizer, loss_fn, 50)"
   ]
  },
  {
   "cell_type": "markdown",
   "id": "6b99a30f-a2ea-4f70-9dd0-f7884a52f955",
   "metadata": {},
   "source": [
    "## 10. Оценка на тесте"
   ]
  },
  {
   "cell_type": "code",
   "execution_count": 12,
   "id": "4278ce4a-1bcd-4178-9526-fed79478f96e",
   "metadata": {
    "scrolled": true
   },
   "outputs": [
    {
     "name": "stdout",
     "output_type": "stream",
     "text": [
      "PR-AUC=0.8141 ROC-AUC=0.9908 Precision=0.074 Recall=0.883 F1=0.137\n"
     ]
    }
   ],
   "source": [
    "model.eval()\n",
    "with torch.no_grad():\n",
    "    y_score = torch.sigmoid(model(torch.tensor(X_test, device=device))).cpu().numpy()\n",
    "\n",
    "y_pred = (y_score >= 0.5).astype(int)\n",
    "\n",
    "pr_auc = average_precision_score(y_test, y_score)\n",
    "roc_auc = roc_auc_score(y_test, y_score)\n",
    "precision = precision_score(y_test, y_pred)\n",
    "recall = recall_score(y_test, y_pred)\n",
    "f1 = f1_score(y_test, y_pred)\n",
    "\n",
    "print(f\"PR-AUC={pr_auc:.4f} ROC-AUC={roc_auc:.4f} Precision={precision:.3f} Recall={recall:.3f} F1={f1:.3f}\")"
   ]
  },
  {
   "cell_type": "markdown",
   "id": "74e0126c-9bc3-4ba2-9c07-5ab25b3704df",
   "metadata": {},
   "source": [
    "## 11. Подбор порога по валидации"
   ]
  },
  {
   "cell_type": "code",
   "execution_count": 15,
   "id": "ecad4821-dab6-4972-ad73-15f22e928fef",
   "metadata": {},
   "outputs": [
    {
     "name": "stdout",
     "output_type": "stream",
     "text": [
      "Оптимальный порог по val: 0.9999499\n"
     ]
    }
   ],
   "source": [
    "with torch.no_grad():\n",
    "    val_score = torch.sigmoid(model(torch.tensor(X_val, device=device))).cpu().numpy()\n",
    "\n",
    "prec, rec, thr = precision_recall_curve(y_val, val_score)\n",
    "f1_scores = 2 * prec * rec / (prec + rec + 1e-12)\n",
    "best_thr = thr[np.nanargmax(f1_scores)]\n",
    "print(f\"Оптимальный порог по val: {best_thr:.7f}\")"
   ]
  },
  {
   "cell_type": "markdown",
   "id": "e523f351-1cdd-4f0d-a708-56f604c675aa",
   "metadata": {},
   "source": [
    "## 12. Финальные метрики и визуализация"
   ]
  },
  {
   "cell_type": "code",
   "execution_count": 14,
   "id": "8a2abb04-7a39-4eda-8ae6-b70a53c05f49",
   "metadata": {},
   "outputs": [
    {
     "name": "stdout",
     "output_type": "stream",
     "text": [
      "Test (порог подобран по валидации) PR-AUC=0.8138 Precision=0.963 Recall=0.675 F1=0.794\n"
     ]
    },
    {
     "data": {
      "image/png": "[encoded data removed]",
      "text/plain": [
       "<Figure size 800x300 with 3 Axes>"
      ]
     },
     "metadata": {},
     "output_type": "display_data"
    }
   ],
   "source": [
    "y_pred_test = (y_score >= best_thr).astype(int)\n",
    "precision = precision_score(y_test, y_pred_test)\n",
    "recall    = recall_score(y_test, y_pred_test)\n",
    "f1        = f1_score(y_test, y_pred_test)\n",
    "prec, rec, _ = precision_recall_curve(y_test, y_score)\n",
    "pr_auc = auc(rec, prec)\n",
    "\n",
    "print(\"Test (порог подобран по валидации) \"\n",
    "      f\"PR-AUC={pr_auc:0.4f} Precision={precision:0.3f} Recall={recall:0.3f} F1={f1:.3f}\")\n",
    "\n",
    "# визуализация\n",
    "labels = ['Норм (0)', 'Аномалии (1)']\n",
    "fig, axs = plt.subplots(1, 2, figsize=(8, 3))\n",
    "axs[0].plot(rec, prec, marker='.', color='teal')\n",
    "axs[0].set_xlabel(\"Recall\"); axs[0].set_ylabel(\"Precision\")\n",
    "axs[0].set_title(f\"PR Curve (AUC={pr_auc:.2f})\")\n",
    "\n",
    "cm = confusion_matrix(y_test, y_pred_test)\n",
    "sns.heatmap(cm, annot=True, fmt='d', cmap='Blues', xticklabels=labels, yticklabels=labels, ax=axs[1])\n",
    "axs[1].set_xlabel(\"Предсказаные метки\"); axs[1].set_ylabel(\"Истинные метки\")\n",
    "axs[1].set_title(\"Confusion Matrix\")\n",
    "plt.tight_layout(); plt.show()"
   ]
  },
  {
   "cell_type": "markdown",
   "id": "70ac2950-ea9f-4768-9a19-0571331f2aab",
   "metadata": {},
   "source": [
    "## 13. Сохранение"
   ]
  },
  {
   "cell_type": "code",
   "execution_count": null,
   "id": "6f226102-3f2c-4099-a912-4ee91778beef",
   "metadata": {},
   "outputs": [],
   "source": [
    "# torch.save(model.state_dict(), \"tabmixer_creditcard.pt\")"
   ]
  },
  {
   "cell_type": "markdown",
   "id": "b4c87076-c42f-4db6-a454-f4536a23b47b",
   "metadata": {},
   "source": [
    "## 14. Выводы\n",
    "**Датасет**\n",
    "- **Объём**: 284 807 транзакций, 35 признаков.\n",
    "- **Ну очень сильный дисбаланс**: 0,17% транзакций — мошеннические (Class == 1).\n",
    "\n",
    "**Временное разбиение**: данные разделены по `Time_abs_hour`:\n",
    "  - **Train**: 0–39 часов (224 865 строк).  \n",
    "  - **Test**: 40–47 часов (59 942 строк).\n",
    "  \n",
    "**Модель**  \n",
    "- **типа TabMixer**\n",
    "  \n",
    "**Подбор гиперпараметров**\n",
    "- **Optuna**\n",
    "  \n",
    "**Метрики**  | F1   | PR AUC |\n",
    "- **Test**     | 0.79 | 0.81   |\n",
    "\n",
    "**Вывод**\n",
    "- Модель справилась с задачей детекции аномалий.\n",
    "упрощённый TabMixer(таже полносвязная сеть) показал устойчивую и высокую производительность на тестовой выборке:\n",
    "- - PR-AUC: 0.81 — хороший результат для несбалансированных данных (аномалий всего 0.17%).\n",
    "- -  Precision: 0.96, Recall: 0.68, F1: 0.79 — при пороге 0.9999499, подобранном на валидации\n",
    "- Подбор гиперпараметров через Optuna был эффективен.\n",
    "- - Оптимизация позволила улучшить PR-AUC с ~0.7 до 0.76 на валидации и добиться устойчивой работы на тесте.\n",
    "- Модель справилась с дисбалансом классов (0.17% аномалий)\n",
    "- Подбор порога классификации - важен: Исходно модель с порогом 0.5 давала высокий Recall (0.88) но низкий Precision (0.07). Это типично для несбалансированных данных. Последующий подбор оптимального порога  на валидационной выборке позволил найти баланс и значительно улучшить F1-меру"
   ]
  },
  {
   "cell_type": "code",
   "execution_count": null,
   "id": "bf2cff92-ddb8-49db-b6b3-4fd29c95a3c8",
   "metadata": {},
   "outputs": [],
   "source": []
  }
 ],
 "metadata": {
  "kernelspec": {
   "display_name": "anomaly-detection",
   "language": "python",
   "name": "anomaly-detection"
  },
  "language_info": {
   "codemirror_mode": {
    "name": "ipython",
    "version": 3
   },
   "file_extension": ".py",
   "mimetype": "text/x-python",
   "name": "python",
   "nbconvert_exporter": "python",
   "pygments_lexer": "ipython3",
   "version": "3.10.11"
  }
 },
 "nbformat": 4,
 "nbformat_minor": 5
}
