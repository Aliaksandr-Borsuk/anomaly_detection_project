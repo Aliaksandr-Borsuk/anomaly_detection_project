{
 "cells": [
  {
   "cell_type": "markdown",
   "id": "a729cfed-58ab-4b11-88f0-6221485d593e",
   "metadata": {
    "jp-MarkdownHeadingCollapsed": true
   },
   "source": [
    "## Попробуем TabNET, подбор гиперпараметров Optuna\n",
    "- **помним про временные split, признаки и метрики те же**"
   ]
  },
  {
   "cell_type": "markdown",
   "id": "68252dfc-d9f3-415b-b471-468ce681950a",
   "metadata": {
    "jp-MarkdownHeadingCollapsed": true
   },
   "source": [
    "## 1. Импорты"
   ]
  },
  {
   "cell_type": "code",
   "execution_count": 1,
   "id": "438214f9-85fd-4c1b-a784-a28939e2febd",
   "metadata": {},
   "outputs": [
    {
     "name": "stdout",
     "output_type": "stream",
     "text": [
      "device: cuda\n"
     ]
    }
   ],
   "source": [
    "import os\n",
    "import warnings\n",
    "import random\n",
    "import numpy as np\n",
    "import pandas as pd\n",
    "import matplotlib.pyplot as plt\n",
    "import seaborn as sns\n",
    "import torch\n",
    "\n",
    "from pytorch_tabnet.tab_model import TabNetClassifier\n",
    "from pytorch_tabnet.metrics import Metric\n",
    "from sklearn.metrics import (\n",
    "    precision_score, recall_score, f1_score, roc_auc_score,\n",
    "    precision_recall_curve, auc, average_precision_score, confusion_matrix\n",
    ")\n",
    "from sklearn.preprocessing import RobustScaler\n",
    "import optuna\n",
    "from optuna.samplers import TPESampler\n",
    "\n",
    "warnings.filterwarnings('ignore')\n",
    "plt.style.use('seaborn-v0_8-whitegrid')\n",
    "plt.rcParams['figure.figsize'] = (8, 4)\n",
    "\n",
    "RANDOM_STATE = 42\n",
    "def set_seed(seed=RANDOM_STATE):\n",
    "    torch.manual_seed(seed)\n",
    "    torch.cuda.manual_seed_all(seed)\n",
    "    np.random.seed(seed)\n",
    "    random.seed(seed)\n",
    "    torch.backends.cudnn.deterministic = True\n",
    "    torch.backends.cudnn.benchmark = False\n",
    "\n",
    "set_seed()\n",
    "device = torch.device(\"cuda\" if torch.cuda.is_available() else \"cpu\")\n",
    "print(\"device:\", device)"
   ]
  },
  {
   "cell_type": "markdown",
   "id": "4ebc6097-dcb6-4a49-80cf-6c398964d933",
   "metadata": {
    "jp-MarkdownHeadingCollapsed": true
   },
   "source": [
    "## 2. Загрузка данных"
   ]
  },
  {
   "cell_type": "code",
   "execution_count": 2,
   "id": "340551b0-165a-4949-be41-abb47dc5e503",
   "metadata": {},
   "outputs": [
    {
     "name": "stdout",
     "output_type": "stream",
     "text": [
      "\n",
      "Размер данных: 284807 строк, 35 столбцов\n",
      "Распределение классов:\n",
      "Class\n",
      "0    0.998273\n",
      "1    0.001727\n",
      "Name: proportion, dtype: float64\n"
     ]
    }
   ],
   "source": [
    "def find_path_within_project(project_name, path_to_data):\n",
    "    current_path = os.getcwd()\n",
    "    while True:\n",
    "        if project_name in os.listdir(current_path):\n",
    "            return os.path.join(current_path, project_name, path_to_data)\n",
    "        parent_path = os.path.dirname(current_path)\n",
    "        if parent_path == current_path:\n",
    "            raise FileNotFoundError(f\"Проект '{project_name}' не найден\")\n",
    "        current_path = parent_path\n",
    "\n",
    "full_path = find_path_within_project(\n",
    "    \"anomaly_detection_project\",\n",
    "    os.path.join(\"data\", \"raw\", \"creditcard_1_02_00.csv\")\n",
    ")\n",
    "\n",
    "df = pd.read_csv(full_path)\n",
    "\n",
    "print(f\"\\nРазмер данных: {df.shape[0]} строк, {df.shape[1]} столбцов\")\n",
    "print(f\"Распределение классов:\\n{df['Class'].value_counts(normalize=True)}\")"
   ]
  },
  {
   "cell_type": "markdown",
   "id": "6f83397e-3118-437d-9e46-93a13d6968f5",
   "metadata": {
    "jp-MarkdownHeadingCollapsed": true
   },
   "source": [
    "## 3. Временные сплиты"
   ]
  },
  {
   "cell_type": "code",
   "execution_count": 3,
   "id": "228b8093-5c7d-48aa-b776-d3f2ab26b7e2",
   "metadata": {},
   "outputs": [
    {
     "name": "stdout",
     "output_type": "stream",
     "text": [
      "train: 0.0–39.0 | test: 40.0–47.0\n",
      "train: 0.0–31.0 | test: 32.0–39.0\n"
     ]
    }
   ],
   "source": [
    "time_col = 'Time_abs_hour'\n",
    "\n",
    "def get_train_test(df, col, train_finish, train_start=0, test_finish=0, gap=0):\n",
    "    if test_finish == 0:\n",
    "        test_finish = df[col].max()\n",
    "    test_start = train_finish + gap + 1\n",
    "    df_train = df[(df[col] >= train_start) & (df[col] <= train_finish)]\n",
    "    df_test = df[(df[col] >= test_start) & (df[col] <= test_finish)]\n",
    "    print(f\"train: {df_train[col].min()}–{df_train[col].max()} | test: {df_test[col].min()}–{df_test[col].max()}\")\n",
    "    return df_train, df_test\n",
    "\n",
    "train_finish = df[time_col].max() - 8\n",
    "df_train, df_test = get_train_test(df, time_col, train_finish)\n",
    "\n",
    "train_finish_2 = df_train[time_col].max() - 8\n",
    "df_train_2, df_val = get_train_test(df_train, time_col, train_finish_2)"
   ]
  },
  {
   "cell_type": "markdown",
   "id": "ffd9bad1-1de1-4e37-b841-77411fc929f6",
   "metadata": {
    "jp-MarkdownHeadingCollapsed": true
   },
   "source": [
    "## 4. Признаки , X, y ..."
   ]
  },
  {
   "cell_type": "code",
   "execution_count": 4,
   "id": "fa34fa0c-6011-46ed-980a-88e289ed53ee",
   "metadata": {},
   "outputs": [],
   "source": [
    "# признаки\n",
    "unnecessary_cols = ['Time','Amount','Time_hour','Time_day','Amount_log', time_col]\n",
    "target_col = 'Class'\n",
    "drop_cols = [target_col] + unnecessary_cols\n",
    "\n",
    "def xy(df):\n",
    "    return df.drop(drop_cols, axis=1).values.astype('float32'), df[target_col].values\n",
    "\n",
    "X_tr, y_tr = xy(df_train_2)\n",
    "X_val, y_val = xy(df_val)\n",
    "X_test, y_test = xy(df_test)\n",
    "# полный трейн\n",
    "X_train, y_train  = xy(df_train)\n",
    "\n",
    "# # размерности\n",
    "# n_features = X_tr.shape[1]\n",
    "# print(\"n_features:\", n_features)"
   ]
  },
  {
   "cell_type": "markdown",
   "id": "e2abd4be-9503-45be-a6f2-30c4f8095ef1",
   "metadata": {},
   "source": [
    "# 5. Optuna — подбор гиперпараметров"
   ]
  },
  {
   "cell_type": "code",
   "execution_count": 5,
   "id": "b02f353a-5bc8-4ee9-819c-66694c54fda7",
   "metadata": {
    "jupyter": {
     "source_hidden": true
    }
   },
   "outputs": [],
   "source": [
    "# У TabNet отсутствует prauc , let's do it...\n",
    "class PR_AUC_Metric(Metric):\n",
    "    def __init__(self):\n",
    "        self._name = \"pr_auc\"\n",
    "        self._maximize = True  # Optuna будет максимизировать метрику\n",
    "\n",
    "    def __call__(self, y_true, y_score):\\\n",
    "        # Если one-hot — берём индекс положительного класса\n",
    "        if y_true.ndim > 1 and y_true.shape[1] == 2:\n",
    "            y_true = np.argmax(y_true, axis=1)\n",
    "        # Если y_score двумерный — берём вероятности положительного класса\n",
    "        if y_score.ndim > 1 and y_score.shape[1] == 2:\n",
    "            y_score = y_score[:, 1]\n",
    "        return average_precision_score(y_true, y_score)"
   ]
  },
  {
   "cell_type": "code",
   "execution_count": 7,
   "id": "278f8ff2-21e8-4866-8440-539a0c813eae",
   "metadata": {
    "scrolled": true
   },
   "outputs": [
    {
     "name": "stderr",
     "output_type": "stream",
     "text": [
      "[I 2025-08-30 23:14:53,739] A new study created in memory with name: no-name-3425475e-c916-408f-bfd9-d07c8c70101b\n"
     ]
    },
    {
     "data": {
      "application/vnd.jupyter.widget-view+json": {
       "model_id": "f0c675fa998c409ba79f8b103fab76df",
       "version_major": 2,
       "version_minor": 0
      },
      "text/plain": [
       "  0%|          | 0/15 [00:00<?, ?it/s]"
      ]
     },
     "metadata": {},
     "output_type": "display_data"
    },
    {
     "name": "stdout",
     "output_type": "stream",
     "text": [
      "\n",
      "Early stopping occurred at epoch 9 with best_epoch = 4 and best_val_0_pr_auc = 0.24984\n",
      "[I 2025-08-30 23:16:04,045] Trial 0 finished with value: 0.2498373475099866 and parameters: {'n_d': 29, 'n_a': 62, 'n_steps': 5, 'gamma': 1.5986584841970366, 'lambda_sparse': 4.2079886696066345e-06, 'batch_size': 2048, 'virtual_batch_size': 256, 'lr': 0.0010994335574766201}. Best is trial 0 with value: 0.2498373475099866.\n",
      "\n",
      "Early stopping occurred at epoch 12 with best_epoch = 7 and best_val_0_pr_auc = 0.61776\n",
      "[I 2025-08-30 23:17:24,994] Trial 1 finished with value: 0.6177586315353514 and parameters: {'n_d': 63, 'n_a': 55, 'n_steps': 3, 'gamma': 1.1818249672071006, 'lambda_sparse': 5.415244119402541e-06, 'batch_size': 1024, 'virtual_batch_size': 256, 'lr': 0.0019010245319870357}. Best is trial 1 with value: 0.6177586315353514.\n",
      "\n",
      "Early stopping occurred at epoch 16 with best_epoch = 11 and best_val_0_pr_auc = 0.43113\n",
      "[I 2025-08-30 23:20:09,216] Trial 2 finished with value: 0.4311325201876924 and parameters: {'n_d': 24, 'n_a': 28, 'n_steps': 4, 'gamma': 1.7851759613930136, 'lambda_sparse': 6.290644294586145e-06, 'batch_size': 1024, 'virtual_batch_size': 128, 'lr': 0.0013492834268013251}. Best is trial 1 with value: 0.6177586315353514.\n",
      "\n",
      "Early stopping occurred at epoch 21 with best_epoch = 16 and best_val_0_pr_auc = 0.69227\n",
      "[I 2025-08-30 23:27:01,785] Trial 3 finished with value: 0.6922651883852756 and parameters: {'n_d': 62, 'n_a': 63, 'n_steps': 6, 'gamma': 1.3046137691733706, 'lambda_sparse': 2.4586032763280077e-06, 'batch_size': 512, 'virtual_batch_size': 128, 'lr': 0.06586289317583113}. Best is trial 3 with value: 0.6922651883852756.\n",
      "\n",
      "Early stopping occurred at epoch 23 with best_epoch = 18 and best_val_0_pr_auc = 0.69957\n",
      "[I 2025-08-30 23:30:45,953] Trial 4 finished with value: 0.6995713551396893 and parameters: {'n_d': 22, 'n_a': 45, 'n_steps': 4, 'gamma': 1.5200680211778108, 'lambda_sparse': 0.00015375920235481777, 'batch_size': 1024, 'virtual_batch_size': 128, 'lr': 0.015696396388661146}. Best is trial 4 with value: 0.6995713551396893.\n",
      "\n",
      "Early stopping occurred at epoch 11 with best_epoch = 6 and best_val_0_pr_auc = 0.65183\n",
      "[I 2025-08-30 23:32:09,917] Trial 5 finished with value: 0.6518284093828215 and parameters: {'n_d': 60, 'n_a': 13, 'n_steps': 3, 'gamma': 1.045227288910538, 'lambda_sparse': 2.0013420622879995e-05, 'batch_size': 2048, 'virtual_batch_size': 128, 'lr': 0.012172847081122434}. Best is trial 4 with value: 0.6995713551396893.\n",
      "\n",
      "Early stopping occurred at epoch 16 with best_epoch = 11 and best_val_0_pr_auc = 0.74797\n",
      "[I 2025-08-30 23:33:33,294] Trial 6 finished with value: 0.7479710837960027 and parameters: {'n_d': 16, 'n_a': 53, 'n_steps': 3, 'gamma': 1.9868869366005173, 'lambda_sparse': 0.001227380098785297, 'batch_size': 2048, 'virtual_batch_size': 256, 'lr': 0.034877126245459314}. Best is trial 6 with value: 0.7479710837960027.\n",
      "\n",
      "Early stopping occurred at epoch 18 with best_epoch = 13 and best_val_0_pr_auc = 0.75881\n",
      "[I 2025-08-30 23:36:32,135] Trial 7 finished with value: 0.7588067979099132 and parameters: {'n_d': 12, 'n_a': 28, 'n_steps': 3, 'gamma': 1.8631034258755936, 'lambda_sparse': 0.0003113095956122125, 'batch_size': 512, 'virtual_batch_size': 256, 'lr': 0.018841476921545086}. Best is trial 7 with value: 0.7588067979099132.\n",
      "\n",
      "Early stopping occurred at epoch 9 with best_epoch = 4 and best_val_0_pr_auc = 0.41916\n",
      "[I 2025-08-30 23:37:54,281] Trial 8 finished with value: 0.41915836624115715 and parameters: {'n_d': 58, 'n_a': 34, 'n_steps': 3, 'gamma': 1.713244787222995, 'lambda_sparse': 0.0011044350847124699, 'batch_size': 1024, 'virtual_batch_size': 128, 'lr': 0.0011241862095793063}. Best is trial 7 with value: 0.7588067979099132.\n",
      "\n",
      "Early stopping occurred at epoch 10 with best_epoch = 5 and best_val_0_pr_auc = 0.24003\n",
      "[I 2025-08-30 23:40:59,437] Trial 9 finished with value: 0.24003109185589935 and parameters: {'n_d': 14, 'n_a': 9, 'n_steps': 5, 'gamma': 1.3143559810763268, 'lambda_sparse': 0.00010821382910613992, 'batch_size': 512, 'virtual_batch_size': 128, 'lr': 0.0014254757044027432}. Best is trial 7 with value: 0.7588067979099132.\n",
      "\n",
      "Early stopping occurred at epoch 23 with best_epoch = 18 and best_val_0_pr_auc = 0.73676\n",
      "[I 2025-08-30 23:45:31,279] Trial 10 finished with value: 0.7367578390603436 and parameters: {'n_d': 37, 'n_a': 23, 'n_steps': 4, 'gamma': 1.9540235083326924, 'lambda_sparse': 0.00731732492140584, 'batch_size': 512, 'virtual_batch_size': 256, 'lr': 0.0044742474159205955}. Best is trial 7 with value: 0.7588067979099132.\n",
      "\n",
      "Early stopping occurred at epoch 11 with best_epoch = 6 and best_val_0_pr_auc = 0.57003\n",
      "[I 2025-08-30 23:46:30,653] Trial 11 finished with value: 0.5700302314790796 and parameters: {'n_d': 10, 'n_a': 44, 'n_steps': 3, 'gamma': 1.9458097199737128, 'lambda_sparse': 0.001044937849131374, 'batch_size': 2048, 'virtual_batch_size': 256, 'lr': 0.03733787021035911}. Best is trial 7 with value: 0.7588067979099132.\n",
      "\n",
      "Early stopping occurred at epoch 11 with best_epoch = 6 and best_val_0_pr_auc = 0.71141\n",
      "[I 2025-08-30 23:47:31,353] Trial 12 finished with value: 0.7114135447663503 and parameters: {'n_d': 42, 'n_a': 45, 'n_steps': 3, 'gamma': 1.8019699855647866, 'lambda_sparse': 0.0008884841292027758, 'batch_size': 2048, 'virtual_batch_size': 256, 'lr': 0.03143485843466725}. Best is trial 7 with value: 0.7588067979099132.\n",
      "\n",
      "Early stopping occurred at epoch 14 with best_epoch = 9 and best_val_0_pr_auc = 0.65785\n",
      "[I 2025-08-30 23:50:25,536] Trial 13 finished with value: 0.6578460631853029 and parameters: {'n_d': 18, 'n_a': 20, 'n_steps': 4, 'gamma': 1.9960165317474352, 'lambda_sparse': 0.007408766950364625, 'batch_size': 512, 'virtual_batch_size': 256, 'lr': 0.02291737797625748}. Best is trial 7 with value: 0.7588067979099132.\n",
      "\n",
      "Early stopping occurred at epoch 7 with best_epoch = 2 and best_val_0_pr_auc = 0.54407\n",
      "[I 2025-08-30 23:51:30,989] Trial 14 finished with value: 0.5440658758015816 and parameters: {'n_d': 9, 'n_a': 36, 'n_steps': 6, 'gamma': 1.8301794974773589, 'lambda_sparse': 0.0002769662486618456, 'batch_size': 2048, 'virtual_batch_size': 256, 'lr': 0.0981824756903743}. Best is trial 7 with value: 0.7588067979099132.\n",
      "Best trial: {'n_d': 12, 'n_a': 28, 'n_steps': 3, 'gamma': 1.8631034258755936, 'lambda_sparse': 0.0003113095956122125, 'batch_size': 512, 'virtual_batch_size': 256, 'lr': 0.018841476921545086}\n",
      "Best PR-AUC: 0.7588067979099132\n"
     ]
    }
   ],
   "source": [
    "def objective(trial):\n",
    "    params = dict(\n",
    "        n_d=trial.suggest_int(\"n_d\", 8, 64),\n",
    "        n_a=trial.suggest_int(\"n_a\", 8, 64),\n",
    "        n_steps=trial.suggest_int(\"n_steps\", 3, 6),\n",
    "        gamma=trial.suggest_float(\"gamma\", 1.0, 2.0),\n",
    "        lambda_sparse=trial.suggest_float(\"lambda_sparse\", 1e-6, 1e-2, log=True),\n",
    "        seed=RANDOM_STATE,\n",
    "        verbose=0\n",
    "    )\n",
    "    fit_params = dict(\n",
    "        batch_size=trial.suggest_categorical(\"batch_size\", [512, 1024, 2048]),\n",
    "        virtual_batch_size=trial.suggest_categorical(\"virtual_batch_size\", [128, 256])\n",
    "    )\n",
    "    lr = trial.suggest_float(\"lr\", 1e-3, 1e-1, log=True)\n",
    "\n",
    "    model = TabNetClassifier(\n",
    "        **params,\n",
    "        optimizer_fn=torch.optim.Adam,\n",
    "        optimizer_params=dict(lr=lr),\n",
    "        scheduler_fn=torch.optim.lr_scheduler.CosineAnnealingWarmRestarts,\n",
    "        scheduler_params=dict(T_0=10, T_mult=1),\n",
    "        device_name=device\n",
    "    )\n",
    "    model.fit(\n",
    "        X_tr, y_tr,\n",
    "        eval_set=[(X_val, y_val)],\n",
    "        eval_metric=[PR_AUC_Metric],\n",
    "        max_epochs=50,\n",
    "        patience=5,\n",
    "        **fit_params\n",
    "    )\n",
    "    preds = model.predict_proba(X_val)[:, 1]\n",
    "    # pr_auc = auc(*precision_recall_curve(y_val, preds)[1::-1])\n",
    "    pr_auc = average_precision_score(y_val, preds)\n",
    "    return pr_auc\n",
    "\n",
    "\n",
    "set_seed()\n",
    "study = optuna.create_study(direction=\"maximize\", sampler=TPESampler(seed=RANDOM_STATE))\n",
    "\n",
    "\n",
    "study.optimize(objective, n_trials=15, show_progress_bar=True)\n",
    "\n",
    "print(\"Best trial:\", study.best_trial.params)\n",
    "print(\"Best PR-AUC:\", study.best_value)"
   ]
  },
  {
   "cell_type": "code",
   "execution_count": 8,
   "id": "275fcb25-fb36-45ed-9c65-351d5a53befe",
   "metadata": {},
   "outputs": [
    {
     "data": {
      "application/vnd.plotly.v1+json": {
       "config": {
        "plotlyServerURL": "https://plot.ly"
       },
       "data": [
        {
         "mode": "markers",
         "name": "Objective Value",
         "type": "scatter",
         "x": [
          0,
          1,
          2,
          3,
          4,
          5,
          6,
          7,
          8,
          9,
          10,
          11,
          12,
          13,
          14
         ],
         "y": [
          0.2498373475099866,
          0.6177586315353514,
          0.4311325201876924,
          0.6922651883852756,
          0.6995713551396893,
          0.6518284093828215,
          0.7479710837960027,
          0.7588067979099132,
          0.41915836624115715,
          0.24003109185589935,
          0.7367578390603436,
          0.5700302314790796,
          0.7114135447663503,
          0.6578460631853029,
          0.5440658758015816
         ]
        },
        {
         "mode": "lines",
         "name": "Best Value",
         "type": "scatter",
         "x": [
          0,
          1,
          2,
          3,
          4,
          5,
          6,
          7,
          8,
          9,
          10,
          11,
          12,
          13,
          14
         ],
         "y": [
          0.2498373475099866,
          0.6177586315353514,
          0.6177586315353514,
          0.6922651883852756,
          0.6995713551396893,
          0.6995713551396893,
          0.7479710837960027,
          0.7588067979099132,
          0.7588067979099132,
          0.7588067979099132,
          0.7588067979099132,
          0.7588067979099132,
          0.7588067979099132,
          0.7588067979099132,
          0.7588067979099132
         ]
        },
        {
         "marker": {
          "color": "#cccccc"
         },
         "mode": "markers",
         "name": "Infeasible Trial",
         "showlegend": false,
         "type": "scatter",
         "x": [],
         "y": []
        }
       ],
       "layout": {
        "template": {
         "data": {
          "bar": [
           {
            "error_x": {
             "color": "#2a3f5f"
            },
            "error_y": {
             "color": "#2a3f5f"
            },
            "marker": {
             "line": {
              "color": "#E5ECF6",
              "width": 0.5
             },
             "pattern": {
              "fillmode": "overlay",
              "size": 10,
              "solidity": 0.2
             }
            },
            "type": "bar"
           }
          ],
          "barpolar": [
           {
            "marker": {
             "line": {
              "color": "#E5ECF6",
              "width": 0.5
             },
             "pattern": {
              "fillmode": "overlay",
              "size": 10,
              "solidity": 0.2
             }
            },
            "type": "barpolar"
           }
          ],
          "carpet": [
           {
            "aaxis": {
             "endlinecolor": "#2a3f5f",
             "gridcolor": "white",
             "linecolor": "white",
             "minorgridcolor": "white",
             "startlinecolor": "#2a3f5f"
            },
            "baxis": {
             "endlinecolor": "#2a3f5f",
             "gridcolor": "white",
             "linecolor": "white",
             "minorgridcolor": "white",
             "startlinecolor": "#2a3f5f"
            },
            "type": "carpet"
           }
          ],
          "choropleth": [
           {
            "colorbar": {
             "outlinewidth": 0,
             "ticks": ""
            },
            "type": "choropleth"
           }
          ],
          "contour": [
           {
            "colorbar": {
             "outlinewidth": 0,
             "ticks": ""
            },
            "colorscale": [
             [
              0,
              "#0d0887"
             ],
             [
              0.1111111111111111,
              "#46039f"
             ],
             [
              0.2222222222222222,
              "#7201a8"
             ],
             [
              0.3333333333333333,
              "#9c179e"
             ],
             [
              0.4444444444444444,
              "#bd3786"
             ],
             [
              0.5555555555555556,
              "#d8576b"
             ],
             [
              0.6666666666666666,
              "#ed7953"
             ],
             [
              0.7777777777777778,
              "#fb9f3a"
             ],
             [
              0.8888888888888888,
              "#fdca26"
             ],
             [
              1,
              "#f0f921"
             ]
            ],
            "type": "contour"
           }
          ],
          "contourcarpet": [
           {
            "colorbar": {
             "outlinewidth": 0,
             "ticks": ""
            },
            "type": "contourcarpet"
           }
          ],
          "heatmap": [
           {
            "colorbar": {
             "outlinewidth": 0,
             "ticks": ""
            },
            "colorscale": [
             [
              0,
              "#0d0887"
             ],
             [
              0.1111111111111111,
              "#46039f"
             ],
             [
              0.2222222222222222,
              "#7201a8"
             ],
             [
              0.3333333333333333,
              "#9c179e"
             ],
             [
              0.4444444444444444,
              "#bd3786"
             ],
             [
              0.5555555555555556,
              "#d8576b"
             ],
             [
              0.6666666666666666,
              "#ed7953"
             ],
             [
              0.7777777777777778,
              "#fb9f3a"
             ],
             [
              0.8888888888888888,
              "#fdca26"
             ],
             [
              1,
              "#f0f921"
             ]
            ],
            "type": "heatmap"
           }
          ],
          "histogram": [
           {
            "marker": {
             "pattern": {
              "fillmode": "overlay",
              "size": 10,
              "solidity": 0.2
             }
            },
            "type": "histogram"
           }
          ],
          "histogram2d": [
           {
            "colorbar": {
             "outlinewidth": 0,
             "ticks": ""
            },
            "colorscale": [
             [
              0,
              "#0d0887"
             ],
             [
              0.1111111111111111,
              "#46039f"
             ],
             [
              0.2222222222222222,
              "#7201a8"
             ],
             [
              0.3333333333333333,
              "#9c179e"
             ],
             [
              0.4444444444444444,
              "#bd3786"
             ],
             [
              0.5555555555555556,
              "#d8576b"
             ],
             [
              0.6666666666666666,
              "#ed7953"
             ],
             [
              0.7777777777777778,
              "#fb9f3a"
             ],
             [
              0.8888888888888888,
              "#fdca26"
             ],
             [
              1,
              "#f0f921"
             ]
            ],
            "type": "histogram2d"
           }
          ],
          "histogram2dcontour": [
           {
            "colorbar": {
             "outlinewidth": 0,
             "ticks": ""
            },
            "colorscale": [
             [
              0,
              "#0d0887"
             ],
             [
              0.1111111111111111,
              "#46039f"
             ],
             [
              0.2222222222222222,
              "#7201a8"
             ],
             [
              0.3333333333333333,
              "#9c179e"
             ],
             [
              0.4444444444444444,
              "#bd3786"
             ],
             [
              0.5555555555555556,
              "#d8576b"
             ],
             [
              0.6666666666666666,
              "#ed7953"
             ],
             [
              0.7777777777777778,
              "#fb9f3a"
             ],
             [
              0.8888888888888888,
              "#fdca26"
             ],
             [
              1,
              "#f0f921"
             ]
            ],
            "type": "histogram2dcontour"
           }
          ],
          "mesh3d": [
           {
            "colorbar": {
             "outlinewidth": 0,
             "ticks": ""
            },
            "type": "mesh3d"
           }
          ],
          "parcoords": [
           {
            "line": {
             "colorbar": {
              "outlinewidth": 0,
              "ticks": ""
             }
            },
            "type": "parcoords"
           }
          ],
          "pie": [
           {
            "automargin": true,
            "type": "pie"
           }
          ],
          "scatter": [
           {
            "fillpattern": {
             "fillmode": "overlay",
             "size": 10,
             "solidity": 0.2
            },
            "type": "scatter"
           }
          ],
          "scatter3d": [
           {
            "line": {
             "colorbar": {
              "outlinewidth": 0,
              "ticks": ""
             }
            },
            "marker": {
             "colorbar": {
              "outlinewidth": 0,
              "ticks": ""
             }
            },
            "type": "scatter3d"
           }
          ],
          "scattercarpet": [
           {
            "marker": {
             "colorbar": {
              "outlinewidth": 0,
              "ticks": ""
             }
            },
            "type": "scattercarpet"
           }
          ],
          "scattergeo": [
           {
            "marker": {
             "colorbar": {
              "outlinewidth": 0,
              "ticks": ""
             }
            },
            "type": "scattergeo"
           }
          ],
          "scattergl": [
           {
            "marker": {
             "colorbar": {
              "outlinewidth": 0,
              "ticks": ""
             }
            },
            "type": "scattergl"
           }
          ],
          "scattermap": [
           {
            "marker": {
             "colorbar": {
              "outlinewidth": 0,
              "ticks": ""
             }
            },
            "type": "scattermap"
           }
          ],
          "scattermapbox": [
           {
            "marker": {
             "colorbar": {
              "outlinewidth": 0,
              "ticks": ""
             }
            },
            "type": "scattermapbox"
           }
          ],
          "scatterpolar": [
           {
            "marker": {
             "colorbar": {
              "outlinewidth": 0,
              "ticks": ""
             }
            },
            "type": "scatterpolar"
           }
          ],
          "scatterpolargl": [
           {
            "marker": {
             "colorbar": {
              "outlinewidth": 0,
              "ticks": ""
             }
            },
            "type": "scatterpolargl"
           }
          ],
          "scatterternary": [
           {
            "marker": {
             "colorbar": {
              "outlinewidth": 0,
              "ticks": ""
             }
            },
            "type": "scatterternary"
           }
          ],
          "surface": [
           {
            "colorbar": {
             "outlinewidth": 0,
             "ticks": ""
            },
            "colorscale": [
             [
              0,
              "#0d0887"
             ],
             [
              0.1111111111111111,
              "#46039f"
             ],
             [
              0.2222222222222222,
              "#7201a8"
             ],
             [
              0.3333333333333333,
              "#9c179e"
             ],
             [
              0.4444444444444444,
              "#bd3786"
             ],
             [
              0.5555555555555556,
              "#d8576b"
             ],
             [
              0.6666666666666666,
              "#ed7953"
             ],
             [
              0.7777777777777778,
              "#fb9f3a"
             ],
             [
              0.8888888888888888,
              "#fdca26"
             ],
             [
              1,
              "#f0f921"
             ]
            ],
            "type": "surface"
           }
          ],
          "table": [
           {
            "cells": {
             "fill": {
              "color": "#EBF0F8"
             },
             "line": {
              "color": "white"
             }
            },
            "header": {
             "fill": {
              "color": "#C8D4E3"
             },
             "line": {
              "color": "white"
             }
            },
            "type": "table"
           }
          ]
         },
         "layout": {
          "annotationdefaults": {
           "arrowcolor": "#2a3f5f",
           "arrowhead": 0,
           "arrowwidth": 1
          },
          "autotypenumbers": "strict",
          "coloraxis": {
           "colorbar": {
            "outlinewidth": 0,
            "ticks": ""
           }
          },
          "colorscale": {
           "diverging": [
            [
             0,
             "#8e0152"
            ],
            [
             0.1,
             "#c51b7d"
            ],
            [
             0.2,
             "#de77ae"
            ],
            [
             0.3,
             "#f1b6da"
            ],
            [
             0.4,
             "#fde0ef"
            ],
            [
             0.5,
             "#f7f7f7"
            ],
            [
             0.6,
             "#e6f5d0"
            ],
            [
             0.7,
             "#b8e186"
            ],
            [
             0.8,
             "#7fbc41"
            ],
            [
             0.9,
             "#4d9221"
            ],
            [
             1,
             "#276419"
            ]
           ],
           "sequential": [
            [
             0,
             "#0d0887"
            ],
            [
             0.1111111111111111,
             "#46039f"
            ],
            [
             0.2222222222222222,
             "#7201a8"
            ],
            [
             0.3333333333333333,
             "#9c179e"
            ],
            [
             0.4444444444444444,
             "#bd3786"
            ],
            [
             0.5555555555555556,
             "#d8576b"
            ],
            [
             0.6666666666666666,
             "#ed7953"
            ],
            [
             0.7777777777777778,
             "#fb9f3a"
            ],
            [
             0.8888888888888888,
             "#fdca26"
            ],
            [
             1,
             "#f0f921"
            ]
           ],
           "sequentialminus": [
            [
             0,
             "#0d0887"
            ],
            [
             0.1111111111111111,
             "#46039f"
            ],
            [
             0.2222222222222222,
             "#7201a8"
            ],
            [
             0.3333333333333333,
             "#9c179e"
            ],
            [
             0.4444444444444444,
             "#bd3786"
            ],
            [
             0.5555555555555556,
             "#d8576b"
            ],
            [
             0.6666666666666666,
             "#ed7953"
            ],
            [
             0.7777777777777778,
             "#fb9f3a"
            ],
            [
             0.8888888888888888,
             "#fdca26"
            ],
            [
             1,
             "#f0f921"
            ]
           ]
          },
          "colorway": [
           "#636efa",
           "#EF553B",
           "#00cc96",
           "#ab63fa",
           "#FFA15A",
           "#19d3f3",
           "#FF6692",
           "#B6E880",
           "#FF97FF",
           "#FECB52"
          ],
          "font": {
           "color": "#2a3f5f"
          },
          "geo": {
           "bgcolor": "white",
           "lakecolor": "white",
           "landcolor": "#E5ECF6",
           "showlakes": true,
           "showland": true,
           "subunitcolor": "white"
          },
          "hoverlabel": {
           "align": "left"
          },
          "hovermode": "closest",
          "mapbox": {
           "style": "light"
          },
          "paper_bgcolor": "white",
          "plot_bgcolor": "#E5ECF6",
          "polar": {
           "angularaxis": {
            "gridcolor": "white",
            "linecolor": "white",
            "ticks": ""
           },
           "bgcolor": "#E5ECF6",
           "radialaxis": {
            "gridcolor": "white",
            "linecolor": "white",
            "ticks": ""
           }
          },
          "scene": {
           "xaxis": {
            "backgroundcolor": "#E5ECF6",
            "gridcolor": "white",
            "gridwidth": 2,
            "linecolor": "white",
            "showbackground": true,
            "ticks": "",
            "zerolinecolor": "white"
           },
           "yaxis": {
            "backgroundcolor": "#E5ECF6",
            "gridcolor": "white",
            "gridwidth": 2,
            "linecolor": "white",
            "showbackground": true,
            "ticks": "",
            "zerolinecolor": "white"
           },
           "zaxis": {
            "backgroundcolor": "#E5ECF6",
            "gridcolor": "white",
            "gridwidth": 2,
            "linecolor": "white",
            "showbackground": true,
            "ticks": "",
            "zerolinecolor": "white"
           }
          },
          "shapedefaults": {
           "line": {
            "color": "#2a3f5f"
           }
          },
          "ternary": {
           "aaxis": {
            "gridcolor": "white",
            "linecolor": "white",
            "ticks": ""
           },
           "baxis": {
            "gridcolor": "white",
            "linecolor": "white",
            "ticks": ""
           },
           "bgcolor": "#E5ECF6",
           "caxis": {
            "gridcolor": "white",
            "linecolor": "white",
            "ticks": ""
           }
          },
          "title": {
           "x": 0.05
          },
          "xaxis": {
           "automargin": true,
           "gridcolor": "white",
           "linecolor": "white",
           "ticks": "",
           "title": {
            "standoff": 15
           },
           "zerolinecolor": "white",
           "zerolinewidth": 2
          },
          "yaxis": {
           "automargin": true,
           "gridcolor": "white",
           "linecolor": "white",
           "ticks": "",
           "title": {
            "standoff": 15
           },
           "zerolinecolor": "white",
           "zerolinewidth": 2
          }
         }
        },
        "title": {
         "text": "Optimization History Plot"
        },
        "xaxis": {
         "title": {
          "text": "Trial"
         }
        },
        "yaxis": {
         "title": {
          "text": "Objective Value"
         }
        }
       }
      },
      "image/png": "[encoded data removed]"
     },
     "metadata": {},
     "output_type": "display_data"
    },
    {
     "data": {
      "application/vnd.plotly.v1+json": {
       "config": {
        "plotlyServerURL": "https://plot.ly"
       },
       "data": [
        {
         "cliponaxis": false,
         "hovertemplate": [
          "n_steps (IntDistribution): 0.006807984654140966<extra></extra>",
          "lambda_sparse (FloatDistribution): 0.016135100270022903<extra></extra>",
          "batch_size (CategoricalDistribution): 0.019762770800491287<extra></extra>",
          "virtual_batch_size (CategoricalDistribution): 0.02773429699380267<extra></extra>",
          "gamma (FloatDistribution): 0.05346655148835187<extra></extra>",
          "n_a (IntDistribution): 0.06108046733617071<extra></extra>",
          "n_d (IntDistribution): 0.2745023597582926<extra></extra>",
          "lr (FloatDistribution): 0.5405104686987269<extra></extra>"
         ],
         "name": "Objective Value",
         "orientation": "h",
         "text": [
          "<0.01",
          "0.02",
          "0.02",
          "0.03",
          "0.05",
          "0.06",
          "0.27",
          "0.54"
         ],
         "textposition": "outside",
         "type": "bar",
         "x": [
          0.006807984654140966,
          0.016135100270022903,
          0.019762770800491287,
          0.02773429699380267,
          0.05346655148835187,
          0.06108046733617071,
          0.2745023597582926,
          0.5405104686987269
         ],
         "y": [
          "n_steps",
          "lambda_sparse",
          "batch_size",
          "virtual_batch_size",
          "gamma",
          "n_a",
          "n_d",
          "lr"
         ]
        }
       ],
       "layout": {
        "template": {
         "data": {
          "bar": [
           {
            "error_x": {
             "color": "#2a3f5f"
            },
            "error_y": {
             "color": "#2a3f5f"
            },
            "marker": {
             "line": {
              "color": "#E5ECF6",
              "width": 0.5
             },
             "pattern": {
              "fillmode": "overlay",
              "size": 10,
              "solidity": 0.2
             }
            },
            "type": "bar"
           }
          ],
          "barpolar": [
           {
            "marker": {
             "line": {
              "color": "#E5ECF6",
              "width": 0.5
             },
             "pattern": {
              "fillmode": "overlay",
              "size": 10,
              "solidity": 0.2
             }
            },
            "type": "barpolar"
           }
          ],
          "carpet": [
           {
            "aaxis": {
             "endlinecolor": "#2a3f5f",
             "gridcolor": "white",
             "linecolor": "white",
             "minorgridcolor": "white",
             "startlinecolor": "#2a3f5f"
            },
            "baxis": {
             "endlinecolor": "#2a3f5f",
             "gridcolor": "white",
             "linecolor": "white",
             "minorgridcolor": "white",
             "startlinecolor": "#2a3f5f"
            },
            "type": "carpet"
           }
          ],
          "choropleth": [
           {
            "colorbar": {
             "outlinewidth": 0,
             "ticks": ""
            },
            "type": "choropleth"
           }
          ],
          "contour": [
           {
            "colorbar": {
             "outlinewidth": 0,
             "ticks": ""
            },
            "colorscale": [
             [
              0,
              "#0d0887"
             ],
             [
              0.1111111111111111,
              "#46039f"
             ],
             [
              0.2222222222222222,
              "#7201a8"
             ],
             [
              0.3333333333333333,
              "#9c179e"
             ],
             [
              0.4444444444444444,
              "#bd3786"
             ],
             [
              0.5555555555555556,
              "#d8576b"
             ],
             [
              0.6666666666666666,
              "#ed7953"
             ],
             [
              0.7777777777777778,
              "#fb9f3a"
             ],
             [
              0.8888888888888888,
              "#fdca26"
             ],
             [
              1,
              "#f0f921"
             ]
            ],
            "type": "contour"
           }
          ],
          "contourcarpet": [
           {
            "colorbar": {
             "outlinewidth": 0,
             "ticks": ""
            },
            "type": "contourcarpet"
           }
          ],
          "heatmap": [
           {
            "colorbar": {
             "outlinewidth": 0,
             "ticks": ""
            },
            "colorscale": [
             [
              0,
              "#0d0887"
             ],
             [
              0.1111111111111111,
              "#46039f"
             ],
             [
              0.2222222222222222,
              "#7201a8"
             ],
             [
              0.3333333333333333,
              "#9c179e"
             ],
             [
              0.4444444444444444,
              "#bd3786"
             ],
             [
              0.5555555555555556,
              "#d8576b"
             ],
             [
              0.6666666666666666,
              "#ed7953"
             ],
             [
              0.7777777777777778,
              "#fb9f3a"
             ],
             [
              0.8888888888888888,
              "#fdca26"
             ],
             [
              1,
              "#f0f921"
             ]
            ],
            "type": "heatmap"
           }
          ],
          "histogram": [
           {
            "marker": {
             "pattern": {
              "fillmode": "overlay",
              "size": 10,
              "solidity": 0.2
             }
            },
            "type": "histogram"
           }
          ],
          "histogram2d": [
           {
            "colorbar": {
             "outlinewidth": 0,
             "ticks": ""
            },
            "colorscale": [
             [
              0,
              "#0d0887"
             ],
             [
              0.1111111111111111,
              "#46039f"
             ],
             [
              0.2222222222222222,
              "#7201a8"
             ],
             [
              0.3333333333333333,
              "#9c179e"
             ],
             [
              0.4444444444444444,
              "#bd3786"
             ],
             [
              0.5555555555555556,
              "#d8576b"
             ],
             [
              0.6666666666666666,
              "#ed7953"
             ],
             [
              0.7777777777777778,
              "#fb9f3a"
             ],
             [
              0.8888888888888888,
              "#fdca26"
             ],
             [
              1,
              "#f0f921"
             ]
            ],
            "type": "histogram2d"
           }
          ],
          "histogram2dcontour": [
           {
            "colorbar": {
             "outlinewidth": 0,
             "ticks": ""
            },
            "colorscale": [
             [
              0,
              "#0d0887"
             ],
             [
              0.1111111111111111,
              "#46039f"
             ],
             [
              0.2222222222222222,
              "#7201a8"
             ],
             [
              0.3333333333333333,
              "#9c179e"
             ],
             [
              0.4444444444444444,
              "#bd3786"
             ],
             [
              0.5555555555555556,
              "#d8576b"
             ],
             [
              0.6666666666666666,
              "#ed7953"
             ],
             [
              0.7777777777777778,
              "#fb9f3a"
             ],
             [
              0.8888888888888888,
              "#fdca26"
             ],
             [
              1,
              "#f0f921"
             ]
            ],
            "type": "histogram2dcontour"
           }
          ],
          "mesh3d": [
           {
            "colorbar": {
             "outlinewidth": 0,
             "ticks": ""
            },
            "type": "mesh3d"
           }
          ],
          "parcoords": [
           {
            "line": {
             "colorbar": {
              "outlinewidth": 0,
              "ticks": ""
             }
            },
            "type": "parcoords"
           }
          ],
          "pie": [
           {
            "automargin": true,
            "type": "pie"
           }
          ],
          "scatter": [
           {
            "fillpattern": {
             "fillmode": "overlay",
             "size": 10,
             "solidity": 0.2
            },
            "type": "scatter"
           }
          ],
          "scatter3d": [
           {
            "line": {
             "colorbar": {
              "outlinewidth": 0,
              "ticks": ""
             }
            },
            "marker": {
             "colorbar": {
              "outlinewidth": 0,
              "ticks": ""
             }
            },
            "type": "scatter3d"
           }
          ],
          "scattercarpet": [
           {
            "marker": {
             "colorbar": {
              "outlinewidth": 0,
              "ticks": ""
             }
            },
            "type": "scattercarpet"
           }
          ],
          "scattergeo": [
           {
            "marker": {
             "colorbar": {
              "outlinewidth": 0,
              "ticks": ""
             }
            },
            "type": "scattergeo"
           }
          ],
          "scattergl": [
           {
            "marker": {
             "colorbar": {
              "outlinewidth": 0,
              "ticks": ""
             }
            },
            "type": "scattergl"
           }
          ],
          "scattermap": [
           {
            "marker": {
             "colorbar": {
              "outlinewidth": 0,
              "ticks": ""
             }
            },
            "type": "scattermap"
           }
          ],
          "scattermapbox": [
           {
            "marker": {
             "colorbar": {
              "outlinewidth": 0,
              "ticks": ""
             }
            },
            "type": "scattermapbox"
           }
          ],
          "scatterpolar": [
           {
            "marker": {
             "colorbar": {
              "outlinewidth": 0,
              "ticks": ""
             }
            },
            "type": "scatterpolar"
           }
          ],
          "scatterpolargl": [
           {
            "marker": {
             "colorbar": {
              "outlinewidth": 0,
              "ticks": ""
             }
            },
            "type": "scatterpolargl"
           }
          ],
          "scatterternary": [
           {
            "marker": {
             "colorbar": {
              "outlinewidth": 0,
              "ticks": ""
             }
            },
            "type": "scatterternary"
           }
          ],
          "surface": [
           {
            "colorbar": {
             "outlinewidth": 0,
             "ticks": ""
            },
            "colorscale": [
             [
              0,
              "#0d0887"
             ],
             [
              0.1111111111111111,
              "#46039f"
             ],
             [
              0.2222222222222222,
              "#7201a8"
             ],
             [
              0.3333333333333333,
              "#9c179e"
             ],
             [
              0.4444444444444444,
              "#bd3786"
             ],
             [
              0.5555555555555556,
              "#d8576b"
             ],
             [
              0.6666666666666666,
              "#ed7953"
             ],
             [
              0.7777777777777778,
              "#fb9f3a"
             ],
             [
              0.8888888888888888,
              "#fdca26"
             ],
             [
              1,
              "#f0f921"
             ]
            ],
            "type": "surface"
           }
          ],
          "table": [
           {
            "cells": {
             "fill": {
              "color": "#EBF0F8"
             },
             "line": {
              "color": "white"
             }
            },
            "header": {
             "fill": {
              "color": "#C8D4E3"
             },
             "line": {
              "color": "white"
             }
            },
            "type": "table"
           }
          ]
         },
         "layout": {
          "annotationdefaults": {
           "arrowcolor": "#2a3f5f",
           "arrowhead": 0,
           "arrowwidth": 1
          },
          "autotypenumbers": "strict",
          "coloraxis": {
           "colorbar": {
            "outlinewidth": 0,
            "ticks": ""
           }
          },
          "colorscale": {
           "diverging": [
            [
             0,
             "#8e0152"
            ],
            [
             0.1,
             "#c51b7d"
            ],
            [
             0.2,
             "#de77ae"
            ],
            [
             0.3,
             "#f1b6da"
            ],
            [
             0.4,
             "#fde0ef"
            ],
            [
             0.5,
             "#f7f7f7"
            ],
            [
             0.6,
             "#e6f5d0"
            ],
            [
             0.7,
             "#b8e186"
            ],
            [
             0.8,
             "#7fbc41"
            ],
            [
             0.9,
             "#4d9221"
            ],
            [
             1,
             "#276419"
            ]
           ],
           "sequential": [
            [
             0,
             "#0d0887"
            ],
            [
             0.1111111111111111,
             "#46039f"
            ],
            [
             0.2222222222222222,
             "#7201a8"
            ],
            [
             0.3333333333333333,
             "#9c179e"
            ],
            [
             0.4444444444444444,
             "#bd3786"
            ],
            [
             0.5555555555555556,
             "#d8576b"
            ],
            [
             0.6666666666666666,
             "#ed7953"
            ],
            [
             0.7777777777777778,
             "#fb9f3a"
            ],
            [
             0.8888888888888888,
             "#fdca26"
            ],
            [
             1,
             "#f0f921"
            ]
           ],
           "sequentialminus": [
            [
             0,
             "#0d0887"
            ],
            [
             0.1111111111111111,
             "#46039f"
            ],
            [
             0.2222222222222222,
             "#7201a8"
            ],
            [
             0.3333333333333333,
             "#9c179e"
            ],
            [
             0.4444444444444444,
             "#bd3786"
            ],
            [
             0.5555555555555556,
             "#d8576b"
            ],
            [
             0.6666666666666666,
             "#ed7953"
            ],
            [
             0.7777777777777778,
             "#fb9f3a"
            ],
            [
             0.8888888888888888,
             "#fdca26"
            ],
            [
             1,
             "#f0f921"
            ]
           ]
          },
          "colorway": [
           "#636efa",
           "#EF553B",
           "#00cc96",
           "#ab63fa",
           "#FFA15A",
           "#19d3f3",
           "#FF6692",
           "#B6E880",
           "#FF97FF",
           "#FECB52"
          ],
          "font": {
           "color": "#2a3f5f"
          },
          "geo": {
           "bgcolor": "white",
           "lakecolor": "white",
           "landcolor": "#E5ECF6",
           "showlakes": true,
           "showland": true,
           "subunitcolor": "white"
          },
          "hoverlabel": {
           "align": "left"
          },
          "hovermode": "closest",
          "mapbox": {
           "style": "light"
          },
          "paper_bgcolor": "white",
          "plot_bgcolor": "#E5ECF6",
          "polar": {
           "angularaxis": {
            "gridcolor": "white",
            "linecolor": "white",
            "ticks": ""
           },
           "bgcolor": "#E5ECF6",
           "radialaxis": {
            "gridcolor": "white",
            "linecolor": "white",
            "ticks": ""
           }
          },
          "scene": {
           "xaxis": {
            "backgroundcolor": "#E5ECF6",
            "gridcolor": "white",
            "gridwidth": 2,
            "linecolor": "white",
            "showbackground": true,
            "ticks": "",
            "zerolinecolor": "white"
           },
           "yaxis": {
            "backgroundcolor": "#E5ECF6",
            "gridcolor": "white",
            "gridwidth": 2,
            "linecolor": "white",
            "showbackground": true,
            "ticks": "",
            "zerolinecolor": "white"
           },
           "zaxis": {
            "backgroundcolor": "#E5ECF6",
            "gridcolor": "white",
            "gridwidth": 2,
            "linecolor": "white",
            "showbackground": true,
            "ticks": "",
            "zerolinecolor": "white"
           }
          },
          "shapedefaults": {
           "line": {
            "color": "#2a3f5f"
           }
          },
          "ternary": {
           "aaxis": {
            "gridcolor": "white",
            "linecolor": "white",
            "ticks": ""
           },
           "baxis": {
            "gridcolor": "white",
            "linecolor": "white",
            "ticks": ""
           },
           "bgcolor": "#E5ECF6",
           "caxis": {
            "gridcolor": "white",
            "linecolor": "white",
            "ticks": ""
           }
          },
          "title": {
           "x": 0.05
          },
          "xaxis": {
           "automargin": true,
           "gridcolor": "white",
           "linecolor": "white",
           "ticks": "",
           "title": {
            "standoff": 15
           },
           "zerolinecolor": "white",
           "zerolinewidth": 2
          },
          "yaxis": {
           "automargin": true,
           "gridcolor": "white",
           "linecolor": "white",
           "ticks": "",
           "title": {
            "standoff": 15
           },
           "zerolinecolor": "white",
           "zerolinewidth": 2
          }
         }
        },
        "title": {
         "text": "Hyperparameter Importances"
        },
        "xaxis": {
         "title": {
          "text": "Hyperparameter Importance"
         }
        },
        "yaxis": {
         "title": {
          "text": "Hyperparameter"
         }
        }
       }
      },
      "image/png": "[encoded data removed]"
     },
     "metadata": {},
     "output_type": "display_data"
    },
    {
     "data": {
      "application/vnd.plotly.v1+json": {
       "config": {
        "plotlyServerURL": "https://plot.ly"
       },
       "data": [
        {
         "dimensions": [
          {
           "label": "Objective Value",
           "range": [
            0.24003109185589935,
            0.7588067979099132
           ],
           "values": [
            0.6922651883852756,
            0.24003109185589935,
            0.7588067979099132,
            0.7367578390603436,
            0.6578460631853029,
            0.4311325201876924,
            0.6995713551396893,
            0.41915836624115715,
            0.6177586315353514,
            0.6518284093828215,
            0.2498373475099866,
            0.7479710837960027,
            0.5700302314790796,
            0.7114135447663503,
            0.5440658758015816
           ]
          },
          {
           "label": "batch_size",
           "range": [
            0,
            2
           ],
           "ticktext": [
            "512",
            "1024",
            "2048"
           ],
           "tickvals": [
            0,
            1,
            2
           ],
           "values": [
            0,
            0,
            0,
            0,
            0,
            1,
            1,
            1,
            1,
            2,
            2,
            2,
            2,
            2,
            2
           ]
          },
          {
           "label": "gamma",
           "range": [
            1.045227288910538,
            1.9960165317474352
           ],
           "values": [
            1.3046137691733706,
            1.3143559810763268,
            1.8631034258755936,
            1.9540235083326924,
            1.9960165317474352,
            1.7851759613930136,
            1.5200680211778108,
            1.713244787222995,
            1.1818249672071006,
            1.045227288910538,
            1.5986584841970366,
            1.9868869366005173,
            1.9458097199737128,
            1.8019699855647866,
            1.8301794974773589
           ]
          },
          {
           "label": "lambda_sparse",
           "range": [
            -5.609311543974464,
            -2.130254066138429
           ],
           "ticktext": [
            "2.46e-06",
            "1e-05",
            "0.0001",
            "0.001",
            "0.00741"
           ],
           "tickvals": [
            -5.609311543974464,
            -5,
            -4,
            -3,
            -2.130254066138429
           ],
           "values": [
            -5.609311543974464,
            -3.9657172353411885,
            -3.506807492689768,
            -2.1356476599535448,
            -2.130254066138429,
            -5.2013048713665615,
            -3.8131588826268805,
            -2.9568598055324093,
            -5.266381960586265,
            -4.698678676946942,
            -5.375925438230254,
            -2.91102092281337,
            -2.9809095397749203,
            -3.0513503254965166,
            -3.5575731511990907
           ]
          },
          {
           "label": "lr",
           "range": [
            -2.958831011408395,
            -1.007966021277574
           ],
           "ticktext": [
            "0.0011",
            "0.01",
            "0.0982"
           ],
           "tickvals": [
            -2.958831011408395,
            -2,
            -1.007966021277574
           ],
           "values": [
            -1.1813591958424354,
            -2.8460401803424142,
            -1.7248850572895735,
            -2.34928000405743,
            -1.6398350723757882,
            -2.869896814029441,
            -1.8042000423778295,
            -2.9491617465118094,
            -2.721012278695916,
            -1.9146078336835028,
            -2.958831011408395,
            -1.4574593066281083,
            -1.427850458274149,
            -1.5025884911331442,
            -1.007966021277574
           ]
          },
          {
           "label": "n_a",
           "range": [
            9,
            63
           ],
           "values": [
            63,
            9,
            28,
            23,
            20,
            28,
            45,
            34,
            55,
            13,
            62,
            53,
            44,
            45,
            36
           ]
          },
          {
           "label": "n_d",
           "range": [
            9,
            63
           ],
           "values": [
            62,
            14,
            12,
            37,
            18,
            24,
            22,
            58,
            63,
            60,
            29,
            16,
            10,
            42,
            9
           ]
          },
          {
           "label": "n_steps",
           "range": [
            3,
            6
           ],
           "values": [
            6,
            5,
            3,
            4,
            4,
            4,
            4,
            3,
            3,
            3,
            5,
            3,
            3,
            3,
            6
           ]
          },
          {
           "label": "virtual_batch_size",
           "range": [
            0,
            1
           ],
           "ticktext": [
            "128",
            "256"
           ],
           "tickvals": [
            0,
            1
           ],
           "values": [
            0,
            0,
            1,
            1,
            1,
            0,
            0,
            0,
            1,
            0,
            1,
            1,
            1,
            1,
            1
           ]
          }
         ],
         "labelangle": 30,
         "labelside": "bottom",
         "line": {
          "color": [
           0.6922651883852756,
           0.24003109185589935,
           0.7588067979099132,
           0.7367578390603436,
           0.6578460631853029,
           0.4311325201876924,
           0.6995713551396893,
           0.41915836624115715,
           0.6177586315353514,
           0.6518284093828215,
           0.2498373475099866,
           0.7479710837960027,
           0.5700302314790796,
           0.7114135447663503,
           0.5440658758015816
          ],
          "colorbar": {
           "title": {
            "text": "Objective Value"
           }
          },
          "colorscale": [
           [
            0,
            "rgb(247,251,255)"
           ],
           [
            0.125,
            "rgb(222,235,247)"
           ],
           [
            0.25,
            "rgb(198,219,239)"
           ],
           [
            0.375,
            "rgb(158,202,225)"
           ],
           [
            0.5,
            "rgb(107,174,214)"
           ],
           [
            0.625,
            "rgb(66,146,198)"
           ],
           [
            0.75,
            "rgb(33,113,181)"
           ],
           [
            0.875,
            "rgb(8,81,156)"
           ],
           [
            1,
            "rgb(8,48,107)"
           ]
          ],
          "reversescale": false,
          "showscale": true
         },
         "type": "parcoords"
        }
       ],
       "layout": {
        "template": {
         "data": {
          "bar": [
           {
            "error_x": {
             "color": "#2a3f5f"
            },
            "error_y": {
             "color": "#2a3f5f"
            },
            "marker": {
             "line": {
              "color": "#E5ECF6",
              "width": 0.5
             },
             "pattern": {
              "fillmode": "overlay",
              "size": 10,
              "solidity": 0.2
             }
            },
            "type": "bar"
           }
          ],
          "barpolar": [
           {
            "marker": {
             "line": {
              "color": "#E5ECF6",
              "width": 0.5
             },
             "pattern": {
              "fillmode": "overlay",
              "size": 10,
              "solidity": 0.2
             }
            },
            "type": "barpolar"
           }
          ],
          "carpet": [
           {
            "aaxis": {
             "endlinecolor": "#2a3f5f",
             "gridcolor": "white",
             "linecolor": "white",
             "minorgridcolor": "white",
             "startlinecolor": "#2a3f5f"
            },
            "baxis": {
             "endlinecolor": "#2a3f5f",
             "gridcolor": "white",
             "linecolor": "white",
             "minorgridcolor": "white",
             "startlinecolor": "#2a3f5f"
            },
            "type": "carpet"
           }
          ],
          "choropleth": [
           {
            "colorbar": {
             "outlinewidth": 0,
             "ticks": ""
            },
            "type": "choropleth"
           }
          ],
          "contour": [
           {
            "colorbar": {
             "outlinewidth": 0,
             "ticks": ""
            },
            "colorscale": [
             [
              0,
              "#0d0887"
             ],
             [
              0.1111111111111111,
              "#46039f"
             ],
             [
              0.2222222222222222,
              "#7201a8"
             ],
             [
              0.3333333333333333,
              "#9c179e"
             ],
             [
              0.4444444444444444,
              "#bd3786"
             ],
             [
              0.5555555555555556,
              "#d8576b"
             ],
             [
              0.6666666666666666,
              "#ed7953"
             ],
             [
              0.7777777777777778,
              "#fb9f3a"
             ],
             [
              0.8888888888888888,
              "#fdca26"
             ],
             [
              1,
              "#f0f921"
             ]
            ],
            "type": "contour"
           }
          ],
          "contourcarpet": [
           {
            "colorbar": {
             "outlinewidth": 0,
             "ticks": ""
            },
            "type": "contourcarpet"
           }
          ],
          "heatmap": [
           {
            "colorbar": {
             "outlinewidth": 0,
             "ticks": ""
            },
            "colorscale": [
             [
              0,
              "#0d0887"
             ],
             [
              0.1111111111111111,
              "#46039f"
             ],
             [
              0.2222222222222222,
              "#7201a8"
             ],
             [
              0.3333333333333333,
              "#9c179e"
             ],
             [
              0.4444444444444444,
              "#bd3786"
             ],
             [
              0.5555555555555556,
              "#d8576b"
             ],
             [
              0.6666666666666666,
              "#ed7953"
             ],
             [
              0.7777777777777778,
              "#fb9f3a"
             ],
             [
              0.8888888888888888,
              "#fdca26"
             ],
             [
              1,
              "#f0f921"
             ]
            ],
            "type": "heatmap"
           }
          ],
          "histogram": [
           {
            "marker": {
             "pattern": {
              "fillmode": "overlay",
              "size": 10,
              "solidity": 0.2
             }
            },
            "type": "histogram"
           }
          ],
          "histogram2d": [
           {
            "colorbar": {
             "outlinewidth": 0,
             "ticks": ""
            },
            "colorscale": [
             [
              0,
              "#0d0887"
             ],
             [
              0.1111111111111111,
              "#46039f"
             ],
             [
              0.2222222222222222,
              "#7201a8"
             ],
             [
              0.3333333333333333,
              "#9c179e"
             ],
             [
              0.4444444444444444,
              "#bd3786"
             ],
             [
              0.5555555555555556,
              "#d8576b"
             ],
             [
              0.6666666666666666,
              "#ed7953"
             ],
             [
              0.7777777777777778,
              "#fb9f3a"
             ],
             [
              0.8888888888888888,
              "#fdca26"
             ],
             [
              1,
              "#f0f921"
             ]
            ],
            "type": "histogram2d"
           }
          ],
          "histogram2dcontour": [
           {
            "colorbar": {
             "outlinewidth": 0,
             "ticks": ""
            },
            "colorscale": [
             [
              0,
              "#0d0887"
             ],
             [
              0.1111111111111111,
              "#46039f"
             ],
             [
              0.2222222222222222,
              "#7201a8"
             ],
             [
              0.3333333333333333,
              "#9c179e"
             ],
             [
              0.4444444444444444,
              "#bd3786"
             ],
             [
              0.5555555555555556,
              "#d8576b"
             ],
             [
              0.6666666666666666,
              "#ed7953"
             ],
             [
              0.7777777777777778,
              "#fb9f3a"
             ],
             [
              0.8888888888888888,
              "#fdca26"
             ],
             [
              1,
              "#f0f921"
             ]
            ],
            "type": "histogram2dcontour"
           }
          ],
          "mesh3d": [
           {
            "colorbar": {
             "outlinewidth": 0,
             "ticks": ""
            },
            "type": "mesh3d"
           }
          ],
          "parcoords": [
           {
            "line": {
             "colorbar": {
              "outlinewidth": 0,
              "ticks": ""
             }
            },
            "type": "parcoords"
           }
          ],
          "pie": [
           {
            "automargin": true,
            "type": "pie"
           }
          ],
          "scatter": [
           {
            "fillpattern": {
             "fillmode": "overlay",
             "size": 10,
             "solidity": 0.2
            },
            "type": "scatter"
           }
          ],
          "scatter3d": [
           {
            "line": {
             "colorbar": {
              "outlinewidth": 0,
              "ticks": ""
             }
            },
            "marker": {
             "colorbar": {
              "outlinewidth": 0,
              "ticks": ""
             }
            },
            "type": "scatter3d"
           }
          ],
          "scattercarpet": [
           {
            "marker": {
             "colorbar": {
              "outlinewidth": 0,
              "ticks": ""
             }
            },
            "type": "scattercarpet"
           }
          ],
          "scattergeo": [
           {
            "marker": {
             "colorbar": {
              "outlinewidth": 0,
              "ticks": ""
             }
            },
            "type": "scattergeo"
           }
          ],
          "scattergl": [
           {
            "marker": {
             "colorbar": {
              "outlinewidth": 0,
              "ticks": ""
             }
            },
            "type": "scattergl"
           }
          ],
          "scattermap": [
           {
            "marker": {
             "colorbar": {
              "outlinewidth": 0,
              "ticks": ""
             }
            },
            "type": "scattermap"
           }
          ],
          "scattermapbox": [
           {
            "marker": {
             "colorbar": {
              "outlinewidth": 0,
              "ticks": ""
             }
            },
            "type": "scattermapbox"
           }
          ],
          "scatterpolar": [
           {
            "marker": {
             "colorbar": {
              "outlinewidth": 0,
              "ticks": ""
             }
            },
            "type": "scatterpolar"
           }
          ],
          "scatterpolargl": [
           {
            "marker": {
             "colorbar": {
              "outlinewidth": 0,
              "ticks": ""
             }
            },
            "type": "scatterpolargl"
           }
          ],
          "scatterternary": [
           {
            "marker": {
             "colorbar": {
              "outlinewidth": 0,
              "ticks": ""
             }
            },
            "type": "scatterternary"
           }
          ],
          "surface": [
           {
            "colorbar": {
             "outlinewidth": 0,
             "ticks": ""
            },
            "colorscale": [
             [
              0,
              "#0d0887"
             ],
             [
              0.1111111111111111,
              "#46039f"
             ],
             [
              0.2222222222222222,
              "#7201a8"
             ],
             [
              0.3333333333333333,
              "#9c179e"
             ],
             [
              0.4444444444444444,
              "#bd3786"
             ],
             [
              0.5555555555555556,
              "#d8576b"
             ],
             [
              0.6666666666666666,
              "#ed7953"
             ],
             [
              0.7777777777777778,
              "#fb9f3a"
             ],
             [
              0.8888888888888888,
              "#fdca26"
             ],
             [
              1,
              "#f0f921"
             ]
            ],
            "type": "surface"
           }
          ],
          "table": [
           {
            "cells": {
             "fill": {
              "color": "#EBF0F8"
             },
             "line": {
              "color": "white"
             }
            },
            "header": {
             "fill": {
              "color": "#C8D4E3"
             },
             "line": {
              "color": "white"
             }
            },
            "type": "table"
           }
          ]
         },
         "layout": {
          "annotationdefaults": {
           "arrowcolor": "#2a3f5f",
           "arrowhead": 0,
           "arrowwidth": 1
          },
          "autotypenumbers": "strict",
          "coloraxis": {
           "colorbar": {
            "outlinewidth": 0,
            "ticks": ""
           }
          },
          "colorscale": {
           "diverging": [
            [
             0,
             "#8e0152"
            ],
            [
             0.1,
             "#c51b7d"
            ],
            [
             0.2,
             "#de77ae"
            ],
            [
             0.3,
             "#f1b6da"
            ],
            [
             0.4,
             "#fde0ef"
            ],
            [
             0.5,
             "#f7f7f7"
            ],
            [
             0.6,
             "#e6f5d0"
            ],
            [
             0.7,
             "#b8e186"
            ],
            [
             0.8,
             "#7fbc41"
            ],
            [
             0.9,
             "#4d9221"
            ],
            [
             1,
             "#276419"
            ]
           ],
           "sequential": [
            [
             0,
             "#0d0887"
            ],
            [
             0.1111111111111111,
             "#46039f"
            ],
            [
             0.2222222222222222,
             "#7201a8"
            ],
            [
             0.3333333333333333,
             "#9c179e"
            ],
            [
             0.4444444444444444,
             "#bd3786"
            ],
            [
             0.5555555555555556,
             "#d8576b"
            ],
            [
             0.6666666666666666,
             "#ed7953"
            ],
            [
             0.7777777777777778,
             "#fb9f3a"
            ],
            [
             0.8888888888888888,
             "#fdca26"
            ],
            [
             1,
             "#f0f921"
            ]
           ],
           "sequentialminus": [
            [
             0,
             "#0d0887"
            ],
            [
             0.1111111111111111,
             "#46039f"
            ],
            [
             0.2222222222222222,
             "#7201a8"
            ],
            [
             0.3333333333333333,
             "#9c179e"
            ],
            [
             0.4444444444444444,
             "#bd3786"
            ],
            [
             0.5555555555555556,
             "#d8576b"
            ],
            [
             0.6666666666666666,
             "#ed7953"
            ],
            [
             0.7777777777777778,
             "#fb9f3a"
            ],
            [
             0.8888888888888888,
             "#fdca26"
            ],
            [
             1,
             "#f0f921"
            ]
           ]
          },
          "colorway": [
           "#636efa",
           "#EF553B",
           "#00cc96",
           "#ab63fa",
           "#FFA15A",
           "#19d3f3",
           "#FF6692",
           "#B6E880",
           "#FF97FF",
           "#FECB52"
          ],
          "font": {
           "color": "#2a3f5f"
          },
          "geo": {
           "bgcolor": "white",
           "lakecolor": "white",
           "landcolor": "#E5ECF6",
           "showlakes": true,
           "showland": true,
           "subunitcolor": "white"
          },
          "hoverlabel": {
           "align": "left"
          },
          "hovermode": "closest",
          "mapbox": {
           "style": "light"
          },
          "paper_bgcolor": "white",
          "plot_bgcolor": "#E5ECF6",
          "polar": {
           "angularaxis": {
            "gridcolor": "white",
            "linecolor": "white",
            "ticks": ""
           },
           "bgcolor": "#E5ECF6",
           "radialaxis": {
            "gridcolor": "white",
            "linecolor": "white",
            "ticks": ""
           }
          },
          "scene": {
           "xaxis": {
            "backgroundcolor": "#E5ECF6",
            "gridcolor": "white",
            "gridwidth": 2,
            "linecolor": "white",
            "showbackground": true,
            "ticks": "",
            "zerolinecolor": "white"
           },
           "yaxis": {
            "backgroundcolor": "#E5ECF6",
            "gridcolor": "white",
            "gridwidth": 2,
            "linecolor": "white",
            "showbackground": true,
            "ticks": "",
            "zerolinecolor": "white"
           },
           "zaxis": {
            "backgroundcolor": "#E5ECF6",
            "gridcolor": "white",
            "gridwidth": 2,
            "linecolor": "white",
            "showbackground": true,
            "ticks": "",
            "zerolinecolor": "white"
           }
          },
          "shapedefaults": {
           "line": {
            "color": "#2a3f5f"
           }
          },
          "ternary": {
           "aaxis": {
            "gridcolor": "white",
            "linecolor": "white",
            "ticks": ""
           },
           "baxis": {
            "gridcolor": "white",
            "linecolor": "white",
            "ticks": ""
           },
           "bgcolor": "#E5ECF6",
           "caxis": {
            "gridcolor": "white",
            "linecolor": "white",
            "ticks": ""
           }
          },
          "title": {
           "x": 0.05
          },
          "xaxis": {
           "automargin": true,
           "gridcolor": "white",
           "linecolor": "white",
           "ticks": "",
           "title": {
            "standoff": 15
           },
           "zerolinecolor": "white",
           "zerolinewidth": 2
          },
          "yaxis": {
           "automargin": true,
           "gridcolor": "white",
           "linecolor": "white",
           "ticks": "",
           "title": {
            "standoff": 15
           },
           "zerolinecolor": "white",
           "zerolinewidth": 2
          }
         }
        },
        "title": {
         "text": "Parallel Coordinate Plot"
        }
       }
      },
      "image/png": "[encoded data removed]"
     },
     "metadata": {},
     "output_type": "display_data"
    }
   ],
   "source": [
    "# optuna визуализация\n",
    "optuna.visualization.plot_optimization_history(study).show()\n",
    "optuna.visualization.plot_param_importances(study).show()\n",
    "optuna.visualization.plot_parallel_coordinate(study).show()"
   ]
  },
  {
   "cell_type": "markdown",
   "id": "ba3b6601-be94-45b5-b575-2fdecbb1c235",
   "metadata": {},
   "source": [
    "## 6. Обучение финальной модели"
   ]
  },
  {
   "cell_type": "code",
   "execution_count": 9,
   "id": "a9361f46-acd9-4038-b7ab-afdc0f2ffcb1",
   "metadata": {},
   "outputs": [],
   "source": [
    "set_seed()\n",
    "best_params = study.best_params\n",
    "model_params = {k: best_params[k] for k in [\"n_d\", \"n_a\", \"n_steps\", \"gamma\", \"lambda_sparse\"]}\n",
    "fit_params = {k: best_params[k] for k in [\"batch_size\", \"virtual_batch_size\"]}\n",
    "\n",
    "final_model = TabNetClassifier(\n",
    "    **model_params,\n",
    "    seed=RANDOM_STATE,\n",
    "    optimizer_fn=torch.optim.Adam,\n",
    "    optimizer_params=dict(lr=best_params[\"lr\"]),\n",
    "    scheduler_fn=torch.optim.lr_scheduler.CosineAnnealingWarmRestarts,\n",
    "    scheduler_params=dict(T_0=10, T_mult=1),\n",
    "    device_name=device,\n",
    "    verbose=0\n",
    ")\n",
    "\n",
    "final_model.fit(\n",
    "    X_train, y_train,\n",
    "    max_epochs=20,\n",
    "    **fit_params\n",
    ")"
   ]
  },
  {
   "cell_type": "markdown",
   "id": "01d6810a-a7b6-4b1f-b418-c969174060a7",
   "metadata": {},
   "source": [
    "## 7. Оценка на тесте"
   ]
  },
  {
   "cell_type": "code",
   "execution_count": 10,
   "id": "8a96e2bb-aa16-4897-86c0-05d95e6c80bb",
   "metadata": {},
   "outputs": [
    {
     "name": "stdout",
     "output_type": "stream",
     "text": [
      "PR-AUC=0.7921 ROC-AUC=0.9756 Precision=0.891 Recall=0.740 F1=0.809\n"
     ]
    }
   ],
   "source": [
    "y_score = final_model.predict_proba(X_test)[:, 1]\n",
    "y_pred = (y_score >= 0.5).astype(int)\n",
    "\n",
    "pr_auc = auc(*precision_recall_curve(y_test, y_score)[1::-1])\n",
    "roc_auc = roc_auc_score(y_test, y_score)\n",
    "precision = precision_score(y_test, y_pred)\n",
    "recall = recall_score(y_test, y_pred)\n",
    "f1 = f1_score(y_test, y_pred)\n",
    "\n",
    "print(f\"PR-AUC={pr_auc:.4f} ROC-AUC={roc_auc:.4f} \"\n",
    "      f\"Precision={precision:.3f} Recall={recall:.3f} F1={f1:.3f}\")"
   ]
  },
  {
   "cell_type": "markdown",
   "id": "e26f0333-96bd-4dae-903d-6750f896b155",
   "metadata": {},
   "source": [
    "##  8. Подбор порога по валидации"
   ]
  },
  {
   "cell_type": "code",
   "execution_count": 11,
   "id": "0dc6d094-f370-4872-9a85-af296aa3a802",
   "metadata": {},
   "outputs": [
    {
     "name": "stdout",
     "output_type": "stream",
     "text": [
      "Оптимальный порог по val: 0.346\n"
     ]
    }
   ],
   "source": [
    "val_score = final_model.predict_proba(X_val)[:, 1]\n",
    "prec, rec, thr = precision_recall_curve(y_val, val_score)\n",
    "f1_scores = 2 * prec * rec / (prec + rec + 1e-12)\n",
    "best_thr = thr[np.nanargmax(f1_scores)]\n",
    "\n",
    "print(f\"Оптимальный порог по val: {best_thr:.3f}\")"
   ]
  },
  {
   "cell_type": "markdown",
   "id": "4eb9bea2-a851-428b-9b30-b966e06b87e9",
   "metadata": {},
   "source": [
    "## 9. Финальные метрики и визуализация"
   ]
  },
  {
   "cell_type": "code",
   "execution_count": 12,
   "id": "dc821dcd-f284-4033-b10d-321ae804197d",
   "metadata": {},
   "outputs": [
    {
     "name": "stdout",
     "output_type": "stream",
     "text": [
      "Test (порог подобран по валидации)  PR-AUC=0.7921  Precision=0.892  Recall=0.753, F1 = 0.817\n"
     ]
    }
   ],
   "source": [
    "y_pred_test = (y_score >= best_thr).astype(int)\n",
    "\n",
    "precision = precision_score(y_test, y_pred_test)\n",
    "recall = recall_score(y_test, y_pred_test)\n",
    "f1 = f1_score(y_test, y_pred_test)\n",
    "\n",
    "prec, rec, thr = precision_recall_curve(y_test, y_score)\n",
    "pr_auc  = auc(rec, prec)\n",
    "\n",
    "print(\"Test (порог подобран по валидации)  \"\n",
    "      f\"PR-AUC={pr_auc:0.4f}  \"\n",
    "      f\"Precision={precision:0.3f}  \"\n",
    "      f\"Recall={recall:0.3f}, F1 = {f1:.3f}\")"
   ]
  },
  {
   "cell_type": "code",
   "execution_count": 13,
   "id": "1e1f79c0-6fa8-4054-9b23-12fc8c405a6c",
   "metadata": {},
   "outputs": [
    {
     "data": {
      "image/png": "[encoded data removed]",
      "text/plain": [
       "<Figure size 800x300 with 3 Axes>"
      ]
     },
     "metadata": {},
     "output_type": "display_data"
    },
    {
     "name": "stdout",
     "output_type": "stream",
     "text": [
      "\n",
      "============================================================\n",
      "Precision=0.89,   Recall=0.75,   F1=0.82,   PR_AUC=0.79\n",
      "\n",
      "============================================================\n"
     ]
    }
   ],
   "source": [
    "# precision-recall кривая и confusion_matrix и метрики\n",
    "# метрики печать и возвращаем f1, pr_auc\n",
    "def print_metrics(y_true, y_pred,  pr_auc):\n",
    "    precision = precision_score(y_true, y_pred)\n",
    "    recall = recall_score(y_true, y_pred)\n",
    "    f1 = f1_score(y_true, y_pred)\n",
    "    print('\\n'+'='*60)\n",
    "    print(f\"Precision={precision:.2f},   Recall={recall:.2f},   F1={f1:.2f},   PR_AUC={pr_auc:.2f}\")\n",
    "    print('\\n'+'='*60)\n",
    "    # return f1, pr_auc\n",
    "\n",
    "\n",
    "def plot_pr_and_cm(recalls, precisions, y_true, y_pred, main_label = ' на test',):\n",
    "# # Создаём общую фигуру с 2 подграфиками (по горизонтали)\n",
    "    fig, axs = plt.subplots(1, 2, figsize=(8, 3))\n",
    "    # pr curve\n",
    "    fig.suptitle(\"Оценка модели \" + main_label, fontsize=14, fontweight='bold')\n",
    "\n",
    "\n",
    "    labels = ['Норм (0)', 'Аномалии (1)']\n",
    "\n",
    "    axs[0].plot(recalls, precisions, marker='.', color='teal')\n",
    "    axs[0].set_xlabel(\"Recall\")\n",
    "    axs[0].set_ylabel(\"Precision\")\n",
    "    axs[0].set_title(f\"PR Curve (AUC={pr_auc:.2f})\")\n",
    "\n",
    "    # cm\n",
    "    cm = confusion_matrix(y_true, y_pred)\n",
    "\n",
    "    sns.heatmap(cm, annot=True, fmt='d', cmap='Blues',\n",
    "                xticklabels=labels, yticklabels=labels, ax=axs[1])\n",
    "    axs[1].set_xlabel(\"Предсказаные метки\")\n",
    "    axs[1].set_ylabel(\"Истинные метки\")\n",
    "    axs[1].set_title(\"Confusion Matrix\")\n",
    "\n",
    "    plt.tight_layout()\n",
    "    plt.subplots_adjust(wspace=0.3) # раздвигаем картинки\n",
    "    plt.show()\n",
    "\n",
    "    # 3) печать метрик\n",
    "    print_metrics(y_true, y_pred,  pr_auc)\n",
    "    pass\n",
    "\n",
    "plot_pr_and_cm(recalls=rec, precisions=prec, y_true=y_test, y_pred= y_pred_test, main_label = ' на test',)"
   ]
  },
  {
   "cell_type": "markdown",
   "id": "e500b1b9-c8a6-49db-b489-232d41c2ca32",
   "metadata": {},
   "source": [
    "## 13. Выводы\n",
    "**Датасет**\n",
    "- **Объём**: 284 807 транзакций, 35 признаков.\n",
    "- **Ну очень сильный дисбаланс**: 0,17% транзакций — мошеннические (Class == 1).\n",
    "\n",
    "**Временное разбиение**: данные разделены по `Time_abs_hour`:\n",
    "  - **Train**: 0–39 часов (224 865 строк).  \n",
    "  - **Test**: 40–47 часов (59 942 строк).\n",
    "  \n",
    "**Модель**  \n",
    "- **TabNet**\n",
    "  \n",
    "**Подбор гиперпараметров**\n",
    "- **Optuna**\n",
    "  \n",
    "**Метрики**  | F1   | PR AUC |\n",
    "- **Test**     | 0.82 | 0.79   |\n",
    "\n",
    "**Вывод**\n",
    "- Модель TabNET - высокое качество на тестовой выборке:\n",
    "- - PR-AUC: 0.7921 — хороший результат для несбалансированных данных (аномалий всего 0.17%).\n",
    "- -  Precision: 0.89, Recall: 0.75, F1: 0.82 — при оптимальном пороге 0.346, подобранном на валидации\n",
    "- Подбор гиперпараметров через Optuna был эффективен.\n",
    "- - Оптимизация позволила улучшить PR-AUC с ~0.7 до 0.79 на валидации и добиться устойчивой работы на тесте.\n",
    "- Модель справилась с дисбалансом классов (0.17% аномалий)\n",
    "  **Что можно улучшать:**\n",
    "- Попробовать другие архитектуры .\n",
    "- Добавить интерпретацию признаков если бы они были осмыслены , а не после PCA."
   ]
  },
  {
   "cell_type": "code",
   "execution_count": 25,
   "id": "d8789fdc-507b-448c-be19-35046e3290da",
   "metadata": {},
   "outputs": [],
   "source": [
    "# 10. Сохранение модели"
   ]
  },
  {
   "cell_type": "code",
   "execution_count": null,
   "id": "31b5128f-1627-4487-acf9-45b962f420f9",
   "metadata": {},
   "outputs": [],
   "source": [
    "#final_model.save_model(\"tabnet_creditcard\")"
   ]
  }
 ],
 "metadata": {
  "kernelspec": {
   "display_name": "anomaly-detection",
   "language": "python",
   "name": "anomaly-detection"
  },
  "language_info": {
   "codemirror_mode": {
    "name": "ipython",
    "version": 3
   },
   "file_extension": ".py",
   "mimetype": "text/x-python",
   "name": "python",
   "nbconvert_exporter": "python",
   "pygments_lexer": "ipython3",
   "version": "3.10.11"
  }
 },
 "nbformat": 4,
 "nbformat_minor": 5
}
