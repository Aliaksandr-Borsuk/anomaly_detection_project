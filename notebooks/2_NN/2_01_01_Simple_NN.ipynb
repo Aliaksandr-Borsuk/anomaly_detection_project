{
 "cells": [
  {
   "cell_type": "markdown",
   "id": "b9d4f7a6-0270-4cce-af58-7f664cb83461",
   "metadata": {},
   "source": [
    "## Попробуем простую нейросеть PyTorch (2 скрытых слоя + Dropout + BatchNorm), подбор гиперпараметров Optuna\n",
    "- **помним про временные split, признаки и метрики те же**\n",
    "- "
   ]
  },
  {
   "cell_type": "markdown",
   "id": "0dc92008-5dd8-4f69-8f21-4d66c0cc484e",
   "metadata": {},
   "source": [
    "## 1. импорты"
   ]
  },
  {
   "cell_type": "code",
   "execution_count": 10,
   "id": "7551dbd5-5b60-45cd-a5d9-0b1207fad486",
   "metadata": {},
   "outputs": [
    {
     "name": "stdout",
     "output_type": "stream",
     "text": [
      "device: cuda\n"
     ]
    }
   ],
   "source": [
    "# импорты\n",
    "import os, warnings, time, json\n",
    "\n",
    "import numpy as np\n",
    "import pandas as pd\n",
    "import matplotlib.pyplot as plt\n",
    "import seaborn as sns\n",
    "import random\n",
    "from IPython.display import clear_output\n",
    "\n",
    "import torch\n",
    "import torch.nn as nn\n",
    "from torch.utils.data import DataLoader, TensorDataset\n",
    "import optuna\n",
    "from optuna.samplers import TPESampler\n",
    "\n",
    "from sklearn.metrics import (precision_score, recall_score, f1_score,\n",
    "                             roc_auc_score, precision_recall_curve, auc,\n",
    "                             confusion_matrix)\n",
    "from sklearn.preprocessing import RobustScaler\n",
    "\n",
    "\n",
    "warnings.filterwarnings('ignore')\n",
    "\n",
    "plt.style.use('seaborn-v0_8-whitegrid')\n",
    "plt.rcParams['figure.figsize'] = (8, 4)\n",
    "\n",
    "RANDOM_STATE = 42\n",
    "\n",
    "def set_seed(seed=RANDOM_STATE):\n",
    "    torch.manual_seed(seed)\n",
    "    torch.cuda.manual_seed_all(seed)\n",
    "    np.random.seed(seed)\n",
    "    random.seed(seed)\n",
    "    torch.backends.cudnn.deterministic = True\n",
    "    torch.backends.cudnn.benchmark = False\n",
    "\n",
    "set_seed()\n",
    "device = torch.device(\"cuda\" if torch.cuda.is_available() else \"cpu\")\n",
    "print(\"device:\", device)"
   ]
  },
  {
   "cell_type": "markdown",
   "id": "55c97cd8-a66a-4bf0-8c6e-ccaa7ea6c059",
   "metadata": {
    "jp-MarkdownHeadingCollapsed": true
   },
   "source": [
    "## 2.Загрузки"
   ]
  },
  {
   "cell_type": "code",
   "execution_count": null,
   "id": "524bd862-7548-46f8-9f75-65b9a575adc6",
   "metadata": {},
   "outputs": [
    {
     "name": "stdout",
     "output_type": "stream",
     "text": [
      "\n",
      "\n",
      "Размер данных: 284807 строк, 35 столбцов\n",
      "Распределение классов:\n",
      "Class\n",
      "0    0.998273\n",
      "1    0.001727\n",
      "Name: proportion, dtype: float64\n",
      "\n",
      "Данные. Первые строки:\n"
     ]
    },
    {
     "data": {
      "text/html": [
       "<div>\n",
       "<style scoped>\n",
       "    .dataframe tbody tr th:only-of-type {\n",
       "        vertical-align: middle;\n",
       "    }\n",
       "\n",
       "    .dataframe tbody tr th {\n",
       "        vertical-align: top;\n",
       "    }\n",
       "\n",
       "    .dataframe thead th {\n",
       "        text-align: right;\n",
       "    }\n",
       "</style>\n",
       "<table border=\"1\" class=\"dataframe\">\n",
       "  <thead>\n",
       "    <tr style=\"text-align: right;\">\n",
       "      <th></th>\n",
       "      <th>Time</th>\n",
       "      <th>V1</th>\n",
       "      <th>V2</th>\n",
       "      <th>V3</th>\n",
       "      <th>V4</th>\n",
       "      <th>V5</th>\n",
       "      <th>V6</th>\n",
       "      <th>V7</th>\n",
       "      <th>V8</th>\n",
       "      <th>V9</th>\n",
       "      <th>...</th>\n",
       "      <th>V25</th>\n",
       "      <th>V26</th>\n",
       "      <th>V27</th>\n",
       "      <th>V28</th>\n",
       "      <th>Amount</th>\n",
       "      <th>Class</th>\n",
       "      <th>Time_hour</th>\n",
       "      <th>Time_day</th>\n",
       "      <th>Time_abs_hour</th>\n",
       "      <th>Amount_log</th>\n",
       "    </tr>\n",
       "  </thead>\n",
       "  <tbody>\n",
       "    <tr>\n",
       "      <th>0</th>\n",
       "      <td>0.0</td>\n",
       "      <td>-1.359807</td>\n",
       "      <td>-0.072781</td>\n",
       "      <td>2.536347</td>\n",
       "      <td>1.378155</td>\n",
       "      <td>-0.338321</td>\n",
       "      <td>0.462388</td>\n",
       "      <td>0.239599</td>\n",
       "      <td>0.098698</td>\n",
       "      <td>0.363787</td>\n",
       "      <td>...</td>\n",
       "      <td>0.128539</td>\n",
       "      <td>-0.189115</td>\n",
       "      <td>0.133558</td>\n",
       "      <td>-0.021053</td>\n",
       "      <td>149.62</td>\n",
       "      <td>0</td>\n",
       "      <td>0.0</td>\n",
       "      <td>0.0</td>\n",
       "      <td>0.0</td>\n",
       "      <td>5.014760</td>\n",
       "    </tr>\n",
       "    <tr>\n",
       "      <th>1</th>\n",
       "      <td>0.0</td>\n",
       "      <td>1.191857</td>\n",
       "      <td>0.266151</td>\n",
       "      <td>0.166480</td>\n",
       "      <td>0.448154</td>\n",
       "      <td>0.060018</td>\n",
       "      <td>-0.082361</td>\n",
       "      <td>-0.078803</td>\n",
       "      <td>0.085102</td>\n",
       "      <td>-0.255425</td>\n",
       "      <td>...</td>\n",
       "      <td>0.167170</td>\n",
       "      <td>0.125895</td>\n",
       "      <td>-0.008983</td>\n",
       "      <td>0.014724</td>\n",
       "      <td>2.69</td>\n",
       "      <td>0</td>\n",
       "      <td>0.0</td>\n",
       "      <td>0.0</td>\n",
       "      <td>0.0</td>\n",
       "      <td>1.305626</td>\n",
       "    </tr>\n",
       "  </tbody>\n",
       "</table>\n",
       "<p>2 rows × 35 columns</p>\n",
       "</div>"
      ],
      "text/plain": [
       "   Time        V1        V2        V3        V4        V5        V6        V7  \\\n",
       "0   0.0 -1.359807 -0.072781  2.536347  1.378155 -0.338321  0.462388  0.239599   \n",
       "1   0.0  1.191857  0.266151  0.166480  0.448154  0.060018 -0.082361 -0.078803   \n",
       "\n",
       "         V8        V9  ...       V25       V26       V27       V28  Amount  \\\n",
       "0  0.098698  0.363787  ...  0.128539 -0.189115  0.133558 -0.021053  149.62   \n",
       "1  0.085102 -0.255425  ...  0.167170  0.125895 -0.008983  0.014724    2.69   \n",
       "\n",
       "   Class  Time_hour  Time_day  Time_abs_hour  Amount_log  \n",
       "0      0        0.0       0.0            0.0    5.014760  \n",
       "1      0        0.0       0.0            0.0    1.305626  \n",
       "\n",
       "[2 rows x 35 columns]"
      ]
     },
     "metadata": {},
     "output_type": "display_data"
    },
    {
     "name": "stdout",
     "output_type": "stream",
     "text": [
      "Список колонок без PCA: \n",
      " Time Amount Class Time_hour Time_day Time_abs_hour Amount_log\n"
     ]
    }
   ],
   "source": [
    "# поиск пути от текущего файла в папку\n",
    "# anomaly_detection_project\\data\\raw где лежит датасет\n",
    "def find_path_within_project(project_name, path_to_data):\n",
    "    current_path = os.getcwd()   # путь к текущему файлу\n",
    "\n",
    "    while True:\n",
    "        # Проверяем, находится ли проект в текущем каталоге\n",
    "        # если найден лепим и возвращаем нужный путь к данным\n",
    "        if project_name in os.listdir(current_path):\n",
    "            # Строим путь до нужной папки внутри проекта\n",
    "            return os.path.join(current_path, project_name, path_to_data)\n",
    "\n",
    "        parent_path = os.path.dirname(current_path)\n",
    "\n",
    "        if parent_path == current_path:\n",
    "            raise FileNotFoundError(f\"Проект '{project_name}' не найден в родительских каталогах.\")\n",
    "        # если проекта нет поднимаемся выше\n",
    "        current_path = parent_path\n",
    "\n",
    "# Получаем путь\n",
    "full_path_to_cc_1_02_00 = find_path_within_project(\n",
    "    \"anomaly_detection_project\",\n",
    "    os.path.join(\"data\", \"raw\",'creditcard_1_02_00.csv' )\n",
    ")\n",
    "\n",
    "# файл creditcard_1_02_00.csv лежит в папке data/raw/\n",
    "# там добавлены новые колонки времени и суммы\n",
    "# print(f\"Загрузка данных из {full_path}\")\n",
    "df = pd.read_csv(full_path_to_cc_1_02_00)\n",
    "\n",
    "# посмотрим ка\n",
    "print(\"\\n\")\n",
    "print(f\"Размер данных: {df.shape[0]} строк, {df.shape[1]} столбцов\")\n",
    "print(f\"Распределение классов:\\n{df['Class'].value_counts(normalize=True)}\")\n",
    "print(f\"\\nДанные. Первые строки:\")\n",
    "display(df.head(2))\n",
    "print(\"Список колонок без PCA: \\n\", *df.columns[~df.columns.str.startswith('V')])"
   ]
  },
  {
   "cell_type": "markdown",
   "id": "747324d8-faaa-4bd3-a6ea-b99f274c489c",
   "metadata": {
    "jp-MarkdownHeadingCollapsed": true
   },
   "source": [
    "## 3. splits"
   ]
  },
  {
   "cell_type": "code",
   "execution_count": null,
   "id": "6b26323a-faf9-4940-af1d-98b55d8a6ddd",
   "metadata": {},
   "outputs": [
    {
     "name": "stdout",
     "output_type": "stream",
     "text": [
      "easy checking: \n",
      " train min 0.0, train max 39.0\n",
      " test min 40.0, test max 47.0\n",
      "\n",
      "Отрезали тестовую выборку.\n",
      "Размеры train:(224865, 35) test: (59942, 35) .\n",
      "\n",
      "easy checking: \n",
      " train min 0.0, train max 31.0\n",
      " test min 32.0, test max 39.0\n",
      "\n",
      "Порезали тренировочную выборку.\n",
      "Размеры train_2 :(162525, 35) val: (62340, 35) .\n"
     ]
    }
   ],
   "source": [
    "# колонка для сплита\n",
    "time_column = 'Time_abs_hour'\n",
    "\n",
    "# Выделим для теста последние 8 часов\n",
    "def get_train_test(df, col, train_finish,\n",
    "                   train_start = 0, test_finish = 0, gap = 0,\n",
    "                   easy_check =True):\n",
    "    '''делим df на train и test\n",
    "        - gap -зазор между train и test (возможно и не пригодиццо)\n",
    "    '''\n",
    "    # определяем test_start и test_finish\n",
    "    if test_finish == 0:\n",
    "        test_finish = df[col].max()\n",
    "    test_start = train_finish + gap + 1\n",
    "    df_train = df[(df[col] >= train_start) & (df[col] <= train_finish)]\n",
    "    df_test =  df[(df[col] >= test_start) & (df[col] <= test_finish)]\n",
    "    if  easy_check:\n",
    "        print(\"easy checking: \\n\",\n",
    "              f\"train min {df_train[col].min()}, train max {df_train[col].max()}\\n\" ,\n",
    "              f\"test min {df_test[col].min()}, test max {df_test[col].max()}\")\n",
    "    return df_train, df_test\n",
    "\n",
    "# делим на трейн тест\n",
    "time_col = 'Time_abs_hour'\n",
    "train_finish = df[time_col].max() - 8\n",
    "df_train, df_test = get_train_test(df, time_col , train_finish)\n",
    "print(\"\\nОтрезали тестовую выборку.\")\n",
    "print(f\"Размеры train:{df_train.shape} test: {df_test.shape} .\\n\")\n",
    "\n",
    "# делаем ещё один тайм сплит для подбора гиперпараметров\n",
    "# можно конечно в оптуну загрузить и time кросс-валидацию но и так должно сработать...\n",
    "train_finish_2 = df_train[time_col].max() - 8\n",
    "df_train_2, df_val = get_train_test(df_train, time_col , train_finish_2)\n",
    "print(\"\\nПорезали тренировочную выборку.\")\n",
    "print(f\"Размеры train_2 :{df_train_2.shape} val: {df_val.shape} .\")"
   ]
  },
  {
   "cell_type": "code",
   "execution_count": 7,
   "id": "c12b6e47-9543-4bb8-b1e8-1076552c7578",
   "metadata": {},
   "outputs": [
    {
     "name": "stdout",
     "output_type": "stream",
     "text": [
      "n_features: 28\n"
     ]
    }
   ],
   "source": [
    "# признаки\n",
    "unnecessary_cols = ['Time','Amount','Time_hour','Time_day','Amount_log', time_col]\n",
    "target_col = 'Class'\n",
    "drop_cols = [target_col] + unnecessary_cols\n",
    "\n",
    "def xy(df):\n",
    "    return df.drop(drop_cols, axis=1).values.astype('float32'), df[target_col].values\n",
    "\n",
    "X_tr, y_tr = xy(df_train_2)\n",
    "X_val, y_val = xy(df_val)\n",
    "X_test, y_test = xy(df_test)\n",
    "# полный трейн\n",
    "X_train, y_train  = xy(df_train)\n",
    "\n",
    "# размерности\n",
    "n_features = X_tr.shape[1]\n",
    "print(\"n_features:\", n_features)"
   ]
  },
  {
   "cell_type": "markdown",
   "id": "d7f7ce08-db0e-4419-bcb1-3d02bab8f33d",
   "metadata": {},
   "source": [
    "## 4. PyTorch Dataset / Loader"
   ]
  },
  {
   "cell_type": "code",
   "execution_count": 8,
   "id": "543f4e98-1ca5-4a34-a679-3c4fde9e54f8",
   "metadata": {},
   "outputs": [],
   "source": [
    "BATCH_SIZE = 1024\n",
    "# датасеты\n",
    "train_ds  = TensorDataset(torch.from_numpy(X_train),  torch.from_numpy(y_train))\n",
    "tr_ds  = TensorDataset(torch.from_numpy(X_tr),  torch.from_numpy(y_tr))\n",
    "val_ds    = TensorDataset(torch.from_numpy(X_val), torch.from_numpy(y_val))\n",
    "test_ds   = TensorDataset(torch.from_numpy(X_test),torch.from_numpy(y_test))\n",
    "\n",
    "# даталодеры\n",
    "train_dl  = DataLoader(train_ds,  batch_size=BATCH_SIZE, shuffle=True)\n",
    "tr_dl  = DataLoader(tr_ds,  batch_size=BATCH_SIZE, shuffle=True)\n",
    "val_dl    = DataLoader(val_ds,    batch_size=BATCH_SIZE)\n",
    "test_dl   = DataLoader(test_ds,   batch_size=BATCH_SIZE)"
   ]
  },
  {
   "cell_type": "markdown",
   "id": "e815f9a3-627a-421a-8dd8-1be225b170ea",
   "metadata": {
    "jp-MarkdownHeadingCollapsed": true
   },
   "source": [
    "## 5. Модель"
   ]
  },
  {
   "cell_type": "code",
   "execution_count": null,
   "id": "6befe3fe-6b0c-4b1f-a57d-ad196944fdaf",
   "metadata": {},
   "outputs": [],
   "source": [
    "class SimpleNN(nn.Module):\n",
    "    def __init__(self, input_dim, hidden1, hidden2, dropout):\n",
    "        super().__init__()\n",
    "        self.net = nn.Sequential(\n",
    "            nn.Linear(input_dim, hidden1),\n",
    "            nn.BatchNorm1d(hidden1),\n",
    "            nn.ReLU(),\n",
    "            nn.Dropout(dropout),\n",
    "            nn.Linear(hidden1, hidden2),\n",
    "            nn.BatchNorm1d(hidden2),\n",
    "            nn.ReLU(),\n",
    "            nn.Dropout(dropout),\n",
    "            nn.Linear(hidden2, 1),\n",
    "        )\n",
    "\n",
    "    def forward(self, x):\n",
    "        return self.net(x)\n",
    "\n",
    "# для инициализации весов\n",
    "def weights_init(m):\n",
    "    if isinstance(m, nn.Linear):\n",
    "        nn.init.kaiming_normal_(m.weight)\n",
    "        nn.init.zeros_(m.bias)"
   ]
  },
  {
   "cell_type": "markdown",
   "id": "24fa5d5f-b67a-49a2-a5d3-415f456e5c20",
   "metadata": {},
   "source": [
    "## 6. валидация, обучение"
   ]
  },
  {
   "cell_type": "code",
   "execution_count": null,
   "id": "eeabb6ee-be27-42e0-a1da-cc946e20f833",
   "metadata": {},
   "outputs": [],
   "source": [
    "def train_epoch(model, loader, optimizer, criterion):\n",
    "    model.train()  # настраиваем на обучение\n",
    "    total_loss, n = 0., 0  # задаём стартовые значения\n",
    "    for X, y in loader:\n",
    "        X, y = X.to(device), y.float().to(device)\n",
    "        optimizer.zero_grad()    # обнуляем градиенты\n",
    "        preds = model(X).squeeze(1)  # prediction\n",
    "        loss = criterion(preds, y)\n",
    "        loss.backward()\n",
    "        optimizer.step()\n",
    "        # собираем результат в кучку\n",
    "        total_loss += loss.item() * len(X)\n",
    "        n += len(X)\n",
    "    # возвращаем среднее за эпоху\n",
    "    return total_loss / n\n",
    "\n",
    "@torch.no_grad()\n",
    "def valid_epoch(model, loader, criterion):\n",
    "    model.eval()  # режим оценки\n",
    "    # стартовая инициализация\n",
    "    total_loss, n = 0., 0\n",
    "    all_preds, all_labels = [], []\n",
    "    for X, y in loader:\n",
    "        X, y = X.to(device), y.float().to(device)\n",
    "        preds = torch.sigmoid(model(X).squeeze(1))\n",
    "        total_loss += criterion(preds, y).item() * len(X)\n",
    "        n += len(X)\n",
    "        all_preds.append(preds.cpu())\n",
    "        all_labels.append(y.cpu())\n",
    "\n",
    "    preds = torch.cat(all_preds).numpy()\n",
    "    labels = torch.cat(all_labels).numpy()\n",
    "    pr_auc = auc(*precision_recall_curve(labels, preds)[1::-1])\n",
    "    roc_auc = roc_auc_score(labels, preds)\n",
    "    return total_loss / n, pr_auc, roc_auc"
   ]
  },
  {
   "cell_type": "markdown",
   "id": "a867e9bb-7c0f-4506-ba41-37cd80e4ab0a",
   "metadata": {},
   "source": [
    "## 7. optuna objective"
   ]
  },
  {
   "cell_type": "code",
   "execution_count": null,
   "id": "ec78c0c9-197a-45f4-8073-3731ab7841d7",
   "metadata": {
    "jupyter": {
     "source_hidden": true
    }
   },
   "outputs": [],
   "source": [
    "N_Epochs = 100\n",
    "def objective(trial):\n",
    "    lr        = trial.suggest_float(\"lr\", 1e-3, 3e-2, log=True)\n",
    "    hidden1   = trial.suggest_categorical(\"hidden1\", [2**i for i in range(6, 9)])\n",
    "    hidden2   = trial.suggest_categorical(\"hidden2\", [2**i for i in range(4, 9)])\n",
    "    dropout   = trial.suggest_float(\"dropout\", 0.1, 0.5)\n",
    "    wd        = trial.suggest_float(\"weight_decay\", 1e-6, 1e-2, log=True)\n",
    "\n",
    "    gamma     = trial.suggest_float(\"gamma\", 0.70, 0.99)  # для scheduler\n",
    "\n",
    "    # инициализируем модел\n",
    "    model = SimpleNN(n_features, hidden1, hidden2, dropout).to(device)\n",
    "    model.apply(weights_init)\n",
    "\n",
    "    optimizer = torch.optim.AdamW(model.parameters(), lr=lr, weight_decay=wd)\n",
    "    scheduler = torch.optim.lr_scheduler.ExponentialLR(optimizer, gamma=gamma)\n",
    "    # бинарная кросс-энтропия с логитами, pos_weight — балансировка классов  классы же несбалансированы\n",
    "    criterion = nn.BCEWithLogitsLoss(pos_weight=torch.tensor([len(y_tr)/y_tr.sum()]).to(device))\n",
    "\n",
    "    # Если PR AUC не улучшается 5 эпох подряд — обучение прерывается\n",
    "    best_pr = 0\n",
    "    waiting = 5\n",
    "    no_improvement = 0\n",
    "\n",
    "    for epoch in range(N_Epochs):\n",
    "        train_loss = train_epoch(model, tr_dl, optimizer, criterion)\n",
    "        val_loss, val_pr, val_roc = valid_epoch(model, val_dl, criterion)\n",
    "\n",
    "        scheduler.step()  # обновляем lr\n",
    "\n",
    "        if val_pr > best_pr:\n",
    "            best_pr = val_pr\n",
    "            no_improvement = 0\n",
    "        else:\n",
    "            no_improvement += 1\n",
    "        if no_improvement >= waiting:\n",
    "            break\n",
    "\n",
    "    print(f\"\\nУчились {epoch} эпох.\")\n",
    "    return best_pr\n",
    "\n",
    "    # инициализируем модел\n",
    "\n",
    "\n",
    "    # Если PR AUC не улучшается 5 эпох подряд — обучение прерывается\n",
    "    best_pr = 0\n",
    "    waiting = 5\n",
    "    no_improvement = 0\n",
    "    for epoch in range(N_Epochs):\n",
    "        train_loss = train_epoch(model, tr_dl, optimizer, criterion)\n",
    "        val_loss, val_pr, val_roc = valid_epoch(model, val_dl, criterion)\n",
    "        if val_pr > best_pr:\n",
    "            best_pr = val_pr\n",
    "            no_improvement = 0\n",
    "        else:\n",
    "            no_improvement += 1\n",
    "        if no_improvement >= waiting:\n",
    "            break\n",
    "    print(f\"\\nУчились {epoch} эпох.\")\n",
    "    return best_pr"
   ]
  },
  {
   "cell_type": "code",
   "execution_count": 43,
   "id": "6d169d6d-641a-4134-a5f8-53da2843db19",
   "metadata": {
    "scrolled": true
   },
   "outputs": [
    {
     "name": "stderr",
     "output_type": "stream",
     "text": [
      "[I 2025-08-26 22:28:35,692] A new study created in memory with name: no-name-781fd84e-7ddc-4b60-b940-7d976620ce13\n"
     ]
    },
    {
     "data": {
      "application/vnd.jupyter.widget-view+json": {
       "model_id": "aae9fbd404874489b50d4af951bbb7ee",
       "version_major": 2,
       "version_minor": 0
      },
      "text/plain": [
       "  0%|          | 0/30 [00:00<?, ?it/s]"
      ]
     },
     "metadata": {},
     "output_type": "display_data"
    },
    {
     "name": "stdout",
     "output_type": "stream",
     "text": [
      "\n",
      "Учились 13 эпох.\n",
      "[I 2025-08-26 22:29:06,747] Trial 0 finished with value: 0.757127574183859 and parameters: {'lr': 0.0035747129226002435, 'hidden1': 64, 'hidden2': 128, 'dropout': 0.3832290311184182, 'weight_decay': 1.2087541473056965e-06, 'gamma': 0.9812738571269783}. Best is trial 0 with value: 0.757127574183859.\n",
      "\n",
      "Учились 23 эпох.\n",
      "[I 2025-08-26 22:30:08,377] Trial 1 finished with value: 0.7479736586913608 and parameters: {'lr': 0.01696753360719655, 'hidden1': 64, 'hidden2': 256, 'dropout': 0.15579754426081674, 'weight_decay': 1.4742753159914662e-05, 'gamma': 0.8062449345551705}. Best is trial 0 with value: 0.757127574183859.\n",
      "\n",
      "Учились 6 эпох.\n",
      "[I 2025-08-26 22:30:24,367] Trial 2 finished with value: 0.7561083884294163 and parameters: {'lr': 0.004717052037625177, 'hidden1': 64, 'hidden2': 64, 'dropout': 0.4795542149013333, 'weight_decay': 0.007286653737491046, 'gamma': 0.9344352309537737}. Best is trial 0 with value: 0.757127574183859.\n",
      "\n",
      "Учились 7 эпох.\n",
      "[I 2025-08-26 22:30:44,404] Trial 3 finished with value: 0.7593184964000504 and parameters: {'lr': 0.0028180680291847227, 'hidden1': 128, 'hidden2': 128, 'dropout': 0.36500891374159283, 'weight_decay': 1.7654048052495086e-05, 'gamma': 0.8508197261415651}. Best is trial 3 with value: 0.7593184964000504.\n",
      "\n",
      "Учились 8 эпох.\n",
      "[I 2025-08-26 22:31:04,977] Trial 4 finished with value: 0.7679875607444177 and parameters: {'lr': 0.006420330336297861, 'hidden1': 128, 'hidden2': 16, 'dropout': 0.1783931449676581, 'weight_decay': 1.5167330688076198e-06, 'gamma': 0.7943457959213467}. Best is trial 4 with value: 0.7679875607444177.\n",
      "\n",
      "Учились 7 эпох.\n",
      "[I 2025-08-26 22:31:24,652] Trial 5 finished with value: 0.75793813089473 and parameters: {'lr': 0.0037507963596256065, 'hidden1': 128, 'hidden2': 128, 'dropout': 0.4947547746402069, 'weight_decay': 0.001227380098785297, 'gamma': 0.7576275476449099}. Best is trial 4 with value: 0.7679875607444177.\n",
      "\n",
      "Учились 15 эпох.\n",
      "[I 2025-08-26 22:32:05,907] Trial 6 finished with value: 0.7496832715735093 and parameters: {'lr': 0.0010189592979395134, 'hidden1': 64, 'hidden2': 256, 'dropout': 0.3493192507310232, 'weight_decay': 2.106648601704221e-05, 'gamma': 0.7184319215829468}. Best is trial 4 with value: 0.7679875607444177.\n",
      "\n",
      "Учились 9 эпох.\n",
      "[I 2025-08-26 22:32:28,147] Trial 7 finished with value: 0.7668098043435395 and parameters: {'lr': 0.0028797752657070334, 'hidden1': 128, 'hidden2': 16, 'dropout': 0.3245108790277985, 'weight_decay': 0.0012130221181165164, 'gamma': 0.8432007229456733}. Best is trial 4 with value: 0.7679875607444177.\n",
      "\n",
      "Учились 9 эпох.\n",
      "[I 2025-08-26 22:32:53,647] Trial 8 finished with value: 0.7568454348222765 and parameters: {'lr': 0.005917520523090665, 'hidden1': 64, 'hidden2': 256, 'dropout': 0.19971689165954998, 'weight_decay': 4.3805807679056575e-05, 'gamma': 0.919109830177484}. Best is trial 4 with value: 0.7679875607444177.\n",
      "\n",
      "Учились 17 эпох.\n",
      "[I 2025-08-26 22:33:34,898] Trial 9 finished with value: 0.7484983583250909 and parameters: {'lr': 0.002177522410193406, 'hidden1': 128, 'hidden2': 16, 'dropout': 0.17462802355441434, 'weight_decay': 0.0037173717478250516, 'gamma': 0.8564092501555387}. Best is trial 4 with value: 0.7679875607444177.\n",
      "\n",
      "Учились 9 эпох.\n",
      "[I 2025-08-26 22:34:00,289] Trial 10 finished with value: 0.7630090877559346 and parameters: {'lr': 0.014062854342115003, 'hidden1': 256, 'hidden2': 32, 'dropout': 0.24833390904141633, 'weight_decay': 1.1430113525046777e-06, 'gamma': 0.7839437082499313}. Best is trial 4 with value: 0.7679875607444177.\n",
      "\n",
      "Учились 10 эпох.\n",
      "[I 2025-08-26 22:34:24,849] Trial 11 finished with value: 0.7568795938924038 and parameters: {'lr': 0.00946681956482122, 'hidden1': 128, 'hidden2': 16, 'dropout': 0.10527069298533626, 'weight_decay': 0.0005534750483117699, 'gamma': 0.8253200556658538}. Best is trial 4 with value: 0.7679875607444177.\n",
      "\n",
      "Учились 16 эпох.\n",
      "[I 2025-08-26 22:35:03,530] Trial 12 finished with value: 0.7558555467296403 and parameters: {'lr': 0.0016081708981861651, 'hidden1': 128, 'hidden2': 16, 'dropout': 0.2564133065278992, 'weight_decay': 0.00026837193414400195, 'gamma': 0.8898233554611313}. Best is trial 4 with value: 0.7679875607444177.\n",
      "\n",
      "Учились 7 эпох.\n",
      "[I 2025-08-26 22:35:24,317] Trial 13 finished with value: 0.7641133991410268 and parameters: {'lr': 0.007437959234655595, 'hidden1': 256, 'hidden2': 16, 'dropout': 0.3111115572120128, 'weight_decay': 3.561196139571878e-06, 'gamma': 0.7552228107060366}. Best is trial 4 with value: 0.7679875607444177.\n",
      "\n",
      "Учились 7 эпох.\n",
      "[I 2025-08-26 22:35:42,648] Trial 14 finished with value: 0.7546699292634886 and parameters: {'lr': 0.023343672474746002, 'hidden1': 128, 'hidden2': 16, 'dropout': 0.4234705524950008, 'weight_decay': 0.0001380942383023217, 'gamma': 0.7018531020565767}. Best is trial 4 with value: 0.7679875607444177.\n",
      "\n",
      "Учились 15 эпох.\n",
      "[I 2025-08-26 22:36:19,712] Trial 15 finished with value: 0.7684367766074026 and parameters: {'lr': 0.0017142336787843364, 'hidden1': 128, 'hidden2': 32, 'dropout': 0.2673042175227889, 'weight_decay': 0.001555892102252041, 'gamma': 0.868366968826367}. Best is trial 15 with value: 0.7684367766074026.\n",
      "\n",
      "Учились 12 эпох.\n",
      "[I 2025-08-26 22:36:53,268] Trial 16 finished with value: 0.7648067965818949 and parameters: {'lr': 0.0010457065772553611, 'hidden1': 256, 'hidden2': 32, 'dropout': 0.2493033372902733, 'weight_decay': 5.880842039833552e-06, 'gamma': 0.884056651840959}. Best is trial 15 with value: 0.7684367766074026.\n",
      "\n",
      "Учились 11 эпох.\n",
      "[I 2025-08-26 22:37:20,843] Trial 17 finished with value: 0.755051841582182 and parameters: {'lr': 0.009724674866328595, 'hidden1': 128, 'hidden2': 32, 'dropout': 0.2127157821119105, 'weight_decay': 5.952627016043728e-05, 'gamma': 0.798308089039297}. Best is trial 15 with value: 0.7684367766074026.\n",
      "\n",
      "Учились 8 эпох.\n",
      "[I 2025-08-26 22:37:41,509] Trial 18 finished with value: 0.7649063305112764 and parameters: {'lr': 0.0015445857587143665, 'hidden1': 128, 'hidden2': 32, 'dropout': 0.14669405195299584, 'weight_decay': 0.00230791364524245, 'gamma': 0.8857574118313536}. Best is trial 15 with value: 0.7684367766074026.\n",
      "\n",
      "Учились 5 эпох.\n",
      "[I 2025-08-26 22:37:55,616] Trial 19 finished with value: 0.7624780247188704 and parameters: {'lr': 0.005488199555954783, 'hidden1': 128, 'hidden2': 64, 'dropout': 0.27908171645215163, 'weight_decay': 0.00029070887122587875, 'gamma': 0.7616628052497891}. Best is trial 15 with value: 0.7684367766074026.\n",
      "\n",
      "Учились 7 эпох.\n",
      "[I 2025-08-26 22:38:16,384] Trial 20 finished with value: 0.7772773386880976 and parameters: {'lr': 0.0019256041832174844, 'hidden1': 256, 'hidden2': 32, 'dropout': 0.10397024146368339, 'weight_decay': 3.93287426297327e-06, 'gamma': 0.9552245587798494}. Best is trial 20 with value: 0.7772773386880976.\n",
      "\n",
      "Учились 9 эпох.\n",
      "[I 2025-08-26 22:38:42,313] Trial 21 finished with value: 0.7721710428494035 and parameters: {'lr': 0.0018895937756163894, 'hidden1': 256, 'hidden2': 32, 'dropout': 0.10802640584678969, 'weight_decay': 3.8011910360666723e-06, 'gamma': 0.9840741818426304}. Best is trial 20 with value: 0.7772773386880976.\n",
      "\n",
      "Учились 5 эпох.\n",
      "[I 2025-08-26 22:38:57,750] Trial 22 finished with value: 0.7617987892564065 and parameters: {'lr': 0.0017880881376423185, 'hidden1': 256, 'hidden2': 32, 'dropout': 0.10035340047784025, 'weight_decay': 5.31083740711799e-06, 'gamma': 0.9851283114662038}. Best is trial 20 with value: 0.7772773386880976.\n",
      "\n",
      "Учились 9 эпох.\n",
      "[I 2025-08-26 22:39:23,793] Trial 23 finished with value: 0.7345031801571923 and parameters: {'lr': 0.0013027743928504477, 'hidden1': 256, 'hidden2': 32, 'dropout': 0.1369576935153579, 'weight_decay': 7.767261169942566e-06, 'gamma': 0.9550552308075402}. Best is trial 20 with value: 0.7772773386880976.\n",
      "\n",
      "Учились 9 эпох.\n",
      "[I 2025-08-26 22:39:49,475] Trial 24 finished with value: 0.7666602584445409 and parameters: {'lr': 0.002393149320991356, 'hidden1': 256, 'hidden2': 32, 'dropout': 0.22013793164856818, 'weight_decay': 3.940027878539698e-05, 'gamma': 0.9572841620859578}. Best is trial 20 with value: 0.7772773386880976.\n",
      "\n",
      "Учились 9 эпох.\n",
      "[I 2025-08-26 22:40:15,536] Trial 25 finished with value: 0.7585042369005901 and parameters: {'lr': 0.002130775452822585, 'hidden1': 256, 'hidden2': 32, 'dropout': 0.13023792962225872, 'weight_decay': 2.0211114016056177e-06, 'gamma': 0.9156374679692076}. Best is trial 20 with value: 0.7772773386880976.\n",
      "\n",
      "Учились 15 эпох.\n",
      "[I 2025-08-26 22:40:57,243] Trial 26 finished with value: 0.7721257014263276 and parameters: {'lr': 0.001344875276977381, 'hidden1': 256, 'hidden2': 32, 'dropout': 0.4100913116670416, 'weight_decay': 2.697180416948197e-06, 'gamma': 0.9585142303363652}. Best is trial 20 with value: 0.7772773386880976.\n",
      "\n",
      "Учились 9 эпох.\n",
      "[I 2025-08-26 22:41:23,083] Trial 27 finished with value: 0.7608334202108912 and parameters: {'lr': 0.0038623837622730707, 'hidden1': 256, 'hidden2': 32, 'dropout': 0.43455698802483717, 'weight_decay': 3.017558826751162e-06, 'gamma': 0.9583533980811939}. Best is trial 20 with value: 0.7772773386880976.\n",
      "\n",
      "Учились 11 эпох.\n",
      "[I 2025-08-26 22:41:53,835] Trial 28 finished with value: 0.7692715427958364 and parameters: {'lr': 0.0012374177542672966, 'hidden1': 256, 'hidden2': 32, 'dropout': 0.4057077214772593, 'weight_decay': 1.1225054412668392e-05, 'gamma': 0.9264906065582059}. Best is trial 20 with value: 0.7772773386880976.\n",
      "\n",
      "Учились 8 эпох.\n",
      "[I 2025-08-26 22:42:17,350] Trial 29 finished with value: 0.7516309847845083 and parameters: {'lr': 0.0029376768765401787, 'hidden1': 256, 'hidden2': 64, 'dropout': 0.39109502146848424, 'weight_decay': 2.733454894450649e-06, 'gamma': 0.9885109341252585}. Best is trial 20 with value: 0.7772773386880976.\n"
     ]
    }
   ],
   "source": [
    "study = optuna.create_study(direction=\"maximize\", sampler=TPESampler(seed=42))\n",
    "study.optimize(objective, n_trials=30, show_progress_bar=True)"
   ]
  },
  {
   "cell_type": "code",
   "execution_count": 44,
   "id": "a2c9250a-8ce6-4c6a-9c9e-7c25528ab63a",
   "metadata": {
    "scrolled": true
   },
   "outputs": [
    {
     "data": {
      "application/vnd.plotly.v1+json": {
       "config": {
        "plotlyServerURL": "https://plot.ly"
       },
       "data": [
        {
         "mode": "markers",
         "name": "Objective Value",
         "type": "scatter",
         "x": [
          0,
          1,
          2,
          3,
          4,
          5,
          6,
          7,
          8,
          9,
          10,
          11,
          12,
          13,
          14,
          15,
          16,
          17,
          18,
          19,
          20,
          21,
          22,
          23,
          24,
          25,
          26,
          27,
          28,
          29
         ],
         "y": [
          0.757127574183859,
          0.7479736586913608,
          0.7561083884294163,
          0.7593184964000504,
          0.7679875607444177,
          0.75793813089473,
          0.7496832715735093,
          0.7668098043435395,
          0.7568454348222765,
          0.7484983583250909,
          0.7630090877559346,
          0.7568795938924038,
          0.7558555467296403,
          0.7641133991410268,
          0.7546699292634886,
          0.7684367766074026,
          0.7648067965818949,
          0.755051841582182,
          0.7649063305112764,
          0.7624780247188704,
          0.7772773386880976,
          0.7721710428494035,
          0.7617987892564065,
          0.7345031801571923,
          0.7666602584445409,
          0.7585042369005901,
          0.7721257014263276,
          0.7608334202108912,
          0.7692715427958364,
          0.7516309847845083
         ]
        },
        {
         "mode": "lines",
         "name": "Best Value",
         "type": "scatter",
         "x": [
          0,
          1,
          2,
          3,
          4,
          5,
          6,
          7,
          8,
          9,
          10,
          11,
          12,
          13,
          14,
          15,
          16,
          17,
          18,
          19,
          20,
          21,
          22,
          23,
          24,
          25,
          26,
          27,
          28,
          29
         ],
         "y": [
          0.757127574183859,
          0.757127574183859,
          0.757127574183859,
          0.7593184964000504,
          0.7679875607444177,
          0.7679875607444177,
          0.7679875607444177,
          0.7679875607444177,
          0.7679875607444177,
          0.7679875607444177,
          0.7679875607444177,
          0.7679875607444177,
          0.7679875607444177,
          0.7679875607444177,
          0.7679875607444177,
          0.7684367766074026,
          0.7684367766074026,
          0.7684367766074026,
          0.7684367766074026,
          0.7684367766074026,
          0.7772773386880976,
          0.7772773386880976,
          0.7772773386880976,
          0.7772773386880976,
          0.7772773386880976,
          0.7772773386880976,
          0.7772773386880976,
          0.7772773386880976,
          0.7772773386880976,
          0.7772773386880976
         ]
        },
        {
         "marker": {
          "color": "#cccccc"
         },
         "mode": "markers",
         "name": "Infeasible Trial",
         "showlegend": false,
         "type": "scatter",
         "x": [],
         "y": []
        }
       ],
       "layout": {
        "template": {
         "data": {
          "bar": [
           {
            "error_x": {
             "color": "#2a3f5f"
            },
            "error_y": {
             "color": "#2a3f5f"
            },
            "marker": {
             "line": {
              "color": "#E5ECF6",
              "width": 0.5
             },
             "pattern": {
              "fillmode": "overlay",
              "size": 10,
              "solidity": 0.2
             }
            },
            "type": "bar"
           }
          ],
          "barpolar": [
           {
            "marker": {
             "line": {
              "color": "#E5ECF6",
              "width": 0.5
             },
             "pattern": {
              "fillmode": "overlay",
              "size": 10,
              "solidity": 0.2
             }
            },
            "type": "barpolar"
           }
          ],
          "carpet": [
           {
            "aaxis": {
             "endlinecolor": "#2a3f5f",
             "gridcolor": "white",
             "linecolor": "white",
             "minorgridcolor": "white",
             "startlinecolor": "#2a3f5f"
            },
            "baxis": {
             "endlinecolor": "#2a3f5f",
             "gridcolor": "white",
             "linecolor": "white",
             "minorgridcolor": "white",
             "startlinecolor": "#2a3f5f"
            },
            "type": "carpet"
           }
          ],
          "choropleth": [
           {
            "colorbar": {
             "outlinewidth": 0,
             "ticks": ""
            },
            "type": "choropleth"
           }
          ],
          "contour": [
           {
            "colorbar": {
             "outlinewidth": 0,
             "ticks": ""
            },
            "colorscale": [
             [
              0,
              "#0d0887"
             ],
             [
              0.1111111111111111,
              "#46039f"
             ],
             [
              0.2222222222222222,
              "#7201a8"
             ],
             [
              0.3333333333333333,
              "#9c179e"
             ],
             [
              0.4444444444444444,
              "#bd3786"
             ],
             [
              0.5555555555555556,
              "#d8576b"
             ],
             [
              0.6666666666666666,
              "#ed7953"
             ],
             [
              0.7777777777777778,
              "#fb9f3a"
             ],
             [
              0.8888888888888888,
              "#fdca26"
             ],
             [
              1,
              "#f0f921"
             ]
            ],
            "type": "contour"
           }
          ],
          "contourcarpet": [
           {
            "colorbar": {
             "outlinewidth": 0,
             "ticks": ""
            },
            "type": "contourcarpet"
           }
          ],
          "heatmap": [
           {
            "colorbar": {
             "outlinewidth": 0,
             "ticks": ""
            },
            "colorscale": [
             [
              0,
              "#0d0887"
             ],
             [
              0.1111111111111111,
              "#46039f"
             ],
             [
              0.2222222222222222,
              "#7201a8"
             ],
             [
              0.3333333333333333,
              "#9c179e"
             ],
             [
              0.4444444444444444,
              "#bd3786"
             ],
             [
              0.5555555555555556,
              "#d8576b"
             ],
             [
              0.6666666666666666,
              "#ed7953"
             ],
             [
              0.7777777777777778,
              "#fb9f3a"
             ],
             [
              0.8888888888888888,
              "#fdca26"
             ],
             [
              1,
              "#f0f921"
             ]
            ],
            "type": "heatmap"
           }
          ],
          "histogram": [
           {
            "marker": {
             "pattern": {
              "fillmode": "overlay",
              "size": 10,
              "solidity": 0.2
             }
            },
            "type": "histogram"
           }
          ],
          "histogram2d": [
           {
            "colorbar": {
             "outlinewidth": 0,
             "ticks": ""
            },
            "colorscale": [
             [
              0,
              "#0d0887"
             ],
             [
              0.1111111111111111,
              "#46039f"
             ],
             [
              0.2222222222222222,
              "#7201a8"
             ],
             [
              0.3333333333333333,
              "#9c179e"
             ],
             [
              0.4444444444444444,
              "#bd3786"
             ],
             [
              0.5555555555555556,
              "#d8576b"
             ],
             [
              0.6666666666666666,
              "#ed7953"
             ],
             [
              0.7777777777777778,
              "#fb9f3a"
             ],
             [
              0.8888888888888888,
              "#fdca26"
             ],
             [
              1,
              "#f0f921"
             ]
            ],
            "type": "histogram2d"
           }
          ],
          "histogram2dcontour": [
           {
            "colorbar": {
             "outlinewidth": 0,
             "ticks": ""
            },
            "colorscale": [
             [
              0,
              "#0d0887"
             ],
             [
              0.1111111111111111,
              "#46039f"
             ],
             [
              0.2222222222222222,
              "#7201a8"
             ],
             [
              0.3333333333333333,
              "#9c179e"
             ],
             [
              0.4444444444444444,
              "#bd3786"
             ],
             [
              0.5555555555555556,
              "#d8576b"
             ],
             [
              0.6666666666666666,
              "#ed7953"
             ],
             [
              0.7777777777777778,
              "#fb9f3a"
             ],
             [
              0.8888888888888888,
              "#fdca26"
             ],
             [
              1,
              "#f0f921"
             ]
            ],
            "type": "histogram2dcontour"
           }
          ],
          "mesh3d": [
           {
            "colorbar": {
             "outlinewidth": 0,
             "ticks": ""
            },
            "type": "mesh3d"
           }
          ],
          "parcoords": [
           {
            "line": {
             "colorbar": {
              "outlinewidth": 0,
              "ticks": ""
             }
            },
            "type": "parcoords"
           }
          ],
          "pie": [
           {
            "automargin": true,
            "type": "pie"
           }
          ],
          "scatter": [
           {
            "fillpattern": {
             "fillmode": "overlay",
             "size": 10,
             "solidity": 0.2
            },
            "type": "scatter"
           }
          ],
          "scatter3d": [
           {
            "line": {
             "colorbar": {
              "outlinewidth": 0,
              "ticks": ""
             }
            },
            "marker": {
             "colorbar": {
              "outlinewidth": 0,
              "ticks": ""
             }
            },
            "type": "scatter3d"
           }
          ],
          "scattercarpet": [
           {
            "marker": {
             "colorbar": {
              "outlinewidth": 0,
              "ticks": ""
             }
            },
            "type": "scattercarpet"
           }
          ],
          "scattergeo": [
           {
            "marker": {
             "colorbar": {
              "outlinewidth": 0,
              "ticks": ""
             }
            },
            "type": "scattergeo"
           }
          ],
          "scattergl": [
           {
            "marker": {
             "colorbar": {
              "outlinewidth": 0,
              "ticks": ""
             }
            },
            "type": "scattergl"
           }
          ],
          "scattermap": [
           {
            "marker": {
             "colorbar": {
              "outlinewidth": 0,
              "ticks": ""
             }
            },
            "type": "scattermap"
           }
          ],
          "scattermapbox": [
           {
            "marker": {
             "colorbar": {
              "outlinewidth": 0,
              "ticks": ""
             }
            },
            "type": "scattermapbox"
           }
          ],
          "scatterpolar": [
           {
            "marker": {
             "colorbar": {
              "outlinewidth": 0,
              "ticks": ""
             }
            },
            "type": "scatterpolar"
           }
          ],
          "scatterpolargl": [
           {
            "marker": {
             "colorbar": {
              "outlinewidth": 0,
              "ticks": ""
             }
            },
            "type": "scatterpolargl"
           }
          ],
          "scatterternary": [
           {
            "marker": {
             "colorbar": {
              "outlinewidth": 0,
              "ticks": ""
             }
            },
            "type": "scatterternary"
           }
          ],
          "surface": [
           {
            "colorbar": {
             "outlinewidth": 0,
             "ticks": ""
            },
            "colorscale": [
             [
              0,
              "#0d0887"
             ],
             [
              0.1111111111111111,
              "#46039f"
             ],
             [
              0.2222222222222222,
              "#7201a8"
             ],
             [
              0.3333333333333333,
              "#9c179e"
             ],
             [
              0.4444444444444444,
              "#bd3786"
             ],
             [
              0.5555555555555556,
              "#d8576b"
             ],
             [
              0.6666666666666666,
              "#ed7953"
             ],
             [
              0.7777777777777778,
              "#fb9f3a"
             ],
             [
              0.8888888888888888,
              "#fdca26"
             ],
             [
              1,
              "#f0f921"
             ]
            ],
            "type": "surface"
           }
          ],
          "table": [
           {
            "cells": {
             "fill": {
              "color": "#EBF0F8"
             },
             "line": {
              "color": "white"
             }
            },
            "header": {
             "fill": {
              "color": "#C8D4E3"
             },
             "line": {
              "color": "white"
             }
            },
            "type": "table"
           }
          ]
         },
         "layout": {
          "annotationdefaults": {
           "arrowcolor": "#2a3f5f",
           "arrowhead": 0,
           "arrowwidth": 1
          },
          "autotypenumbers": "strict",
          "coloraxis": {
           "colorbar": {
            "outlinewidth": 0,
            "ticks": ""
           }
          },
          "colorscale": {
           "diverging": [
            [
             0,
             "#8e0152"
            ],
            [
             0.1,
             "#c51b7d"
            ],
            [
             0.2,
             "#de77ae"
            ],
            [
             0.3,
             "#f1b6da"
            ],
            [
             0.4,
             "#fde0ef"
            ],
            [
             0.5,
             "#f7f7f7"
            ],
            [
             0.6,
             "#e6f5d0"
            ],
            [
             0.7,
             "#b8e186"
            ],
            [
             0.8,
             "#7fbc41"
            ],
            [
             0.9,
             "#4d9221"
            ],
            [
             1,
             "#276419"
            ]
           ],
           "sequential": [
            [
             0,
             "#0d0887"
            ],
            [
             0.1111111111111111,
             "#46039f"
            ],
            [
             0.2222222222222222,
             "#7201a8"
            ],
            [
             0.3333333333333333,
             "#9c179e"
            ],
            [
             0.4444444444444444,
             "#bd3786"
            ],
            [
             0.5555555555555556,
             "#d8576b"
            ],
            [
             0.6666666666666666,
             "#ed7953"
            ],
            [
             0.7777777777777778,
             "#fb9f3a"
            ],
            [
             0.8888888888888888,
             "#fdca26"
            ],
            [
             1,
             "#f0f921"
            ]
           ],
           "sequentialminus": [
            [
             0,
             "#0d0887"
            ],
            [
             0.1111111111111111,
             "#46039f"
            ],
            [
             0.2222222222222222,
             "#7201a8"
            ],
            [
             0.3333333333333333,
             "#9c179e"
            ],
            [
             0.4444444444444444,
             "#bd3786"
            ],
            [
             0.5555555555555556,
             "#d8576b"
            ],
            [
             0.6666666666666666,
             "#ed7953"
            ],
            [
             0.7777777777777778,
             "#fb9f3a"
            ],
            [
             0.8888888888888888,
             "#fdca26"
            ],
            [
             1,
             "#f0f921"
            ]
           ]
          },
          "colorway": [
           "#636efa",
           "#EF553B",
           "#00cc96",
           "#ab63fa",
           "#FFA15A",
           "#19d3f3",
           "#FF6692",
           "#B6E880",
           "#FF97FF",
           "#FECB52"
          ],
          "font": {
           "color": "#2a3f5f"
          },
          "geo": {
           "bgcolor": "white",
           "lakecolor": "white",
           "landcolor": "#E5ECF6",
           "showlakes": true,
           "showland": true,
           "subunitcolor": "white"
          },
          "hoverlabel": {
           "align": "left"
          },
          "hovermode": "closest",
          "mapbox": {
           "style": "light"
          },
          "paper_bgcolor": "white",
          "plot_bgcolor": "#E5ECF6",
          "polar": {
           "angularaxis": {
            "gridcolor": "white",
            "linecolor": "white",
            "ticks": ""
           },
           "bgcolor": "#E5ECF6",
           "radialaxis": {
            "gridcolor": "white",
            "linecolor": "white",
            "ticks": ""
           }
          },
          "scene": {
           "xaxis": {
            "backgroundcolor": "#E5ECF6",
            "gridcolor": "white",
            "gridwidth": 2,
            "linecolor": "white",
            "showbackground": true,
            "ticks": "",
            "zerolinecolor": "white"
           },
           "yaxis": {
            "backgroundcolor": "#E5ECF6",
            "gridcolor": "white",
            "gridwidth": 2,
            "linecolor": "white",
            "showbackground": true,
            "ticks": "",
            "zerolinecolor": "white"
           },
           "zaxis": {
            "backgroundcolor": "#E5ECF6",
            "gridcolor": "white",
            "gridwidth": 2,
            "linecolor": "white",
            "showbackground": true,
            "ticks": "",
            "zerolinecolor": "white"
           }
          },
          "shapedefaults": {
           "line": {
            "color": "#2a3f5f"
           }
          },
          "ternary": {
           "aaxis": {
            "gridcolor": "white",
            "linecolor": "white",
            "ticks": ""
           },
           "baxis": {
            "gridcolor": "white",
            "linecolor": "white",
            "ticks": ""
           },
           "bgcolor": "#E5ECF6",
           "caxis": {
            "gridcolor": "white",
            "linecolor": "white",
            "ticks": ""
           }
          },
          "title": {
           "x": 0.05
          },
          "xaxis": {
           "automargin": true,
           "gridcolor": "white",
           "linecolor": "white",
           "ticks": "",
           "title": {
            "standoff": 15
           },
           "zerolinecolor": "white",
           "zerolinewidth": 2
          },
          "yaxis": {
           "automargin": true,
           "gridcolor": "white",
           "linecolor": "white",
           "ticks": "",
           "title": {
            "standoff": 15
           },
           "zerolinecolor": "white",
           "zerolinewidth": 2
          }
         }
        },
        "title": {
         "text": "Optimization History Plot"
        },
        "xaxis": {
         "title": {
          "text": "Trial"
         }
        },
        "yaxis": {
         "title": {
          "text": "Objective Value"
         }
        }
       }
      },
      "image/png": "[encoded data removed]"
     },
     "metadata": {},
     "output_type": "display_data"
    },
    {
     "data": {
      "application/vnd.plotly.v1+json": {
       "config": {
        "plotlyServerURL": "https://plot.ly"
       },
       "data": [
        {
         "cliponaxis": false,
         "hovertemplate": [
          "weight_decay (FloatDistribution): 0.09071302398775005<extra></extra>",
          "hidden1 (CategoricalDistribution): 0.10677974046663091<extra></extra>",
          "lr (FloatDistribution): 0.12751239225927155<extra></extra>",
          "gamma (FloatDistribution): 0.14056710454960095<extra></extra>",
          "hidden2 (CategoricalDistribution): 0.22613973430413525<extra></extra>",
          "dropout (FloatDistribution): 0.30828800443261145<extra></extra>"
         ],
         "name": "Objective Value",
         "orientation": "h",
         "text": [
          "0.09",
          "0.11",
          "0.13",
          "0.14",
          "0.23",
          "0.31"
         ],
         "textposition": "outside",
         "type": "bar",
         "x": [
          0.09071302398775005,
          0.10677974046663091,
          0.12751239225927155,
          0.14056710454960095,
          0.22613973430413525,
          0.30828800443261145
         ],
         "y": [
          "weight_decay",
          "hidden1",
          "lr",
          "gamma",
          "hidden2",
          "dropout"
         ]
        }
       ],
       "layout": {
        "template": {
         "data": {
          "bar": [
           {
            "error_x": {
             "color": "#2a3f5f"
            },
            "error_y": {
             "color": "#2a3f5f"
            },
            "marker": {
             "line": {
              "color": "#E5ECF6",
              "width": 0.5
             },
             "pattern": {
              "fillmode": "overlay",
              "size": 10,
              "solidity": 0.2
             }
            },
            "type": "bar"
           }
          ],
          "barpolar": [
           {
            "marker": {
             "line": {
              "color": "#E5ECF6",
              "width": 0.5
             },
             "pattern": {
              "fillmode": "overlay",
              "size": 10,
              "solidity": 0.2
             }
            },
            "type": "barpolar"
           }
          ],
          "carpet": [
           {
            "aaxis": {
             "endlinecolor": "#2a3f5f",
             "gridcolor": "white",
             "linecolor": "white",
             "minorgridcolor": "white",
             "startlinecolor": "#2a3f5f"
            },
            "baxis": {
             "endlinecolor": "#2a3f5f",
             "gridcolor": "white",
             "linecolor": "white",
             "minorgridcolor": "white",
             "startlinecolor": "#2a3f5f"
            },
            "type": "carpet"
           }
          ],
          "choropleth": [
           {
            "colorbar": {
             "outlinewidth": 0,
             "ticks": ""
            },
            "type": "choropleth"
           }
          ],
          "contour": [
           {
            "colorbar": {
             "outlinewidth": 0,
             "ticks": ""
            },
            "colorscale": [
             [
              0,
              "#0d0887"
             ],
             [
              0.1111111111111111,
              "#46039f"
             ],
             [
              0.2222222222222222,
              "#7201a8"
             ],
             [
              0.3333333333333333,
              "#9c179e"
             ],
             [
              0.4444444444444444,
              "#bd3786"
             ],
             [
              0.5555555555555556,
              "#d8576b"
             ],
             [
              0.6666666666666666,
              "#ed7953"
             ],
             [
              0.7777777777777778,
              "#fb9f3a"
             ],
             [
              0.8888888888888888,
              "#fdca26"
             ],
             [
              1,
              "#f0f921"
             ]
            ],
            "type": "contour"
           }
          ],
          "contourcarpet": [
           {
            "colorbar": {
             "outlinewidth": 0,
             "ticks": ""
            },
            "type": "contourcarpet"
           }
          ],
          "heatmap": [
           {
            "colorbar": {
             "outlinewidth": 0,
             "ticks": ""
            },
            "colorscale": [
             [
              0,
              "#0d0887"
             ],
             [
              0.1111111111111111,
              "#46039f"
             ],
             [
              0.2222222222222222,
              "#7201a8"
             ],
             [
              0.3333333333333333,
              "#9c179e"
             ],
             [
              0.4444444444444444,
              "#bd3786"
             ],
             [
              0.5555555555555556,
              "#d8576b"
             ],
             [
              0.6666666666666666,
              "#ed7953"
             ],
             [
              0.7777777777777778,
              "#fb9f3a"
             ],
             [
              0.8888888888888888,
              "#fdca26"
             ],
             [
              1,
              "#f0f921"
             ]
            ],
            "type": "heatmap"
           }
          ],
          "histogram": [
           {
            "marker": {
             "pattern": {
              "fillmode": "overlay",
              "size": 10,
              "solidity": 0.2
             }
            },
            "type": "histogram"
           }
          ],
          "histogram2d": [
           {
            "colorbar": {
             "outlinewidth": 0,
             "ticks": ""
            },
            "colorscale": [
             [
              0,
              "#0d0887"
             ],
             [
              0.1111111111111111,
              "#46039f"
             ],
             [
              0.2222222222222222,
              "#7201a8"
             ],
             [
              0.3333333333333333,
              "#9c179e"
             ],
             [
              0.4444444444444444,
              "#bd3786"
             ],
             [
              0.5555555555555556,
              "#d8576b"
             ],
             [
              0.6666666666666666,
              "#ed7953"
             ],
             [
              0.7777777777777778,
              "#fb9f3a"
             ],
             [
              0.8888888888888888,
              "#fdca26"
             ],
             [
              1,
              "#f0f921"
             ]
            ],
            "type": "histogram2d"
           }
          ],
          "histogram2dcontour": [
           {
            "colorbar": {
             "outlinewidth": 0,
             "ticks": ""
            },
            "colorscale": [
             [
              0,
              "#0d0887"
             ],
             [
              0.1111111111111111,
              "#46039f"
             ],
             [
              0.2222222222222222,
              "#7201a8"
             ],
             [
              0.3333333333333333,
              "#9c179e"
             ],
             [
              0.4444444444444444,
              "#bd3786"
             ],
             [
              0.5555555555555556,
              "#d8576b"
             ],
             [
              0.6666666666666666,
              "#ed7953"
             ],
             [
              0.7777777777777778,
              "#fb9f3a"
             ],
             [
              0.8888888888888888,
              "#fdca26"
             ],
             [
              1,
              "#f0f921"
             ]
            ],
            "type": "histogram2dcontour"
           }
          ],
          "mesh3d": [
           {
            "colorbar": {
             "outlinewidth": 0,
             "ticks": ""
            },
            "type": "mesh3d"
           }
          ],
          "parcoords": [
           {
            "line": {
             "colorbar": {
              "outlinewidth": 0,
              "ticks": ""
             }
            },
            "type": "parcoords"
           }
          ],
          "pie": [
           {
            "automargin": true,
            "type": "pie"
           }
          ],
          "scatter": [
           {
            "fillpattern": {
             "fillmode": "overlay",
             "size": 10,
             "solidity": 0.2
            },
            "type": "scatter"
           }
          ],
          "scatter3d": [
           {
            "line": {
             "colorbar": {
              "outlinewidth": 0,
              "ticks": ""
             }
            },
            "marker": {
             "colorbar": {
              "outlinewidth": 0,
              "ticks": ""
             }
            },
            "type": "scatter3d"
           }
          ],
          "scattercarpet": [
           {
            "marker": {
             "colorbar": {
              "outlinewidth": 0,
              "ticks": ""
             }
            },
            "type": "scattercarpet"
           }
          ],
          "scattergeo": [
           {
            "marker": {
             "colorbar": {
              "outlinewidth": 0,
              "ticks": ""
             }
            },
            "type": "scattergeo"
           }
          ],
          "scattergl": [
           {
            "marker": {
             "colorbar": {
              "outlinewidth": 0,
              "ticks": ""
             }
            },
            "type": "scattergl"
           }
          ],
          "scattermap": [
           {
            "marker": {
             "colorbar": {
              "outlinewidth": 0,
              "ticks": ""
             }
            },
            "type": "scattermap"
           }
          ],
          "scattermapbox": [
           {
            "marker": {
             "colorbar": {
              "outlinewidth": 0,
              "ticks": ""
             }
            },
            "type": "scattermapbox"
           }
          ],
          "scatterpolar": [
           {
            "marker": {
             "colorbar": {
              "outlinewidth": 0,
              "ticks": ""
             }
            },
            "type": "scatterpolar"
           }
          ],
          "scatterpolargl": [
           {
            "marker": {
             "colorbar": {
              "outlinewidth": 0,
              "ticks": ""
             }
            },
            "type": "scatterpolargl"
           }
          ],
          "scatterternary": [
           {
            "marker": {
             "colorbar": {
              "outlinewidth": 0,
              "ticks": ""
             }
            },
            "type": "scatterternary"
           }
          ],
          "surface": [
           {
            "colorbar": {
             "outlinewidth": 0,
             "ticks": ""
            },
            "colorscale": [
             [
              0,
              "#0d0887"
             ],
             [
              0.1111111111111111,
              "#46039f"
             ],
             [
              0.2222222222222222,
              "#7201a8"
             ],
             [
              0.3333333333333333,
              "#9c179e"
             ],
             [
              0.4444444444444444,
              "#bd3786"
             ],
             [
              0.5555555555555556,
              "#d8576b"
             ],
             [
              0.6666666666666666,
              "#ed7953"
             ],
             [
              0.7777777777777778,
              "#fb9f3a"
             ],
             [
              0.8888888888888888,
              "#fdca26"
             ],
             [
              1,
              "#f0f921"
             ]
            ],
            "type": "surface"
           }
          ],
          "table": [
           {
            "cells": {
             "fill": {
              "color": "#EBF0F8"
             },
             "line": {
              "color": "white"
             }
            },
            "header": {
             "fill": {
              "color": "#C8D4E3"
             },
             "line": {
              "color": "white"
             }
            },
            "type": "table"
           }
          ]
         },
         "layout": {
          "annotationdefaults": {
           "arrowcolor": "#2a3f5f",
           "arrowhead": 0,
           "arrowwidth": 1
          },
          "autotypenumbers": "strict",
          "coloraxis": {
           "colorbar": {
            "outlinewidth": 0,
            "ticks": ""
           }
          },
          "colorscale": {
           "diverging": [
            [
             0,
             "#8e0152"
            ],
            [
             0.1,
             "#c51b7d"
            ],
            [
             0.2,
             "#de77ae"
            ],
            [
             0.3,
             "#f1b6da"
            ],
            [
             0.4,
             "#fde0ef"
            ],
            [
             0.5,
             "#f7f7f7"
            ],
            [
             0.6,
             "#e6f5d0"
            ],
            [
             0.7,
             "#b8e186"
            ],
            [
             0.8,
             "#7fbc41"
            ],
            [
             0.9,
             "#4d9221"
            ],
            [
             1,
             "#276419"
            ]
           ],
           "sequential": [
            [
             0,
             "#0d0887"
            ],
            [
             0.1111111111111111,
             "#46039f"
            ],
            [
             0.2222222222222222,
             "#7201a8"
            ],
            [
             0.3333333333333333,
             "#9c179e"
            ],
            [
             0.4444444444444444,
             "#bd3786"
            ],
            [
             0.5555555555555556,
             "#d8576b"
            ],
            [
             0.6666666666666666,
             "#ed7953"
            ],
            [
             0.7777777777777778,
             "#fb9f3a"
            ],
            [
             0.8888888888888888,
             "#fdca26"
            ],
            [
             1,
             "#f0f921"
            ]
           ],
           "sequentialminus": [
            [
             0,
             "#0d0887"
            ],
            [
             0.1111111111111111,
             "#46039f"
            ],
            [
             0.2222222222222222,
             "#7201a8"
            ],
            [
             0.3333333333333333,
             "#9c179e"
            ],
            [
             0.4444444444444444,
             "#bd3786"
            ],
            [
             0.5555555555555556,
             "#d8576b"
            ],
            [
             0.6666666666666666,
             "#ed7953"
            ],
            [
             0.7777777777777778,
             "#fb9f3a"
            ],
            [
             0.8888888888888888,
             "#fdca26"
            ],
            [
             1,
             "#f0f921"
            ]
           ]
          },
          "colorway": [
           "#636efa",
           "#EF553B",
           "#00cc96",
           "#ab63fa",
           "#FFA15A",
           "#19d3f3",
           "#FF6692",
           "#B6E880",
           "#FF97FF",
           "#FECB52"
          ],
          "font": {
           "color": "#2a3f5f"
          },
          "geo": {
           "bgcolor": "white",
           "lakecolor": "white",
           "landcolor": "#E5ECF6",
           "showlakes": true,
           "showland": true,
           "subunitcolor": "white"
          },
          "hoverlabel": {
           "align": "left"
          },
          "hovermode": "closest",
          "mapbox": {
           "style": "light"
          },
          "paper_bgcolor": "white",
          "plot_bgcolor": "#E5ECF6",
          "polar": {
           "angularaxis": {
            "gridcolor": "white",
            "linecolor": "white",
            "ticks": ""
           },
           "bgcolor": "#E5ECF6",
           "radialaxis": {
            "gridcolor": "white",
            "linecolor": "white",
            "ticks": ""
           }
          },
          "scene": {
           "xaxis": {
            "backgroundcolor": "#E5ECF6",
            "gridcolor": "white",
            "gridwidth": 2,
            "linecolor": "white",
            "showbackground": true,
            "ticks": "",
            "zerolinecolor": "white"
           },
           "yaxis": {
            "backgroundcolor": "#E5ECF6",
            "gridcolor": "white",
            "gridwidth": 2,
            "linecolor": "white",
            "showbackground": true,
            "ticks": "",
            "zerolinecolor": "white"
           },
           "zaxis": {
            "backgroundcolor": "#E5ECF6",
            "gridcolor": "white",
            "gridwidth": 2,
            "linecolor": "white",
            "showbackground": true,
            "ticks": "",
            "zerolinecolor": "white"
           }
          },
          "shapedefaults": {
           "line": {
            "color": "#2a3f5f"
           }
          },
          "ternary": {
           "aaxis": {
            "gridcolor": "white",
            "linecolor": "white",
            "ticks": ""
           },
           "baxis": {
            "gridcolor": "white",
            "linecolor": "white",
            "ticks": ""
           },
           "bgcolor": "#E5ECF6",
           "caxis": {
            "gridcolor": "white",
            "linecolor": "white",
            "ticks": ""
           }
          },
          "title": {
           "x": 0.05
          },
          "xaxis": {
           "automargin": true,
           "gridcolor": "white",
           "linecolor": "white",
           "ticks": "",
           "title": {
            "standoff": 15
           },
           "zerolinecolor": "white",
           "zerolinewidth": 2
          },
          "yaxis": {
           "automargin": true,
           "gridcolor": "white",
           "linecolor": "white",
           "ticks": "",
           "title": {
            "standoff": 15
           },
           "zerolinecolor": "white",
           "zerolinewidth": 2
          }
         }
        },
        "title": {
         "text": "Hyperparameter Importances"
        },
        "xaxis": {
         "title": {
          "text": "Hyperparameter Importance"
         }
        },
        "yaxis": {
         "title": {
          "text": "Hyperparameter"
         }
        }
       }
      },
      "image/png": "[encoded data removed]"
     },
     "metadata": {},
     "output_type": "display_data"
    },
    {
     "data": {
      "application/vnd.plotly.v1+json": {
       "config": {
        "plotlyServerURL": "https://plot.ly"
       },
       "data": [
        {
         "dimensions": [
          {
           "label": "Objective Value",
           "range": [
            0.7345031801571923,
            0.7772773386880976
           ],
           "values": [
            0.7561083884294163,
            0.757127574183859,
            0.7479736586913608,
            0.7496832715735093,
            0.7568454348222765,
            0.7679875607444177,
            0.7668098043435395,
            0.7484983583250909,
            0.7568795938924038,
            0.7558555467296403,
            0.7546699292634886,
            0.7684367766074026,
            0.755051841582182,
            0.7649063305112764,
            0.7624780247188704,
            0.7593184964000504,
            0.75793813089473,
            0.7641133991410268,
            0.7630090877559346,
            0.7648067965818949,
            0.7772773386880976,
            0.7721710428494035,
            0.7617987892564065,
            0.7345031801571923,
            0.7666602584445409,
            0.7585042369005901,
            0.7721257014263276,
            0.7608334202108912,
            0.7692715427958364,
            0.7516309847845083
           ]
          },
          {
           "label": "dropout",
           "range": [
            0.10035340047784025,
            0.4947547746402069
           ],
           "values": [
            0.4795542149013333,
            0.3832290311184182,
            0.15579754426081674,
            0.3493192507310232,
            0.19971689165954998,
            0.1783931449676581,
            0.3245108790277985,
            0.17462802355441434,
            0.10527069298533626,
            0.2564133065278992,
            0.4234705524950008,
            0.2673042175227889,
            0.2127157821119105,
            0.14669405195299584,
            0.27908171645215163,
            0.36500891374159283,
            0.4947547746402069,
            0.3111115572120128,
            0.24833390904141633,
            0.2493033372902733,
            0.10397024146368339,
            0.10802640584678969,
            0.10035340047784025,
            0.1369576935153579,
            0.22013793164856818,
            0.13023792962225872,
            0.4100913116670416,
            0.43455698802483717,
            0.4057077214772593,
            0.39109502146848424
           ]
          },
          {
           "label": "gamma",
           "range": [
            0.7018531020565767,
            0.9885109341252585
           ],
           "values": [
            0.9344352309537737,
            0.9812738571269783,
            0.8062449345551705,
            0.7184319215829468,
            0.919109830177484,
            0.7943457959213467,
            0.8432007229456733,
            0.8564092501555387,
            0.8253200556658538,
            0.8898233554611313,
            0.7018531020565767,
            0.868366968826367,
            0.798308089039297,
            0.8857574118313536,
            0.7616628052497891,
            0.8508197261415651,
            0.7576275476449099,
            0.7552228107060366,
            0.7839437082499313,
            0.884056651840959,
            0.9552245587798494,
            0.9840741818426304,
            0.9851283114662038,
            0.9550552308075402,
            0.9572841620859578,
            0.9156374679692076,
            0.9585142303363652,
            0.9583533980811939,
            0.9264906065582059,
            0.9885109341252585
           ]
          },
          {
           "label": "hidden1",
           "range": [
            0,
            2
           ],
           "ticktext": [
            "64",
            "128",
            "256"
           ],
           "tickvals": [
            0,
            1,
            2
           ],
           "values": [
            0,
            0,
            0,
            0,
            0,
            1,
            1,
            1,
            1,
            1,
            1,
            1,
            1,
            1,
            1,
            1,
            1,
            2,
            2,
            2,
            2,
            2,
            2,
            2,
            2,
            2,
            2,
            2,
            2,
            2
           ]
          },
          {
           "label": "hidden2",
           "range": [
            0,
            4
           ],
           "ticktext": [
            "16",
            "32",
            "64",
            "128",
            "256"
           ],
           "tickvals": [
            0,
            1,
            2,
            3,
            4
           ],
           "values": [
            2,
            3,
            4,
            4,
            4,
            0,
            0,
            0,
            0,
            0,
            0,
            1,
            1,
            1,
            2,
            3,
            3,
            0,
            1,
            1,
            1,
            1,
            1,
            1,
            1,
            1,
            1,
            1,
            1,
            2
           ]
          },
          {
           "label": "lr",
           "range": [
            -2.9918431634256755,
            -1.63183081881116
           ],
           "ticktext": [
            "0.00102",
            "0.01",
            "0.0233"
           ],
           "tickvals": [
            -2.9918431634256755,
            -2,
            -1.63183081881116
           ],
           "values": [
            -2.3263293326733554,
            -2.4467588297053324,
            -1.7703812819387317,
            -2.9918431634256755,
            -2.2278602271801096,
            -2.1924426262083174,
            -2.5406414027517275,
            -2.662037366711458,
            -2.0237959003463666,
            -2.7936678012371687,
            -1.63183081881116,
            -2.765929976759857,
            -2.01212490991175,
            -2.8111879737319336,
            -2.260570105669682,
            -2.550048527073745,
            -2.4258765141728342,
            -2.128546206215369,
            -1.8519265214770804,
            -2.9805901603594984,
            -2.715432979262785,
            -2.7236315503084114,
            -2.747611077962748,
            -2.885130786454297,
            -2.6210302026571877,
            -2.671462315062121,
            -2.871317990034881,
            -2.4131445773827727,
            -2.90748365708521,
            -2.5319959752077703
           ]
          },
          {
           "label": "weight_decay",
           "range": [
            -5.941949456126457,
            -2.137471867701762
           ],
           "ticktext": [
            "1.14e-06",
            "1e-05",
            "0.0001",
            "0.001",
            "0.00729"
           ],
           "tickvals": [
            -5.941949456126457,
            -5,
            -4,
            -3,
            -2.137471867701762
           ],
           "values": [
            -2.137471867701762,
            -5.91766202281679,
            -4.831421405859127,
            -4.676407900589403,
            -4.35846830785748,
            -5.819090844357848,
            -2.9161312801817556,
            -2.4297640060400885,
            -3.2569019531497947,
            -3.571262903867097,
            -3.8598244410861655,
            -2.8080205236839326,
            -4.2252913289296545,
            -2.636780445124759,
            -3.5365417151657206,
            -4.753155695642356,
            -2.91102092281337,
            -5.448404106082018,
            -5.941949456126457,
            -5.230560485646417,
            -5.405289938098207,
            -5.420080303555339,
            -5.274836994433313,
            -5.109732091683633,
            -4.4045007052167815,
            -5.694409747954656,
            -5.569090002206955,
            -5.520344254657494,
            -4.949811545107325,
            -5.563288088135258
           ]
          }
         ],
         "labelangle": 30,
         "labelside": "bottom",
         "line": {
          "color": [
           0.7561083884294163,
           0.757127574183859,
           0.7479736586913608,
           0.7496832715735093,
           0.7568454348222765,
           0.7679875607444177,
           0.7668098043435395,
           0.7484983583250909,
           0.7568795938924038,
           0.7558555467296403,
           0.7546699292634886,
           0.7684367766074026,
           0.755051841582182,
           0.7649063305112764,
           0.7624780247188704,
           0.7593184964000504,
           0.75793813089473,
           0.7641133991410268,
           0.7630090877559346,
           0.7648067965818949,
           0.7772773386880976,
           0.7721710428494035,
           0.7617987892564065,
           0.7345031801571923,
           0.7666602584445409,
           0.7585042369005901,
           0.7721257014263276,
           0.7608334202108912,
           0.7692715427958364,
           0.7516309847845083
          ],
          "colorbar": {
           "title": {
            "text": "Objective Value"
           }
          },
          "colorscale": [
           [
            0,
            "rgb(247,251,255)"
           ],
           [
            0.125,
            "rgb(222,235,247)"
           ],
           [
            0.25,
            "rgb(198,219,239)"
           ],
           [
            0.375,
            "rgb(158,202,225)"
           ],
           [
            0.5,
            "rgb(107,174,214)"
           ],
           [
            0.625,
            "rgb(66,146,198)"
           ],
           [
            0.75,
            "rgb(33,113,181)"
           ],
           [
            0.875,
            "rgb(8,81,156)"
           ],
           [
            1,
            "rgb(8,48,107)"
           ]
          ],
          "reversescale": false,
          "showscale": true
         },
         "type": "parcoords"
        }
       ],
       "layout": {
        "template": {
         "data": {
          "bar": [
           {
            "error_x": {
             "color": "#2a3f5f"
            },
            "error_y": {
             "color": "#2a3f5f"
            },
            "marker": {
             "line": {
              "color": "#E5ECF6",
              "width": 0.5
             },
             "pattern": {
              "fillmode": "overlay",
              "size": 10,
              "solidity": 0.2
             }
            },
            "type": "bar"
           }
          ],
          "barpolar": [
           {
            "marker": {
             "line": {
              "color": "#E5ECF6",
              "width": 0.5
             },
             "pattern": {
              "fillmode": "overlay",
              "size": 10,
              "solidity": 0.2
             }
            },
            "type": "barpolar"
           }
          ],
          "carpet": [
           {
            "aaxis": {
             "endlinecolor": "#2a3f5f",
             "gridcolor": "white",
             "linecolor": "white",
             "minorgridcolor": "white",
             "startlinecolor": "#2a3f5f"
            },
            "baxis": {
             "endlinecolor": "#2a3f5f",
             "gridcolor": "white",
             "linecolor": "white",
             "minorgridcolor": "white",
             "startlinecolor": "#2a3f5f"
            },
            "type": "carpet"
           }
          ],
          "choropleth": [
           {
            "colorbar": {
             "outlinewidth": 0,
             "ticks": ""
            },
            "type": "choropleth"
           }
          ],
          "contour": [
           {
            "colorbar": {
             "outlinewidth": 0,
             "ticks": ""
            },
            "colorscale": [
             [
              0,
              "#0d0887"
             ],
             [
              0.1111111111111111,
              "#46039f"
             ],
             [
              0.2222222222222222,
              "#7201a8"
             ],
             [
              0.3333333333333333,
              "#9c179e"
             ],
             [
              0.4444444444444444,
              "#bd3786"
             ],
             [
              0.5555555555555556,
              "#d8576b"
             ],
             [
              0.6666666666666666,
              "#ed7953"
             ],
             [
              0.7777777777777778,
              "#fb9f3a"
             ],
             [
              0.8888888888888888,
              "#fdca26"
             ],
             [
              1,
              "#f0f921"
             ]
            ],
            "type": "contour"
           }
          ],
          "contourcarpet": [
           {
            "colorbar": {
             "outlinewidth": 0,
             "ticks": ""
            },
            "type": "contourcarpet"
           }
          ],
          "heatmap": [
           {
            "colorbar": {
             "outlinewidth": 0,
             "ticks": ""
            },
            "colorscale": [
             [
              0,
              "#0d0887"
             ],
             [
              0.1111111111111111,
              "#46039f"
             ],
             [
              0.2222222222222222,
              "#7201a8"
             ],
             [
              0.3333333333333333,
              "#9c179e"
             ],
             [
              0.4444444444444444,
              "#bd3786"
             ],
             [
              0.5555555555555556,
              "#d8576b"
             ],
             [
              0.6666666666666666,
              "#ed7953"
             ],
             [
              0.7777777777777778,
              "#fb9f3a"
             ],
             [
              0.8888888888888888,
              "#fdca26"
             ],
             [
              1,
              "#f0f921"
             ]
            ],
            "type": "heatmap"
           }
          ],
          "histogram": [
           {
            "marker": {
             "pattern": {
              "fillmode": "overlay",
              "size": 10,
              "solidity": 0.2
             }
            },
            "type": "histogram"
           }
          ],
          "histogram2d": [
           {
            "colorbar": {
             "outlinewidth": 0,
             "ticks": ""
            },
            "colorscale": [
             [
              0,
              "#0d0887"
             ],
             [
              0.1111111111111111,
              "#46039f"
             ],
             [
              0.2222222222222222,
              "#7201a8"
             ],
             [
              0.3333333333333333,
              "#9c179e"
             ],
             [
              0.4444444444444444,
              "#bd3786"
             ],
             [
              0.5555555555555556,
              "#d8576b"
             ],
             [
              0.6666666666666666,
              "#ed7953"
             ],
             [
              0.7777777777777778,
              "#fb9f3a"
             ],
             [
              0.8888888888888888,
              "#fdca26"
             ],
             [
              1,
              "#f0f921"
             ]
            ],
            "type": "histogram2d"
           }
          ],
          "histogram2dcontour": [
           {
            "colorbar": {
             "outlinewidth": 0,
             "ticks": ""
            },
            "colorscale": [
             [
              0,
              "#0d0887"
             ],
             [
              0.1111111111111111,
              "#46039f"
             ],
             [
              0.2222222222222222,
              "#7201a8"
             ],
             [
              0.3333333333333333,
              "#9c179e"
             ],
             [
              0.4444444444444444,
              "#bd3786"
             ],
             [
              0.5555555555555556,
              "#d8576b"
             ],
             [
              0.6666666666666666,
              "#ed7953"
             ],
             [
              0.7777777777777778,
              "#fb9f3a"
             ],
             [
              0.8888888888888888,
              "#fdca26"
             ],
             [
              1,
              "#f0f921"
             ]
            ],
            "type": "histogram2dcontour"
           }
          ],
          "mesh3d": [
           {
            "colorbar": {
             "outlinewidth": 0,
             "ticks": ""
            },
            "type": "mesh3d"
           }
          ],
          "parcoords": [
           {
            "line": {
             "colorbar": {
              "outlinewidth": 0,
              "ticks": ""
             }
            },
            "type": "parcoords"
           }
          ],
          "pie": [
           {
            "automargin": true,
            "type": "pie"
           }
          ],
          "scatter": [
           {
            "fillpattern": {
             "fillmode": "overlay",
             "size": 10,
             "solidity": 0.2
            },
            "type": "scatter"
           }
          ],
          "scatter3d": [
           {
            "line": {
             "colorbar": {
              "outlinewidth": 0,
              "ticks": ""
             }
            },
            "marker": {
             "colorbar": {
              "outlinewidth": 0,
              "ticks": ""
             }
            },
            "type": "scatter3d"
           }
          ],
          "scattercarpet": [
           {
            "marker": {
             "colorbar": {
              "outlinewidth": 0,
              "ticks": ""
             }
            },
            "type": "scattercarpet"
           }
          ],
          "scattergeo": [
           {
            "marker": {
             "colorbar": {
              "outlinewidth": 0,
              "ticks": ""
             }
            },
            "type": "scattergeo"
           }
          ],
          "scattergl": [
           {
            "marker": {
             "colorbar": {
              "outlinewidth": 0,
              "ticks": ""
             }
            },
            "type": "scattergl"
           }
          ],
          "scattermap": [
           {
            "marker": {
             "colorbar": {
              "outlinewidth": 0,
              "ticks": ""
             }
            },
            "type": "scattermap"
           }
          ],
          "scattermapbox": [
           {
            "marker": {
             "colorbar": {
              "outlinewidth": 0,
              "ticks": ""
             }
            },
            "type": "scattermapbox"
           }
          ],
          "scatterpolar": [
           {
            "marker": {
             "colorbar": {
              "outlinewidth": 0,
              "ticks": ""
             }
            },
            "type": "scatterpolar"
           }
          ],
          "scatterpolargl": [
           {
            "marker": {
             "colorbar": {
              "outlinewidth": 0,
              "ticks": ""
             }
            },
            "type": "scatterpolargl"
           }
          ],
          "scatterternary": [
           {
            "marker": {
             "colorbar": {
              "outlinewidth": 0,
              "ticks": ""
             }
            },
            "type": "scatterternary"
           }
          ],
          "surface": [
           {
            "colorbar": {
             "outlinewidth": 0,
             "ticks": ""
            },
            "colorscale": [
             [
              0,
              "#0d0887"
             ],
             [
              0.1111111111111111,
              "#46039f"
             ],
             [
              0.2222222222222222,
              "#7201a8"
             ],
             [
              0.3333333333333333,
              "#9c179e"
             ],
             [
              0.4444444444444444,
              "#bd3786"
             ],
             [
              0.5555555555555556,
              "#d8576b"
             ],
             [
              0.6666666666666666,
              "#ed7953"
             ],
             [
              0.7777777777777778,
              "#fb9f3a"
             ],
             [
              0.8888888888888888,
              "#fdca26"
             ],
             [
              1,
              "#f0f921"
             ]
            ],
            "type": "surface"
           }
          ],
          "table": [
           {
            "cells": {
             "fill": {
              "color": "#EBF0F8"
             },
             "line": {
              "color": "white"
             }
            },
            "header": {
             "fill": {
              "color": "#C8D4E3"
             },
             "line": {
              "color": "white"
             }
            },
            "type": "table"
           }
          ]
         },
         "layout": {
          "annotationdefaults": {
           "arrowcolor": "#2a3f5f",
           "arrowhead": 0,
           "arrowwidth": 1
          },
          "autotypenumbers": "strict",
          "coloraxis": {
           "colorbar": {
            "outlinewidth": 0,
            "ticks": ""
           }
          },
          "colorscale": {
           "diverging": [
            [
             0,
             "#8e0152"
            ],
            [
             0.1,
             "#c51b7d"
            ],
            [
             0.2,
             "#de77ae"
            ],
            [
             0.3,
             "#f1b6da"
            ],
            [
             0.4,
             "#fde0ef"
            ],
            [
             0.5,
             "#f7f7f7"
            ],
            [
             0.6,
             "#e6f5d0"
            ],
            [
             0.7,
             "#b8e186"
            ],
            [
             0.8,
             "#7fbc41"
            ],
            [
             0.9,
             "#4d9221"
            ],
            [
             1,
             "#276419"
            ]
           ],
           "sequential": [
            [
             0,
             "#0d0887"
            ],
            [
             0.1111111111111111,
             "#46039f"
            ],
            [
             0.2222222222222222,
             "#7201a8"
            ],
            [
             0.3333333333333333,
             "#9c179e"
            ],
            [
             0.4444444444444444,
             "#bd3786"
            ],
            [
             0.5555555555555556,
             "#d8576b"
            ],
            [
             0.6666666666666666,
             "#ed7953"
            ],
            [
             0.7777777777777778,
             "#fb9f3a"
            ],
            [
             0.8888888888888888,
             "#fdca26"
            ],
            [
             1,
             "#f0f921"
            ]
           ],
           "sequentialminus": [
            [
             0,
             "#0d0887"
            ],
            [
             0.1111111111111111,
             "#46039f"
            ],
            [
             0.2222222222222222,
             "#7201a8"
            ],
            [
             0.3333333333333333,
             "#9c179e"
            ],
            [
             0.4444444444444444,
             "#bd3786"
            ],
            [
             0.5555555555555556,
             "#d8576b"
            ],
            [
             0.6666666666666666,
             "#ed7953"
            ],
            [
             0.7777777777777778,
             "#fb9f3a"
            ],
            [
             0.8888888888888888,
             "#fdca26"
            ],
            [
             1,
             "#f0f921"
            ]
           ]
          },
          "colorway": [
           "#636efa",
           "#EF553B",
           "#00cc96",
           "#ab63fa",
           "#FFA15A",
           "#19d3f3",
           "#FF6692",
           "#B6E880",
           "#FF97FF",
           "#FECB52"
          ],
          "font": {
           "color": "#2a3f5f"
          },
          "geo": {
           "bgcolor": "white",
           "lakecolor": "white",
           "landcolor": "#E5ECF6",
           "showlakes": true,
           "showland": true,
           "subunitcolor": "white"
          },
          "hoverlabel": {
           "align": "left"
          },
          "hovermode": "closest",
          "mapbox": {
           "style": "light"
          },
          "paper_bgcolor": "white",
          "plot_bgcolor": "#E5ECF6",
          "polar": {
           "angularaxis": {
            "gridcolor": "white",
            "linecolor": "white",
            "ticks": ""
           },
           "bgcolor": "#E5ECF6",
           "radialaxis": {
            "gridcolor": "white",
            "linecolor": "white",
            "ticks": ""
           }
          },
          "scene": {
           "xaxis": {
            "backgroundcolor": "#E5ECF6",
            "gridcolor": "white",
            "gridwidth": 2,
            "linecolor": "white",
            "showbackground": true,
            "ticks": "",
            "zerolinecolor": "white"
           },
           "yaxis": {
            "backgroundcolor": "#E5ECF6",
            "gridcolor": "white",
            "gridwidth": 2,
            "linecolor": "white",
            "showbackground": true,
            "ticks": "",
            "zerolinecolor": "white"
           },
           "zaxis": {
            "backgroundcolor": "#E5ECF6",
            "gridcolor": "white",
            "gridwidth": 2,
            "linecolor": "white",
            "showbackground": true,
            "ticks": "",
            "zerolinecolor": "white"
           }
          },
          "shapedefaults": {
           "line": {
            "color": "#2a3f5f"
           }
          },
          "ternary": {
           "aaxis": {
            "gridcolor": "white",
            "linecolor": "white",
            "ticks": ""
           },
           "baxis": {
            "gridcolor": "white",
            "linecolor": "white",
            "ticks": ""
           },
           "bgcolor": "#E5ECF6",
           "caxis": {
            "gridcolor": "white",
            "linecolor": "white",
            "ticks": ""
           }
          },
          "title": {
           "x": 0.05
          },
          "xaxis": {
           "automargin": true,
           "gridcolor": "white",
           "linecolor": "white",
           "ticks": "",
           "title": {
            "standoff": 15
           },
           "zerolinecolor": "white",
           "zerolinewidth": 2
          },
          "yaxis": {
           "automargin": true,
           "gridcolor": "white",
           "linecolor": "white",
           "ticks": "",
           "title": {
            "standoff": 15
           },
           "zerolinecolor": "white",
           "zerolinewidth": 2
          }
         }
        },
        "title": {
         "text": "Parallel Coordinate Plot"
        }
       }
      },
      "image/png": "[encoded data removed]"
     },
     "metadata": {},
     "output_type": "display_data"
    }
   ],
   "source": [
    "# optuna визуализация\n",
    "optuna.visualization.plot_optimization_history(study).show()\n",
    "optuna.visualization.plot_param_importances(study).show()\n",
    "optuna.visualization.plot_parallel_coordinate(study).show()"
   ]
  },
  {
   "cell_type": "markdown",
   "id": "121feed5-a8fd-4ddf-be32-1bac8abfc975",
   "metadata": {},
   "source": [
    "## 8. Обучение на всём train\n",
    "(отрисовка метрик на тест - чисто посмотреть , в реальности у нас этого не будет)"
   ]
  },
  {
   "cell_type": "code",
   "execution_count": null,
   "id": "083bd858-7ec4-4e1a-b7a4-8c0afad6be65",
   "metadata": {
    "jupyter": {
     "source_hidden": true
    }
   },
   "outputs": [],
   "source": [
    "def train_with_plot_and_scheduler(model, train_loader, val_loader, optimizer, criterion, epochs, gamma=0.9):\n",
    "\n",
    "    scheduler = torch.optim.lr_scheduler.ExponentialLR(optimizer, gamma=gamma)\n",
    "\n",
    "    train_losses = []\n",
    "    val_losses = []\n",
    "    pr_aucs = []\n",
    "    roc_aucs = []\n",
    "    lrs = []\n",
    "\n",
    "    for epoch in range(epochs):\n",
    "        train_loss = train_epoch(model, train_loader, optimizer, criterion)\n",
    "        val_loss, pr_auc, roc_auc = valid_epoch(model, val_loader, criterion)\n",
    "\n",
    "        train_losses.append(train_loss)\n",
    "        val_losses.append(val_loss)\n",
    "        pr_aucs.append(pr_auc)\n",
    "        roc_aucs.append(roc_auc)\n",
    "        lrs.append(optimizer.param_groups[0]['lr'])\n",
    "\n",
    "        scheduler.step()  # обновляем learning rate\n",
    "\n",
    "        # Обновление графика\n",
    "        clear_output(wait=True)\n",
    "        plt.figure(figsize=(15, 5))\n",
    "\n",
    "        # Потери\n",
    "        plt.subplot(1, 3, 1)\n",
    "        plt.plot(train_losses, label='Train Loss')\n",
    "        plt.plot(val_losses, label='Val Loss')\n",
    "        plt.xlabel('Epoch')\n",
    "        plt.ylabel('Loss')\n",
    "        plt.title('Loss по эпохам')\n",
    "        plt.legend()\n",
    "        plt.xlim(0, epochs)\n",
    "\n",
    "        # Метрики\n",
    "        plt.subplot(1, 3, 2)\n",
    "        plt.plot(pr_aucs, label='PR AUC')\n",
    "        plt.plot(roc_aucs, label='ROC AUC')\n",
    "        plt.xlabel('Epoch')\n",
    "        plt.ylabel('Score')\n",
    "        plt.title('Тест Metrics')\n",
    "        plt.legend()\n",
    "        plt.xlim(0, epochs)\n",
    "\n",
    "        # Learning Rate\n",
    "        plt.subplot(1, 3, 3)\n",
    "        plt.plot(lrs, label='Learning Rate')\n",
    "        plt.xlabel('Epoch')\n",
    "        plt.ylabel('LR')\n",
    "        plt.title('Learning Rate Decay')\n",
    "        plt.legend()\n",
    "        plt.xlim(0, epochs)\n",
    "\n",
    "        plt.tight_layout()\n",
    "        plt.show()\n",
    "\n",
    "        print(f\"Эпоха {epoch+1}/{epochs} — Train Loss: {train_loss:.4f}, Val Loss: {val_loss:.4f}, PR AUC: {pr_auc:.4f}, ROC AUC: {roc_auc:.4f}, LR: {lrs[-1]:.6f}\")\n"
   ]
  },
  {
   "cell_type": "code",
   "execution_count": 46,
   "id": "e0beb312-240f-447e-ba54-83ea0dca6ca3",
   "metadata": {},
   "outputs": [
    {
     "data": {
      "image/png": "[encoded data removed]",
      "text/plain": [
       "<Figure size 1500x500 with 3 Axes>"
      ]
     },
     "metadata": {},
     "output_type": "display_data"
    },
    {
     "name": "stdout",
     "output_type": "stream",
     "text": [
      "Эпоха 100/100 — Train Loss: 0.0141, Val Loss: 0.9542, PR AUC: 0.7877, ROC AUC: 0.9677, LR: 0.000021\n"
     ]
    }
   ],
   "source": [
    "best = study.best_params\n",
    "model = SimpleNN(n_features, best[\"hidden1\"], best[\"hidden2\"], best[\"dropout\"]).to(device)\n",
    "model.apply(weights_init)\n",
    "optimizer = torch.optim.AdamW(model.parameters(), lr=best[\"lr\"], weight_decay=best[\"weight_decay\"])\n",
    "criterion = nn.BCEWithLogitsLoss(pos_weight=torch.tensor([len(y_train)/y_train.sum()]).to(device))\n",
    "\n",
    "\n",
    "train_with_plot_and_scheduler(model, train_dl, test_dl, optimizer, criterion, 100, gamma=best['gamma'])"
   ]
  },
  {
   "cell_type": "markdown",
   "id": "0756fdfd-a117-434d-9498-abf0e773b062",
   "metadata": {},
   "source": [
    "## 9. Оценка на test"
   ]
  },
  {
   "cell_type": "code",
   "execution_count": 47,
   "id": "47bc81fc-78e2-47fd-a42c-dfa40556f02f",
   "metadata": {},
   "outputs": [
    {
     "name": "stdout",
     "output_type": "stream",
     "text": [
      "Torch Simple   PR-AUC=0.7877  ROC-AUC=0.9677  Precision=0.321  Recall=0.818\n"
     ]
    }
   ],
   "source": [
    "@torch.no_grad()\n",
    "def predict(model, loader):\n",
    "    model.eval()\n",
    "    preds = []\n",
    "    for X, _ in loader:\n",
    "        preds.append(torch.sigmoid(model(X.to(device)).squeeze(1)).cpu())\n",
    "    return torch.cat(preds).numpy()\n",
    "\n",
    "y_score = predict(model, test_dl)\n",
    "y_pred = (y_score >= 0.5).astype(int)\n",
    "\n",
    "pr_auc  = auc(*precision_recall_curve(y_test, y_score)[1::-1])\n",
    "roc_auc = roc_auc_score(y_test, y_score)\n",
    "\n",
    "print(f\"Torch Simple   PR-AUC={pr_auc:0.4f}  ROC-AUC={roc_auc:0.4f}  \"\n",
    "      f\"Precision={precision_score(y_test,y_pred):0.3f}  Recall={recall_score(y_test,y_pred):0.3f}\")"
   ]
  },
  {
   "cell_type": "markdown",
   "id": "c3dbd313-40ee-49e0-8977-2e923839eb74",
   "metadata": {},
   "source": [
    "## 10. Сохранение модели"
   ]
  },
  {
   "cell_type": "code",
   "execution_count": null,
   "id": "aa96336c-87a5-49d6-b80b-b83d09894970",
   "metadata": {},
   "outputs": [],
   "source": [
    "# torch.save(model.state_dict(), \"simple_torch_creditcard.pt\")"
   ]
  },
  {
   "cell_type": "markdown",
   "id": "2ecb8bb7-c36f-4c35-94d3-e9614ffc5ee2",
   "metadata": {},
   "source": [
    "## 11. подбор порога"
   ]
  },
  {
   "cell_type": "code",
   "execution_count": 64,
   "id": "8b600bbc-5643-4383-86aa-4be64fedbe2e",
   "metadata": {},
   "outputs": [
    {
     "name": "stdout",
     "output_type": "stream",
     "text": [
      "Оптимальный порог (по val) = 0.987\n"
     ]
    }
   ],
   "source": [
    "# получаем вероятности на валидации\n",
    "# по хорошему порог нужно подбирать обучив модель только на X_tr...)\n",
    "# но, кмк, ничего сильно противозаконного не происходит ...)\n",
    "model.eval()\n",
    "with torch.no_grad():\n",
    "    val_tensor = torch.from_numpy(X_val).to(device)\n",
    "    y_score_val = torch.sigmoid(model(val_tensor).squeeze(1)).cpu().numpy()\n",
    "\n",
    "#  подбираем порог\n",
    "from sklearn.metrics import precision_recall_curve, f1_score, precision_score, recall_score\n",
    "\n",
    "prec_val, rec_val, thr_val = precision_recall_curve(y_val, y_score_val)\n",
    "f1_val = 2 * prec_val * rec_val / (prec_val + rec_val + 1e-12)\n",
    "best_idx = np.nanargmax(f1_val)   # nanargmax игнорирует NaN\n",
    "best_thr = thr_val[best_idx]\n",
    "\n",
    "print(f\"Оптимальный порог (по val) = {best_thr:.3f}\")"
   ]
  },
  {
   "cell_type": "code",
   "execution_count": 65,
   "id": "27eb331b-c0be-4a6d-a588-f297fe758078",
   "metadata": {},
   "outputs": [
    {
     "name": "stdout",
     "output_type": "stream",
     "text": [
      "Test (порог подобран по валидации)  PR-AUC=0.7877  Precision=0.831  Recall=0.766, F1 = 0.797\n"
     ]
    }
   ],
   "source": [
    "y_pred_test = (y_score >= best_thr).astype(int)\n",
    "\n",
    "precision = precision_score(y_test, y_pred_test)\n",
    "recall = recall_score(y_test, y_pred_test)\n",
    "f1 = f1_score(y_test, y_pred_test)\n",
    "\n",
    "prec, rec, thr = precision_recall_curve(y_test, y_score)\n",
    "pr_auc  = auc(rec, prec)\n",
    "\n",
    "print(\"Test (порог подобран по валидации)  \"\n",
    "      f\"PR-AUC={pr_auc:0.4f}  \"\n",
    "      f\"Precision={precision:0.3f}  \"\n",
    "      f\"Recall={recall:0.3f}, F1 = {f1:.3f}\")"
   ]
  },
  {
   "cell_type": "markdown",
   "id": "0a3e7887-7df6-4c67-98ea-575721940a96",
   "metadata": {},
   "source": [
    "## 12. Оценка-отрисовка finaly"
   ]
  },
  {
   "cell_type": "code",
   "execution_count": null,
   "id": "663e97d0-2de7-4bf4-9dd6-f418d252cf2e",
   "metadata": {},
   "outputs": [],
   "source": [
    "# precision-recall кривая и confusion_matrix и метрики\n",
    "# метрики печать и возвращаем f1, pr_auc\n",
    "def print_metrics(y_true, y_pred,  pr_auc):\n",
    "    precision = precision_score(y_true, y_pred)\n",
    "    recall = recall_score(y_true, y_pred)\n",
    "    f1 = f1_score(y_true, y_pred)\n",
    "    print('\\n'+'='*60)\n",
    "    print(f\"Precision={precision:.2f},   Recall={recall:.2f},   F1={f1:.2f},   PR_AUC={pr_auc:.2f}\")\n",
    "    print('\\n'+'='*60)\n",
    "    # return f1, pr_auc\n",
    "\n",
    "def plot_pr_and_cm(recalls, precisions, y_true, y_pred, main_label = ' на test',):\n",
    "# # Создаём общую фигуру с 2 подграфиками (по горизонтали)\n",
    "    fig, axs = plt.subplots(1, 2, figsize=(8, 3))\n",
    "    # pr curve\n",
    "    fig.suptitle(\"Оценка модели \" + main_label, fontsize=14, fontweight='bold')\n",
    "\n",
    "\n",
    "    labels = ['Норм (0)', 'Аномалии (1)']\n",
    "\n",
    "    axs[0].plot(recalls, precisions, marker='.', color='teal')\n",
    "    axs[0].set_xlabel(\"Recall\")\n",
    "    axs[0].set_ylabel(\"Precision\")\n",
    "    axs[0].set_title(f\"PR Curve (AUC={pr_auc:.2f})\")\n",
    "\n",
    "    # cm\n",
    "    cm = confusion_matrix(y_true, y_pred)\n",
    "\n",
    "    sns.heatmap(cm, annot=True, fmt='d', cmap='Blues',\n",
    "                xticklabels=labels, yticklabels=labels, ax=axs[1])\n",
    "    axs[1].set_xlabel(\"Предсказаные метки\")\n",
    "    axs[1].set_ylabel(\"Истинные метки\")\n",
    "    axs[1].set_title(\"Confusion Matrix\")\n",
    "\n",
    "    plt.tight_layout()\n",
    "    plt.subplots_adjust(wspace=0.3) # раздвигаем картинки\n",
    "    plt.show()\n",
    "\n",
    "    # 3) печать метрик\n",
    "    print_metrics(y_true, y_pred,  pr_auc)\n",
    "    pass"
   ]
  },
  {
   "cell_type": "code",
   "execution_count": 67,
   "id": "25351a6e-154c-47af-9757-34b09f5581f2",
   "metadata": {},
   "outputs": [
    {
     "data": {
      "image/png": "[encoded data removed]",
      "text/plain": [
       "<Figure size 800x300 with 3 Axes>"
      ]
     },
     "metadata": {},
     "output_type": "display_data"
    },
    {
     "name": "stdout",
     "output_type": "stream",
     "text": [
      "\n",
      "============================================================\n",
      "Precision=0.83,   Recall=0.77,   F1=0.80,   PR_AUC=0.79\n",
      "\n",
      "============================================================\n"
     ]
    }
   ],
   "source": [
    "plot_pr_and_cm(recalls=rec, precisions=prec, y_true=y_test, y_pred= y_pred_test, main_label = ' на test',)"
   ]
  },
  {
   "cell_type": "markdown",
   "id": "19e705dc-6fb7-4b64-aba7-82b648656c30",
   "metadata": {},
   "source": [
    "## 13. Выводы\n",
    "**Датасет**\n",
    "- **Объём**: 284 807 транзакций, 35 признаков.\n",
    "- **Ну очень сильный дисбаланс**: 0,17% транзакций — мошеннические (Class == 1).\n",
    "\n",
    "**Временное разбиение**: данные разделены по `Time_abs_hour`:\n",
    "  - **Train**: 0–39 часов (224 865 строк).  \n",
    "  - **Test**: 40–47 часов (59 942 строк).\n",
    "  \n",
    "**Модель**  \n",
    "- **простенькая нейронка**\n",
    "  \n",
    "**Подбор гиперпараметров**\n",
    "- **Optuna**\n",
    "  \n",
    "**Метрики**  | F1   | PR AUC |\n",
    "- **Test**     | 0.80 | 0.79   |\n",
    "\n",
    "**Вывод**\n",
    "- Модель справилась с задачей детекции аномалий.\n",
    "Простая полносвязная нейросеть с двумя скрытыми слоями, Dropout и BatchNorm показала устойчивую и высокую производительность на тестовой выборке:\n",
    "- - PR-AUC: 0.7877 — хороший результат для несбалансированных данных (аномалий всего 0.17%).\n",
    "- -  Precision: 0.83, Recall: 0.77, F1: 0.80 — при оптимальном пороге 0.987, подобранном на валидации\n",
    "- Подбор гиперпараметров через Optuna был эффективен.\n",
    "- - Лучшие параметры:\n",
    "- - hidden1 = 256, hidden2 = 32, dropout = 0.10, lr = 0.0019, gamma = 0.955\n",
    "- - Оптимизация позволила улучшить PR-AUC с ~0.75 до 0.777 на валидации и добиться устойчивой работы на тесте.\n",
    "- Модель справилась с дисбалансом классов (0.17% аномалий)\n",
    "- Подбор порога классификации - важен: Исходно модель с порогом 0.5 давала высокий Recall (0.818) но низкий Precision (0.321). Это типично для несбалансированных данных. Последующий подбор оптимального порога (0.987) на валидационной выборке позволил найти баланс и значительно улучшить F1-меру, получив сильные значения и Precision (0.83), и Recall (0.77)\n",
    "  **Что можно улучшать:**\n",
    "- Попробовать более сложные архитектуры (ResNet-like, TabNet, ...)\n",
    "- Добавить интерпретацию признаков."
   ]
  },
  {
   "cell_type": "markdown",
   "id": "061bf59f-36b4-4874-88bc-93c4c8887623",
   "metadata": {},
   "source": [
    "## Happy end....."
   ]
  },
  {
   "cell_type": "code",
   "execution_count": null,
   "id": "5ad4f1a3-c726-400b-bca3-50b6560fb7cf",
   "metadata": {},
   "outputs": [],
   "source": []
  }
 ],
 "metadata": {
  "kernelspec": {
   "display_name": "anomaly-detection",
   "language": "python",
   "name": "anomaly-detection"
  },
  "language_info": {
   "codemirror_mode": {
    "name": "ipython",
    "version": 3
   },
   "file_extension": ".py",
   "mimetype": "text/x-python",
   "name": "python",
   "nbconvert_exporter": "python",
   "pygments_lexer": "ipython3",
   "version": "3.10.11"
  }
 },
 "nbformat": 4,
 "nbformat_minor": 5
}
