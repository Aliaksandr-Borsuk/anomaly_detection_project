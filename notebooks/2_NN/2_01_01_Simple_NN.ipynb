{
 "cells": [
  {
   "cell_type": "markdown",
   "id": "b9d4f7a6-0270-4cce-af58-7f664cb83461",
   "metadata": {},
   "source": [
    "## Попробуем простую нейросеть PyTorch (2 скрытых слоя + Dropout + BatchNorm), подбор гиперпараметров Optuna\n",
    "- **помним про временные split, признаки и метрики те же**"
   ]
  },
  {
   "cell_type": "markdown",
   "id": "0dc92008-5dd8-4f69-8f21-4d66c0cc484e",
   "metadata": {
    "jp-MarkdownHeadingCollapsed": true
   },
   "source": [
    "## 1. импорты"
   ]
  },
  {
   "cell_type": "code",
   "execution_count": 1,
   "id": "7551dbd5-5b60-45cd-a5d9-0b1207fad486",
   "metadata": {},
   "outputs": [
    {
     "name": "stdout",
     "output_type": "stream",
     "text": [
      "device: cuda\n"
     ]
    }
   ],
   "source": [
    "# импорты\n",
    "import os, warnings, time, json\n",
    "\n",
    "import numpy as np\n",
    "import pandas as pd\n",
    "import matplotlib.pyplot as plt\n",
    "import seaborn as sns\n",
    "import random\n",
    "from IPython.display import clear_output\n",
    "\n",
    "import torch\n",
    "import torch.nn as nn\n",
    "from torch.utils.data import DataLoader, TensorDataset\n",
    "import optuna\n",
    "from optuna.samplers import TPESampler\n",
    "\n",
    "from sklearn.metrics import (precision_score, recall_score, f1_score,\n",
    "                             roc_auc_score, precision_recall_curve, auc,\n",
    "                             confusion_matrix)\n",
    "from sklearn.preprocessing import RobustScaler\n",
    "\n",
    "\n",
    "warnings.filterwarnings('ignore')\n",
    "\n",
    "plt.style.use('seaborn-v0_8-whitegrid')\n",
    "plt.rcParams['figure.figsize'] = (8, 4)\n",
    "\n",
    "RANDOM_STATE = 42\n",
    "\n",
    "def set_seed(seed=RANDOM_STATE):\n",
    "    torch.manual_seed(seed)\n",
    "    torch.cuda.manual_seed_all(seed)\n",
    "    np.random.seed(seed)\n",
    "    random.seed(seed)\n",
    "    torch.backends.cudnn.deterministic = True\n",
    "    torch.backends.cudnn.benchmark = False\n",
    "\n",
    "set_seed()\n",
    "device = torch.device(\"cuda\" if torch.cuda.is_available() else \"cpu\")\n",
    "print(\"device:\", device)"
   ]
  },
  {
   "cell_type": "markdown",
   "id": "55c97cd8-a66a-4bf0-8c6e-ccaa7ea6c059",
   "metadata": {
    "jp-MarkdownHeadingCollapsed": true
   },
   "source": [
    "## 2.Загрузки"
   ]
  },
  {
   "cell_type": "code",
   "execution_count": 2,
   "id": "524bd862-7548-46f8-9f75-65b9a575adc6",
   "metadata": {},
   "outputs": [
    {
     "name": "stdout",
     "output_type": "stream",
     "text": [
      "\n",
      "\n",
      "Размер данных: 284807 строк, 35 столбцов\n",
      "Распределение классов:\n",
      "Class\n",
      "0    0.998273\n",
      "1    0.001727\n",
      "Name: proportion, dtype: float64\n",
      "\n",
      "Данные. Первые строки:\n"
     ]
    },
    {
     "data": {
      "text/html": [
       "<div>\n",
       "<style scoped>\n",
       "    .dataframe tbody tr th:only-of-type {\n",
       "        vertical-align: middle;\n",
       "    }\n",
       "\n",
       "    .dataframe tbody tr th {\n",
       "        vertical-align: top;\n",
       "    }\n",
       "\n",
       "    .dataframe thead th {\n",
       "        text-align: right;\n",
       "    }\n",
       "</style>\n",
       "<table border=\"1\" class=\"dataframe\">\n",
       "  <thead>\n",
       "    <tr style=\"text-align: right;\">\n",
       "      <th></th>\n",
       "      <th>Time</th>\n",
       "      <th>V1</th>\n",
       "      <th>V2</th>\n",
       "      <th>V3</th>\n",
       "      <th>V4</th>\n",
       "      <th>V5</th>\n",
       "      <th>V6</th>\n",
       "      <th>V7</th>\n",
       "      <th>V8</th>\n",
       "      <th>V9</th>\n",
       "      <th>...</th>\n",
       "      <th>V25</th>\n",
       "      <th>V26</th>\n",
       "      <th>V27</th>\n",
       "      <th>V28</th>\n",
       "      <th>Amount</th>\n",
       "      <th>Class</th>\n",
       "      <th>Time_hour</th>\n",
       "      <th>Time_day</th>\n",
       "      <th>Time_abs_hour</th>\n",
       "      <th>Amount_log</th>\n",
       "    </tr>\n",
       "  </thead>\n",
       "  <tbody>\n",
       "    <tr>\n",
       "      <th>0</th>\n",
       "      <td>0.0</td>\n",
       "      <td>-1.359807</td>\n",
       "      <td>-0.072781</td>\n",
       "      <td>2.536347</td>\n",
       "      <td>1.378155</td>\n",
       "      <td>-0.338321</td>\n",
       "      <td>0.462388</td>\n",
       "      <td>0.239599</td>\n",
       "      <td>0.098698</td>\n",
       "      <td>0.363787</td>\n",
       "      <td>...</td>\n",
       "      <td>0.128539</td>\n",
       "      <td>-0.189115</td>\n",
       "      <td>0.133558</td>\n",
       "      <td>-0.021053</td>\n",
       "      <td>149.62</td>\n",
       "      <td>0</td>\n",
       "      <td>0.0</td>\n",
       "      <td>0.0</td>\n",
       "      <td>0.0</td>\n",
       "      <td>5.014760</td>\n",
       "    </tr>\n",
       "    <tr>\n",
       "      <th>1</th>\n",
       "      <td>0.0</td>\n",
       "      <td>1.191857</td>\n",
       "      <td>0.266151</td>\n",
       "      <td>0.166480</td>\n",
       "      <td>0.448154</td>\n",
       "      <td>0.060018</td>\n",
       "      <td>-0.082361</td>\n",
       "      <td>-0.078803</td>\n",
       "      <td>0.085102</td>\n",
       "      <td>-0.255425</td>\n",
       "      <td>...</td>\n",
       "      <td>0.167170</td>\n",
       "      <td>0.125895</td>\n",
       "      <td>-0.008983</td>\n",
       "      <td>0.014724</td>\n",
       "      <td>2.69</td>\n",
       "      <td>0</td>\n",
       "      <td>0.0</td>\n",
       "      <td>0.0</td>\n",
       "      <td>0.0</td>\n",
       "      <td>1.305626</td>\n",
       "    </tr>\n",
       "  </tbody>\n",
       "</table>\n",
       "<p>2 rows × 35 columns</p>\n",
       "</div>"
      ],
      "text/plain": [
       "   Time        V1        V2        V3        V4        V5        V6        V7  \\\n",
       "0   0.0 -1.359807 -0.072781  2.536347  1.378155 -0.338321  0.462388  0.239599   \n",
       "1   0.0  1.191857  0.266151  0.166480  0.448154  0.060018 -0.082361 -0.078803   \n",
       "\n",
       "         V8        V9  ...       V25       V26       V27       V28  Amount  \\\n",
       "0  0.098698  0.363787  ...  0.128539 -0.189115  0.133558 -0.021053  149.62   \n",
       "1  0.085102 -0.255425  ...  0.167170  0.125895 -0.008983  0.014724    2.69   \n",
       "\n",
       "   Class  Time_hour  Time_day  Time_abs_hour  Amount_log  \n",
       "0      0        0.0       0.0            0.0    5.014760  \n",
       "1      0        0.0       0.0            0.0    1.305626  \n",
       "\n",
       "[2 rows x 35 columns]"
      ]
     },
     "metadata": {},
     "output_type": "display_data"
    },
    {
     "name": "stdout",
     "output_type": "stream",
     "text": [
      "Список колонок без PCA: \n",
      " Time Amount Class Time_hour Time_day Time_abs_hour Amount_log\n"
     ]
    }
   ],
   "source": [
    "# поиск пути от текущего файла в папку\n",
    "# anomaly_detection_project\\data\\raw где лежит датасет\n",
    "def find_path_within_project(project_name, path_to_data):\n",
    "    current_path = os.getcwd()   # путь к текущему файлу\n",
    "\n",
    "    while True:\n",
    "        # Проверяем, находится ли проект в текущем каталоге\n",
    "        # если найден лепим и возвращаем нужный путь к данным\n",
    "        if project_name in os.listdir(current_path):\n",
    "            # Строим путь до нужной папки внутри проекта\n",
    "            return os.path.join(current_path, project_name, path_to_data)\n",
    "\n",
    "        parent_path = os.path.dirname(current_path)\n",
    "\n",
    "        if parent_path == current_path:\n",
    "            raise FileNotFoundError(f\"Проект '{project_name}' не найден в родительских каталогах.\")\n",
    "        # если проекта нет поднимаемся выше\n",
    "        current_path = parent_path\n",
    "\n",
    "# Получаем путь\n",
    "full_path_to_cc_1_02_00 = find_path_within_project(\n",
    "    \"anomaly_detection_project\",\n",
    "    os.path.join(\"data\", \"raw\",'creditcard_1_02_00.csv' )\n",
    ")\n",
    "\n",
    "# файл creditcard_1_02_00.csv лежит в папке data/raw/\n",
    "# там добавлены новые колонки времени и суммы\n",
    "# print(f\"Загрузка данных из {full_path}\")\n",
    "df = pd.read_csv(full_path_to_cc_1_02_00)\n",
    "\n",
    "# посмотрим ка\n",
    "print(\"\\n\")\n",
    "print(f\"Размер данных: {df.shape[0]} строк, {df.shape[1]} столбцов\")\n",
    "print(f\"Распределение классов:\\n{df['Class'].value_counts(normalize=True)}\")\n",
    "print(f\"\\nДанные. Первые строки:\")\n",
    "display(df.head(2))\n",
    "print(\"Список колонок без PCA: \\n\", *df.columns[~df.columns.str.startswith('V')])"
   ]
  },
  {
   "cell_type": "markdown",
   "id": "747324d8-faaa-4bd3-a6ea-b99f274c489c",
   "metadata": {
    "jp-MarkdownHeadingCollapsed": true
   },
   "source": [
    "## 3. splits"
   ]
  },
  {
   "cell_type": "code",
   "execution_count": 5,
   "id": "6b26323a-faf9-4940-af1d-98b55d8a6ddd",
   "metadata": {},
   "outputs": [
    {
     "name": "stdout",
     "output_type": "stream",
     "text": [
      "easy checking: \n",
      " train min 0.0, train max 39.0\n",
      " test min 40.0, test max 47.0\n",
      "\n",
      "Отрезали тестовую выборку.\n",
      "Размеры train:(224865, 35) test: (59942, 35) .\n",
      "\n",
      "easy checking: \n",
      " train min 0.0, train max 31.0\n",
      " test min 32.0, test max 39.0\n",
      "\n",
      "Порезали тренировочную выборку.\n",
      "Размеры train_2 :(162525, 35) val: (62340, 35) .\n"
     ]
    }
   ],
   "source": [
    "# колонка для сплита\n",
    "time_column = 'Time_abs_hour'\n",
    "\n",
    "# Выделим для теста последние 8 часов\n",
    "def get_train_test(df, col, train_finish,\n",
    "                   train_start = 0, test_finish = 0, gap = 0,\n",
    "                   easy_check =True):\n",
    "    '''делим df на train и test\n",
    "        - gap -зазор между train и test (возможно и не пригодиццо)\n",
    "    '''\n",
    "    # определяем test_start и test_finish\n",
    "    if test_finish == 0:\n",
    "        test_finish = df[col].max()\n",
    "    test_start = train_finish + gap + 1\n",
    "    df_train = df[(df[col] >= train_start) & (df[col] <= train_finish)]\n",
    "    df_test =  df[(df[col] >= test_start) & (df[col] <= test_finish)]\n",
    "    if  easy_check:\n",
    "        print(\"easy checking: \\n\",\n",
    "              f\"train min {df_train[col].min()}, train max {df_train[col].max()}\\n\" ,\n",
    "              f\"test min {df_test[col].min()}, test max {df_test[col].max()}\")\n",
    "    return df_train, df_test\n",
    "\n",
    "# делим на трейн тест\n",
    "time_col = 'Time_abs_hour'\n",
    "train_finish = df[time_col].max() - 8\n",
    "df_train, df_test = get_train_test(df, time_col , train_finish)\n",
    "print(\"\\nОтрезали тестовую выборку.\")\n",
    "print(f\"Размеры train:{df_train.shape} test: {df_test.shape} .\\n\")\n",
    "\n",
    "# делаем ещё один тайм сплит для подбора гиперпараметров\n",
    "# можно конечно в оптуну загрузить и time кросс-валидацию но и так должно сработать...\n",
    "train_finish_2 = df_train[time_col].max() - 8\n",
    "df_train_2, df_val = get_train_test(df_train, time_col , train_finish_2)\n",
    "print(\"\\nПорезали тренировочную выборку.\")\n",
    "print(f\"Размеры train_2 :{df_train_2.shape} val: {df_val.shape} .\")"
   ]
  },
  {
   "cell_type": "code",
   "execution_count": 6,
   "id": "c12b6e47-9543-4bb8-b1e8-1076552c7578",
   "metadata": {},
   "outputs": [
    {
     "name": "stdout",
     "output_type": "stream",
     "text": [
      "n_features: 28\n"
     ]
    }
   ],
   "source": [
    "# признаки\n",
    "unnecessary_cols = ['Time','Amount','Time_hour','Time_day','Amount_log', time_col]\n",
    "target_col = 'Class'\n",
    "drop_cols = [target_col] + unnecessary_cols\n",
    "\n",
    "def xy(df):\n",
    "    return df.drop(drop_cols, axis=1).values.astype('float32'), df[target_col].values\n",
    "\n",
    "X_tr, y_tr = xy(df_train_2)\n",
    "X_val, y_val = xy(df_val)\n",
    "X_test, y_test = xy(df_test)\n",
    "# полный трейн\n",
    "X_train, y_train  = xy(df_train)\n",
    "\n",
    "# размерности\n",
    "n_features = X_tr.shape[1]\n",
    "print(\"n_features:\", n_features)"
   ]
  },
  {
   "cell_type": "markdown",
   "id": "d7f7ce08-db0e-4419-bcb1-3d02bab8f33d",
   "metadata": {
    "jp-MarkdownHeadingCollapsed": true
   },
   "source": [
    "## 4. PyTorch Dataset / Loader"
   ]
  },
  {
   "cell_type": "code",
   "execution_count": 7,
   "id": "543f4e98-1ca5-4a34-a679-3c4fde9e54f8",
   "metadata": {},
   "outputs": [],
   "source": [
    "BATCH_SIZE = 1024\n",
    "# датасеты\n",
    "train_ds  = TensorDataset(torch.from_numpy(X_train),  torch.from_numpy(y_train))\n",
    "tr_ds  = TensorDataset(torch.from_numpy(X_tr),  torch.from_numpy(y_tr))\n",
    "val_ds    = TensorDataset(torch.from_numpy(X_val), torch.from_numpy(y_val))\n",
    "test_ds   = TensorDataset(torch.from_numpy(X_test),torch.from_numpy(y_test))\n",
    "\n",
    "# даталодеры\n",
    "train_dl  = DataLoader(train_ds,  batch_size=BATCH_SIZE, shuffle=True)\n",
    "tr_dl  = DataLoader(tr_ds,  batch_size=BATCH_SIZE, shuffle=True)\n",
    "val_dl    = DataLoader(val_ds,    batch_size=BATCH_SIZE)\n",
    "test_dl   = DataLoader(test_ds,   batch_size=BATCH_SIZE)"
   ]
  },
  {
   "cell_type": "markdown",
   "id": "e815f9a3-627a-421a-8dd8-1be225b170ea",
   "metadata": {
    "jp-MarkdownHeadingCollapsed": true
   },
   "source": [
    "## 5. Модель"
   ]
  },
  {
   "cell_type": "code",
   "execution_count": 8,
   "id": "6befe3fe-6b0c-4b1f-a57d-ad196944fdaf",
   "metadata": {},
   "outputs": [],
   "source": [
    "class SimpleNN(nn.Module):\n",
    "    def __init__(self, input_dim, hidden1, hidden2, dropout):\n",
    "        super().__init__()\n",
    "        self.net = nn.Sequential(\n",
    "            nn.Linear(input_dim, hidden1),\n",
    "            nn.BatchNorm1d(hidden1),\n",
    "            nn.ReLU(),\n",
    "            nn.Dropout(dropout),\n",
    "            nn.Linear(hidden1, hidden2),\n",
    "            nn.BatchNorm1d(hidden2),\n",
    "            nn.ReLU(),\n",
    "            nn.Dropout(dropout),\n",
    "            nn.Linear(hidden2, 1),\n",
    "        )\n",
    "\n",
    "    def forward(self, x):\n",
    "        return self.net(x)\n",
    "\n",
    "# для инициализации весов\n",
    "def weights_init(m):\n",
    "    if isinstance(m, nn.Linear):\n",
    "        nn.init.kaiming_normal_(m.weight)\n",
    "        nn.init.zeros_(m.bias)"
   ]
  },
  {
   "cell_type": "markdown",
   "id": "24fa5d5f-b67a-49a2-a5d3-415f456e5c20",
   "metadata": {
    "jp-MarkdownHeadingCollapsed": true
   },
   "source": [
    "## 6. валидация, обучение"
   ]
  },
  {
   "cell_type": "code",
   "execution_count": 9,
   "id": "eeabb6ee-be27-42e0-a1da-cc946e20f833",
   "metadata": {},
   "outputs": [],
   "source": [
    "def train_epoch(model, loader, optimizer, criterion):\n",
    "    model.train()  # настраиваем на обучение\n",
    "    total_loss, n = 0., 0  # задаём стартовые значения\n",
    "    for X, y in loader:\n",
    "        X, y = X.to(device), y.float().to(device)\n",
    "        optimizer.zero_grad()    # обнуляем градиенты\n",
    "        preds = model(X).squeeze(1)  # prediction\n",
    "        loss = criterion(preds, y)\n",
    "        loss.backward()\n",
    "        optimizer.step()\n",
    "        # собираем результат в кучку\n",
    "        total_loss += loss.item() * len(X)\n",
    "        n += len(X)\n",
    "    # возвращаем среднее за эпоху\n",
    "    return total_loss / n\n",
    "\n",
    "@torch.no_grad()\n",
    "def valid_epoch(model, loader, criterion):\n",
    "    model.eval()  # режим оценки\n",
    "    # стартовая инициализация\n",
    "    total_loss, n = 0., 0\n",
    "    all_preds, all_labels = [], []\n",
    "    for X, y in loader:\n",
    "        X, y = X.to(device), y.float().to(device)\n",
    "        preds = torch.sigmoid(model(X).squeeze(1))\n",
    "        total_loss += criterion(preds, y).item() * len(X)\n",
    "        n += len(X)\n",
    "        all_preds.append(preds.cpu())\n",
    "        all_labels.append(y.cpu())\n",
    "\n",
    "    preds = torch.cat(all_preds).numpy()\n",
    "    labels = torch.cat(all_labels).numpy()\n",
    "    pr_auc = auc(*precision_recall_curve(labels, preds)[1::-1])\n",
    "    roc_auc = roc_auc_score(labels, preds)\n",
    "    return total_loss / n, pr_auc, roc_auc"
   ]
  },
  {
   "cell_type": "markdown",
   "id": "a867e9bb-7c0f-4506-ba41-37cd80e4ab0a",
   "metadata": {
    "jp-MarkdownHeadingCollapsed": true
   },
   "source": [
    "## 7. optuna objective"
   ]
  },
  {
   "cell_type": "code",
   "execution_count": 22,
   "id": "ec78c0c9-197a-45f4-8073-3731ab7841d7",
   "metadata": {},
   "outputs": [],
   "source": [
    "N_Epochs = 100\n",
    "def objective(trial):\n",
    "    lr        = trial.suggest_float(\"lr\", 1e-4, 3e-2, log=True)\n",
    "    hidden1   = trial.suggest_categorical(\"hidden1\", [2**i for i in range(6, 9)])\n",
    "    hidden2   = trial.suggest_categorical(\"hidden2\", [2**i for i in range(4, 9)])\n",
    "    dropout   = trial.suggest_float(\"dropout\", 0.1, 0.5)\n",
    "    wd        = trial.suggest_float(\"weight_decay\", 1e-6, 1e-2, log=True)\n",
    "\n",
    "    gamma     = trial.suggest_float(\"gamma\", 0.70, 0.99)  # для scheduler\n",
    "\n",
    "    # инициализируем модел\n",
    "    model = SimpleNN(n_features, hidden1, hidden2, dropout).to(device)\n",
    "    model.apply(weights_init)\n",
    "\n",
    "    optimizer = torch.optim.AdamW(model.parameters(), lr=lr, weight_decay=wd)\n",
    "    scheduler = torch.optim.lr_scheduler.ExponentialLR(optimizer, gamma=gamma)\n",
    "    # бинарная кросс-энтропия с логитами, pos_weight — балансировка классов  классы же несбалансированы\n",
    "    criterion = nn.BCEWithLogitsLoss(pos_weight=torch.tensor([len(y_tr)/y_tr.sum()]).to(device))\n",
    "\n",
    "    # Если PR AUC не улучшается 5 эпох подряд — обучение прерывается\n",
    "    best_pr = 0\n",
    "    waiting = 5\n",
    "    no_improvement = 0\n",
    "\n",
    "    for epoch in range(N_Epochs):\n",
    "        train_loss = train_epoch(model, tr_dl, optimizer, criterion)\n",
    "        val_loss, val_pr, val_roc = valid_epoch(model, val_dl, criterion)\n",
    "\n",
    "        scheduler.step()  # обновляем lr\n",
    "\n",
    "        if val_pr > best_pr:\n",
    "            best_pr = val_pr\n",
    "            no_improvement = 0\n",
    "        else:\n",
    "            no_improvement += 1\n",
    "        if no_improvement >= waiting:\n",
    "            break\n",
    "\n",
    "    print(f\"\\nУчились {epoch} эпох.\")\n",
    "    return best_pr"
   ]
  },
  {
   "cell_type": "code",
   "execution_count": 25,
   "id": "6d169d6d-641a-4134-a5f8-53da2843db19",
   "metadata": {
    "scrolled": true
   },
   "outputs": [
    {
     "name": "stderr",
     "output_type": "stream",
     "text": [
      "[I 2025-08-30 22:22:59,119] A new study created in memory with name: no-name-39cc8b12-45b3-4dcb-858a-354361706570\n"
     ]
    },
    {
     "data": {
      "application/vnd.jupyter.widget-view+json": {
       "model_id": "246e7484607948239d2a31efbead1b99",
       "version_major": 2,
       "version_minor": 0
      },
      "text/plain": [
       "  0%|          | 0/30 [00:00<?, ?it/s]"
      ]
     },
     "metadata": {},
     "output_type": "display_data"
    },
    {
     "name": "stdout",
     "output_type": "stream",
     "text": [
      "\n",
      "Учились 22 эпох.\n",
      "[I 2025-08-30 22:23:54,068] Trial 0 finished with value: 0.7581313010069914 and parameters: {'lr': 0.0008468008575248334, 'hidden1': 64, 'hidden2': 128, 'dropout': 0.3832290311184182, 'weight_decay': 1.2087541473056965e-06, 'gamma': 0.9812738571269783}. Best is trial 0 with value: 0.7581313010069914.\n",
      "\n",
      "Учились 6 эпох.\n",
      "[I 2025-08-30 22:24:12,375] Trial 1 finished with value: 0.7496822529653013 and parameters: {'lr': 0.011536162338241389, 'hidden1': 64, 'hidden2': 256, 'dropout': 0.15579754426081674, 'weight_decay': 1.4742753159914662e-05, 'gamma': 0.8062449345551705}. Best is trial 0 with value: 0.7581313010069914.\n",
      "\n",
      "Учились 65 эпох.\n",
      "[I 2025-08-30 22:26:46,017] Trial 2 finished with value: 0.7593012554628468 and parameters: {'lr': 0.0013481575603601424, 'hidden1': 64, 'hidden2': 64, 'dropout': 0.4795542149013333, 'weight_decay': 0.007286653737491046, 'gamma': 0.9344352309537737}. Best is trial 2 with value: 0.7593012554628468.\n",
      "\n",
      "Учились 35 эпох.\n",
      "[I 2025-08-30 22:28:14,367] Trial 3 finished with value: 0.7135981959736228 and parameters: {'lr': 0.0005682837558512269, 'hidden1': 128, 'hidden2': 128, 'dropout': 0.36500891374159283, 'weight_decay': 1.7654048052495086e-05, 'gamma': 0.8508197261415651}. Best is trial 2 with value: 0.7593012554628468.\n",
      "\n",
      "Учились 12 эпох.\n",
      "[I 2025-08-30 22:28:43,595] Trial 4 finished with value: 0.7485790205517462 and parameters: {'lr': 0.0022608286763734953, 'hidden1': 128, 'hidden2': 16, 'dropout': 0.1783931449676581, 'weight_decay': 1.5167330688076198e-06, 'gamma': 0.7943457959213467}. Best is trial 2 with value: 0.7593012554628468.\n",
      "\n",
      "Учились 17 эпох.\n",
      "[I 2025-08-30 22:29:27,961] Trial 5 finished with value: 0.7490606137682818 and parameters: {'lr': 0.0009179114251639457, 'hidden1': 128, 'hidden2': 128, 'dropout': 0.4947547746402069, 'weight_decay': 0.001227380098785297, 'gamma': 0.7576275476449099}. Best is trial 2 with value: 0.7593012554628468.\n",
      "\n",
      "Учились 24 эпох.\n",
      "[I 2025-08-30 22:30:32,076] Trial 6 finished with value: 0.2621312130668026 and parameters: {'lr': 0.0001031998233024769, 'hidden1': 64, 'hidden2': 256, 'dropout': 0.3493192507310232, 'weight_decay': 2.106648601704221e-05, 'gamma': 0.7184319215829468}. Best is trial 2 with value: 0.7593012554628468.\n",
      "\n",
      "Учились 27 эпох.\n",
      "[I 2025-08-30 22:31:34,698] Trial 7 finished with value: 0.74063804472763 and parameters: {'lr': 0.0005893060761114627, 'hidden1': 128, 'hidden2': 16, 'dropout': 0.3245108790277985, 'weight_decay': 0.0012130221181165164, 'gamma': 0.8432007229456733}. Best is trial 2 with value: 0.7593012554628468.\n",
      "\n",
      "Учились 8 эпох.\n",
      "[I 2025-08-30 22:31:57,906] Trial 8 finished with value: 0.7712874048777021 and parameters: {'lr': 0.001971844222061616, 'hidden1': 64, 'hidden2': 256, 'dropout': 0.19971689165954998, 'weight_decay': 4.3805807679056575e-05, 'gamma': 0.919109830177484}. Best is trial 8 with value: 0.7712874048777021.\n",
      "\n",
      "Учились 33 эпох.\n",
      "[I 2025-08-30 22:33:14,653] Trial 9 finished with value: 0.7110030269176327 and parameters: {'lr': 0.0003687744286155104, 'hidden1': 128, 'hidden2': 16, 'dropout': 0.17462802355441434, 'weight_decay': 0.0037173717478250516, 'gamma': 0.8564092501555387}. Best is trial 8 with value: 0.7712874048777021.\n",
      "\n",
      "Учились 5 эпох.\n",
      "[I 2025-08-30 22:33:30,406] Trial 10 finished with value: 0.7625840539297051 and parameters: {'lr': 0.008419971167624782, 'hidden1': 256, 'hidden2': 32, 'dropout': 0.24400162169578388, 'weight_decay': 0.00015922048624041562, 'gamma': 0.9199535329291016}. Best is trial 8 with value: 0.7712874048777021.\n",
      "\n",
      "Учились 5 эпох.\n",
      "[I 2025-08-30 22:33:46,438] Trial 11 finished with value: 0.7669557417494595 and parameters: {'lr': 0.007200569124287643, 'hidden1': 256, 'hidden2': 32, 'dropout': 0.2518416973680894, 'weight_decay': 0.00012570963689826853, 'gamma': 0.9184826573674173}. Best is trial 8 with value: 0.7712874048777021.\n",
      "\n",
      "Учились 5 эпох.\n",
      "[I 2025-08-30 22:34:01,905] Trial 12 finished with value: 0.7745585946755038 and parameters: {'lr': 0.0037904387298016142, 'hidden1': 256, 'hidden2': 32, 'dropout': 0.2482248414425216, 'weight_decay': 0.0001351700482157799, 'gamma': 0.9133510800359536}. Best is trial 12 with value: 0.7745585946755038.\n",
      "\n",
      "Учились 11 эпох.\n",
      "[I 2025-08-30 22:34:32,891] Trial 13 finished with value: 0.7716496869016841 and parameters: {'lr': 0.004287500350085794, 'hidden1': 256, 'hidden2': 256, 'dropout': 0.11054723376232317, 'weight_decay': 0.00027308349581482775, 'gamma': 0.9603462861214482}. Best is trial 12 with value: 0.7745585946755038.\n",
      "\n",
      "Учились 7 эпох.\n",
      "[I 2025-08-30 22:34:53,522] Trial 14 finished with value: 0.7513539650507285 and parameters: {'lr': 0.02458351761135528, 'hidden1': 256, 'hidden2': 32, 'dropout': 0.10559669625437437, 'weight_decay': 0.00040184929679812126, 'gamma': 0.9864662285572432}. Best is trial 12 with value: 0.7745585946755038.\n",
      "\n",
      "Учились 7 эпох.\n",
      "[I 2025-08-30 22:35:14,457] Trial 15 finished with value: 0.7683804080242472 and parameters: {'lr': 0.003886065198079174, 'hidden1': 256, 'hidden2': 64, 'dropout': 0.27834328152835186, 'weight_decay': 0.0004054881526867285, 'gamma': 0.8869553687277448}. Best is trial 12 with value: 0.7745585946755038.\n",
      "\n",
      "Учились 5 эпох.\n",
      "[I 2025-08-30 22:35:29,777] Trial 16 finished with value: 0.7499373088374838 and parameters: {'lr': 0.0035621155549815505, 'hidden1': 256, 'hidden2': 256, 'dropout': 0.100955828807803, 'weight_decay': 5.880842039833552e-06, 'gamma': 0.9611128227859658}. Best is trial 12 with value: 0.7745585946755038.\n",
      "\n",
      "Учились 8 эпох.\n",
      "[I 2025-08-30 22:35:52,693] Trial 17 finished with value: 0.7713972836256684 and parameters: {'lr': 0.02058468823329251, 'hidden1': 256, 'hidden2': 32, 'dropout': 0.4236166121468869, 'weight_decay': 0.000336658280154847, 'gamma': 0.8834532168278867}. Best is trial 12 with value: 0.7745585946755038.\n",
      "\n",
      "Учились 13 эпох.\n",
      "[I 2025-08-30 22:36:28,197] Trial 18 finished with value: 0.7551868320299834 and parameters: {'lr': 0.0043765831731374105, 'hidden1': 256, 'hidden2': 256, 'dropout': 0.21706244096801047, 'weight_decay': 0.0015346439219996867, 'gamma': 0.952078394835453}. Best is trial 12 with value: 0.7745585946755038.\n",
      "\n",
      "Учились 6 эпох.\n",
      "[I 2025-08-30 22:36:45,974] Trial 19 finished with value: 0.7656520087195764 and parameters: {'lr': 0.011492907499072487, 'hidden1': 256, 'hidden2': 32, 'dropout': 0.1302912781538048, 'weight_decay': 4.6473685785110225e-05, 'gamma': 0.8956795689610314}. Best is trial 12 with value: 0.7745585946755038.\n",
      "\n",
      "Учились 20 эпох.\n",
      "[I 2025-08-30 22:37:40,903] Trial 20 finished with value: 0.7699414462739249 and parameters: {'lr': 0.00013968079858104528, 'hidden1': 256, 'hidden2': 64, 'dropout': 0.2958546083202639, 'weight_decay': 5.597335672043234e-05, 'gamma': 0.9524738929542146}. Best is trial 12 with value: 0.7745585946755038.\n",
      "\n",
      "Учились 7 эпох.\n",
      "[I 2025-08-30 22:38:01,284] Trial 21 finished with value: 0.7673842374364038 and parameters: {'lr': 0.02246691603627298, 'hidden1': 256, 'hidden2': 32, 'dropout': 0.4255974822311326, 'weight_decay': 0.0003343419407004928, 'gamma': 0.8849912803191698}. Best is trial 12 with value: 0.7745585946755038.\n",
      "\n",
      "Учились 9 эпох.\n",
      "[I 2025-08-30 22:38:26,823] Trial 22 finished with value: 0.7608035093338532 and parameters: {'lr': 0.01464124882527853, 'hidden1': 256, 'hidden2': 32, 'dropout': 0.4415139156671755, 'weight_decay': 0.0002609962082776861, 'gamma': 0.8715401245887604}. Best is trial 12 with value: 0.7745585946755038.\n",
      "\n",
      "Учились 6 эпох.\n",
      "[I 2025-08-30 22:38:44,933] Trial 23 finished with value: 0.7763204092798326 and parameters: {'lr': 0.00610870011303976, 'hidden1': 256, 'hidden2': 32, 'dropout': 0.41036820528895307, 'weight_decay': 8.321505335670856e-05, 'gamma': 0.8162802089191523}. Best is trial 23 with value: 0.7763204092798326.\n",
      "\n",
      "Учились 7 эпох.\n",
      "[I 2025-08-30 22:39:05,879] Trial 24 finished with value: 0.7529882013758857 and parameters: {'lr': 0.0065390815176871045, 'hidden1': 256, 'hidden2': 32, 'dropout': 0.39147649761992154, 'weight_decay': 6.772511365524272e-05, 'gamma': 0.8082490582781037}. Best is trial 23 with value: 0.7763204092798326.\n",
      "\n",
      "Учились 10 эпох.\n",
      "[I 2025-08-30 22:39:33,474] Trial 25 finished with value: 0.7795011127961508 and parameters: {'lr': 0.0028400482637497095, 'hidden1': 256, 'hidden2': 256, 'dropout': 0.3258921610124521, 'weight_decay': 0.000143076489654745, 'gamma': 0.8310822665830716}. Best is trial 25 with value: 0.7795011127961508.\n",
      "\n",
      "Учились 6 эпох.\n",
      "[I 2025-08-30 22:39:51,548] Trial 26 finished with value: 0.7673824838114109 and parameters: {'lr': 0.002599532184817174, 'hidden1': 256, 'hidden2': 32, 'dropout': 0.3227512611747482, 'weight_decay': 6.1103119165403835e-06, 'gamma': 0.772090164281053}. Best is trial 25 with value: 0.7795011127961508.\n",
      "\n",
      "Учились 12 эпох.\n",
      "[I 2025-08-30 22:40:25,184] Trial 27 finished with value: 0.7589401327485156 and parameters: {'lr': 0.0016312514200638223, 'hidden1': 256, 'hidden2': 32, 'dropout': 0.2739096876509088, 'weight_decay': 0.00011000802769031355, 'gamma': 0.8210061373976826}. Best is trial 25 with value: 0.7795011127961508.\n",
      "\n",
      "Учились 8 эпох.\n",
      "[I 2025-08-30 22:40:48,284] Trial 28 finished with value: 0.7663634895828421 and parameters: {'lr': 0.006608977509125075, 'hidden1': 256, 'hidden2': 256, 'dropout': 0.33211783578808884, 'weight_decay': 2.746937886445774e-05, 'gamma': 0.8241978832502093}. Best is trial 25 with value: 0.7795011127961508.\n",
      "\n",
      "Учились 17 эпох.\n",
      "[I 2025-08-30 22:41:35,257] Trial 29 finished with value: 0.7612014249127945 and parameters: {'lr': 0.0010445029775501067, 'hidden1': 256, 'hidden2': 64, 'dropout': 0.39109502146848424, 'weight_decay': 0.0009735323727668412, 'gamma': 0.7793359608480701}. Best is trial 25 with value: 0.7795011127961508.\n"
     ]
    }
   ],
   "source": [
    "set_seed()\n",
    "\n",
    "study = optuna.create_study(direction=\"maximize\", sampler=TPESampler(seed=42))\n",
    "study.optimize(objective, n_trials=30, show_progress_bar=True)"
   ]
  },
  {
   "cell_type": "code",
   "execution_count": 26,
   "id": "a2c9250a-8ce6-4c6a-9c9e-7c25528ab63a",
   "metadata": {
    "collapsed": true,
    "jupyter": {
     "outputs_hidden": true
    }
   },
   "outputs": [
    {
     "data": {
      "application/vnd.plotly.v1+json": {
       "config": {
        "plotlyServerURL": "https://plot.ly"
       },
       "data": [
        {
         "mode": "markers",
         "name": "Objective Value",
         "type": "scatter",
         "x": [
          0,
          1,
          2,
          3,
          4,
          5,
          6,
          7,
          8,
          9,
          10,
          11,
          12,
          13,
          14,
          15,
          16,
          17,
          18,
          19,
          20,
          21,
          22,
          23,
          24,
          25,
          26,
          27,
          28,
          29
         ],
         "y": [
          0.7581313010069914,
          0.7496822529653013,
          0.7593012554628468,
          0.7135981959736228,
          0.7485790205517462,
          0.7490606137682818,
          0.2621312130668026,
          0.74063804472763,
          0.7712874048777021,
          0.7110030269176327,
          0.7625840539297051,
          0.7669557417494595,
          0.7745585946755038,
          0.7716496869016841,
          0.7513539650507285,
          0.7683804080242472,
          0.7499373088374838,
          0.7713972836256684,
          0.7551868320299834,
          0.7656520087195764,
          0.7699414462739249,
          0.7673842374364038,
          0.7608035093338532,
          0.7763204092798326,
          0.7529882013758857,
          0.7795011127961508,
          0.7673824838114109,
          0.7589401327485156,
          0.7663634895828421,
          0.7612014249127945
         ]
        },
        {
         "mode": "lines",
         "name": "Best Value",
         "type": "scatter",
         "x": [
          0,
          1,
          2,
          3,
          4,
          5,
          6,
          7,
          8,
          9,
          10,
          11,
          12,
          13,
          14,
          15,
          16,
          17,
          18,
          19,
          20,
          21,
          22,
          23,
          24,
          25,
          26,
          27,
          28,
          29
         ],
         "y": [
          0.7581313010069914,
          0.7581313010069914,
          0.7593012554628468,
          0.7593012554628468,
          0.7593012554628468,
          0.7593012554628468,
          0.7593012554628468,
          0.7593012554628468,
          0.7712874048777021,
          0.7712874048777021,
          0.7712874048777021,
          0.7712874048777021,
          0.7745585946755038,
          0.7745585946755038,
          0.7745585946755038,
          0.7745585946755038,
          0.7745585946755038,
          0.7745585946755038,
          0.7745585946755038,
          0.7745585946755038,
          0.7745585946755038,
          0.7745585946755038,
          0.7745585946755038,
          0.7763204092798326,
          0.7763204092798326,
          0.7795011127961508,
          0.7795011127961508,
          0.7795011127961508,
          0.7795011127961508,
          0.7795011127961508
         ]
        },
        {
         "marker": {
          "color": "#cccccc"
         },
         "mode": "markers",
         "name": "Infeasible Trial",
         "showlegend": false,
         "type": "scatter",
         "x": [],
         "y": []
        }
       ],
       "layout": {
        "template": {
         "data": {
          "bar": [
           {
            "error_x": {
             "color": "#2a3f5f"
            },
            "error_y": {
             "color": "#2a3f5f"
            },
            "marker": {
             "line": {
              "color": "#E5ECF6",
              "width": 0.5
             },
             "pattern": {
              "fillmode": "overlay",
              "size": 10,
              "solidity": 0.2
             }
            },
            "type": "bar"
           }
          ],
          "barpolar": [
           {
            "marker": {
             "line": {
              "color": "#E5ECF6",
              "width": 0.5
             },
             "pattern": {
              "fillmode": "overlay",
              "size": 10,
              "solidity": 0.2
             }
            },
            "type": "barpolar"
           }
          ],
          "carpet": [
           {
            "aaxis": {
             "endlinecolor": "#2a3f5f",
             "gridcolor": "white",
             "linecolor": "white",
             "minorgridcolor": "white",
             "startlinecolor": "#2a3f5f"
            },
            "baxis": {
             "endlinecolor": "#2a3f5f",
             "gridcolor": "white",
             "linecolor": "white",
             "minorgridcolor": "white",
             "startlinecolor": "#2a3f5f"
            },
            "type": "carpet"
           }
          ],
          "choropleth": [
           {
            "colorbar": {
             "outlinewidth": 0,
             "ticks": ""
            },
            "type": "choropleth"
           }
          ],
          "contour": [
           {
            "colorbar": {
             "outlinewidth": 0,
             "ticks": ""
            },
            "colorscale": [
             [
              0,
              "#0d0887"
             ],
             [
              0.1111111111111111,
              "#46039f"
             ],
             [
              0.2222222222222222,
              "#7201a8"
             ],
             [
              0.3333333333333333,
              "#9c179e"
             ],
             [
              0.4444444444444444,
              "#bd3786"
             ],
             [
              0.5555555555555556,
              "#d8576b"
             ],
             [
              0.6666666666666666,
              "#ed7953"
             ],
             [
              0.7777777777777778,
              "#fb9f3a"
             ],
             [
              0.8888888888888888,
              "#fdca26"
             ],
             [
              1,
              "#f0f921"
             ]
            ],
            "type": "contour"
           }
          ],
          "contourcarpet": [
           {
            "colorbar": {
             "outlinewidth": 0,
             "ticks": ""
            },
            "type": "contourcarpet"
           }
          ],
          "heatmap": [
           {
            "colorbar": {
             "outlinewidth": 0,
             "ticks": ""
            },
            "colorscale": [
             [
              0,
              "#0d0887"
             ],
             [
              0.1111111111111111,
              "#46039f"
             ],
             [
              0.2222222222222222,
              "#7201a8"
             ],
             [
              0.3333333333333333,
              "#9c179e"
             ],
             [
              0.4444444444444444,
              "#bd3786"
             ],
             [
              0.5555555555555556,
              "#d8576b"
             ],
             [
              0.6666666666666666,
              "#ed7953"
             ],
             [
              0.7777777777777778,
              "#fb9f3a"
             ],
             [
              0.8888888888888888,
              "#fdca26"
             ],
             [
              1,
              "#f0f921"
             ]
            ],
            "type": "heatmap"
           }
          ],
          "histogram": [
           {
            "marker": {
             "pattern": {
              "fillmode": "overlay",
              "size": 10,
              "solidity": 0.2
             }
            },
            "type": "histogram"
           }
          ],
          "histogram2d": [
           {
            "colorbar": {
             "outlinewidth": 0,
             "ticks": ""
            },
            "colorscale": [
             [
              0,
              "#0d0887"
             ],
             [
              0.1111111111111111,
              "#46039f"
             ],
             [
              0.2222222222222222,
              "#7201a8"
             ],
             [
              0.3333333333333333,
              "#9c179e"
             ],
             [
              0.4444444444444444,
              "#bd3786"
             ],
             [
              0.5555555555555556,
              "#d8576b"
             ],
             [
              0.6666666666666666,
              "#ed7953"
             ],
             [
              0.7777777777777778,
              "#fb9f3a"
             ],
             [
              0.8888888888888888,
              "#fdca26"
             ],
             [
              1,
              "#f0f921"
             ]
            ],
            "type": "histogram2d"
           }
          ],
          "histogram2dcontour": [
           {
            "colorbar": {
             "outlinewidth": 0,
             "ticks": ""
            },
            "colorscale": [
             [
              0,
              "#0d0887"
             ],
             [
              0.1111111111111111,
              "#46039f"
             ],
             [
              0.2222222222222222,
              "#7201a8"
             ],
             [
              0.3333333333333333,
              "#9c179e"
             ],
             [
              0.4444444444444444,
              "#bd3786"
             ],
             [
              0.5555555555555556,
              "#d8576b"
             ],
             [
              0.6666666666666666,
              "#ed7953"
             ],
             [
              0.7777777777777778,
              "#fb9f3a"
             ],
             [
              0.8888888888888888,
              "#fdca26"
             ],
             [
              1,
              "#f0f921"
             ]
            ],
            "type": "histogram2dcontour"
           }
          ],
          "mesh3d": [
           {
            "colorbar": {
             "outlinewidth": 0,
             "ticks": ""
            },
            "type": "mesh3d"
           }
          ],
          "parcoords": [
           {
            "line": {
             "colorbar": {
              "outlinewidth": 0,
              "ticks": ""
             }
            },
            "type": "parcoords"
           }
          ],
          "pie": [
           {
            "automargin": true,
            "type": "pie"
           }
          ],
          "scatter": [
           {
            "fillpattern": {
             "fillmode": "overlay",
             "size": 10,
             "solidity": 0.2
            },
            "type": "scatter"
           }
          ],
          "scatter3d": [
           {
            "line": {
             "colorbar": {
              "outlinewidth": 0,
              "ticks": ""
             }
            },
            "marker": {
             "colorbar": {
              "outlinewidth": 0,
              "ticks": ""
             }
            },
            "type": "scatter3d"
           }
          ],
          "scattercarpet": [
           {
            "marker": {
             "colorbar": {
              "outlinewidth": 0,
              "ticks": ""
             }
            },
            "type": "scattercarpet"
           }
          ],
          "scattergeo": [
           {
            "marker": {
             "colorbar": {
              "outlinewidth": 0,
              "ticks": ""
             }
            },
            "type": "scattergeo"
           }
          ],
          "scattergl": [
           {
            "marker": {
             "colorbar": {
              "outlinewidth": 0,
              "ticks": ""
             }
            },
            "type": "scattergl"
           }
          ],
          "scattermap": [
           {
            "marker": {
             "colorbar": {
              "outlinewidth": 0,
              "ticks": ""
             }
            },
            "type": "scattermap"
           }
          ],
          "scattermapbox": [
           {
            "marker": {
             "colorbar": {
              "outlinewidth": 0,
              "ticks": ""
             }
            },
            "type": "scattermapbox"
           }
          ],
          "scatterpolar": [
           {
            "marker": {
             "colorbar": {
              "outlinewidth": 0,
              "ticks": ""
             }
            },
            "type": "scatterpolar"
           }
          ],
          "scatterpolargl": [
           {
            "marker": {
             "colorbar": {
              "outlinewidth": 0,
              "ticks": ""
             }
            },
            "type": "scatterpolargl"
           }
          ],
          "scatterternary": [
           {
            "marker": {
             "colorbar": {
              "outlinewidth": 0,
              "ticks": ""
             }
            },
            "type": "scatterternary"
           }
          ],
          "surface": [
           {
            "colorbar": {
             "outlinewidth": 0,
             "ticks": ""
            },
            "colorscale": [
             [
              0,
              "#0d0887"
             ],
             [
              0.1111111111111111,
              "#46039f"
             ],
             [
              0.2222222222222222,
              "#7201a8"
             ],
             [
              0.3333333333333333,
              "#9c179e"
             ],
             [
              0.4444444444444444,
              "#bd3786"
             ],
             [
              0.5555555555555556,
              "#d8576b"
             ],
             [
              0.6666666666666666,
              "#ed7953"
             ],
             [
              0.7777777777777778,
              "#fb9f3a"
             ],
             [
              0.8888888888888888,
              "#fdca26"
             ],
             [
              1,
              "#f0f921"
             ]
            ],
            "type": "surface"
           }
          ],
          "table": [
           {
            "cells": {
             "fill": {
              "color": "#EBF0F8"
             },
             "line": {
              "color": "white"
             }
            },
            "header": {
             "fill": {
              "color": "#C8D4E3"
             },
             "line": {
              "color": "white"
             }
            },
            "type": "table"
           }
          ]
         },
         "layout": {
          "annotationdefaults": {
           "arrowcolor": "#2a3f5f",
           "arrowhead": 0,
           "arrowwidth": 1
          },
          "autotypenumbers": "strict",
          "coloraxis": {
           "colorbar": {
            "outlinewidth": 0,
            "ticks": ""
           }
          },
          "colorscale": {
           "diverging": [
            [
             0,
             "#8e0152"
            ],
            [
             0.1,
             "#c51b7d"
            ],
            [
             0.2,
             "#de77ae"
            ],
            [
             0.3,
             "#f1b6da"
            ],
            [
             0.4,
             "#fde0ef"
            ],
            [
             0.5,
             "#f7f7f7"
            ],
            [
             0.6,
             "#e6f5d0"
            ],
            [
             0.7,
             "#b8e186"
            ],
            [
             0.8,
             "#7fbc41"
            ],
            [
             0.9,
             "#4d9221"
            ],
            [
             1,
             "#276419"
            ]
           ],
           "sequential": [
            [
             0,
             "#0d0887"
            ],
            [
             0.1111111111111111,
             "#46039f"
            ],
            [
             0.2222222222222222,
             "#7201a8"
            ],
            [
             0.3333333333333333,
             "#9c179e"
            ],
            [
             0.4444444444444444,
             "#bd3786"
            ],
            [
             0.5555555555555556,
             "#d8576b"
            ],
            [
             0.6666666666666666,
             "#ed7953"
            ],
            [
             0.7777777777777778,
             "#fb9f3a"
            ],
            [
             0.8888888888888888,
             "#fdca26"
            ],
            [
             1,
             "#f0f921"
            ]
           ],
           "sequentialminus": [
            [
             0,
             "#0d0887"
            ],
            [
             0.1111111111111111,
             "#46039f"
            ],
            [
             0.2222222222222222,
             "#7201a8"
            ],
            [
             0.3333333333333333,
             "#9c179e"
            ],
            [
             0.4444444444444444,
             "#bd3786"
            ],
            [
             0.5555555555555556,
             "#d8576b"
            ],
            [
             0.6666666666666666,
             "#ed7953"
            ],
            [
             0.7777777777777778,
             "#fb9f3a"
            ],
            [
             0.8888888888888888,
             "#fdca26"
            ],
            [
             1,
             "#f0f921"
            ]
           ]
          },
          "colorway": [
           "#636efa",
           "#EF553B",
           "#00cc96",
           "#ab63fa",
           "#FFA15A",
           "#19d3f3",
           "#FF6692",
           "#B6E880",
           "#FF97FF",
           "#FECB52"
          ],
          "font": {
           "color": "#2a3f5f"
          },
          "geo": {
           "bgcolor": "white",
           "lakecolor": "white",
           "landcolor": "#E5ECF6",
           "showlakes": true,
           "showland": true,
           "subunitcolor": "white"
          },
          "hoverlabel": {
           "align": "left"
          },
          "hovermode": "closest",
          "mapbox": {
           "style": "light"
          },
          "paper_bgcolor": "white",
          "plot_bgcolor": "#E5ECF6",
          "polar": {
           "angularaxis": {
            "gridcolor": "white",
            "linecolor": "white",
            "ticks": ""
           },
           "bgcolor": "#E5ECF6",
           "radialaxis": {
            "gridcolor": "white",
            "linecolor": "white",
            "ticks": ""
           }
          },
          "scene": {
           "xaxis": {
            "backgroundcolor": "#E5ECF6",
            "gridcolor": "white",
            "gridwidth": 2,
            "linecolor": "white",
            "showbackground": true,
            "ticks": "",
            "zerolinecolor": "white"
           },
           "yaxis": {
            "backgroundcolor": "#E5ECF6",
            "gridcolor": "white",
            "gridwidth": 2,
            "linecolor": "white",
            "showbackground": true,
            "ticks": "",
            "zerolinecolor": "white"
           },
           "zaxis": {
            "backgroundcolor": "#E5ECF6",
            "gridcolor": "white",
            "gridwidth": 2,
            "linecolor": "white",
            "showbackground": true,
            "ticks": "",
            "zerolinecolor": "white"
           }
          },
          "shapedefaults": {
           "line": {
            "color": "#2a3f5f"
           }
          },
          "ternary": {
           "aaxis": {
            "gridcolor": "white",
            "linecolor": "white",
            "ticks": ""
           },
           "baxis": {
            "gridcolor": "white",
            "linecolor": "white",
            "ticks": ""
           },
           "bgcolor": "#E5ECF6",
           "caxis": {
            "gridcolor": "white",
            "linecolor": "white",
            "ticks": ""
           }
          },
          "title": {
           "x": 0.05
          },
          "xaxis": {
           "automargin": true,
           "gridcolor": "white",
           "linecolor": "white",
           "ticks": "",
           "title": {
            "standoff": 15
           },
           "zerolinecolor": "white",
           "zerolinewidth": 2
          },
          "yaxis": {
           "automargin": true,
           "gridcolor": "white",
           "linecolor": "white",
           "ticks": "",
           "title": {
            "standoff": 15
           },
           "zerolinecolor": "white",
           "zerolinewidth": 2
          }
         }
        },
        "title": {
         "text": "Optimization History Plot"
        },
        "xaxis": {
         "title": {
          "text": "Trial"
         }
        },
        "yaxis": {
         "title": {
          "text": "Objective Value"
         }
        }
       }
      },
      "image/png": "[encoded data removed]"
     },
     "metadata": {},
     "output_type": "display_data"
    },
    {
     "data": {
      "application/vnd.plotly.v1+json": {
       "config": {
        "plotlyServerURL": "https://plot.ly"
       },
       "data": [
        {
         "cliponaxis": false,
         "hovertemplate": [
          "dropout (FloatDistribution): 0.01632691657095609<extra></extra>",
          "weight_decay (FloatDistribution): 0.050220060134983834<extra></extra>",
          "hidden2 (CategoricalDistribution): 0.07663371531758015<extra></extra>",
          "hidden1 (CategoricalDistribution): 0.22918731004317597<extra></extra>",
          "lr (FloatDistribution): 0.26977522778570645<extra></extra>",
          "gamma (FloatDistribution): 0.3578567701475975<extra></extra>"
         ],
         "name": "Objective Value",
         "orientation": "h",
         "text": [
          "0.02",
          "0.05",
          "0.08",
          "0.23",
          "0.27",
          "0.36"
         ],
         "textposition": "outside",
         "type": "bar",
         "x": [
          0.01632691657095609,
          0.050220060134983834,
          0.07663371531758015,
          0.22918731004317597,
          0.26977522778570645,
          0.3578567701475975
         ],
         "y": [
          "dropout",
          "weight_decay",
          "hidden2",
          "hidden1",
          "lr",
          "gamma"
         ]
        }
       ],
       "layout": {
        "template": {
         "data": {
          "bar": [
           {
            "error_x": {
             "color": "#2a3f5f"
            },
            "error_y": {
             "color": "#2a3f5f"
            },
            "marker": {
             "line": {
              "color": "#E5ECF6",
              "width": 0.5
             },
             "pattern": {
              "fillmode": "overlay",
              "size": 10,
              "solidity": 0.2
             }
            },
            "type": "bar"
           }
          ],
          "barpolar": [
           {
            "marker": {
             "line": {
              "color": "#E5ECF6",
              "width": 0.5
             },
             "pattern": {
              "fillmode": "overlay",
              "size": 10,
              "solidity": 0.2
             }
            },
            "type": "barpolar"
           }
          ],
          "carpet": [
           {
            "aaxis": {
             "endlinecolor": "#2a3f5f",
             "gridcolor": "white",
             "linecolor": "white",
             "minorgridcolor": "white",
             "startlinecolor": "#2a3f5f"
            },
            "baxis": {
             "endlinecolor": "#2a3f5f",
             "gridcolor": "white",
             "linecolor": "white",
             "minorgridcolor": "white",
             "startlinecolor": "#2a3f5f"
            },
            "type": "carpet"
           }
          ],
          "choropleth": [
           {
            "colorbar": {
             "outlinewidth": 0,
             "ticks": ""
            },
            "type": "choropleth"
           }
          ],
          "contour": [
           {
            "colorbar": {
             "outlinewidth": 0,
             "ticks": ""
            },
            "colorscale": [
             [
              0,
              "#0d0887"
             ],
             [
              0.1111111111111111,
              "#46039f"
             ],
             [
              0.2222222222222222,
              "#7201a8"
             ],
             [
              0.3333333333333333,
              "#9c179e"
             ],
             [
              0.4444444444444444,
              "#bd3786"
             ],
             [
              0.5555555555555556,
              "#d8576b"
             ],
             [
              0.6666666666666666,
              "#ed7953"
             ],
             [
              0.7777777777777778,
              "#fb9f3a"
             ],
             [
              0.8888888888888888,
              "#fdca26"
             ],
             [
              1,
              "#f0f921"
             ]
            ],
            "type": "contour"
           }
          ],
          "contourcarpet": [
           {
            "colorbar": {
             "outlinewidth": 0,
             "ticks": ""
            },
            "type": "contourcarpet"
           }
          ],
          "heatmap": [
           {
            "colorbar": {
             "outlinewidth": 0,
             "ticks": ""
            },
            "colorscale": [
             [
              0,
              "#0d0887"
             ],
             [
              0.1111111111111111,
              "#46039f"
             ],
             [
              0.2222222222222222,
              "#7201a8"
             ],
             [
              0.3333333333333333,
              "#9c179e"
             ],
             [
              0.4444444444444444,
              "#bd3786"
             ],
             [
              0.5555555555555556,
              "#d8576b"
             ],
             [
              0.6666666666666666,
              "#ed7953"
             ],
             [
              0.7777777777777778,
              "#fb9f3a"
             ],
             [
              0.8888888888888888,
              "#fdca26"
             ],
             [
              1,
              "#f0f921"
             ]
            ],
            "type": "heatmap"
           }
          ],
          "histogram": [
           {
            "marker": {
             "pattern": {
              "fillmode": "overlay",
              "size": 10,
              "solidity": 0.2
             }
            },
            "type": "histogram"
           }
          ],
          "histogram2d": [
           {
            "colorbar": {
             "outlinewidth": 0,
             "ticks": ""
            },
            "colorscale": [
             [
              0,
              "#0d0887"
             ],
             [
              0.1111111111111111,
              "#46039f"
             ],
             [
              0.2222222222222222,
              "#7201a8"
             ],
             [
              0.3333333333333333,
              "#9c179e"
             ],
             [
              0.4444444444444444,
              "#bd3786"
             ],
             [
              0.5555555555555556,
              "#d8576b"
             ],
             [
              0.6666666666666666,
              "#ed7953"
             ],
             [
              0.7777777777777778,
              "#fb9f3a"
             ],
             [
              0.8888888888888888,
              "#fdca26"
             ],
             [
              1,
              "#f0f921"
             ]
            ],
            "type": "histogram2d"
           }
          ],
          "histogram2dcontour": [
           {
            "colorbar": {
             "outlinewidth": 0,
             "ticks": ""
            },
            "colorscale": [
             [
              0,
              "#0d0887"
             ],
             [
              0.1111111111111111,
              "#46039f"
             ],
             [
              0.2222222222222222,
              "#7201a8"
             ],
             [
              0.3333333333333333,
              "#9c179e"
             ],
             [
              0.4444444444444444,
              "#bd3786"
             ],
             [
              0.5555555555555556,
              "#d8576b"
             ],
             [
              0.6666666666666666,
              "#ed7953"
             ],
             [
              0.7777777777777778,
              "#fb9f3a"
             ],
             [
              0.8888888888888888,
              "#fdca26"
             ],
             [
              1,
              "#f0f921"
             ]
            ],
            "type": "histogram2dcontour"
           }
          ],
          "mesh3d": [
           {
            "colorbar": {
             "outlinewidth": 0,
             "ticks": ""
            },
            "type": "mesh3d"
           }
          ],
          "parcoords": [
           {
            "line": {
             "colorbar": {
              "outlinewidth": 0,
              "ticks": ""
             }
            },
            "type": "parcoords"
           }
          ],
          "pie": [
           {
            "automargin": true,
            "type": "pie"
           }
          ],
          "scatter": [
           {
            "fillpattern": {
             "fillmode": "overlay",
             "size": 10,
             "solidity": 0.2
            },
            "type": "scatter"
           }
          ],
          "scatter3d": [
           {
            "line": {
             "colorbar": {
              "outlinewidth": 0,
              "ticks": ""
             }
            },
            "marker": {
             "colorbar": {
              "outlinewidth": 0,
              "ticks": ""
             }
            },
            "type": "scatter3d"
           }
          ],
          "scattercarpet": [
           {
            "marker": {
             "colorbar": {
              "outlinewidth": 0,
              "ticks": ""
             }
            },
            "type": "scattercarpet"
           }
          ],
          "scattergeo": [
           {
            "marker": {
             "colorbar": {
              "outlinewidth": 0,
              "ticks": ""
             }
            },
            "type": "scattergeo"
           }
          ],
          "scattergl": [
           {
            "marker": {
             "colorbar": {
              "outlinewidth": 0,
              "ticks": ""
             }
            },
            "type": "scattergl"
           }
          ],
          "scattermap": [
           {
            "marker": {
             "colorbar": {
              "outlinewidth": 0,
              "ticks": ""
             }
            },
            "type": "scattermap"
           }
          ],
          "scattermapbox": [
           {
            "marker": {
             "colorbar": {
              "outlinewidth": 0,
              "ticks": ""
             }
            },
            "type": "scattermapbox"
           }
          ],
          "scatterpolar": [
           {
            "marker": {
             "colorbar": {
              "outlinewidth": 0,
              "ticks": ""
             }
            },
            "type": "scatterpolar"
           }
          ],
          "scatterpolargl": [
           {
            "marker": {
             "colorbar": {
              "outlinewidth": 0,
              "ticks": ""
             }
            },
            "type": "scatterpolargl"
           }
          ],
          "scatterternary": [
           {
            "marker": {
             "colorbar": {
              "outlinewidth": 0,
              "ticks": ""
             }
            },
            "type": "scatterternary"
           }
          ],
          "surface": [
           {
            "colorbar": {
             "outlinewidth": 0,
             "ticks": ""
            },
            "colorscale": [
             [
              0,
              "#0d0887"
             ],
             [
              0.1111111111111111,
              "#46039f"
             ],
             [
              0.2222222222222222,
              "#7201a8"
             ],
             [
              0.3333333333333333,
              "#9c179e"
             ],
             [
              0.4444444444444444,
              "#bd3786"
             ],
             [
              0.5555555555555556,
              "#d8576b"
             ],
             [
              0.6666666666666666,
              "#ed7953"
             ],
             [
              0.7777777777777778,
              "#fb9f3a"
             ],
             [
              0.8888888888888888,
              "#fdca26"
             ],
             [
              1,
              "#f0f921"
             ]
            ],
            "type": "surface"
           }
          ],
          "table": [
           {
            "cells": {
             "fill": {
              "color": "#EBF0F8"
             },
             "line": {
              "color": "white"
             }
            },
            "header": {
             "fill": {
              "color": "#C8D4E3"
             },
             "line": {
              "color": "white"
             }
            },
            "type": "table"
           }
          ]
         },
         "layout": {
          "annotationdefaults": {
           "arrowcolor": "#2a3f5f",
           "arrowhead": 0,
           "arrowwidth": 1
          },
          "autotypenumbers": "strict",
          "coloraxis": {
           "colorbar": {
            "outlinewidth": 0,
            "ticks": ""
           }
          },
          "colorscale": {
           "diverging": [
            [
             0,
             "#8e0152"
            ],
            [
             0.1,
             "#c51b7d"
            ],
            [
             0.2,
             "#de77ae"
            ],
            [
             0.3,
             "#f1b6da"
            ],
            [
             0.4,
             "#fde0ef"
            ],
            [
             0.5,
             "#f7f7f7"
            ],
            [
             0.6,
             "#e6f5d0"
            ],
            [
             0.7,
             "#b8e186"
            ],
            [
             0.8,
             "#7fbc41"
            ],
            [
             0.9,
             "#4d9221"
            ],
            [
             1,
             "#276419"
            ]
           ],
           "sequential": [
            [
             0,
             "#0d0887"
            ],
            [
             0.1111111111111111,
             "#46039f"
            ],
            [
             0.2222222222222222,
             "#7201a8"
            ],
            [
             0.3333333333333333,
             "#9c179e"
            ],
            [
             0.4444444444444444,
             "#bd3786"
            ],
            [
             0.5555555555555556,
             "#d8576b"
            ],
            [
             0.6666666666666666,
             "#ed7953"
            ],
            [
             0.7777777777777778,
             "#fb9f3a"
            ],
            [
             0.8888888888888888,
             "#fdca26"
            ],
            [
             1,
             "#f0f921"
            ]
           ],
           "sequentialminus": [
            [
             0,
             "#0d0887"
            ],
            [
             0.1111111111111111,
             "#46039f"
            ],
            [
             0.2222222222222222,
             "#7201a8"
            ],
            [
             0.3333333333333333,
             "#9c179e"
            ],
            [
             0.4444444444444444,
             "#bd3786"
            ],
            [
             0.5555555555555556,
             "#d8576b"
            ],
            [
             0.6666666666666666,
             "#ed7953"
            ],
            [
             0.7777777777777778,
             "#fb9f3a"
            ],
            [
             0.8888888888888888,
             "#fdca26"
            ],
            [
             1,
             "#f0f921"
            ]
           ]
          },
          "colorway": [
           "#636efa",
           "#EF553B",
           "#00cc96",
           "#ab63fa",
           "#FFA15A",
           "#19d3f3",
           "#FF6692",
           "#B6E880",
           "#FF97FF",
           "#FECB52"
          ],
          "font": {
           "color": "#2a3f5f"
          },
          "geo": {
           "bgcolor": "white",
           "lakecolor": "white",
           "landcolor": "#E5ECF6",
           "showlakes": true,
           "showland": true,
           "subunitcolor": "white"
          },
          "hoverlabel": {
           "align": "left"
          },
          "hovermode": "closest",
          "mapbox": {
           "style": "light"
          },
          "paper_bgcolor": "white",
          "plot_bgcolor": "#E5ECF6",
          "polar": {
           "angularaxis": {
            "gridcolor": "white",
            "linecolor": "white",
            "ticks": ""
           },
           "bgcolor": "#E5ECF6",
           "radialaxis": {
            "gridcolor": "white",
            "linecolor": "white",
            "ticks": ""
           }
          },
          "scene": {
           "xaxis": {
            "backgroundcolor": "#E5ECF6",
            "gridcolor": "white",
            "gridwidth": 2,
            "linecolor": "white",
            "showbackground": true,
            "ticks": "",
            "zerolinecolor": "white"
           },
           "yaxis": {
            "backgroundcolor": "#E5ECF6",
            "gridcolor": "white",
            "gridwidth": 2,
            "linecolor": "white",
            "showbackground": true,
            "ticks": "",
            "zerolinecolor": "white"
           },
           "zaxis": {
            "backgroundcolor": "#E5ECF6",
            "gridcolor": "white",
            "gridwidth": 2,
            "linecolor": "white",
            "showbackground": true,
            "ticks": "",
            "zerolinecolor": "white"
           }
          },
          "shapedefaults": {
           "line": {
            "color": "#2a3f5f"
           }
          },
          "ternary": {
           "aaxis": {
            "gridcolor": "white",
            "linecolor": "white",
            "ticks": ""
           },
           "baxis": {
            "gridcolor": "white",
            "linecolor": "white",
            "ticks": ""
           },
           "bgcolor": "#E5ECF6",
           "caxis": {
            "gridcolor": "white",
            "linecolor": "white",
            "ticks": ""
           }
          },
          "title": {
           "x": 0.05
          },
          "xaxis": {
           "automargin": true,
           "gridcolor": "white",
           "linecolor": "white",
           "ticks": "",
           "title": {
            "standoff": 15
           },
           "zerolinecolor": "white",
           "zerolinewidth": 2
          },
          "yaxis": {
           "automargin": true,
           "gridcolor": "white",
           "linecolor": "white",
           "ticks": "",
           "title": {
            "standoff": 15
           },
           "zerolinecolor": "white",
           "zerolinewidth": 2
          }
         }
        },
        "title": {
         "text": "Hyperparameter Importances"
        },
        "xaxis": {
         "title": {
          "text": "Hyperparameter Importance"
         }
        },
        "yaxis": {
         "title": {
          "text": "Hyperparameter"
         }
        }
       }
      },
      "image/png": "[encoded data removed]"
     },
     "metadata": {},
     "output_type": "display_data"
    },
    {
     "data": {
      "application/vnd.plotly.v1+json": {
       "config": {
        "plotlyServerURL": "https://plot.ly"
       },
       "data": [
        {
         "dimensions": [
          {
           "label": "Objective Value",
           "range": [
            0.2621312130668026,
            0.7795011127961508
           ],
           "values": [
            0.7593012554628468,
            0.7581313010069914,
            0.7496822529653013,
            0.2621312130668026,
            0.7712874048777021,
            0.7485790205517462,
            0.74063804472763,
            0.7110030269176327,
            0.7135981959736228,
            0.7490606137682818,
            0.7625840539297051,
            0.7669557417494595,
            0.7745585946755038,
            0.7513539650507285,
            0.7713972836256684,
            0.7656520087195764,
            0.7673842374364038,
            0.7608035093338532,
            0.7763204092798326,
            0.7529882013758857,
            0.7673824838114109,
            0.7589401327485156,
            0.7683804080242472,
            0.7699414462739249,
            0.7612014249127945,
            0.7716496869016841,
            0.7499373088374838,
            0.7551868320299834,
            0.7795011127961508,
            0.7663634895828421
           ]
          },
          {
           "label": "dropout",
           "range": [
            0.100955828807803,
            0.4947547746402069
           ],
           "values": [
            0.4795542149013333,
            0.3832290311184182,
            0.15579754426081674,
            0.3493192507310232,
            0.19971689165954998,
            0.1783931449676581,
            0.3245108790277985,
            0.17462802355441434,
            0.36500891374159283,
            0.4947547746402069,
            0.24400162169578388,
            0.2518416973680894,
            0.2482248414425216,
            0.10559669625437437,
            0.4236166121468869,
            0.1302912781538048,
            0.4255974822311326,
            0.4415139156671755,
            0.41036820528895307,
            0.39147649761992154,
            0.3227512611747482,
            0.2739096876509088,
            0.27834328152835186,
            0.2958546083202639,
            0.39109502146848424,
            0.11054723376232317,
            0.100955828807803,
            0.21706244096801047,
            0.3258921610124521,
            0.33211783578808884
           ]
          },
          {
           "label": "gamma",
           "range": [
            0.7184319215829468,
            0.9864662285572432
           ],
           "values": [
            0.9344352309537737,
            0.9812738571269783,
            0.8062449345551705,
            0.7184319215829468,
            0.919109830177484,
            0.7943457959213467,
            0.8432007229456733,
            0.8564092501555387,
            0.8508197261415651,
            0.7576275476449099,
            0.9199535329291016,
            0.9184826573674173,
            0.9133510800359536,
            0.9864662285572432,
            0.8834532168278867,
            0.8956795689610314,
            0.8849912803191698,
            0.8715401245887604,
            0.8162802089191523,
            0.8082490582781037,
            0.772090164281053,
            0.8210061373976826,
            0.8869553687277448,
            0.9524738929542146,
            0.7793359608480701,
            0.9603462861214482,
            0.9611128227859658,
            0.952078394835453,
            0.8310822665830716,
            0.8241978832502093
           ]
          },
          {
           "label": "hidden1",
           "range": [
            0,
            2
           ],
           "ticktext": [
            "64",
            "128",
            "256"
           ],
           "tickvals": [
            0,
            1,
            2
           ],
           "values": [
            0,
            0,
            0,
            0,
            0,
            1,
            1,
            1,
            1,
            1,
            2,
            2,
            2,
            2,
            2,
            2,
            2,
            2,
            2,
            2,
            2,
            2,
            2,
            2,
            2,
            2,
            2,
            2,
            2,
            2
           ]
          },
          {
           "label": "hidden2",
           "range": [
            0,
            4
           ],
           "ticktext": [
            "16",
            "32",
            "64",
            "128",
            "256"
           ],
           "tickvals": [
            0,
            1,
            2,
            3,
            4
           ],
           "values": [
            2,
            3,
            4,
            4,
            4,
            0,
            0,
            0,
            3,
            3,
            1,
            1,
            1,
            1,
            1,
            1,
            1,
            1,
            1,
            1,
            1,
            1,
            2,
            2,
            2,
            4,
            4,
            4,
            4,
            4
           ]
          },
          {
           "label": "lr",
           "range": [
            -3.986321046302072,
            -1.6093559745862844
           ],
           "ticktext": [
            "0.000103",
            "0.001",
            "0.01",
            "0.0246"
           ],
           "tickvals": [
            -3.986321046302072,
            -3,
            -2,
            -1.6093559745862844
           ],
           "values": [
            -2.8702593484563192,
            -3.0722187108579697,
            -1.93793864113831,
            -3.986321046302072,
            -2.705127397798116,
            -2.6457323468650378,
            -3.229659081036065,
            -3.433239201219835,
            -3.245434757900374,
            -3.0371992244833526,
            -2.0746893956455876,
            -2.1426331761007495,
            -2.421310519080894,
            -1.6093559745862844,
            -1.6864557062514376,
            -1.939570088712213,
            -1.648456537743262,
            -1.8344218785510928,
            -2.2140511946337154,
            -2.1844832485890606,
            -2.5851048011955986,
            -2.787479097248302,
            -2.410489917341875,
            -3.854863290689265,
            -2.9810903176446706,
            -2.3677958314878733,
            -2.4482919961369984,
            -2.358864813731076,
            -2.5466742794944865,
            -2.179865726065641
           ]
          },
          {
           "label": "weight_decay",
           "range": [
            -5.91766202281679,
            -2.137471867701762
           ],
           "ticktext": [
            "1.21e-06",
            "1e-05",
            "0.0001",
            "0.001",
            "0.00729"
           ],
           "tickvals": [
            -5.91766202281679,
            -5,
            -4,
            -3,
            -2.137471867701762
           ],
           "values": [
            -2.137471867701762,
            -5.91766202281679,
            -4.831421405859127,
            -4.676407900589403,
            -4.35846830785748,
            -5.819090844357848,
            -2.9161312801817556,
            -2.4297640060400885,
            -4.753155695642356,
            -2.91102092281337,
            -3.7980010541312086,
            -3.900631428031497,
            -3.8691195312914752,
            -3.395936787313621,
            -3.472810699534558,
            -4.332792882660845,
            -3.4758091409895444,
            -3.5833658019952037,
            -4.079798104016948,
            -4.169250257467872,
            -5.213936619516088,
            -3.958575621619998,
            -3.3920218302270384,
            -4.252018647685946,
            -3.0116496023563335,
            -3.5637045462650216,
            -5.230560485646417,
            -2.813992376310493,
            -3.8444317236969257,
            -4.561151160702785
           ]
          }
         ],
         "labelangle": 30,
         "labelside": "bottom",
         "line": {
          "color": [
           0.7593012554628468,
           0.7581313010069914,
           0.7496822529653013,
           0.2621312130668026,
           0.7712874048777021,
           0.7485790205517462,
           0.74063804472763,
           0.7110030269176327,
           0.7135981959736228,
           0.7490606137682818,
           0.7625840539297051,
           0.7669557417494595,
           0.7745585946755038,
           0.7513539650507285,
           0.7713972836256684,
           0.7656520087195764,
           0.7673842374364038,
           0.7608035093338532,
           0.7763204092798326,
           0.7529882013758857,
           0.7673824838114109,
           0.7589401327485156,
           0.7683804080242472,
           0.7699414462739249,
           0.7612014249127945,
           0.7716496869016841,
           0.7499373088374838,
           0.7551868320299834,
           0.7795011127961508,
           0.7663634895828421
          ],
          "colorbar": {
           "title": {
            "text": "Objective Value"
           }
          },
          "colorscale": [
           [
            0,
            "rgb(247,251,255)"
           ],
           [
            0.125,
            "rgb(222,235,247)"
           ],
           [
            0.25,
            "rgb(198,219,239)"
           ],
           [
            0.375,
            "rgb(158,202,225)"
           ],
           [
            0.5,
            "rgb(107,174,214)"
           ],
           [
            0.625,
            "rgb(66,146,198)"
           ],
           [
            0.75,
            "rgb(33,113,181)"
           ],
           [
            0.875,
            "rgb(8,81,156)"
           ],
           [
            1,
            "rgb(8,48,107)"
           ]
          ],
          "reversescale": false,
          "showscale": true
         },
         "type": "parcoords"
        }
       ],
       "layout": {
        "template": {
         "data": {
          "bar": [
           {
            "error_x": {
             "color": "#2a3f5f"
            },
            "error_y": {
             "color": "#2a3f5f"
            },
            "marker": {
             "line": {
              "color": "#E5ECF6",
              "width": 0.5
             },
             "pattern": {
              "fillmode": "overlay",
              "size": 10,
              "solidity": 0.2
             }
            },
            "type": "bar"
           }
          ],
          "barpolar": [
           {
            "marker": {
             "line": {
              "color": "#E5ECF6",
              "width": 0.5
             },
             "pattern": {
              "fillmode": "overlay",
              "size": 10,
              "solidity": 0.2
             }
            },
            "type": "barpolar"
           }
          ],
          "carpet": [
           {
            "aaxis": {
             "endlinecolor": "#2a3f5f",
             "gridcolor": "white",
             "linecolor": "white",
             "minorgridcolor": "white",
             "startlinecolor": "#2a3f5f"
            },
            "baxis": {
             "endlinecolor": "#2a3f5f",
             "gridcolor": "white",
             "linecolor": "white",
             "minorgridcolor": "white",
             "startlinecolor": "#2a3f5f"
            },
            "type": "carpet"
           }
          ],
          "choropleth": [
           {
            "colorbar": {
             "outlinewidth": 0,
             "ticks": ""
            },
            "type": "choropleth"
           }
          ],
          "contour": [
           {
            "colorbar": {
             "outlinewidth": 0,
             "ticks": ""
            },
            "colorscale": [
             [
              0,
              "#0d0887"
             ],
             [
              0.1111111111111111,
              "#46039f"
             ],
             [
              0.2222222222222222,
              "#7201a8"
             ],
             [
              0.3333333333333333,
              "#9c179e"
             ],
             [
              0.4444444444444444,
              "#bd3786"
             ],
             [
              0.5555555555555556,
              "#d8576b"
             ],
             [
              0.6666666666666666,
              "#ed7953"
             ],
             [
              0.7777777777777778,
              "#fb9f3a"
             ],
             [
              0.8888888888888888,
              "#fdca26"
             ],
             [
              1,
              "#f0f921"
             ]
            ],
            "type": "contour"
           }
          ],
          "contourcarpet": [
           {
            "colorbar": {
             "outlinewidth": 0,
             "ticks": ""
            },
            "type": "contourcarpet"
           }
          ],
          "heatmap": [
           {
            "colorbar": {
             "outlinewidth": 0,
             "ticks": ""
            },
            "colorscale": [
             [
              0,
              "#0d0887"
             ],
             [
              0.1111111111111111,
              "#46039f"
             ],
             [
              0.2222222222222222,
              "#7201a8"
             ],
             [
              0.3333333333333333,
              "#9c179e"
             ],
             [
              0.4444444444444444,
              "#bd3786"
             ],
             [
              0.5555555555555556,
              "#d8576b"
             ],
             [
              0.6666666666666666,
              "#ed7953"
             ],
             [
              0.7777777777777778,
              "#fb9f3a"
             ],
             [
              0.8888888888888888,
              "#fdca26"
             ],
             [
              1,
              "#f0f921"
             ]
            ],
            "type": "heatmap"
           }
          ],
          "histogram": [
           {
            "marker": {
             "pattern": {
              "fillmode": "overlay",
              "size": 10,
              "solidity": 0.2
             }
            },
            "type": "histogram"
           }
          ],
          "histogram2d": [
           {
            "colorbar": {
             "outlinewidth": 0,
             "ticks": ""
            },
            "colorscale": [
             [
              0,
              "#0d0887"
             ],
             [
              0.1111111111111111,
              "#46039f"
             ],
             [
              0.2222222222222222,
              "#7201a8"
             ],
             [
              0.3333333333333333,
              "#9c179e"
             ],
             [
              0.4444444444444444,
              "#bd3786"
             ],
             [
              0.5555555555555556,
              "#d8576b"
             ],
             [
              0.6666666666666666,
              "#ed7953"
             ],
             [
              0.7777777777777778,
              "#fb9f3a"
             ],
             [
              0.8888888888888888,
              "#fdca26"
             ],
             [
              1,
              "#f0f921"
             ]
            ],
            "type": "histogram2d"
           }
          ],
          "histogram2dcontour": [
           {
            "colorbar": {
             "outlinewidth": 0,
             "ticks": ""
            },
            "colorscale": [
             [
              0,
              "#0d0887"
             ],
             [
              0.1111111111111111,
              "#46039f"
             ],
             [
              0.2222222222222222,
              "#7201a8"
             ],
             [
              0.3333333333333333,
              "#9c179e"
             ],
             [
              0.4444444444444444,
              "#bd3786"
             ],
             [
              0.5555555555555556,
              "#d8576b"
             ],
             [
              0.6666666666666666,
              "#ed7953"
             ],
             [
              0.7777777777777778,
              "#fb9f3a"
             ],
             [
              0.8888888888888888,
              "#fdca26"
             ],
             [
              1,
              "#f0f921"
             ]
            ],
            "type": "histogram2dcontour"
           }
          ],
          "mesh3d": [
           {
            "colorbar": {
             "outlinewidth": 0,
             "ticks": ""
            },
            "type": "mesh3d"
           }
          ],
          "parcoords": [
           {
            "line": {
             "colorbar": {
              "outlinewidth": 0,
              "ticks": ""
             }
            },
            "type": "parcoords"
           }
          ],
          "pie": [
           {
            "automargin": true,
            "type": "pie"
           }
          ],
          "scatter": [
           {
            "fillpattern": {
             "fillmode": "overlay",
             "size": 10,
             "solidity": 0.2
            },
            "type": "scatter"
           }
          ],
          "scatter3d": [
           {
            "line": {
             "colorbar": {
              "outlinewidth": 0,
              "ticks": ""
             }
            },
            "marker": {
             "colorbar": {
              "outlinewidth": 0,
              "ticks": ""
             }
            },
            "type": "scatter3d"
           }
          ],
          "scattercarpet": [
           {
            "marker": {
             "colorbar": {
              "outlinewidth": 0,
              "ticks": ""
             }
            },
            "type": "scattercarpet"
           }
          ],
          "scattergeo": [
           {
            "marker": {
             "colorbar": {
              "outlinewidth": 0,
              "ticks": ""
             }
            },
            "type": "scattergeo"
           }
          ],
          "scattergl": [
           {
            "marker": {
             "colorbar": {
              "outlinewidth": 0,
              "ticks": ""
             }
            },
            "type": "scattergl"
           }
          ],
          "scattermap": [
           {
            "marker": {
             "colorbar": {
              "outlinewidth": 0,
              "ticks": ""
             }
            },
            "type": "scattermap"
           }
          ],
          "scattermapbox": [
           {
            "marker": {
             "colorbar": {
              "outlinewidth": 0,
              "ticks": ""
             }
            },
            "type": "scattermapbox"
           }
          ],
          "scatterpolar": [
           {
            "marker": {
             "colorbar": {
              "outlinewidth": 0,
              "ticks": ""
             }
            },
            "type": "scatterpolar"
           }
          ],
          "scatterpolargl": [
           {
            "marker": {
             "colorbar": {
              "outlinewidth": 0,
              "ticks": ""
             }
            },
            "type": "scatterpolargl"
           }
          ],
          "scatterternary": [
           {
            "marker": {
             "colorbar": {
              "outlinewidth": 0,
              "ticks": ""
             }
            },
            "type": "scatterternary"
           }
          ],
          "surface": [
           {
            "colorbar": {
             "outlinewidth": 0,
             "ticks": ""
            },
            "colorscale": [
             [
              0,
              "#0d0887"
             ],
             [
              0.1111111111111111,
              "#46039f"
             ],
             [
              0.2222222222222222,
              "#7201a8"
             ],
             [
              0.3333333333333333,
              "#9c179e"
             ],
             [
              0.4444444444444444,
              "#bd3786"
             ],
             [
              0.5555555555555556,
              "#d8576b"
             ],
             [
              0.6666666666666666,
              "#ed7953"
             ],
             [
              0.7777777777777778,
              "#fb9f3a"
             ],
             [
              0.8888888888888888,
              "#fdca26"
             ],
             [
              1,
              "#f0f921"
             ]
            ],
            "type": "surface"
           }
          ],
          "table": [
           {
            "cells": {
             "fill": {
              "color": "#EBF0F8"
             },
             "line": {
              "color": "white"
             }
            },
            "header": {
             "fill": {
              "color": "#C8D4E3"
             },
             "line": {
              "color": "white"
             }
            },
            "type": "table"
           }
          ]
         },
         "layout": {
          "annotationdefaults": {
           "arrowcolor": "#2a3f5f",
           "arrowhead": 0,
           "arrowwidth": 1
          },
          "autotypenumbers": "strict",
          "coloraxis": {
           "colorbar": {
            "outlinewidth": 0,
            "ticks": ""
           }
          },
          "colorscale": {
           "diverging": [
            [
             0,
             "#8e0152"
            ],
            [
             0.1,
             "#c51b7d"
            ],
            [
             0.2,
             "#de77ae"
            ],
            [
             0.3,
             "#f1b6da"
            ],
            [
             0.4,
             "#fde0ef"
            ],
            [
             0.5,
             "#f7f7f7"
            ],
            [
             0.6,
             "#e6f5d0"
            ],
            [
             0.7,
             "#b8e186"
            ],
            [
             0.8,
             "#7fbc41"
            ],
            [
             0.9,
             "#4d9221"
            ],
            [
             1,
             "#276419"
            ]
           ],
           "sequential": [
            [
             0,
             "#0d0887"
            ],
            [
             0.1111111111111111,
             "#46039f"
            ],
            [
             0.2222222222222222,
             "#7201a8"
            ],
            [
             0.3333333333333333,
             "#9c179e"
            ],
            [
             0.4444444444444444,
             "#bd3786"
            ],
            [
             0.5555555555555556,
             "#d8576b"
            ],
            [
             0.6666666666666666,
             "#ed7953"
            ],
            [
             0.7777777777777778,
             "#fb9f3a"
            ],
            [
             0.8888888888888888,
             "#fdca26"
            ],
            [
             1,
             "#f0f921"
            ]
           ],
           "sequentialminus": [
            [
             0,
             "#0d0887"
            ],
            [
             0.1111111111111111,
             "#46039f"
            ],
            [
             0.2222222222222222,
             "#7201a8"
            ],
            [
             0.3333333333333333,
             "#9c179e"
            ],
            [
             0.4444444444444444,
             "#bd3786"
            ],
            [
             0.5555555555555556,
             "#d8576b"
            ],
            [
             0.6666666666666666,
             "#ed7953"
            ],
            [
             0.7777777777777778,
             "#fb9f3a"
            ],
            [
             0.8888888888888888,
             "#fdca26"
            ],
            [
             1,
             "#f0f921"
            ]
           ]
          },
          "colorway": [
           "#636efa",
           "#EF553B",
           "#00cc96",
           "#ab63fa",
           "#FFA15A",
           "#19d3f3",
           "#FF6692",
           "#B6E880",
           "#FF97FF",
           "#FECB52"
          ],
          "font": {
           "color": "#2a3f5f"
          },
          "geo": {
           "bgcolor": "white",
           "lakecolor": "white",
           "landcolor": "#E5ECF6",
           "showlakes": true,
           "showland": true,
           "subunitcolor": "white"
          },
          "hoverlabel": {
           "align": "left"
          },
          "hovermode": "closest",
          "mapbox": {
           "style": "light"
          },
          "paper_bgcolor": "white",
          "plot_bgcolor": "#E5ECF6",
          "polar": {
           "angularaxis": {
            "gridcolor": "white",
            "linecolor": "white",
            "ticks": ""
           },
           "bgcolor": "#E5ECF6",
           "radialaxis": {
            "gridcolor": "white",
            "linecolor": "white",
            "ticks": ""
           }
          },
          "scene": {
           "xaxis": {
            "backgroundcolor": "#E5ECF6",
            "gridcolor": "white",
            "gridwidth": 2,
            "linecolor": "white",
            "showbackground": true,
            "ticks": "",
            "zerolinecolor": "white"
           },
           "yaxis": {
            "backgroundcolor": "#E5ECF6",
            "gridcolor": "white",
            "gridwidth": 2,
            "linecolor": "white",
            "showbackground": true,
            "ticks": "",
            "zerolinecolor": "white"
           },
           "zaxis": {
            "backgroundcolor": "#E5ECF6",
            "gridcolor": "white",
            "gridwidth": 2,
            "linecolor": "white",
            "showbackground": true,
            "ticks": "",
            "zerolinecolor": "white"
           }
          },
          "shapedefaults": {
           "line": {
            "color": "#2a3f5f"
           }
          },
          "ternary": {
           "aaxis": {
            "gridcolor": "white",
            "linecolor": "white",
            "ticks": ""
           },
           "baxis": {
            "gridcolor": "white",
            "linecolor": "white",
            "ticks": ""
           },
           "bgcolor": "#E5ECF6",
           "caxis": {
            "gridcolor": "white",
            "linecolor": "white",
            "ticks": ""
           }
          },
          "title": {
           "x": 0.05
          },
          "xaxis": {
           "automargin": true,
           "gridcolor": "white",
           "linecolor": "white",
           "ticks": "",
           "title": {
            "standoff": 15
           },
           "zerolinecolor": "white",
           "zerolinewidth": 2
          },
          "yaxis": {
           "automargin": true,
           "gridcolor": "white",
           "linecolor": "white",
           "ticks": "",
           "title": {
            "standoff": 15
           },
           "zerolinecolor": "white",
           "zerolinewidth": 2
          }
         }
        },
        "title": {
         "text": "Parallel Coordinate Plot"
        }
       }
      },
      "image/png": "[encoded data removed]"
     },
     "metadata": {},
     "output_type": "display_data"
    }
   ],
   "source": [
    "# optuna визуализация\n",
    "optuna.visualization.plot_optimization_history(study).show()\n",
    "optuna.visualization.plot_param_importances(study).show()\n",
    "optuna.visualization.plot_parallel_coordinate(study).show()"
   ]
  },
  {
   "cell_type": "markdown",
   "id": "121feed5-a8fd-4ddf-be32-1bac8abfc975",
   "metadata": {
    "jp-MarkdownHeadingCollapsed": true
   },
   "source": [
    "## 8. Обучение на всём train\n",
    "(отрисовка метрик на тест - чисто посмотреть , в реальности у нас этого не будет)"
   ]
  },
  {
   "cell_type": "code",
   "execution_count": 27,
   "id": "083bd858-7ec4-4e1a-b7a4-8c0afad6be65",
   "metadata": {},
   "outputs": [],
   "source": [
    "def train_with_plot_and_scheduler(model, train_loader, val_loader, optimizer, criterion, epochs, gamma=0.9):\n",
    "\n",
    "    scheduler = torch.optim.lr_scheduler.ExponentialLR(optimizer, gamma=gamma)\n",
    "\n",
    "    train_losses = []\n",
    "    val_losses = []\n",
    "    pr_aucs = []\n",
    "    roc_aucs = []\n",
    "    lrs = []\n",
    "\n",
    "    for epoch in range(epochs):\n",
    "        train_loss = train_epoch(model, train_loader, optimizer, criterion)\n",
    "        val_loss, pr_auc, roc_auc = valid_epoch(model, val_loader, criterion)\n",
    "\n",
    "        train_losses.append(train_loss)\n",
    "        val_losses.append(val_loss)\n",
    "        pr_aucs.append(pr_auc)\n",
    "        roc_aucs.append(roc_auc)\n",
    "        lrs.append(optimizer.param_groups[0]['lr'])\n",
    "\n",
    "        scheduler.step()  # обновляем learning rate\n",
    "\n",
    "        # Обновление графика\n",
    "        clear_output(wait=True)\n",
    "        plt.figure(figsize=(15, 5))\n",
    "\n",
    "        # Потери\n",
    "        plt.subplot(1, 3, 1)\n",
    "        plt.plot(train_losses, label='Train Loss')\n",
    "        plt.plot(val_losses, label='Val Loss')\n",
    "        plt.xlabel('Epoch')\n",
    "        plt.ylabel('Loss')\n",
    "        plt.title('Loss по эпохам')\n",
    "        plt.legend()\n",
    "        plt.xlim(0, epochs)\n",
    "\n",
    "        # Метрики\n",
    "        plt.subplot(1, 3, 2)\n",
    "        plt.plot(pr_aucs, label='PR AUC')\n",
    "        plt.plot(roc_aucs, label='ROC AUC')\n",
    "        plt.xlabel('Epoch')\n",
    "        plt.ylabel('Score')\n",
    "        plt.title('Тест Metrics')\n",
    "        plt.legend()\n",
    "        plt.xlim(0, epochs)\n",
    "\n",
    "        # Learning Rate\n",
    "        plt.subplot(1, 3, 3)\n",
    "        plt.plot(lrs, label='Learning Rate')\n",
    "        plt.xlabel('Epoch')\n",
    "        plt.ylabel('LR')\n",
    "        plt.title('Learning Rate Decay')\n",
    "        plt.legend()\n",
    "        plt.xlim(0, epochs)\n",
    "\n",
    "        plt.tight_layout()\n",
    "        plt.show()\n",
    "\n",
    "        print(f\"Эпоха {epoch+1}/{epochs} — Train Loss: {train_loss:.4f}, Val Loss: {val_loss:.4f}, PR AUC: {pr_auc:.4f}, ROC AUC: {roc_auc:.4f}, LR: {lrs[-1]:.6f}\")\n"
   ]
  },
  {
   "cell_type": "code",
   "execution_count": 28,
   "id": "e0beb312-240f-447e-ba54-83ea0dca6ca3",
   "metadata": {},
   "outputs": [
    {
     "data": {
      "image/png": "[encoded data removed]",
      "text/plain": [
       "<Figure size 1500x500 with 3 Axes>"
      ]
     },
     "metadata": {},
     "output_type": "display_data"
    },
    {
     "name": "stdout",
     "output_type": "stream",
     "text": [
      "Эпоха 100/100 — Train Loss: 0.1173, Val Loss: 0.9519, PR AUC: 0.8113, ROC AUC: 0.9894, LR: 0.000000\n"
     ]
    }
   ],
   "source": [
    "set_seed()\n",
    "\n",
    "best = study.best_params\n",
    "model = SimpleNN(n_features, best[\"hidden1\"], best[\"hidden2\"], best[\"dropout\"]).to(device)\n",
    "model.apply(weights_init)\n",
    "optimizer = torch.optim.AdamW(model.parameters(), lr=best[\"lr\"], weight_decay=best[\"weight_decay\"])\n",
    "criterion = nn.BCEWithLogitsLoss(pos_weight=torch.tensor([len(y_train)/y_train.sum()]).to(device))\n",
    "\n",
    "\n",
    "train_with_plot_and_scheduler(model, train_dl, test_dl, optimizer, criterion, 100, gamma=best['gamma'])"
   ]
  },
  {
   "cell_type": "markdown",
   "id": "0756fdfd-a117-434d-9498-abf0e773b062",
   "metadata": {
    "jp-MarkdownHeadingCollapsed": true
   },
   "source": [
    "## 9. Оценка на test"
   ]
  },
  {
   "cell_type": "code",
   "execution_count": 29,
   "id": "47bc81fc-78e2-47fd-a42c-dfa40556f02f",
   "metadata": {},
   "outputs": [
    {
     "name": "stdout",
     "output_type": "stream",
     "text": [
      "Torch Simple   PR-AUC=0.8113  ROC-AUC=0.9894  Precision=0.088  Recall=0.909\n"
     ]
    }
   ],
   "source": [
    "@torch.no_grad()\n",
    "def predict(model, loader):\n",
    "    model.eval()\n",
    "    preds = []\n",
    "    for X, _ in loader:\n",
    "        preds.append(torch.sigmoid(model(X.to(device)).squeeze(1)).cpu())\n",
    "    return torch.cat(preds).numpy()\n",
    "\n",
    "y_score = predict(model, test_dl)\n",
    "y_pred = (y_score >= 0.5).astype(int)\n",
    "\n",
    "pr_auc  = auc(*precision_recall_curve(y_test, y_score)[1::-1])\n",
    "roc_auc = roc_auc_score(y_test, y_score)\n",
    "\n",
    "print(f\"Torch Simple   PR-AUC={pr_auc:0.4f}  ROC-AUC={roc_auc:0.4f}  \"\n",
    "      f\"Precision={precision_score(y_test,y_pred):0.3f}  Recall={recall_score(y_test,y_pred):0.3f}\")"
   ]
  },
  {
   "cell_type": "markdown",
   "id": "c3dbd313-40ee-49e0-8977-2e923839eb74",
   "metadata": {},
   "source": [
    "## 10. Сохранение модел"
   ]
  },
  {
   "cell_type": "code",
   "execution_count": null,
   "id": "aa96336c-87a5-49d6-b80b-b83d09894970",
   "metadata": {},
   "outputs": [],
   "source": [
    "# torch.save(model.state_dict(), \"simple_torch_creditcard.pt\")"
   ]
  },
  {
   "cell_type": "markdown",
   "id": "2ecb8bb7-c36f-4c35-94d3-e9614ffc5ee2",
   "metadata": {},
   "source": [
    "## 11. подбор порога"
   ]
  },
  {
   "cell_type": "code",
   "execution_count": 75,
   "id": "8b600bbc-5643-4383-86aa-4be64fedbe2e",
   "metadata": {},
   "outputs": [
    {
     "name": "stdout",
     "output_type": "stream",
     "text": [
      "Оптимальный порог (по val) = 0.9996\n"
     ]
    }
   ],
   "source": [
    "# получаем вероятности на валидации\n",
    "# по хорошему порог нужно подбирать обучив модель только на X_tr...)\n",
    "# но, кмк, ничего сильно противозаконного не происходит ...)\n",
    "model.eval()\n",
    "with torch.no_grad():\n",
    "    val_tensor = torch.from_numpy(X_val).to(device)\n",
    "    y_score_val = torch.sigmoid(model(val_tensor).squeeze(1)).cpu().numpy()\n",
    "\n",
    "#  подбираем порог\n",
    "from sklearn.metrics import precision_recall_curve, f1_score, precision_score, recall_score\n",
    "\n",
    "prec_val, rec_val, thr_val = precision_recall_curve(y_val, y_score_val)\n",
    "f1_val = 2 * prec_val * rec_val / (prec_val + rec_val + 1e-12)\n",
    "best_idx = np.nanargmax(f1_val)   # nanargmax игнорирует NaN\n",
    "best_thr = thr_val[best_idx]\n",
    "\n",
    "print(f\"Оптимальный порог (по val) = {best_thr:.4f}\")"
   ]
  },
  {
   "cell_type": "code",
   "execution_count": 76,
   "id": "27eb331b-c0be-4a6d-a588-f297fe758078",
   "metadata": {},
   "outputs": [
    {
     "name": "stdout",
     "output_type": "stream",
     "text": [
      "Test (порог подобран по валидации)  PR-AUC=0.8113  Precision=0.902  Recall=0.714, F1 = 0.797\n"
     ]
    }
   ],
   "source": [
    "y_pred_test = (y_score >= best_thr).astype(int)\n",
    "\n",
    "precision = precision_score(y_test, y_pred_test)\n",
    "recall = recall_score(y_test, y_pred_test)\n",
    "f1 = f1_score(y_test, y_pred_test)\n",
    "\n",
    "prec, rec, thr = precision_recall_curve(y_test, y_score)\n",
    "pr_auc  = auc(rec, prec)\n",
    "\n",
    "print(\"Test (порог подобран по валидации)  \"\n",
    "      f\"PR-AUC={pr_auc:0.4f}  \"\n",
    "      f\"Precision={precision:0.3f}  \"\n",
    "      f\"Recall={recall:0.3f}, F1 = {f1:.3f}\")"
   ]
  },
  {
   "cell_type": "markdown",
   "id": "0a3e7887-7df6-4c67-98ea-575721940a96",
   "metadata": {},
   "source": [
    "## 12. Оценка-отрисовка finaly"
   ]
  },
  {
   "cell_type": "code",
   "execution_count": 32,
   "id": "663e97d0-2de7-4bf4-9dd6-f418d252cf2e",
   "metadata": {},
   "outputs": [],
   "source": [
    "# precision-recall кривая и confusion_matrix и метрики\n",
    "# метрики печать и возвращаем f1, pr_auc\n",
    "def print_metrics(y_true, y_pred,  pr_auc):\n",
    "    precision = precision_score(y_true, y_pred)\n",
    "    recall = recall_score(y_true, y_pred)\n",
    "    f1 = f1_score(y_true, y_pred)\n",
    "    print('\\n'+'='*60)\n",
    "    print(f\"Precision={precision:.2f},   Recall={recall:.2f},   F1={f1:.2f},   PR_AUC={pr_auc:.2f}\")\n",
    "    print('\\n'+'='*60)\n",
    "    # return f1, pr_auc\n",
    "\n",
    "def plot_pr_and_cm(recalls, precisions, y_true, y_pred, main_label = ' на test',):\n",
    "# # Создаём общую фигуру с 2 подграфиками (по горизонтали)\n",
    "    fig, axs = plt.subplots(1, 2, figsize=(8, 3))\n",
    "    # pr curve\n",
    "    fig.suptitle(\"Оценка модели \" + main_label, fontsize=14, fontweight='bold')\n",
    "\n",
    "\n",
    "    labels = ['Норм (0)', 'Аномалии (1)']\n",
    "\n",
    "    axs[0].plot(recalls, precisions, marker='.', color='teal')\n",
    "    axs[0].set_xlabel(\"Recall\")\n",
    "    axs[0].set_ylabel(\"Precision\")\n",
    "    axs[0].set_title(f\"PR Curve (AUC={pr_auc:.2f})\")\n",
    "\n",
    "    # cm\n",
    "    cm = confusion_matrix(y_true, y_pred)\n",
    "\n",
    "    sns.heatmap(cm, annot=True, fmt='d', cmap='Blues',\n",
    "                xticklabels=labels, yticklabels=labels, ax=axs[1])\n",
    "    axs[1].set_xlabel(\"Предсказаные метки\")\n",
    "    axs[1].set_ylabel(\"Истинные метки\")\n",
    "    axs[1].set_title(\"Confusion Matrix\")\n",
    "\n",
    "    plt.tight_layout()\n",
    "    plt.subplots_adjust(wspace=0.3) # раздвигаем картинки\n",
    "    plt.show()\n",
    "\n",
    "    # 3) печать метрик\n",
    "    print_metrics(y_true, y_pred,  pr_auc)\n",
    "    pass"
   ]
  },
  {
   "cell_type": "code",
   "execution_count": 33,
   "id": "25351a6e-154c-47af-9757-34b09f5581f2",
   "metadata": {},
   "outputs": [
    {
     "data": {
      "image/png": "[encoded data removed]",
      "text/plain": [
       "<Figure size 800x300 with 3 Axes>"
      ]
     },
     "metadata": {},
     "output_type": "display_data"
    },
    {
     "name": "stdout",
     "output_type": "stream",
     "text": [
      "\n",
      "============================================================\n",
      "Precision=0.90,   Recall=0.71,   F1=0.80,   PR_AUC=0.81\n",
      "\n",
      "============================================================\n"
     ]
    }
   ],
   "source": [
    "plot_pr_and_cm(recalls=rec, precisions=prec, y_true=y_test, y_pred= y_pred_test, main_label = ' на test',)"
   ]
  },
  {
   "cell_type": "markdown",
   "id": "19e705dc-6fb7-4b64-aba7-82b648656c30",
   "metadata": {},
   "source": [
    "## 13. Выводы\n",
    "**Датасет**\n",
    "- **Объём**: 284 807 транзакций, 35 признаков.\n",
    "- **Ну очень сильный дисбаланс**: 0,17% транзакций — мошеннические (Class == 1).\n",
    "\n",
    "**Временное разбиение**: данные разделены по `Time_abs_hour`:\n",
    "  - **Train**: 0–39 часов (224 865 строк).  \n",
    "  - **Test**: 40–47 часов (59 942 строк).\n",
    "  \n",
    "**Модель**  \n",
    "- **простенькая нейронка**\n",
    "  \n",
    "**Подбор гиперпараметров**\n",
    "- **Optuna**\n",
    "  \n",
    "**Метрики**  | F1   | PR AUC |\n",
    "- **Test**     | 0.80 | 0.81   |\n",
    "\n",
    "**Вывод**\n",
    "- Модель справилась с задачей детекции аномалий.\n",
    "Простая полносвязная нейросеть с двумя скрытыми слоями, Dropout и BatchNorm показала устойчивую и высокую производительность на тестовой выборке:\n",
    "- - PR-AUC: 0.81 — хороший результат для несбалансированных данных (аномалий всего 0.17%).\n",
    "- -  Precision: 0.90, Recall: 0.71, F1: 0.80 — при оптимальном пороге 0.9996, подобранном на валидации\n",
    "- Подбор гиперпараметров через Optuna был эффективен.\n",
    "- - Лучшие параметры:\n",
    "- - hidden1 = 256, hidden2 = 256, dropout = 0.33, lr = 0.0028, gamma = 0.83\n",
    "- - Оптимизация позволила улучшить PR-AUC с ~0.75 до 0.777 на валидации и добиться устойчивой работы на тесте.\n",
    "- Модель справилась с дисбалансом классов (0.17% аномалий)\n",
    "- Подбор порога классификации - важен: Исходно модель с порогом 0.5 давала высокий Recall (0.818) но низкий Precision (0.321). Это типично для несбалансированных данных. Последующий подбор оптимального порога  на валидационной выборке позволил найти баланс и значительно улучшить F1-меру, получив сильные значения и Precision (0.90), и Recall (0.71)\n",
    "  **Что можно улучшать:**\n",
    "- Попробовать более сложные архитектуры (ResNet-like, TabNet, ...)\n",
    "- Добавить интерпретацию признаков."
   ]
  },
  {
   "cell_type": "markdown",
   "id": "061bf59f-36b4-4874-88bc-93c4c8887623",
   "metadata": {},
   "source": [
    "## Happy end....."
   ]
  },
  {
   "cell_type": "code",
   "execution_count": null,
   "id": "7da46666-1dc7-4730-9e56-bbbc5962b4bc",
   "metadata": {},
   "outputs": [],
   "source": []
  }
 ],
 "metadata": {
  "kernelspec": {
   "display_name": "anomaly-detection",
   "language": "python",
   "name": "anomaly-detection"
  },
  "language_info": {
   "codemirror_mode": {
    "name": "ipython",
    "version": 3
   },
   "file_extension": ".py",
   "mimetype": "text/x-python",
   "name": "python",
   "nbconvert_exporter": "python",
   "pygments_lexer": "ipython3",
   "version": "3.10.11"
  }
 },
 "nbformat": 4,
 "nbformat_minor": 5
}
