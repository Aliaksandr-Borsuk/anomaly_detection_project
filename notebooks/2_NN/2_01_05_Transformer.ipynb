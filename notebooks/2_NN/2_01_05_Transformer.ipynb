{
 "cells": [
  {
   "cell_type": "markdown",
   "metadata": {
    "id": "BdWTFoI-f033"
   },
   "source": [
    "**сделано в Colab**"
   ]
  },
  {
   "cell_type": "code",
   "execution_count": 1,
   "metadata": {
    "colab": {
     "base_uri": "https://localhost:8080/"
    },
    "id": "WwespfOjjodh",
    "outputId": "14554a6d-a00d-4aba-9df6-19f2d258d79b"
   },
   "outputs": [
    {
     "name": "stdout",
     "output_type": "stream",
     "text": [
      "Mounted at /content/drive\n"
     ]
    }
   ],
   "source": [
    "# подключаем диск\n",
    "from google.colab import drive\n",
    "drive.mount('/content/drive')"
   ]
  },
  {
   "cell_type": "code",
   "execution_count": 2,
   "metadata": {
    "colab": {
     "base_uri": "https://localhost:8080/"
    },
    "collapsed": true,
    "id": "RJu4OpAakD5D",
    "outputId": "9a870b1f-e4ff-4cdd-e272-6fbaacecd90b"
   },
   "outputs": [
    {
     "name": "stdout",
     "output_type": "stream",
     "text": [
      "Collecting optuna\n",
      "  Downloading optuna-4.5.0-py3-none-any.whl.metadata (17 kB)\n",
      "Requirement already satisfied: seaborn in /usr/local/lib/python3.12/dist-packages (0.13.2)\n",
      "Requirement already satisfied: alembic>=1.5.0 in /usr/local/lib/python3.12/dist-packages (from optuna) (1.16.5)\n",
      "Collecting colorlog (from optuna)\n",
      "  Downloading colorlog-6.9.0-py3-none-any.whl.metadata (10 kB)\n",
      "Requirement already satisfied: numpy in /usr/local/lib/python3.12/dist-packages (from optuna) (2.0.2)\n",
      "Requirement already satisfied: packaging>=20.0 in /usr/local/lib/python3.12/dist-packages (from optuna) (25.0)\n",
      "Requirement already satisfied: sqlalchemy>=1.4.2 in /usr/local/lib/python3.12/dist-packages (from optuna) (2.0.43)\n",
      "Requirement already satisfied: tqdm in /usr/local/lib/python3.12/dist-packages (from optuna) (4.67.1)\n",
      "Requirement already satisfied: PyYAML in /usr/local/lib/python3.12/dist-packages (from optuna) (6.0.3)\n",
      "Requirement already satisfied: pandas>=1.2 in /usr/local/lib/python3.12/dist-packages (from seaborn) (2.2.2)\n",
      "Requirement already satisfied: matplotlib!=3.6.1,>=3.4 in /usr/local/lib/python3.12/dist-packages (from seaborn) (3.10.0)\n",
      "Requirement already satisfied: Mako in /usr/local/lib/python3.12/dist-packages (from alembic>=1.5.0->optuna) (1.3.10)\n",
      "Requirement already satisfied: typing-extensions>=4.12 in /usr/local/lib/python3.12/dist-packages (from alembic>=1.5.0->optuna) (4.15.0)\n",
      "Requirement already satisfied: contourpy>=1.0.1 in /usr/local/lib/python3.12/dist-packages (from matplotlib!=3.6.1,>=3.4->seaborn) (1.3.3)\n",
      "Requirement already satisfied: cycler>=0.10 in /usr/local/lib/python3.12/dist-packages (from matplotlib!=3.6.1,>=3.4->seaborn) (0.12.1)\n",
      "Requirement already satisfied: fonttools>=4.22.0 in /usr/local/lib/python3.12/dist-packages (from matplotlib!=3.6.1,>=3.4->seaborn) (4.60.1)\n",
      "Requirement already satisfied: kiwisolver>=1.3.1 in /usr/local/lib/python3.12/dist-packages (from matplotlib!=3.6.1,>=3.4->seaborn) (1.4.9)\n",
      "Requirement already satisfied: pillow>=8 in /usr/local/lib/python3.12/dist-packages (from matplotlib!=3.6.1,>=3.4->seaborn) (11.3.0)\n",
      "Requirement already satisfied: pyparsing>=2.3.1 in /usr/local/lib/python3.12/dist-packages (from matplotlib!=3.6.1,>=3.4->seaborn) (3.2.5)\n",
      "Requirement already satisfied: python-dateutil>=2.7 in /usr/local/lib/python3.12/dist-packages (from matplotlib!=3.6.1,>=3.4->seaborn) (2.9.0.post0)\n",
      "Requirement already satisfied: pytz>=2020.1 in /usr/local/lib/python3.12/dist-packages (from pandas>=1.2->seaborn) (2025.2)\n",
      "Requirement already satisfied: tzdata>=2022.7 in /usr/local/lib/python3.12/dist-packages (from pandas>=1.2->seaborn) (2025.2)\n",
      "Requirement already satisfied: greenlet>=1 in /usr/local/lib/python3.12/dist-packages (from sqlalchemy>=1.4.2->optuna) (3.2.4)\n",
      "Requirement already satisfied: six>=1.5 in /usr/local/lib/python3.12/dist-packages (from python-dateutil>=2.7->matplotlib!=3.6.1,>=3.4->seaborn) (1.17.0)\n",
      "Requirement already satisfied: MarkupSafe>=0.9.2 in /usr/local/lib/python3.12/dist-packages (from Mako->alembic>=1.5.0->optuna) (3.0.3)\n",
      "Downloading optuna-4.5.0-py3-none-any.whl (400 kB)\n",
      "\u001b[2K   \u001b[90m━━━━━━━━━━━━━━━━━━━━━━━━━━━━━━━━━━━━━━━━\u001b[0m \u001b[32m400.9/400.9 kB\u001b[0m \u001b[31m23.1 MB/s\u001b[0m eta \u001b[36m0:00:00\u001b[0m\n",
      "\u001b[?25hDownloading colorlog-6.9.0-py3-none-any.whl (11 kB)\n",
      "Installing collected packages: colorlog, optuna\n",
      "Successfully installed colorlog-6.9.0 optuna-4.5.0\n"
     ]
    }
   ],
   "source": [
    "!pip install optuna seaborn"
   ]
  },
  {
   "cell_type": "code",
   "execution_count": 3,
   "metadata": {
    "id": "tSdF_IATlOct"
   },
   "outputs": [],
   "source": [
    "import os\n",
    "csv_path = \"/content/drive/MyDrive/Colab Notebooks/raw/creditcard_1_02_00.csv\""
   ]
  },
  {
   "cell_type": "markdown",
   "metadata": {
    "id": "eue48T1Slu1K"
   },
   "source": [
    "## Попробуем Transformer, подбор гиперпараметров Optuna\n",
    "- **помним про временные split, признаки и метрики те же**"
   ]
  },
  {
   "cell_type": "markdown",
   "metadata": {
    "id": "iaNYekSllzX1"
   },
   "source": [
    "## 1. Импорты\n"
   ]
  },
  {
   "cell_type": "code",
   "execution_count": 4,
   "metadata": {
    "colab": {
     "base_uri": "https://localhost:8080/"
    },
    "id": "nzP42xjaltmZ",
    "outputId": "5c486760-4f78-4e16-da55-5335ee117d38"
   },
   "outputs": [
    {
     "name": "stdout",
     "output_type": "stream",
     "text": [
      "device: cuda\n"
     ]
    }
   ],
   "source": [
    "import os, warnings, random, json, math\n",
    "import numpy as np\n",
    "import pandas as pd\n",
    "import matplotlib.pyplot as plt\n",
    "import seaborn as sns\n",
    "\n",
    "import torch\n",
    "import torch.nn as nn\n",
    "from sklearn.metrics import (precision_score, recall_score, f1_score,\n",
    "                             roc_auc_score, precision_recall_curve, auc,\n",
    "                             average_precision_score, confusion_matrix)\n",
    "from sklearn.preprocessing import RobustScaler\n",
    "from IPython.display import clear_output\n",
    "\n",
    "import optuna\n",
    "from optuna.samplers import TPESampler\n",
    "\n",
    "warnings.filterwarnings('ignore')\n",
    "plt.style.use('seaborn-v0_8-whitegrid')\n",
    "plt.rcParams['figure.figsize'] = (8, 4)\n",
    "\n",
    "# 2 фиксируем сиды\n",
    "RANDOM_STATE = 42\n",
    "def set_seed(seed=RANDOM_STATE):\n",
    "    torch.manual_seed(seed); torch.cuda.manual_seed_all(seed)\n",
    "    np.random.seed(seed); random.seed(seed)\n",
    "    torch.backends.cudnn.deterministic = True\n",
    "    torch.backends.cudnn.benchmark = False\n",
    "set_seed()\n",
    "device = torch.device(\"cuda\" if torch.cuda.is_available() else \"cpu\")\n",
    "print(\"device:\", device)"
   ]
  },
  {
   "cell_type": "markdown",
   "metadata": {
    "id": "xDkXmnTxl-2_"
   },
   "source": [
    "## 2. Загрузка"
   ]
  },
  {
   "cell_type": "code",
   "execution_count": 5,
   "metadata": {
    "colab": {
     "base_uri": "https://localhost:8080/"
    },
    "id": "WJCOMWkxlOqB",
    "outputId": "e50bd27f-1c3a-47e8-9fe9-3e58745474eb"
   },
   "outputs": [
    {
     "name": "stdout",
     "output_type": "stream",
     "text": [
      "\n",
      "Размер данных: 284807 строк, 35 столбцов\n",
      "Распределение классов:\n",
      "Class\n",
      "0    0.998273\n",
      "1    0.001727\n",
      "Name: proportion, dtype: float64\n"
     ]
    }
   ],
   "source": [
    "df = pd.read_csv(csv_path)\n",
    "print(f\"\\nРазмер данных: {df.shape[0]} строк, {df.shape[1]} столбцов\")\n",
    "print(f\"Распределение классов:\\n{df['Class'].value_counts(normalize=True)}\")"
   ]
  },
  {
   "cell_type": "markdown",
   "metadata": {
    "id": "R0rr_3JBmSGf"
   },
   "source": [
    "## 3.сплиты"
   ]
  },
  {
   "cell_type": "code",
   "execution_count": 6,
   "metadata": {
    "colab": {
     "base_uri": "https://localhost:8080/"
    },
    "id": "fhitNQB4lOvl",
    "outputId": "933e8e23-a636-4d79-e0ae-5a98e3c48fd4"
   },
   "outputs": [
    {
     "name": "stdout",
     "output_type": "stream",
     "text": [
      "train: 0.0–39.0 | test: 40.0–47.0\n",
      "train: 0.0–31.0 | test: 32.0–39.0\n"
     ]
    }
   ],
   "source": [
    "time_col = 'Time_abs_hour'\n",
    "def get_train_test(df, col, train_finish, train_start=0, test_finish=0, gap=0):\n",
    "    if test_finish == 0:\n",
    "        test_finish = df[col].max()\n",
    "    test_start = train_finish + gap + 1\n",
    "    df_train = df[(df[col] >= train_start) & (df[col] <= train_finish)]\n",
    "    df_test  = df[(df[col] >= test_start)  & (df[col] <= test_finish)]\n",
    "    print(f\"train: {df_train[col].min()}–{df_train[col].max()} | test: {df_test[col].min()}–{df_test[col].max()}\")\n",
    "    return df_train, df_test\n",
    "\n",
    "train_finish = df[time_col].max() - 8\n",
    "df_train, df_test = get_train_test(df, time_col, train_finish)\n",
    "\n",
    "train_finish_2 = df_train[time_col].max() - 8\n",
    "df_train_2, df_val = get_train_test(df_train, time_col, train_finish_2)"
   ]
  },
  {
   "cell_type": "markdown",
   "metadata": {
    "id": "M8QYXcahmZp-"
   },
   "source": [
    "## 4. Признаки и целевая переменная"
   ]
  },
  {
   "cell_type": "code",
   "execution_count": 7,
   "metadata": {
    "id": "nhn323PAlOzC"
   },
   "outputs": [],
   "source": [
    "# лишние признаки\n",
    "unnecessary_cols = ['Time','Amount','Time_hour','Time_day','Amount_log', time_col]\n",
    "target_col = 'Class'\n",
    "drop_cols = [target_col] + unnecessary_cols\n",
    "\n",
    "def xy(df):\n",
    "    X = df.drop(drop_cols, axis=1).astype('float32').values\n",
    "    y = df[target_col].values\n",
    "    return X, y\n",
    "\n",
    "X_tr,   y_tr   = xy(df_train_2)\n",
    "X_val,  y_val  = xy(df_val)\n",
    "X_test, y_test = xy(df_test)\n",
    "X_train, y_train = xy(df_train)\n",
    "\n",
    "# Определим n_features до objective\n",
    "n_features = X_tr.shape[1]"
   ]
  },
  {
   "cell_type": "markdown",
   "metadata": {
    "id": "Wr826ZHsmlwC"
   },
   "source": [
    "## 5. Dataset"
   ]
  },
  {
   "cell_type": "code",
   "execution_count": 8,
   "metadata": {
    "id": "fWT1kLQXlO4-"
   },
   "outputs": [],
   "source": [
    "# датасет с ленивым окном\n",
    "from torch.utils.data import Dataset\n",
    "\n",
    "class LazySeqDataset(Dataset):\n",
    "    \"\"\"\n",
    "    Хранит только 2-D X и 1-D y.\n",
    "    В __getitem__ формирует окно [idx : idx+seq_len] без копирования данных.\n",
    "    \"\"\"\n",
    "    def __init__(self, X, y, seq_len):\n",
    "        super().__init__()\n",
    "        self.X = X           # (N, n_features)\n",
    "        self.y = y           # (N,)\n",
    "        self.seq_len = seq_len\n",
    "\n",
    "    def __len__(self):\n",
    "        return len(self.y) - self.seq_len + 1   # кол-во допустимых окон\n",
    "\n",
    "    def __getitem__(self, idx):\n",
    "        # Срез numpy не копирует память\n",
    "        x_window = self.X[idx : idx + self.seq_len]   # (seq_len, n_features)\n",
    "        y_target = self.y[idx + self.seq_len - 1]     # метка последнего шага\n",
    "        return torch.tensor(x_window, dtype=torch.float32), \\\n",
    "               torch.tensor(y_target, dtype=torch.float32)"
   ]
  },
  {
   "cell_type": "markdown",
   "metadata": {
    "id": "6d82vlmmm1Oe"
   },
   "source": [
    "## 6. Модель Transformer"
   ]
  },
  {
   "cell_type": "code",
   "execution_count": 9,
   "metadata": {
    "id": "5yVH_JVdmzyx"
   },
   "outputs": [],
   "source": [
    "# Модель Transformer\n",
    "#  Важно: в текущем коде нет позиционных эмбеддингов.\n",
    "# Для полноценного трансформера стоит добавить nn.Parameter или sinusoidal позиции,\n",
    "# иначе модель не знает, где в окне находится каждый шаг.\n",
    "# Для коротких окон (seq_len ≤ 10) это может быть не критично,\n",
    "# но при seq_len ≥ 20 позиции почти всегда улучшают результат.\n",
    "class TransformerAnomaly(nn.Module):\n",
    "    \"\"\"\n",
    "    Простой Transformer-энкодер для бинарной классификации на основе окна.\n",
    "    Вход: (B, seq_len, n_features)\n",
    "    Выход: скаляр-логит на батч (B,)\n",
    "\n",
    "    Примечание: без кажуал mask. Для задачи детекции аномалий на окне\n",
    "    использовать всю информацию окна (и «будущего» внутри окна) — допустимо.\n",
    "    \"\"\"\n",
    "    def __init__(self, n_features, hidden_size=64, num_layers=2, dropout=0.1, n_heads=4):\n",
    "        super().__init__()\n",
    "        self.input_proj = nn.Linear(n_features, hidden_size)\n",
    "\n",
    "        # Проверка кратности для multi-head attention\n",
    "        if hidden_size % n_heads != 0:\n",
    "            raise ValueError(f\"hidden_size ({hidden_size}) должен делиться на n_heads ({n_heads})\")\n",
    "\n",
    "        encoder_layer = nn.TransformerEncoderLayer(\n",
    "            d_model=hidden_size,\n",
    "            nhead=n_heads,\n",
    "            dim_feedforward=hidden_size * 4,\n",
    "            dropout=dropout,\n",
    "            batch_first=True,\n",
    "            activation='gelu',\n",
    "            norm_first=True\n",
    "        )\n",
    "        self.encoder = nn.TransformerEncoder(encoder_layer, num_layers=num_layers)\n",
    "        self.fc = nn.Linear(hidden_size, 1)\n",
    "\n",
    "        # Инициализация\n",
    "        # Xavier-инициализация помогает стабильному старту обучения трансформеров.\n",
    "        # Смещения обычно инициализируются нулями.\n",
    "        nn.init.xavier_uniform_(self.input_proj.weight)\n",
    "        nn.init.zeros_(self.input_proj.bias)\n",
    "        nn.init.xavier_uniform_(self.fc.weight)\n",
    "        nn.init.zeros_(self.fc.bias)\n",
    "\n",
    "    def forward(self, x):\n",
    "        x = self.input_proj(x)     # (B, seq_len, hidden)\n",
    "        out = self.encoder(x)      # (B, seq_len, hidden)\n",
    "        last_out = out[:, -1, :]   # последний тайм-степ\n",
    "        return self.fc(last_out).squeeze(-1)  # (B,)"
   ]
  },
  {
   "cell_type": "markdown",
   "metadata": {
    "id": "N3T9Sv-_m-AC"
   },
   "source": [
    "## 7. Функция потерь и метрика"
   ]
  },
  {
   "cell_type": "code",
   "execution_count": 10,
   "metadata": {
    "id": "u-8hCMd9m7wh"
   },
   "outputs": [],
   "source": [
    "class PR_AUC_Metric:\n",
    "    def __init__(self):\n",
    "        self._name = \"pr_auc\"\n",
    "        self._maximize = True\n",
    "    def __call__(self, y_true, y_score):\n",
    "        return average_precision_score(y_true, y_score)\n",
    "\n",
    "loss_fn = nn.BCEWithLogitsLoss(\n",
    "    pos_weight=torch.tensor([len(y_tr)/y_tr.sum()], device=device)\n",
    "    )"
   ]
  },
  {
   "cell_type": "markdown",
   "metadata": {
    "id": "NF-3ePz5nE1D"
   },
   "source": [
    "## 8. Optuna — подбор гиперпараметров"
   ]
  },
  {
   "cell_type": "code",
   "execution_count": 11,
   "metadata": {
    "colab": {
     "base_uri": "https://localhost:8080/",
     "height": 538,
     "referenced_widgets": [
      "c2fd13ea906d40d7982402ffca26ad39",
      "791659d3a7c3474382a729071e157c66",
      "e8c0950aa44e433c88ee7ad930d6deaf",
      "73018cd4a5054b9e82d47474539e8b2a",
      "4e67d43f82124587a5ddbcec2eb615fa",
      "a99bd094aaa846bc8d7a1c79c03c0cf7",
      "b14afdc5df3a4729ab1b88d1f2f5923d",
      "aa15900a30b84744b3f5aec8e08b811c",
      "ecd79a5b0e7e4c9ab90f6968078e705e",
      "4b7523c841974121bf4bd54c20d9511c",
      "662d341b5cfd41a893fc2c45d9412b9d"
     ]
    },
    "id": "zA7xRWr6kZUQ",
    "outputId": "4450c89d-748f-49e8-8511-a233d987772c"
   },
   "outputs": [
    {
     "name": "stderr",
     "output_type": "stream",
     "text": [
      "[I 2025-10-08 17:33:25,081] A new study created in RDB with name: transformer_anomaly_study\n"
     ]
    },
    {
     "data": {
      "application/vnd.jupyter.widget-view+json": {
       "model_id": "c2fd13ea906d40d7982402ffca26ad39",
       "version_major": 2,
       "version_minor": 0
      },
      "text/plain": [
       "  0%|          | 0/3 [00:00<?, ?it/s]"
      ]
     },
     "metadata": {},
     "output_type": "display_data"
    },
    {
     "name": "stdout",
     "output_type": "stream",
     "text": [
      "\n",
      "trial started with :\n",
      " batch_size = 32, hidden_size = 64,\n",
      " num_layers = 1, n_heads = 1, seq_len = 35,\n",
      " lr = 5.6115164153345e-05, dropout = 0.017425083650459836\n",
      "\n",
      "Учились 8 эпох.\n",
      "[I 2025-10-08 17:37:26,050] Trial 0 finished with value: 0.7678301924960761 and parameters: {'lr': 5.6115164153345e-05, 'batch_size': 32, 'hidden_size': 64, 'num_layers': 1, 'dropout': 0.017425083650459836, 'n_heads': 1, 'seq_len': 35}. Best is trial 0 with value: 0.7678301924960761.\n",
      "\n",
      "trial started with :\n",
      " batch_size = 32, hidden_size = 128,\n",
      " num_layers = 2, n_heads = 2, seq_len = 3,\n",
      " lr = 0.000462258900102083, dropout = 0.12958350559263473\n",
      "\n",
      "Учились 14 эпох.\n",
      "[I 2025-10-08 17:46:44,272] Trial 1 finished with value: 0.7753320622396453 and parameters: {'lr': 0.000462258900102083, 'batch_size': 32, 'hidden_size': 128, 'num_layers': 2, 'dropout': 0.12958350559263473, 'n_heads': 2, 'seq_len': 3}. Best is trial 1 with value: 0.7753320622396453.\n",
      "\n",
      "trial started with :\n",
      " batch_size = 32, hidden_size = 128,\n",
      " num_layers = 1, n_heads = 8, seq_len = 17,\n",
      " lr = 8.168455894760161e-05, dropout = 0.1822634555704315\n",
      "\n",
      "Учились 8 эпох.\n",
      "[I 2025-10-08 17:50:36,154] Trial 2 finished with value: 0.7890299374693548 and parameters: {'lr': 8.168455894760161e-05, 'batch_size': 32, 'hidden_size': 128, 'num_layers': 1, 'dropout': 0.1822634555704315, 'n_heads': 8, 'seq_len': 17}. Best is trial 2 with value: 0.7890299374693548.\n",
      "Best trial: {'lr': 8.168455894760161e-05, 'batch_size': 32, 'hidden_size': 128, 'num_layers': 1, 'dropout': 0.1822634555704315, 'n_heads': 8, 'seq_len': 17}\n",
      "Best PR-AUC: 0.7890299374693548\n"
     ]
    }
   ],
   "source": [
    "def objective(trial):\n",
    "    # Гиперпараметры\n",
    "    lr = trial.suggest_float(\"lr\", 1e-5, 1e-3, log=True)\n",
    "    batch_size = trial.suggest_categorical(\"batch_size\", [32, 64])\n",
    "    hidden_size = trial.suggest_categorical(\"hidden_size\", [64, 128])\n",
    "    num_layers = trial.suggest_int(\"num_layers\", 1, 3)\n",
    "    dropout = trial.suggest_float(\"dropout\", 0.0, 0.3)\n",
    "    n_heads = trial.suggest_categorical(\"n_heads\", [1, 2, 4, 8])\n",
    "    # seq_len = trial.suggest_int(\"seq_len\", 1, 5)\n",
    "    seq_len = trial.suggest_int(\"seq_len\", 1, 40, log=True)\n",
    "\n",
    "    # Совместимость для Multi-Head Attention\n",
    "    if hidden_size % n_heads != 0:\n",
    "        raise optuna.exceptions.TrialPruned(f\"Infeasible: hidden_size {hidden_size} not divisible by n_heads {n_heads}\")\n",
    "\n",
    "    print('\\ntrial started with :')\n",
    "    print(f' batch_size = {batch_size}, hidden_size = {hidden_size},\\n num_layers = {num_layers}, n_heads = {n_heads}, seq_len = {seq_len},\\n lr = {lr}, dropout = {dropout}')\n",
    "\n",
    "\n",
    "\n",
    "    model = TransformerAnomaly(\n",
    "            n_features=n_features,\n",
    "            hidden_size=hidden_size,\n",
    "            num_layers=num_layers,\n",
    "            dropout=dropout,\n",
    "            n_heads=n_heads\n",
    "        ).to(device)\n",
    "\n",
    "    optimizer = torch.optim.AdamW(model.parameters(), lr=lr)\n",
    "    scheduler = torch.optim.lr_scheduler.CosineAnnealingWarmRestarts(optimizer, T_0=10, T_mult=1)\n",
    "\n",
    "\n",
    "    # 1. DataLoader, который делает окна «на лету»\n",
    "    tr_ds = LazySeqDataset(X_tr, y_tr, seq_len=seq_len)\n",
    "    val_ds = LazySeqDataset(X_val, y_val, seq_len=seq_len)\n",
    "\n",
    "    tr_loader = torch.utils.data.DataLoader(\n",
    "        tr_ds, batch_size=batch_size, shuffle=True, drop_last=True\n",
    "    )\n",
    "    val_loader = torch.utils.data.DataLoader(\n",
    "        val_ds, batch_size=batch_size, shuffle=False, drop_last=False\n",
    "    )\n",
    "\n",
    "    best_pr_auc = 0.0\n",
    "    patience, counter = 5, 0\n",
    "    epochs = 50\n",
    "\n",
    "    for epoch in range(epochs):\n",
    "        # train\n",
    "        model.train()\n",
    "        for X, y in tr_loader:  # X: (B, seq_len, n_features)\n",
    "            X, y = X.to(device), y.to(device)\n",
    "            optimizer.zero_grad()\n",
    "            loss = loss_fn(model(X), y)\n",
    "            loss.backward()\n",
    "            optimizer.step()\n",
    "        scheduler.step()\n",
    "\n",
    "        # eval\n",
    "        model.eval()\n",
    "        preds, labels = [], []\n",
    "        with torch.no_grad():\n",
    "            for X, y in val_loader:\n",
    "                X = X.to(device)\n",
    "                logits = model(X)           # (B,)\n",
    "                preds.append(torch.sigmoid(logits).cpu())\n",
    "                labels.append(y)\n",
    "        preds = torch.cat(preds).numpy()\n",
    "        labels = torch.cat(labels).numpy()\n",
    "\n",
    "        pr_auc = average_precision_score(labels, preds)\n",
    "\n",
    "        if pr_auc > best_pr_auc + 1e-4:\n",
    "            best_pr_auc = pr_auc\n",
    "            counter = 0\n",
    "        else:\n",
    "            counter += 1\n",
    "        if counter >= patience:\n",
    "            break\n",
    "    print(f\"\\nУчились {epoch} эпох.\")\n",
    "    return best_pr_auc\n",
    "\n",
    "\n",
    "set_seed()\n",
    "\n",
    "n_trials=3\n",
    "\n",
    "\n",
    "# Путь к базе данных Optuna\n",
    "optuna_db_path = \"/content/drive/MyDrive/Colab Notebooks/data/optuna_study.db\"\n",
    "storage_url = f\"sqlite:///{optuna_db_path}\"\n",
    "study_name = \"transformer_anomaly_study\"\n",
    "\n",
    "study = optuna.create_study(\n",
    "    study_name=study_name,\n",
    "    direction=\"maximize\",\n",
    "    sampler=TPESampler(seed=RANDOM_STATE),\n",
    "    storage=storage_url,\n",
    "    load_if_exists=True\n",
    ")\n",
    "\n",
    "# study = optuna.create_study(direction=\"maximize\", sampler=TPESampler(seed=RANDOM_STATE))\n",
    "study.optimize(objective, n_trials=n_trials, show_progress_bar=True)\n",
    "\n",
    "print(\"Best trial:\", study.best_trial.params)\n",
    "print(\"Best PR-AUC:\", study.best_value)"
   ]
  },
  {
   "cell_type": "code",
   "execution_count": 13,
   "metadata": {
    "colab": {
     "base_uri": "https://localhost:8080/",
     "height": 1000,
     "referenced_widgets": [
      "af3862b63c6349ea8c5d08c8e2e3d35d",
      "c9c2f734d17c4357bddfc52210c43b45",
      "9f16379dfb44467cbc82cc1a4c30ccd9",
      "e5ad31099d4d4a39a7fd7ec98c0f5817",
      "508a04aa415b4cbea05c33674b690daf",
      "156f2f2df88e42b7bb599a4f2ecf3f66",
      "bdacb001cf9944188ca95e82061606ec",
      "fdae9b9fb41e4171810cb47eb195d683",
      "5d7e9b9faef3413d9dbedc5f12b01332",
      "afc7fd5ab3004004b3195d2d9b7fe52c",
      "b8acb695daee41a39d67536bc25c15bf"
     ]
    },
    "id": "_Yp3vsDy7XSn",
    "outputId": "052936fe-d579-4964-ac1b-36620d550268"
   },
   "outputs": [
    {
     "name": "stderr",
     "output_type": "stream",
     "text": [
      "[I 2025-10-08 17:55:04,854] Using an existing study with name 'transformer_anomaly_study' instead of creating a new one.\n"
     ]
    },
    {
     "data": {
      "application/vnd.jupyter.widget-view+json": {
       "model_id": "af3862b63c6349ea8c5d08c8e2e3d35d",
       "version_major": 2,
       "version_minor": 0
      },
      "text/plain": [
       "  0%|          | 0/12 [00:00<?, ?it/s]"
      ]
     },
     "metadata": {},
     "output_type": "display_data"
    },
    {
     "name": "stdout",
     "output_type": "stream",
     "text": [
      "\n",
      "trial started with :\n",
      " batch_size = 32, hidden_size = 128,\n",
      " num_layers = 3, n_heads = 4, seq_len = 17,\n",
      " lr = 1.6986704535055072e-05, dropout = 0.19982706392940772\n",
      "\n",
      "Учились 19 эпох.\n",
      "[I 2025-10-08 18:11:17,680] Trial 4 finished with value: 0.7525982588705536 and parameters: {'lr': 1.6986704535055072e-05, 'batch_size': 32, 'hidden_size': 128, 'num_layers': 3, 'dropout': 0.19982706392940772, 'n_heads': 4, 'seq_len': 17}. Best is trial 2 with value: 0.7890299374693548.\n",
      "\n",
      "trial started with :\n",
      " batch_size = 64, hidden_size = 128,\n",
      " num_layers = 1, n_heads = 4, seq_len = 33,\n",
      " lr = 3.227321652492815e-05, dropout = 0.022998809998934177\n",
      "\n",
      "Учились 24 эпох.\n",
      "[I 2025-10-08 18:17:26,464] Trial 5 finished with value: 0.7538834463279414 and parameters: {'lr': 3.227321652492815e-05, 'batch_size': 64, 'hidden_size': 128, 'num_layers': 1, 'dropout': 0.022998809998934177, 'n_heads': 4, 'seq_len': 33}. Best is trial 2 with value: 0.7890299374693548.\n",
      "\n",
      "trial started with :\n",
      " batch_size = 32, hidden_size = 64,\n",
      " num_layers = 1, n_heads = 8, seq_len = 27,\n",
      " lr = 7.789628064511687e-05, dropout = 0.0015388647193370852\n",
      "\n",
      "Учились 16 эпох.\n",
      "[I 2025-10-08 18:24:39,742] Trial 6 finished with value: 0.787079811921779 and parameters: {'lr': 7.789628064511687e-05, 'batch_size': 32, 'hidden_size': 64, 'num_layers': 1, 'dropout': 0.0015388647193370852, 'n_heads': 8, 'seq_len': 27}. Best is trial 2 with value: 0.7890299374693548.\n",
      "\n",
      "trial started with :\n",
      " batch_size = 32, hidden_size = 128,\n",
      " num_layers = 2, n_heads = 8, seq_len = 1,\n",
      " lr = 0.0006611593614605952, dropout = 0.2595051361821545\n",
      "\n",
      "Учились 7 эпох.\n",
      "[I 2025-10-08 18:29:05,320] Trial 7 finished with value: 0.7579668594386652 and parameters: {'lr': 0.0006611593614605952, 'batch_size': 32, 'hidden_size': 128, 'num_layers': 2, 'dropout': 0.2595051361821545, 'n_heads': 8, 'seq_len': 1}. Best is trial 2 with value: 0.7890299374693548.\n",
      "\n",
      "trial started with :\n",
      " batch_size = 32, hidden_size = 128,\n",
      " num_layers = 2, n_heads = 4, seq_len = 5,\n",
      " lr = 6.438882295589757e-05, dropout = 0.21809639759039653\n",
      "\n",
      "Учились 6 эпох.\n",
      "[I 2025-10-08 18:33:24,303] Trial 8 finished with value: 0.7679612020301393 and parameters: {'lr': 6.438882295589757e-05, 'batch_size': 32, 'hidden_size': 128, 'num_layers': 2, 'dropout': 0.21809639759039653, 'n_heads': 4, 'seq_len': 5}. Best is trial 2 with value: 0.7890299374693548.\n",
      "\n",
      "trial started with :\n",
      " batch_size = 64, hidden_size = 128,\n",
      " num_layers = 1, n_heads = 8, seq_len = 1,\n",
      " lr = 2.5832337245090065e-05, dropout = 0.04334351352684862\n",
      "\n",
      "Учились 9 эпох.\n",
      "[I 2025-10-08 18:35:40,964] Trial 9 finished with value: 0.7697545576408859 and parameters: {'lr': 2.5832337245090065e-05, 'batch_size': 64, 'hidden_size': 128, 'num_layers': 1, 'dropout': 0.04334351352684862, 'n_heads': 8, 'seq_len': 1}. Best is trial 2 with value: 0.7890299374693548.\n",
      "\n",
      "trial started with :\n",
      " batch_size = 32, hidden_size = 128,\n",
      " num_layers = 2, n_heads = 8, seq_len = 1,\n",
      " lr = 0.00031299775574811017, dropout = 0.2699020858102238\n",
      "\n",
      "Учились 12 эпох.\n",
      "[I 2025-10-08 18:43:05,191] Trial 10 finished with value: 0.7768714081127202 and parameters: {'lr': 0.00031299775574811017, 'batch_size': 32, 'hidden_size': 128, 'num_layers': 2, 'dropout': 0.2699020858102238, 'n_heads': 8, 'seq_len': 1}. Best is trial 2 with value: 0.7890299374693548.\n",
      "\n",
      "trial started with :\n",
      " batch_size = 64, hidden_size = 64,\n",
      " num_layers = 3, n_heads = 1, seq_len = 9,\n",
      " lr = 0.00018304117945568542, dropout = 0.12410790755038881\n",
      "\n",
      "Учились 9 эпох.\n",
      "[I 2025-10-08 18:47:26,498] Trial 11 finished with value: 0.7840024875443655 and parameters: {'lr': 0.00018304117945568542, 'batch_size': 64, 'hidden_size': 64, 'num_layers': 3, 'dropout': 0.12410790755038881, 'n_heads': 1, 'seq_len': 9}. Best is trial 2 with value: 0.7890299374693548.\n",
      "\n",
      "trial started with :\n",
      " batch_size = 32, hidden_size = 64,\n",
      " num_layers = 1, n_heads = 8, seq_len = 14,\n",
      " lr = 0.00013830289091993703, dropout = 0.081418157922593\n",
      "\n",
      "Учились 6 эпох.\n",
      "[I 2025-10-08 18:50:24,134] Trial 12 finished with value: 0.7638369017232848 and parameters: {'lr': 0.00013830289091993703, 'batch_size': 32, 'hidden_size': 64, 'num_layers': 1, 'dropout': 0.081418157922593, 'n_heads': 8, 'seq_len': 14}. Best is trial 2 with value: 0.7890299374693548.\n",
      "\n",
      "trial started with :\n",
      " batch_size = 32, hidden_size = 64,\n",
      " num_layers = 1, n_heads = 8, seq_len = 19,\n",
      " lr = 8.565304491119115e-05, dropout = 0.18294891652283882\n",
      "\n",
      "Учились 12 эпох.\n",
      "[I 2025-10-08 18:55:56,252] Trial 13 finished with value: 0.7675405893670677 and parameters: {'lr': 8.565304491119115e-05, 'batch_size': 32, 'hidden_size': 64, 'num_layers': 1, 'dropout': 0.18294891652283882, 'n_heads': 8, 'seq_len': 19}. Best is trial 2 with value: 0.7890299374693548.\n",
      "\n",
      "trial started with :\n",
      " batch_size = 32, hidden_size = 64,\n",
      " num_layers = 1, n_heads = 2, seq_len = 7,\n",
      " lr = 1.035303493482384e-05, dropout = 0.08583775812155778\n",
      "\n",
      "Учились 30 эпох.\n",
      "[I 2025-10-08 19:08:54,532] Trial 14 finished with value: 0.7655490000477572 and parameters: {'lr': 1.035303493482384e-05, 'batch_size': 32, 'hidden_size': 64, 'num_layers': 1, 'dropout': 0.08583775812155778, 'n_heads': 2, 'seq_len': 7}. Best is trial 2 with value: 0.7890299374693548.\n",
      "\n",
      "trial started with :\n",
      " batch_size = 64, hidden_size = 64,\n",
      " num_layers = 1, n_heads = 8, seq_len = 3,\n",
      " lr = 0.00021762067468629028, dropout = 0.16331457061136662\n",
      "\n",
      "Учились 14 эпох.\n",
      "[I 2025-10-08 19:12:27,313] Trial 15 finished with value: 0.753371713531561 and parameters: {'lr': 0.00021762067468629028, 'batch_size': 64, 'hidden_size': 64, 'num_layers': 1, 'dropout': 0.16331457061136662, 'n_heads': 8, 'seq_len': 3}. Best is trial 2 with value: 0.7890299374693548.\n",
      "Best trial: {'lr': 8.168455894760161e-05, 'batch_size': 32, 'hidden_size': 128, 'num_layers': 1, 'dropout': 0.1822634555704315, 'n_heads': 8, 'seq_len': 17}\n",
      "Best PR-AUC: 0.7890299374693548\n"
     ]
    }
   ],
   "source": [
    "set_seed()\n",
    "\n",
    "n_trials=12\n",
    "\n",
    "study = optuna.create_study(\n",
    "    study_name=study_name,\n",
    "    direction=\"maximize\",\n",
    "    sampler=TPESampler(seed=RANDOM_STATE+1),\n",
    "    storage=storage_url,\n",
    "    load_if_exists=True\n",
    ")\n",
    "study.optimize(objective, n_trials=n_trials, show_progress_bar=True)\n",
    "\n",
    "print(\"Best trial:\", study.best_trial.params)\n",
    "print(\"Best PR-AUC:\", study.best_value)"
   ]
  },
  {
   "cell_type": "code",
   "execution_count": 14,
   "metadata": {
    "colab": {
     "base_uri": "https://localhost:8080/",
     "height": 1000
    },
    "id": "IAL6ZPQLnp52",
    "outputId": "c66af49d-83c6-41e9-9334-9787c1d8b836"
   },
   "outputs": [
    {
     "data": {
      "text/html": [
       "<html>\n",
       "<head><meta charset=\"utf-8\" /></head>\n",
       "<body>\n",
       "    <div>            <script src=\"https://cdnjs.cloudflare.com/ajax/libs/mathjax/2.7.5/MathJax.js?config=TeX-AMS-MML_SVG\"></script><script type=\"text/javascript\">if (window.MathJax && window.MathJax.Hub && window.MathJax.Hub.Config) {window.MathJax.Hub.Config({SVG: {font: \"STIX-Web\"}});}</script>                <script type=\"text/javascript\">window.PlotlyConfig = {MathJaxConfig: 'local'};</script>\n",
       "        <script charset=\"utf-8\" src=\"https://cdn.plot.ly/plotly-2.35.2.min.js\"></script>                <div id=\"fd01a5b1-628c-4a9c-8cb9-85aa6836bad5\" class=\"plotly-graph-div\" style=\"height:525px; width:100%;\"></div>            <script type=\"text/javascript\">                                    window.PLOTLYENV=window.PLOTLYENV || {};                                    if (document.getElementById(\"fd01a5b1-628c-4a9c-8cb9-85aa6836bad5\")) {                    Plotly.newPlot(                        \"fd01a5b1-628c-4a9c-8cb9-85aa6836bad5\",                        [{\"mode\":\"markers\",\"name\":\"Objective Value\",\"x\":[0,1,2,4,5,6,7,8,9,10,11,12,13,14,15],\"y\":[0.7678301924960761,0.7753320622396453,0.7890299374693548,0.7525982588705536,0.7538834463279414,0.787079811921779,0.7579668594386652,0.7679612020301393,0.7697545576408859,0.7768714081127202,0.7840024875443655,0.7638369017232848,0.7675405893670677,0.7655490000477572,0.753371713531561],\"type\":\"scatter\"},{\"mode\":\"lines\",\"name\":\"Best Value\",\"x\":[0,1,2,3,4,5,6,7,8,9,10,11,12,13,14,15],\"y\":[0.7678301924960761,0.7753320622396453,0.7890299374693548,0.7890299374693548,0.7890299374693548,0.7890299374693548,0.7890299374693548,0.7890299374693548,0.7890299374693548,0.7890299374693548,0.7890299374693548,0.7890299374693548,0.7890299374693548,0.7890299374693548,0.7890299374693548,0.7890299374693548],\"type\":\"scatter\"},{\"marker\":{\"color\":\"#cccccc\"},\"mode\":\"markers\",\"name\":\"Infeasible Trial\",\"showlegend\":false,\"x\":[],\"y\":[],\"type\":\"scatter\"}],                        {\"title\":{\"text\":\"Optimization History Plot\"},\"xaxis\":{\"title\":{\"text\":\"Trial\"}},\"yaxis\":{\"title\":{\"text\":\"Objective Value\"}},\"template\":{\"data\":{\"histogram2dcontour\":[{\"type\":\"histogram2dcontour\",\"colorbar\":{\"outlinewidth\":0,\"ticks\":\"\"},\"colorscale\":[[0.0,\"#0d0887\"],[0.1111111111111111,\"#46039f\"],[0.2222222222222222,\"#7201a8\"],[0.3333333333333333,\"#9c179e\"],[0.4444444444444444,\"#bd3786\"],[0.5555555555555556,\"#d8576b\"],[0.6666666666666666,\"#ed7953\"],[0.7777777777777778,\"#fb9f3a\"],[0.8888888888888888,\"#fdca26\"],[1.0,\"#f0f921\"]]}],\"choropleth\":[{\"type\":\"choropleth\",\"colorbar\":{\"outlinewidth\":0,\"ticks\":\"\"}}],\"histogram2d\":[{\"type\":\"histogram2d\",\"colorbar\":{\"outlinewidth\":0,\"ticks\":\"\"},\"colorscale\":[[0.0,\"#0d0887\"],[0.1111111111111111,\"#46039f\"],[0.2222222222222222,\"#7201a8\"],[0.3333333333333333,\"#9c179e\"],[0.4444444444444444,\"#bd3786\"],[0.5555555555555556,\"#d8576b\"],[0.6666666666666666,\"#ed7953\"],[0.7777777777777778,\"#fb9f3a\"],[0.8888888888888888,\"#fdca26\"],[1.0,\"#f0f921\"]]}],\"heatmap\":[{\"type\":\"heatmap\",\"colorbar\":{\"outlinewidth\":0,\"ticks\":\"\"},\"colorscale\":[[0.0,\"#0d0887\"],[0.1111111111111111,\"#46039f\"],[0.2222222222222222,\"#7201a8\"],[0.3333333333333333,\"#9c179e\"],[0.4444444444444444,\"#bd3786\"],[0.5555555555555556,\"#d8576b\"],[0.6666666666666666,\"#ed7953\"],[0.7777777777777778,\"#fb9f3a\"],[0.8888888888888888,\"#fdca26\"],[1.0,\"#f0f921\"]]}],\"heatmapgl\":[{\"type\":\"heatmapgl\",\"colorbar\":{\"outlinewidth\":0,\"ticks\":\"\"},\"colorscale\":[[0.0,\"#0d0887\"],[0.1111111111111111,\"#46039f\"],[0.2222222222222222,\"#7201a8\"],[0.3333333333333333,\"#9c179e\"],[0.4444444444444444,\"#bd3786\"],[0.5555555555555556,\"#d8576b\"],[0.6666666666666666,\"#ed7953\"],[0.7777777777777778,\"#fb9f3a\"],[0.8888888888888888,\"#fdca26\"],[1.0,\"#f0f921\"]]}],\"contourcarpet\":[{\"type\":\"contourcarpet\",\"colorbar\":{\"outlinewidth\":0,\"ticks\":\"\"}}],\"contour\":[{\"type\":\"contour\",\"colorbar\":{\"outlinewidth\":0,\"ticks\":\"\"},\"colorscale\":[[0.0,\"#0d0887\"],[0.1111111111111111,\"#46039f\"],[0.2222222222222222,\"#7201a8\"],[0.3333333333333333,\"#9c179e\"],[0.4444444444444444,\"#bd3786\"],[0.5555555555555556,\"#d8576b\"],[0.6666666666666666,\"#ed7953\"],[0.7777777777777778,\"#fb9f3a\"],[0.8888888888888888,\"#fdca26\"],[1.0,\"#f0f921\"]]}],\"surface\":[{\"type\":\"surface\",\"colorbar\":{\"outlinewidth\":0,\"ticks\":\"\"},\"colorscale\":[[0.0,\"#0d0887\"],[0.1111111111111111,\"#46039f\"],[0.2222222222222222,\"#7201a8\"],[0.3333333333333333,\"#9c179e\"],[0.4444444444444444,\"#bd3786\"],[0.5555555555555556,\"#d8576b\"],[0.6666666666666666,\"#ed7953\"],[0.7777777777777778,\"#fb9f3a\"],[0.8888888888888888,\"#fdca26\"],[1.0,\"#f0f921\"]]}],\"mesh3d\":[{\"type\":\"mesh3d\",\"colorbar\":{\"outlinewidth\":0,\"ticks\":\"\"}}],\"scatter\":[{\"fillpattern\":{\"fillmode\":\"overlay\",\"size\":10,\"solidity\":0.2},\"type\":\"scatter\"}],\"parcoords\":[{\"type\":\"parcoords\",\"line\":{\"colorbar\":{\"outlinewidth\":0,\"ticks\":\"\"}}}],\"scatterpolargl\":[{\"type\":\"scatterpolargl\",\"marker\":{\"colorbar\":{\"outlinewidth\":0,\"ticks\":\"\"}}}],\"bar\":[{\"error_x\":{\"color\":\"#2a3f5f\"},\"error_y\":{\"color\":\"#2a3f5f\"},\"marker\":{\"line\":{\"color\":\"#E5ECF6\",\"width\":0.5},\"pattern\":{\"fillmode\":\"overlay\",\"size\":10,\"solidity\":0.2}},\"type\":\"bar\"}],\"scattergeo\":[{\"type\":\"scattergeo\",\"marker\":{\"colorbar\":{\"outlinewidth\":0,\"ticks\":\"\"}}}],\"scatterpolar\":[{\"type\":\"scatterpolar\",\"marker\":{\"colorbar\":{\"outlinewidth\":0,\"ticks\":\"\"}}}],\"histogram\":[{\"marker\":{\"pattern\":{\"fillmode\":\"overlay\",\"size\":10,\"solidity\":0.2}},\"type\":\"histogram\"}],\"scattergl\":[{\"type\":\"scattergl\",\"marker\":{\"colorbar\":{\"outlinewidth\":0,\"ticks\":\"\"}}}],\"scatter3d\":[{\"type\":\"scatter3d\",\"line\":{\"colorbar\":{\"outlinewidth\":0,\"ticks\":\"\"}},\"marker\":{\"colorbar\":{\"outlinewidth\":0,\"ticks\":\"\"}}}],\"scattermapbox\":[{\"type\":\"scattermapbox\",\"marker\":{\"colorbar\":{\"outlinewidth\":0,\"ticks\":\"\"}}}],\"scatterternary\":[{\"type\":\"scatterternary\",\"marker\":{\"colorbar\":{\"outlinewidth\":0,\"ticks\":\"\"}}}],\"scattercarpet\":[{\"type\":\"scattercarpet\",\"marker\":{\"colorbar\":{\"outlinewidth\":0,\"ticks\":\"\"}}}],\"carpet\":[{\"aaxis\":{\"endlinecolor\":\"#2a3f5f\",\"gridcolor\":\"white\",\"linecolor\":\"white\",\"minorgridcolor\":\"white\",\"startlinecolor\":\"#2a3f5f\"},\"baxis\":{\"endlinecolor\":\"#2a3f5f\",\"gridcolor\":\"white\",\"linecolor\":\"white\",\"minorgridcolor\":\"white\",\"startlinecolor\":\"#2a3f5f\"},\"type\":\"carpet\"}],\"table\":[{\"cells\":{\"fill\":{\"color\":\"#EBF0F8\"},\"line\":{\"color\":\"white\"}},\"header\":{\"fill\":{\"color\":\"#C8D4E3\"},\"line\":{\"color\":\"white\"}},\"type\":\"table\"}],\"barpolar\":[{\"marker\":{\"line\":{\"color\":\"#E5ECF6\",\"width\":0.5},\"pattern\":{\"fillmode\":\"overlay\",\"size\":10,\"solidity\":0.2}},\"type\":\"barpolar\"}],\"pie\":[{\"automargin\":true,\"type\":\"pie\"}]},\"layout\":{\"autotypenumbers\":\"strict\",\"colorway\":[\"#636efa\",\"#EF553B\",\"#00cc96\",\"#ab63fa\",\"#FFA15A\",\"#19d3f3\",\"#FF6692\",\"#B6E880\",\"#FF97FF\",\"#FECB52\"],\"font\":{\"color\":\"#2a3f5f\"},\"hovermode\":\"closest\",\"hoverlabel\":{\"align\":\"left\"},\"paper_bgcolor\":\"white\",\"plot_bgcolor\":\"#E5ECF6\",\"polar\":{\"bgcolor\":\"#E5ECF6\",\"angularaxis\":{\"gridcolor\":\"white\",\"linecolor\":\"white\",\"ticks\":\"\"},\"radialaxis\":{\"gridcolor\":\"white\",\"linecolor\":\"white\",\"ticks\":\"\"}},\"ternary\":{\"bgcolor\":\"#E5ECF6\",\"aaxis\":{\"gridcolor\":\"white\",\"linecolor\":\"white\",\"ticks\":\"\"},\"baxis\":{\"gridcolor\":\"white\",\"linecolor\":\"white\",\"ticks\":\"\"},\"caxis\":{\"gridcolor\":\"white\",\"linecolor\":\"white\",\"ticks\":\"\"}},\"coloraxis\":{\"colorbar\":{\"outlinewidth\":0,\"ticks\":\"\"}},\"colorscale\":{\"sequential\":[[0.0,\"#0d0887\"],[0.1111111111111111,\"#46039f\"],[0.2222222222222222,\"#7201a8\"],[0.3333333333333333,\"#9c179e\"],[0.4444444444444444,\"#bd3786\"],[0.5555555555555556,\"#d8576b\"],[0.6666666666666666,\"#ed7953\"],[0.7777777777777778,\"#fb9f3a\"],[0.8888888888888888,\"#fdca26\"],[1.0,\"#f0f921\"]],\"sequentialminus\":[[0.0,\"#0d0887\"],[0.1111111111111111,\"#46039f\"],[0.2222222222222222,\"#7201a8\"],[0.3333333333333333,\"#9c179e\"],[0.4444444444444444,\"#bd3786\"],[0.5555555555555556,\"#d8576b\"],[0.6666666666666666,\"#ed7953\"],[0.7777777777777778,\"#fb9f3a\"],[0.8888888888888888,\"#fdca26\"],[1.0,\"#f0f921\"]],\"diverging\":[[0,\"#8e0152\"],[0.1,\"#c51b7d\"],[0.2,\"#de77ae\"],[0.3,\"#f1b6da\"],[0.4,\"#fde0ef\"],[0.5,\"#f7f7f7\"],[0.6,\"#e6f5d0\"],[0.7,\"#b8e186\"],[0.8,\"#7fbc41\"],[0.9,\"#4d9221\"],[1,\"#276419\"]]},\"xaxis\":{\"gridcolor\":\"white\",\"linecolor\":\"white\",\"ticks\":\"\",\"title\":{\"standoff\":15},\"zerolinecolor\":\"white\",\"automargin\":true,\"zerolinewidth\":2},\"yaxis\":{\"gridcolor\":\"white\",\"linecolor\":\"white\",\"ticks\":\"\",\"title\":{\"standoff\":15},\"zerolinecolor\":\"white\",\"automargin\":true,\"zerolinewidth\":2},\"scene\":{\"xaxis\":{\"backgroundcolor\":\"#E5ECF6\",\"gridcolor\":\"white\",\"linecolor\":\"white\",\"showbackground\":true,\"ticks\":\"\",\"zerolinecolor\":\"white\",\"gridwidth\":2},\"yaxis\":{\"backgroundcolor\":\"#E5ECF6\",\"gridcolor\":\"white\",\"linecolor\":\"white\",\"showbackground\":true,\"ticks\":\"\",\"zerolinecolor\":\"white\",\"gridwidth\":2},\"zaxis\":{\"backgroundcolor\":\"#E5ECF6\",\"gridcolor\":\"white\",\"linecolor\":\"white\",\"showbackground\":true,\"ticks\":\"\",\"zerolinecolor\":\"white\",\"gridwidth\":2}},\"shapedefaults\":{\"line\":{\"color\":\"#2a3f5f\"}},\"annotationdefaults\":{\"arrowcolor\":\"#2a3f5f\",\"arrowhead\":0,\"arrowwidth\":1},\"geo\":{\"bgcolor\":\"white\",\"landcolor\":\"#E5ECF6\",\"subunitcolor\":\"white\",\"showland\":true,\"showlakes\":true,\"lakecolor\":\"white\"},\"title\":{\"x\":0.05},\"mapbox\":{\"style\":\"light\"}}}},                        {\"responsive\": true}                    ).then(function(){\n",
       "                            \n",
       "var gd = document.getElementById('fd01a5b1-628c-4a9c-8cb9-85aa6836bad5');\n",
       "var x = new MutationObserver(function (mutations, observer) {{\n",
       "        var display = window.getComputedStyle(gd).display;\n",
       "        if (!display || display === 'none') {{\n",
       "            console.log([gd, 'removed!']);\n",
       "            Plotly.purge(gd);\n",
       "            observer.disconnect();\n",
       "        }}\n",
       "}});\n",
       "\n",
       "// Listen for the removal of the full notebook cells\n",
       "var notebookContainer = gd.closest('#notebook-container');\n",
       "if (notebookContainer) {{\n",
       "    x.observe(notebookContainer, {childList: true});\n",
       "}}\n",
       "\n",
       "// Listen for the clearing of the current output cell\n",
       "var outputEl = gd.closest('.output');\n",
       "if (outputEl) {{\n",
       "    x.observe(outputEl, {childList: true});\n",
       "}}\n",
       "\n",
       "                        })                };                            </script>        </div>\n",
       "</body>\n",
       "</html>"
      ]
     },
     "metadata": {},
     "output_type": "display_data"
    },
    {
     "data": {
      "text/html": [
       "<html>\n",
       "<head><meta charset=\"utf-8\" /></head>\n",
       "<body>\n",
       "    <div>            <script src=\"https://cdnjs.cloudflare.com/ajax/libs/mathjax/2.7.5/MathJax.js?config=TeX-AMS-MML_SVG\"></script><script type=\"text/javascript\">if (window.MathJax && window.MathJax.Hub && window.MathJax.Hub.Config) {window.MathJax.Hub.Config({SVG: {font: \"STIX-Web\"}});}</script>                <script type=\"text/javascript\">window.PlotlyConfig = {MathJaxConfig: 'local'};</script>\n",
       "        <script charset=\"utf-8\" src=\"https://cdn.plot.ly/plotly-2.35.2.min.js\"></script>                <div id=\"53ab0168-7ed2-4ea5-9dcb-0c8bad502ef8\" class=\"plotly-graph-div\" style=\"height:525px; width:100%;\"></div>            <script type=\"text/javascript\">                                    window.PLOTLYENV=window.PLOTLYENV || {};                                    if (document.getElementById(\"53ab0168-7ed2-4ea5-9dcb-0c8bad502ef8\")) {                    Plotly.newPlot(                        \"53ab0168-7ed2-4ea5-9dcb-0c8bad502ef8\",                        [{\"cliponaxis\":false,\"hovertemplate\":[\"hidden_size (CategoricalDistribution): 0.05768536780480692\\u003cextra\\u003e\\u003c\\u002fextra\\u003e\",\"num_layers (IntDistribution): 0.07397864182862922\\u003cextra\\u003e\\u003c\\u002fextra\\u003e\",\"seq_len (IntDistribution): 0.14588168072813926\\u003cextra\\u003e\\u003c\\u002fextra\\u003e\",\"batch_size (CategoricalDistribution): 0.15180580909766134\\u003cextra\\u003e\\u003c\\u002fextra\\u003e\",\"lr (FloatDistribution): 0.17482073594079084\\u003cextra\\u003e\\u003c\\u002fextra\\u003e\",\"n_heads (CategoricalDistribution): 0.18297683344069984\\u003cextra\\u003e\\u003c\\u002fextra\\u003e\",\"dropout (FloatDistribution): 0.21285093115927256\\u003cextra\\u003e\\u003c\\u002fextra\\u003e\"],\"name\":\"Objective Value\",\"orientation\":\"h\",\"text\":[\"0.06\",\"0.07\",\"0.15\",\"0.15\",\"0.17\",\"0.18\",\"0.21\"],\"textposition\":\"outside\",\"x\":[0.05768536780480692,0.07397864182862922,0.14588168072813926,0.15180580909766134,0.17482073594079084,0.18297683344069984,0.21285093115927256],\"y\":[\"hidden_size\",\"num_layers\",\"seq_len\",\"batch_size\",\"lr\",\"n_heads\",\"dropout\"],\"type\":\"bar\"}],                        {\"title\":{\"text\":\"Hyperparameter Importances\"},\"xaxis\":{\"title\":{\"text\":\"Hyperparameter Importance\"}},\"yaxis\":{\"title\":{\"text\":\"Hyperparameter\"}},\"template\":{\"data\":{\"histogram2dcontour\":[{\"type\":\"histogram2dcontour\",\"colorbar\":{\"outlinewidth\":0,\"ticks\":\"\"},\"colorscale\":[[0.0,\"#0d0887\"],[0.1111111111111111,\"#46039f\"],[0.2222222222222222,\"#7201a8\"],[0.3333333333333333,\"#9c179e\"],[0.4444444444444444,\"#bd3786\"],[0.5555555555555556,\"#d8576b\"],[0.6666666666666666,\"#ed7953\"],[0.7777777777777778,\"#fb9f3a\"],[0.8888888888888888,\"#fdca26\"],[1.0,\"#f0f921\"]]}],\"choropleth\":[{\"type\":\"choropleth\",\"colorbar\":{\"outlinewidth\":0,\"ticks\":\"\"}}],\"histogram2d\":[{\"type\":\"histogram2d\",\"colorbar\":{\"outlinewidth\":0,\"ticks\":\"\"},\"colorscale\":[[0.0,\"#0d0887\"],[0.1111111111111111,\"#46039f\"],[0.2222222222222222,\"#7201a8\"],[0.3333333333333333,\"#9c179e\"],[0.4444444444444444,\"#bd3786\"],[0.5555555555555556,\"#d8576b\"],[0.6666666666666666,\"#ed7953\"],[0.7777777777777778,\"#fb9f3a\"],[0.8888888888888888,\"#fdca26\"],[1.0,\"#f0f921\"]]}],\"heatmap\":[{\"type\":\"heatmap\",\"colorbar\":{\"outlinewidth\":0,\"ticks\":\"\"},\"colorscale\":[[0.0,\"#0d0887\"],[0.1111111111111111,\"#46039f\"],[0.2222222222222222,\"#7201a8\"],[0.3333333333333333,\"#9c179e\"],[0.4444444444444444,\"#bd3786\"],[0.5555555555555556,\"#d8576b\"],[0.6666666666666666,\"#ed7953\"],[0.7777777777777778,\"#fb9f3a\"],[0.8888888888888888,\"#fdca26\"],[1.0,\"#f0f921\"]]}],\"heatmapgl\":[{\"type\":\"heatmapgl\",\"colorbar\":{\"outlinewidth\":0,\"ticks\":\"\"},\"colorscale\":[[0.0,\"#0d0887\"],[0.1111111111111111,\"#46039f\"],[0.2222222222222222,\"#7201a8\"],[0.3333333333333333,\"#9c179e\"],[0.4444444444444444,\"#bd3786\"],[0.5555555555555556,\"#d8576b\"],[0.6666666666666666,\"#ed7953\"],[0.7777777777777778,\"#fb9f3a\"],[0.8888888888888888,\"#fdca26\"],[1.0,\"#f0f921\"]]}],\"contourcarpet\":[{\"type\":\"contourcarpet\",\"colorbar\":{\"outlinewidth\":0,\"ticks\":\"\"}}],\"contour\":[{\"type\":\"contour\",\"colorbar\":{\"outlinewidth\":0,\"ticks\":\"\"},\"colorscale\":[[0.0,\"#0d0887\"],[0.1111111111111111,\"#46039f\"],[0.2222222222222222,\"#7201a8\"],[0.3333333333333333,\"#9c179e\"],[0.4444444444444444,\"#bd3786\"],[0.5555555555555556,\"#d8576b\"],[0.6666666666666666,\"#ed7953\"],[0.7777777777777778,\"#fb9f3a\"],[0.8888888888888888,\"#fdca26\"],[1.0,\"#f0f921\"]]}],\"surface\":[{\"type\":\"surface\",\"colorbar\":{\"outlinewidth\":0,\"ticks\":\"\"},\"colorscale\":[[0.0,\"#0d0887\"],[0.1111111111111111,\"#46039f\"],[0.2222222222222222,\"#7201a8\"],[0.3333333333333333,\"#9c179e\"],[0.4444444444444444,\"#bd3786\"],[0.5555555555555556,\"#d8576b\"],[0.6666666666666666,\"#ed7953\"],[0.7777777777777778,\"#fb9f3a\"],[0.8888888888888888,\"#fdca26\"],[1.0,\"#f0f921\"]]}],\"mesh3d\":[{\"type\":\"mesh3d\",\"colorbar\":{\"outlinewidth\":0,\"ticks\":\"\"}}],\"scatter\":[{\"fillpattern\":{\"fillmode\":\"overlay\",\"size\":10,\"solidity\":0.2},\"type\":\"scatter\"}],\"parcoords\":[{\"type\":\"parcoords\",\"line\":{\"colorbar\":{\"outlinewidth\":0,\"ticks\":\"\"}}}],\"scatterpolargl\":[{\"type\":\"scatterpolargl\",\"marker\":{\"colorbar\":{\"outlinewidth\":0,\"ticks\":\"\"}}}],\"bar\":[{\"error_x\":{\"color\":\"#2a3f5f\"},\"error_y\":{\"color\":\"#2a3f5f\"},\"marker\":{\"line\":{\"color\":\"#E5ECF6\",\"width\":0.5},\"pattern\":{\"fillmode\":\"overlay\",\"size\":10,\"solidity\":0.2}},\"type\":\"bar\"}],\"scattergeo\":[{\"type\":\"scattergeo\",\"marker\":{\"colorbar\":{\"outlinewidth\":0,\"ticks\":\"\"}}}],\"scatterpolar\":[{\"type\":\"scatterpolar\",\"marker\":{\"colorbar\":{\"outlinewidth\":0,\"ticks\":\"\"}}}],\"histogram\":[{\"marker\":{\"pattern\":{\"fillmode\":\"overlay\",\"size\":10,\"solidity\":0.2}},\"type\":\"histogram\"}],\"scattergl\":[{\"type\":\"scattergl\",\"marker\":{\"colorbar\":{\"outlinewidth\":0,\"ticks\":\"\"}}}],\"scatter3d\":[{\"type\":\"scatter3d\",\"line\":{\"colorbar\":{\"outlinewidth\":0,\"ticks\":\"\"}},\"marker\":{\"colorbar\":{\"outlinewidth\":0,\"ticks\":\"\"}}}],\"scattermapbox\":[{\"type\":\"scattermapbox\",\"marker\":{\"colorbar\":{\"outlinewidth\":0,\"ticks\":\"\"}}}],\"scatterternary\":[{\"type\":\"scatterternary\",\"marker\":{\"colorbar\":{\"outlinewidth\":0,\"ticks\":\"\"}}}],\"scattercarpet\":[{\"type\":\"scattercarpet\",\"marker\":{\"colorbar\":{\"outlinewidth\":0,\"ticks\":\"\"}}}],\"carpet\":[{\"aaxis\":{\"endlinecolor\":\"#2a3f5f\",\"gridcolor\":\"white\",\"linecolor\":\"white\",\"minorgridcolor\":\"white\",\"startlinecolor\":\"#2a3f5f\"},\"baxis\":{\"endlinecolor\":\"#2a3f5f\",\"gridcolor\":\"white\",\"linecolor\":\"white\",\"minorgridcolor\":\"white\",\"startlinecolor\":\"#2a3f5f\"},\"type\":\"carpet\"}],\"table\":[{\"cells\":{\"fill\":{\"color\":\"#EBF0F8\"},\"line\":{\"color\":\"white\"}},\"header\":{\"fill\":{\"color\":\"#C8D4E3\"},\"line\":{\"color\":\"white\"}},\"type\":\"table\"}],\"barpolar\":[{\"marker\":{\"line\":{\"color\":\"#E5ECF6\",\"width\":0.5},\"pattern\":{\"fillmode\":\"overlay\",\"size\":10,\"solidity\":0.2}},\"type\":\"barpolar\"}],\"pie\":[{\"automargin\":true,\"type\":\"pie\"}]},\"layout\":{\"autotypenumbers\":\"strict\",\"colorway\":[\"#636efa\",\"#EF553B\",\"#00cc96\",\"#ab63fa\",\"#FFA15A\",\"#19d3f3\",\"#FF6692\",\"#B6E880\",\"#FF97FF\",\"#FECB52\"],\"font\":{\"color\":\"#2a3f5f\"},\"hovermode\":\"closest\",\"hoverlabel\":{\"align\":\"left\"},\"paper_bgcolor\":\"white\",\"plot_bgcolor\":\"#E5ECF6\",\"polar\":{\"bgcolor\":\"#E5ECF6\",\"angularaxis\":{\"gridcolor\":\"white\",\"linecolor\":\"white\",\"ticks\":\"\"},\"radialaxis\":{\"gridcolor\":\"white\",\"linecolor\":\"white\",\"ticks\":\"\"}},\"ternary\":{\"bgcolor\":\"#E5ECF6\",\"aaxis\":{\"gridcolor\":\"white\",\"linecolor\":\"white\",\"ticks\":\"\"},\"baxis\":{\"gridcolor\":\"white\",\"linecolor\":\"white\",\"ticks\":\"\"},\"caxis\":{\"gridcolor\":\"white\",\"linecolor\":\"white\",\"ticks\":\"\"}},\"coloraxis\":{\"colorbar\":{\"outlinewidth\":0,\"ticks\":\"\"}},\"colorscale\":{\"sequential\":[[0.0,\"#0d0887\"],[0.1111111111111111,\"#46039f\"],[0.2222222222222222,\"#7201a8\"],[0.3333333333333333,\"#9c179e\"],[0.4444444444444444,\"#bd3786\"],[0.5555555555555556,\"#d8576b\"],[0.6666666666666666,\"#ed7953\"],[0.7777777777777778,\"#fb9f3a\"],[0.8888888888888888,\"#fdca26\"],[1.0,\"#f0f921\"]],\"sequentialminus\":[[0.0,\"#0d0887\"],[0.1111111111111111,\"#46039f\"],[0.2222222222222222,\"#7201a8\"],[0.3333333333333333,\"#9c179e\"],[0.4444444444444444,\"#bd3786\"],[0.5555555555555556,\"#d8576b\"],[0.6666666666666666,\"#ed7953\"],[0.7777777777777778,\"#fb9f3a\"],[0.8888888888888888,\"#fdca26\"],[1.0,\"#f0f921\"]],\"diverging\":[[0,\"#8e0152\"],[0.1,\"#c51b7d\"],[0.2,\"#de77ae\"],[0.3,\"#f1b6da\"],[0.4,\"#fde0ef\"],[0.5,\"#f7f7f7\"],[0.6,\"#e6f5d0\"],[0.7,\"#b8e186\"],[0.8,\"#7fbc41\"],[0.9,\"#4d9221\"],[1,\"#276419\"]]},\"xaxis\":{\"gridcolor\":\"white\",\"linecolor\":\"white\",\"ticks\":\"\",\"title\":{\"standoff\":15},\"zerolinecolor\":\"white\",\"automargin\":true,\"zerolinewidth\":2},\"yaxis\":{\"gridcolor\":\"white\",\"linecolor\":\"white\",\"ticks\":\"\",\"title\":{\"standoff\":15},\"zerolinecolor\":\"white\",\"automargin\":true,\"zerolinewidth\":2},\"scene\":{\"xaxis\":{\"backgroundcolor\":\"#E5ECF6\",\"gridcolor\":\"white\",\"linecolor\":\"white\",\"showbackground\":true,\"ticks\":\"\",\"zerolinecolor\":\"white\",\"gridwidth\":2},\"yaxis\":{\"backgroundcolor\":\"#E5ECF6\",\"gridcolor\":\"white\",\"linecolor\":\"white\",\"showbackground\":true,\"ticks\":\"\",\"zerolinecolor\":\"white\",\"gridwidth\":2},\"zaxis\":{\"backgroundcolor\":\"#E5ECF6\",\"gridcolor\":\"white\",\"linecolor\":\"white\",\"showbackground\":true,\"ticks\":\"\",\"zerolinecolor\":\"white\",\"gridwidth\":2}},\"shapedefaults\":{\"line\":{\"color\":\"#2a3f5f\"}},\"annotationdefaults\":{\"arrowcolor\":\"#2a3f5f\",\"arrowhead\":0,\"arrowwidth\":1},\"geo\":{\"bgcolor\":\"white\",\"landcolor\":\"#E5ECF6\",\"subunitcolor\":\"white\",\"showland\":true,\"showlakes\":true,\"lakecolor\":\"white\"},\"title\":{\"x\":0.05},\"mapbox\":{\"style\":\"light\"}}}},                        {\"responsive\": true}                    ).then(function(){\n",
       "                            \n",
       "var gd = document.getElementById('53ab0168-7ed2-4ea5-9dcb-0c8bad502ef8');\n",
       "var x = new MutationObserver(function (mutations, observer) {{\n",
       "        var display = window.getComputedStyle(gd).display;\n",
       "        if (!display || display === 'none') {{\n",
       "            console.log([gd, 'removed!']);\n",
       "            Plotly.purge(gd);\n",
       "            observer.disconnect();\n",
       "        }}\n",
       "}});\n",
       "\n",
       "// Listen for the removal of the full notebook cells\n",
       "var notebookContainer = gd.closest('#notebook-container');\n",
       "if (notebookContainer) {{\n",
       "    x.observe(notebookContainer, {childList: true});\n",
       "}}\n",
       "\n",
       "// Listen for the clearing of the current output cell\n",
       "var outputEl = gd.closest('.output');\n",
       "if (outputEl) {{\n",
       "    x.observe(outputEl, {childList: true});\n",
       "}}\n",
       "\n",
       "                        })                };                            </script>        </div>\n",
       "</body>\n",
       "</html>"
      ]
     },
     "metadata": {},
     "output_type": "display_data"
    },
    {
     "data": {
      "text/html": [
       "<html>\n",
       "<head><meta charset=\"utf-8\" /></head>\n",
       "<body>\n",
       "    <div>            <script src=\"https://cdnjs.cloudflare.com/ajax/libs/mathjax/2.7.5/MathJax.js?config=TeX-AMS-MML_SVG\"></script><script type=\"text/javascript\">if (window.MathJax && window.MathJax.Hub && window.MathJax.Hub.Config) {window.MathJax.Hub.Config({SVG: {font: \"STIX-Web\"}});}</script>                <script type=\"text/javascript\">window.PlotlyConfig = {MathJaxConfig: 'local'};</script>\n",
       "        <script charset=\"utf-8\" src=\"https://cdn.plot.ly/plotly-2.35.2.min.js\"></script>                <div id=\"cafcde38-1b20-425b-9ff9-c995b58b60db\" class=\"plotly-graph-div\" style=\"height:525px; width:100%;\"></div>            <script type=\"text/javascript\">                                    window.PLOTLYENV=window.PLOTLYENV || {};                                    if (document.getElementById(\"cafcde38-1b20-425b-9ff9-c995b58b60db\")) {                    Plotly.newPlot(                        \"cafcde38-1b20-425b-9ff9-c995b58b60db\",                        [{\"dimensions\":[{\"label\":\"Objective Value\",\"range\":[0.7525982588705536,0.7890299374693548],\"values\":[0.7678301924960761,0.7655490000477572,0.787079811921779,0.7638369017232848,0.7675405893670677,0.7753320622396453,0.7525982588705536,0.7679612020301393,0.7890299374693548,0.7579668594386652,0.7768714081127202,0.7840024875443655,0.753371713531561,0.7538834463279414,0.7697545576408859]},{\"label\":\"batch_size\",\"range\":[0,1],\"ticktext\":[\"32\",\"64\"],\"tickvals\":[0,1],\"values\":[0,0,0,0,0,0,0,0,0,0,0,1,1,1,1]},{\"label\":\"dropout\",\"range\":[0.0015388647193370852,0.2699020858102238],\"values\":[0.017425083650459836,0.08583775812155778,0.0015388647193370852,0.081418157922593,0.18294891652283882,0.12958350559263473,0.19982706392940772,0.21809639759039653,0.1822634555704315,0.2595051361821545,0.2699020858102238,0.12410790755038881,0.16331457061136662,0.022998809998934177,0.04334351352684862]},{\"label\":\"hidden_size\",\"range\":[0,1],\"ticktext\":[\"64\",\"128\"],\"tickvals\":[0,1],\"values\":[0,0,0,0,0,1,1,1,1,1,1,0,0,1,1]},{\"label\":\"lr\",\"range\":[-4.984932320522259,-3.179693848439687],\"ticktext\":[\"1.04e-05\",\"0.0001\",\"0.000661\"],\"tickvals\":[-4.984932320522259,-4,-3.179693848439687],\"values\":[-4.2509197623052755,-4.984932320522259,-4.108483278320562,-3.85916874181799,-4.0672571935318285,-3.3351147183991565,-4.769890867220442,-4.191189513849185,-4.087860031565929,-3.179693848439687,-3.504458776414274,-3.7374511944307462,-3.662299847596814,-4.491157748280242,-4.587836298173396]},{\"label\":\"n_heads\",\"range\":[0,3],\"ticktext\":[\"1\",\"2\",\"4\",\"8\"],\"tickvals\":[0,1,2,3],\"values\":[0,1,3,3,3,1,2,2,3,3,3,0,3,2,3]},{\"label\":\"num_layers\",\"range\":[1,3],\"values\":[1,1,1,1,1,2,3,2,1,2,2,3,1,1,1]},{\"label\":\"seq_len\",\"range\":[0.0,1.5440680443502757],\"ticktext\":[\"1\",\"10\",\"35\"],\"tickvals\":[0,1,1.5440680443502757],\"values\":[1.5440680443502757,0.8450980400142568,1.4313637641589874,1.146128035678238,1.2787536009528289,0.47712125471966244,1.2304489213782739,0.6989700043360189,1.2304489213782739,0.0,0.0,0.9542425094393249,0.47712125471966244,1.5185139398778875,0.0]}],\"labelangle\":30,\"labelside\":\"bottom\",\"line\":{\"color\":[0.7678301924960761,0.7655490000477572,0.787079811921779,0.7638369017232848,0.7675405893670677,0.7753320622396453,0.7525982588705536,0.7679612020301393,0.7890299374693548,0.7579668594386652,0.7768714081127202,0.7840024875443655,0.753371713531561,0.7538834463279414,0.7697545576408859],\"colorbar\":{\"title\":{\"text\":\"Objective Value\"}},\"colorscale\":[[0.0,\"rgb(247,251,255)\"],[0.125,\"rgb(222,235,247)\"],[0.25,\"rgb(198,219,239)\"],[0.375,\"rgb(158,202,225)\"],[0.5,\"rgb(107,174,214)\"],[0.625,\"rgb(66,146,198)\"],[0.75,\"rgb(33,113,181)\"],[0.875,\"rgb(8,81,156)\"],[1.0,\"rgb(8,48,107)\"]],\"reversescale\":false,\"showscale\":true},\"type\":\"parcoords\"}],                        {\"title\":{\"text\":\"Parallel Coordinate Plot\"},\"template\":{\"data\":{\"histogram2dcontour\":[{\"type\":\"histogram2dcontour\",\"colorbar\":{\"outlinewidth\":0,\"ticks\":\"\"},\"colorscale\":[[0.0,\"#0d0887\"],[0.1111111111111111,\"#46039f\"],[0.2222222222222222,\"#7201a8\"],[0.3333333333333333,\"#9c179e\"],[0.4444444444444444,\"#bd3786\"],[0.5555555555555556,\"#d8576b\"],[0.6666666666666666,\"#ed7953\"],[0.7777777777777778,\"#fb9f3a\"],[0.8888888888888888,\"#fdca26\"],[1.0,\"#f0f921\"]]}],\"choropleth\":[{\"type\":\"choropleth\",\"colorbar\":{\"outlinewidth\":0,\"ticks\":\"\"}}],\"histogram2d\":[{\"type\":\"histogram2d\",\"colorbar\":{\"outlinewidth\":0,\"ticks\":\"\"},\"colorscale\":[[0.0,\"#0d0887\"],[0.1111111111111111,\"#46039f\"],[0.2222222222222222,\"#7201a8\"],[0.3333333333333333,\"#9c179e\"],[0.4444444444444444,\"#bd3786\"],[0.5555555555555556,\"#d8576b\"],[0.6666666666666666,\"#ed7953\"],[0.7777777777777778,\"#fb9f3a\"],[0.8888888888888888,\"#fdca26\"],[1.0,\"#f0f921\"]]}],\"heatmap\":[{\"type\":\"heatmap\",\"colorbar\":{\"outlinewidth\":0,\"ticks\":\"\"},\"colorscale\":[[0.0,\"#0d0887\"],[0.1111111111111111,\"#46039f\"],[0.2222222222222222,\"#7201a8\"],[0.3333333333333333,\"#9c179e\"],[0.4444444444444444,\"#bd3786\"],[0.5555555555555556,\"#d8576b\"],[0.6666666666666666,\"#ed7953\"],[0.7777777777777778,\"#fb9f3a\"],[0.8888888888888888,\"#fdca26\"],[1.0,\"#f0f921\"]]}],\"heatmapgl\":[{\"type\":\"heatmapgl\",\"colorbar\":{\"outlinewidth\":0,\"ticks\":\"\"},\"colorscale\":[[0.0,\"#0d0887\"],[0.1111111111111111,\"#46039f\"],[0.2222222222222222,\"#7201a8\"],[0.3333333333333333,\"#9c179e\"],[0.4444444444444444,\"#bd3786\"],[0.5555555555555556,\"#d8576b\"],[0.6666666666666666,\"#ed7953\"],[0.7777777777777778,\"#fb9f3a\"],[0.8888888888888888,\"#fdca26\"],[1.0,\"#f0f921\"]]}],\"contourcarpet\":[{\"type\":\"contourcarpet\",\"colorbar\":{\"outlinewidth\":0,\"ticks\":\"\"}}],\"contour\":[{\"type\":\"contour\",\"colorbar\":{\"outlinewidth\":0,\"ticks\":\"\"},\"colorscale\":[[0.0,\"#0d0887\"],[0.1111111111111111,\"#46039f\"],[0.2222222222222222,\"#7201a8\"],[0.3333333333333333,\"#9c179e\"],[0.4444444444444444,\"#bd3786\"],[0.5555555555555556,\"#d8576b\"],[0.6666666666666666,\"#ed7953\"],[0.7777777777777778,\"#fb9f3a\"],[0.8888888888888888,\"#fdca26\"],[1.0,\"#f0f921\"]]}],\"surface\":[{\"type\":\"surface\",\"colorbar\":{\"outlinewidth\":0,\"ticks\":\"\"},\"colorscale\":[[0.0,\"#0d0887\"],[0.1111111111111111,\"#46039f\"],[0.2222222222222222,\"#7201a8\"],[0.3333333333333333,\"#9c179e\"],[0.4444444444444444,\"#bd3786\"],[0.5555555555555556,\"#d8576b\"],[0.6666666666666666,\"#ed7953\"],[0.7777777777777778,\"#fb9f3a\"],[0.8888888888888888,\"#fdca26\"],[1.0,\"#f0f921\"]]}],\"mesh3d\":[{\"type\":\"mesh3d\",\"colorbar\":{\"outlinewidth\":0,\"ticks\":\"\"}}],\"scatter\":[{\"fillpattern\":{\"fillmode\":\"overlay\",\"size\":10,\"solidity\":0.2},\"type\":\"scatter\"}],\"parcoords\":[{\"type\":\"parcoords\",\"line\":{\"colorbar\":{\"outlinewidth\":0,\"ticks\":\"\"}}}],\"scatterpolargl\":[{\"type\":\"scatterpolargl\",\"marker\":{\"colorbar\":{\"outlinewidth\":0,\"ticks\":\"\"}}}],\"bar\":[{\"error_x\":{\"color\":\"#2a3f5f\"},\"error_y\":{\"color\":\"#2a3f5f\"},\"marker\":{\"line\":{\"color\":\"#E5ECF6\",\"width\":0.5},\"pattern\":{\"fillmode\":\"overlay\",\"size\":10,\"solidity\":0.2}},\"type\":\"bar\"}],\"scattergeo\":[{\"type\":\"scattergeo\",\"marker\":{\"colorbar\":{\"outlinewidth\":0,\"ticks\":\"\"}}}],\"scatterpolar\":[{\"type\":\"scatterpolar\",\"marker\":{\"colorbar\":{\"outlinewidth\":0,\"ticks\":\"\"}}}],\"histogram\":[{\"marker\":{\"pattern\":{\"fillmode\":\"overlay\",\"size\":10,\"solidity\":0.2}},\"type\":\"histogram\"}],\"scattergl\":[{\"type\":\"scattergl\",\"marker\":{\"colorbar\":{\"outlinewidth\":0,\"ticks\":\"\"}}}],\"scatter3d\":[{\"type\":\"scatter3d\",\"line\":{\"colorbar\":{\"outlinewidth\":0,\"ticks\":\"\"}},\"marker\":{\"colorbar\":{\"outlinewidth\":0,\"ticks\":\"\"}}}],\"scattermapbox\":[{\"type\":\"scattermapbox\",\"marker\":{\"colorbar\":{\"outlinewidth\":0,\"ticks\":\"\"}}}],\"scatterternary\":[{\"type\":\"scatterternary\",\"marker\":{\"colorbar\":{\"outlinewidth\":0,\"ticks\":\"\"}}}],\"scattercarpet\":[{\"type\":\"scattercarpet\",\"marker\":{\"colorbar\":{\"outlinewidth\":0,\"ticks\":\"\"}}}],\"carpet\":[{\"aaxis\":{\"endlinecolor\":\"#2a3f5f\",\"gridcolor\":\"white\",\"linecolor\":\"white\",\"minorgridcolor\":\"white\",\"startlinecolor\":\"#2a3f5f\"},\"baxis\":{\"endlinecolor\":\"#2a3f5f\",\"gridcolor\":\"white\",\"linecolor\":\"white\",\"minorgridcolor\":\"white\",\"startlinecolor\":\"#2a3f5f\"},\"type\":\"carpet\"}],\"table\":[{\"cells\":{\"fill\":{\"color\":\"#EBF0F8\"},\"line\":{\"color\":\"white\"}},\"header\":{\"fill\":{\"color\":\"#C8D4E3\"},\"line\":{\"color\":\"white\"}},\"type\":\"table\"}],\"barpolar\":[{\"marker\":{\"line\":{\"color\":\"#E5ECF6\",\"width\":0.5},\"pattern\":{\"fillmode\":\"overlay\",\"size\":10,\"solidity\":0.2}},\"type\":\"barpolar\"}],\"pie\":[{\"automargin\":true,\"type\":\"pie\"}]},\"layout\":{\"autotypenumbers\":\"strict\",\"colorway\":[\"#636efa\",\"#EF553B\",\"#00cc96\",\"#ab63fa\",\"#FFA15A\",\"#19d3f3\",\"#FF6692\",\"#B6E880\",\"#FF97FF\",\"#FECB52\"],\"font\":{\"color\":\"#2a3f5f\"},\"hovermode\":\"closest\",\"hoverlabel\":{\"align\":\"left\"},\"paper_bgcolor\":\"white\",\"plot_bgcolor\":\"#E5ECF6\",\"polar\":{\"bgcolor\":\"#E5ECF6\",\"angularaxis\":{\"gridcolor\":\"white\",\"linecolor\":\"white\",\"ticks\":\"\"},\"radialaxis\":{\"gridcolor\":\"white\",\"linecolor\":\"white\",\"ticks\":\"\"}},\"ternary\":{\"bgcolor\":\"#E5ECF6\",\"aaxis\":{\"gridcolor\":\"white\",\"linecolor\":\"white\",\"ticks\":\"\"},\"baxis\":{\"gridcolor\":\"white\",\"linecolor\":\"white\",\"ticks\":\"\"},\"caxis\":{\"gridcolor\":\"white\",\"linecolor\":\"white\",\"ticks\":\"\"}},\"coloraxis\":{\"colorbar\":{\"outlinewidth\":0,\"ticks\":\"\"}},\"colorscale\":{\"sequential\":[[0.0,\"#0d0887\"],[0.1111111111111111,\"#46039f\"],[0.2222222222222222,\"#7201a8\"],[0.3333333333333333,\"#9c179e\"],[0.4444444444444444,\"#bd3786\"],[0.5555555555555556,\"#d8576b\"],[0.6666666666666666,\"#ed7953\"],[0.7777777777777778,\"#fb9f3a\"],[0.8888888888888888,\"#fdca26\"],[1.0,\"#f0f921\"]],\"sequentialminus\":[[0.0,\"#0d0887\"],[0.1111111111111111,\"#46039f\"],[0.2222222222222222,\"#7201a8\"],[0.3333333333333333,\"#9c179e\"],[0.4444444444444444,\"#bd3786\"],[0.5555555555555556,\"#d8576b\"],[0.6666666666666666,\"#ed7953\"],[0.7777777777777778,\"#fb9f3a\"],[0.8888888888888888,\"#fdca26\"],[1.0,\"#f0f921\"]],\"diverging\":[[0,\"#8e0152\"],[0.1,\"#c51b7d\"],[0.2,\"#de77ae\"],[0.3,\"#f1b6da\"],[0.4,\"#fde0ef\"],[0.5,\"#f7f7f7\"],[0.6,\"#e6f5d0\"],[0.7,\"#b8e186\"],[0.8,\"#7fbc41\"],[0.9,\"#4d9221\"],[1,\"#276419\"]]},\"xaxis\":{\"gridcolor\":\"white\",\"linecolor\":\"white\",\"ticks\":\"\",\"title\":{\"standoff\":15},\"zerolinecolor\":\"white\",\"automargin\":true,\"zerolinewidth\":2},\"yaxis\":{\"gridcolor\":\"white\",\"linecolor\":\"white\",\"ticks\":\"\",\"title\":{\"standoff\":15},\"zerolinecolor\":\"white\",\"automargin\":true,\"zerolinewidth\":2},\"scene\":{\"xaxis\":{\"backgroundcolor\":\"#E5ECF6\",\"gridcolor\":\"white\",\"linecolor\":\"white\",\"showbackground\":true,\"ticks\":\"\",\"zerolinecolor\":\"white\",\"gridwidth\":2},\"yaxis\":{\"backgroundcolor\":\"#E5ECF6\",\"gridcolor\":\"white\",\"linecolor\":\"white\",\"showbackground\":true,\"ticks\":\"\",\"zerolinecolor\":\"white\",\"gridwidth\":2},\"zaxis\":{\"backgroundcolor\":\"#E5ECF6\",\"gridcolor\":\"white\",\"linecolor\":\"white\",\"showbackground\":true,\"ticks\":\"\",\"zerolinecolor\":\"white\",\"gridwidth\":2}},\"shapedefaults\":{\"line\":{\"color\":\"#2a3f5f\"}},\"annotationdefaults\":{\"arrowcolor\":\"#2a3f5f\",\"arrowhead\":0,\"arrowwidth\":1},\"geo\":{\"bgcolor\":\"white\",\"landcolor\":\"#E5ECF6\",\"subunitcolor\":\"white\",\"showland\":true,\"showlakes\":true,\"lakecolor\":\"white\"},\"title\":{\"x\":0.05},\"mapbox\":{\"style\":\"light\"}}}},                        {\"responsive\": true}                    ).then(function(){\n",
       "                            \n",
       "var gd = document.getElementById('cafcde38-1b20-425b-9ff9-c995b58b60db');\n",
       "var x = new MutationObserver(function (mutations, observer) {{\n",
       "        var display = window.getComputedStyle(gd).display;\n",
       "        if (!display || display === 'none') {{\n",
       "            console.log([gd, 'removed!']);\n",
       "            Plotly.purge(gd);\n",
       "            observer.disconnect();\n",
       "        }}\n",
       "}});\n",
       "\n",
       "// Listen for the removal of the full notebook cells\n",
       "var notebookContainer = gd.closest('#notebook-container');\n",
       "if (notebookContainer) {{\n",
       "    x.observe(notebookContainer, {childList: true});\n",
       "}}\n",
       "\n",
       "// Listen for the clearing of the current output cell\n",
       "var outputEl = gd.closest('.output');\n",
       "if (outputEl) {{\n",
       "    x.observe(outputEl, {childList: true});\n",
       "}}\n",
       "\n",
       "                        })                };                            </script>        </div>\n",
       "</body>\n",
       "</html>"
      ]
     },
     "metadata": {},
     "output_type": "display_data"
    }
   ],
   "source": [
    "# optuna визуализация\n",
    "optuna.visualization.plot_optimization_history(study).show()\n",
    "optuna.visualization.plot_param_importances(study).show()\n",
    "optuna.visualization.plot_parallel_coordinate(study).show()"
   ]
  },
  {
   "cell_type": "markdown",
   "metadata": {
    "id": "jT5Ugl7uoVOz"
   },
   "source": [
    "## 9. Обучение финальной модели"
   ]
  },
  {
   "cell_type": "code",
   "execution_count": 16,
   "metadata": {
    "id": "K37lIl5poUdg"
   },
   "outputs": [],
   "source": [
    "def train_with_plot_and_scheduler_old(model, train_loader, val_loader, optimizer, criterion, epochs):\n",
    "\n",
    "    scheduler = torch.optim.lr_scheduler.CosineAnnealingWarmRestarts(optimizer, T_0=10, T_mult=1)\n",
    "\n",
    "    train_losses = []\n",
    "    val_losses = []\n",
    "    pr_aucs = []\n",
    "    roc_aucs = []\n",
    "    lrs = []\n",
    "\n",
    "    for epoch in range(epochs):\n",
    "        model.train()  # настраиваем на обучение\n",
    "        total_loss, n = 0., 0  # задаём стартовые значения\n",
    "        for X, y in train_loader:\n",
    "            X, y = X.to(device), y.float().to(device)\n",
    "            optimizer.zero_grad()    # обнуляем градиенты\n",
    "            preds = model(X)  # prediction\n",
    "            loss = criterion(preds, y)\n",
    "            loss.backward()\n",
    "            optimizer.step()\n",
    "            # собираем результат в кучку\n",
    "            total_loss += loss.item() * len(X)\n",
    "            n += len(X)\n",
    "        # среднее за эпоху\n",
    "        train_loss = total_loss / n\n",
    "\n",
    "        #\n",
    "        model.eval()  # режим оценки\n",
    "        # стартовая инициализация\n",
    "        total_loss, n = 0., 0\n",
    "        all_preds, all_labels = [], []\n",
    "\n",
    "        for X, y in val_loader:\n",
    "            X, y = X.to(device), y.float().to(device)\n",
    "            with torch.no_grad():\n",
    "                preds = torch.sigmoid(model(X))\n",
    "            total_loss += criterion(preds, y).item() * len(X)\n",
    "            n += len(X)\n",
    "            all_preds.append(preds.cpu())\n",
    "            all_labels.append(y.cpu())\n",
    "\n",
    "        preds = torch.cat(all_preds).numpy()\n",
    "        labels = torch.cat(all_labels).numpy()\n",
    "        pr_auc = auc(*precision_recall_curve(labels, preds)[1::-1])\n",
    "        roc_auc = roc_auc_score(labels, preds)\n",
    "        val_loss = total_loss / n\n",
    "\n",
    "\n",
    "        train_losses.append(train_loss)\n",
    "        val_losses.append(val_loss)\n",
    "        pr_aucs.append(pr_auc)\n",
    "        roc_aucs.append(roc_auc)\n",
    "        lrs.append(optimizer.param_groups[0]['lr'])\n",
    "\n",
    "        scheduler.step()  # обновляем learning rate\n",
    "\n",
    "        # Обновление графика\n",
    "        clear_output(wait=True)\n",
    "        plt.figure(figsize=(15, 5))\n",
    "\n",
    "        # Потери\n",
    "        plt.subplot(1, 3, 1)\n",
    "        plt.plot(train_losses, label='Train Loss')\n",
    "        plt.plot(val_losses, label='Val Loss')\n",
    "        plt.xlabel('Epoch')\n",
    "        plt.ylabel('Loss')\n",
    "        plt.title('Loss по эпохам')\n",
    "        plt.legend()\n",
    "        plt.xlim(0, epochs)\n",
    "\n",
    "        # Метрики\n",
    "        plt.subplot(1, 3, 2)\n",
    "        plt.plot(pr_aucs, label='PR AUC')\n",
    "        plt.plot(roc_aucs, label='ROC AUC')\n",
    "        plt.xlabel('Epoch')\n",
    "        plt.ylabel('Score')\n",
    "        plt.title('Тест Metrics')\n",
    "        plt.legend()\n",
    "        plt.xlim(0, epochs)\n",
    "\n",
    "        # Learning Rate\n",
    "        plt.subplot(1, 3, 3)\n",
    "        plt.plot(lrs, label='Learning Rate')\n",
    "        plt.xlabel('Epoch')\n",
    "        plt.ylabel('LR')\n",
    "        plt.title('Learning Rate Decay')\n",
    "        plt.legend()\n",
    "        plt.xlim(0, epochs)\n",
    "\n",
    "        plt.tight_layout()\n",
    "        plt.show()\n",
    "\n",
    "        print(f\"Эпоха {epoch+1}/{epochs} — Train Loss: {train_loss:.4f}, Val Loss: {val_loss:.4f}, PR AUC: {pr_auc:.4f}, ROC AUC: {roc_auc:.4f}, LR: {lrs[-1]:.6f}\")\n"
   ]
  },
  {
   "cell_type": "code",
   "execution_count": 17,
   "metadata": {
    "colab": {
     "base_uri": "https://localhost:8080/",
     "height": 319
    },
    "id": "8wSIpdR1yyOZ",
    "outputId": "bf1735e3-d28e-4791-ec06-eb0bd598eb28"
   },
   "outputs": [
    {
     "data": {
      "image/png": "[encoded data removed]",
      "text/plain": [
       "<Figure size 1500x500 with 3 Axes>"
      ]
     },
     "metadata": {},
     "output_type": "display_data"
    },
    {
     "name": "stdout",
     "output_type": "stream",
     "text": [
      "Эпоха 30/30 — Train Loss: 0.0095, Val Loss: 0.9186, PR AUC: 0.8082, ROC AUC: 0.9889, LR: 0.000002\n"
     ]
    }
   ],
   "source": [
    "set_seed()\n",
    "best = study.best_trial.params\n",
    "model = TransformerAnomaly(\n",
    "    n_features=n_features,\n",
    "    hidden_size=best[\"hidden_size\"],\n",
    "    num_layers=best[\"num_layers\"],\n",
    "    dropout=best[\"dropout\"],\n",
    "    n_heads=best[\"n_heads\"]\n",
    ").to(device)\n",
    "\n",
    "seq_len = best['seq_len']\n",
    "\n",
    "train_ds = LazySeqDataset(X_train, y_train, seq_len=seq_len)\n",
    "test_ds = LazySeqDataset(X_test, y_test, seq_len=seq_len)\n",
    "\n",
    "optimizer = torch.optim.AdamW(model.parameters(), lr=best[\"lr\"])\n",
    "train_with_plot_and_scheduler_old(\n",
    "    model,\n",
    "\n",
    "    train_loader = torch.utils.data.DataLoader(\n",
    "        train_ds, batch_size=best[\"batch_size\"], shuffle=True, drop_last=True\n",
    "    ),\n",
    "    val_loader = torch.utils.data.DataLoader(\n",
    "        test_ds, batch_size=best[\"batch_size\"], shuffle=False, drop_last=False\n",
    "    ),\n",
    "    optimizer=optimizer,\n",
    "    criterion=loss_fn,\n",
    "    epochs=30\n",
    ")"
   ]
  },
  {
   "cell_type": "markdown",
   "metadata": {
    "id": "nURhAUIjsjrX"
   },
   "source": [
    "## 10. Оценка на тесте"
   ]
  },
  {
   "cell_type": "markdown",
   "metadata": {
    "id": "i4ctylIHs9Bk"
   },
   "source": [
    "## 11. Подбор порога по валидации"
   ]
  },
  {
   "cell_type": "code",
   "execution_count": 18,
   "metadata": {
    "colab": {
     "base_uri": "https://localhost:8080/"
    },
    "id": "Cw6tT7CvsqN0",
    "outputId": "3ce7fae7-5acc-4a6c-f757-873b67139a9f"
   },
   "outputs": [
    {
     "name": "stdout",
     "output_type": "stream",
     "text": [
      "Порог детекции аномалий 0,5\n",
      "Test PR-AUC: 0.8086500564353941\n",
      "Precision: 0.5943396226415094\n",
      "Recall: 0.8181818181818182\n",
      "F1: 0.6885245901639344\n",
      "\n",
      "После поиска порога на val\n",
      "Оптимальный порог по val: 0.9901981\n",
      "Test PR-AUC: 0.8086500564353941\n",
      "Precision: 0.859375\n",
      "Recall: 0.7142857142857143\n",
      "F1: 0.7801418439716312\n"
     ]
    }
   ],
   "source": [
    "test_loader = torch.utils.data.DataLoader(\n",
    "        test_ds, batch_size=best[\"batch_size\"], shuffle=False, drop_last=False\n",
    "    )\n",
    "\n",
    "# 2) собираем предсказания батчами\n",
    "model.eval()\n",
    "all_scores, all_labels = [], []\n",
    "with torch.no_grad():\n",
    "    for xb, yb in test_loader:\n",
    "        xb = xb.to(device)                # (B, seq_len, n_features)\n",
    "        logits = model(xb)                # (B,)\n",
    "        scores = torch.sigmoid(logits).cpu()\n",
    "        all_scores.append(scores)\n",
    "        all_labels.append(yb)\n",
    "\n",
    "y_score = torch.cat(all_scores).numpy()\n",
    "y_true  = torch.cat(all_labels).numpy()\n",
    "y_pred = (y_score >= 0.5).astype(int)\n",
    "print(\"Порог детекции аномалий 0,5\")\n",
    "print(\"Test PR-AUC:\", average_precision_score(y_true, y_score))\n",
    "print(\"Precision:\", precision_score(y_true, y_pred))\n",
    "print(\"Recall:\",    recall_score(y_true, y_pred))\n",
    "print(\"F1:\",        f1_score(y_true, y_pred))\n",
    "\n",
    "\n",
    "# 3) подбор порога по валидации (то же самое)\n",
    "val_ds = LazySeqDataset(X_val, y_val, seq_len=best[\"seq_len\"])\n",
    "val_loader = torch.utils.data.DataLoader(\n",
    "        val_ds, batch_size=best[\"batch_size\"], shuffle=False, drop_last=False\n",
    "    )\n",
    "model.eval()\n",
    "val_scores, val_labels = [], []\n",
    "with torch.no_grad():\n",
    "    for xb, yb in val_loader:\n",
    "        xb = xb.to(device)\n",
    "        scores = torch.sigmoid(model(xb)).cpu()\n",
    "        val_scores.append(scores)\n",
    "        val_labels.append(yb)\n",
    "val_score = torch.cat(val_scores).numpy()\n",
    "val_labels = torch.cat(val_labels).numpy()\n",
    "\n",
    "prec, rec, thr = precision_recall_curve(val_labels, val_score)\n",
    "f1_scores = 2 * prec * rec / (prec + rec + 1e-12)\n",
    "best_thr = thr[np.nanargmax(f1_scores)]\n",
    "print(\"\\nПосле поиска порога на val\")\n",
    "print(f\"Оптимальный порог по val: {best_thr:.7f}\")\n",
    "\n",
    "# 4) финальные метрики\n",
    "y_pred = (y_score >= best_thr).astype(int)\n",
    "print(\"Test PR-AUC:\", average_precision_score(y_true, y_score))\n",
    "print(\"Precision:\", precision_score(y_true, y_pred))\n",
    "print(\"Recall:\",    recall_score(y_true, y_pred))\n",
    "print(\"F1:\",        f1_score(y_true, y_pred))"
   ]
  },
  {
   "cell_type": "markdown",
   "metadata": {
    "id": "LrnfEC8ntDpa"
   },
   "source": [
    "## 12. Финальные метрики и визуализация"
   ]
  },
  {
   "cell_type": "code",
   "execution_count": 19,
   "metadata": {
    "colab": {
     "base_uri": "https://localhost:8080/",
     "height": 0
    },
    "id": "JlleY9jPtEtL",
    "outputId": "8fab2707-0b52-43d0-9154-12d4ac45d9ac"
   },
   "outputs": [
    {
     "name": "stdout",
     "output_type": "stream",
     "text": [
      "Test (порог подобран по валидации) PR-AUC=0.8082 Precision=0.859 Recall=0.714 F1=0.780\n"
     ]
    },
    {
     "data": {
      "image/png": "[encoded data removed]",
      "text/plain": [
       "<Figure size 800x300 with 3 Axes>"
      ]
     },
     "metadata": {},
     "output_type": "display_data"
    }
   ],
   "source": [
    "precision =  precision_score(y_true, y_pred)\n",
    "recall    = recall_score(y_true, y_pred)\n",
    "f1        = f1_score(y_true, y_pred)\n",
    "prec, rec, _ = precision_recall_curve(y_true, y_score)\n",
    "pr_auc = auc(rec, prec)\n",
    "\n",
    "print(\"Test (порог подобран по валидации) \"\n",
    "      f\"PR-AUC={pr_auc:0.4f} Precision={precision:0.3f} Recall={recall:0.3f} F1={f1:.3f}\")\n",
    "\n",
    "# визуализация\n",
    "labels = ['Норм (0)', 'Аномалии (1)']\n",
    "fig, axs = plt.subplots(1, 2, figsize=(8, 3))\n",
    "axs[0].plot(rec, prec, marker='.', color='teal')\n",
    "axs[0].set_xlabel(\"Recall\"); axs[0].set_ylabel(\"Precision\")\n",
    "axs[0].set_title(f\"PR Curve (AUC={pr_auc:.2f})\")\n",
    "\n",
    "cm = confusion_matrix(y_true, y_pred)\n",
    "sns.heatmap(cm, annot=True, fmt='d', cmap='Blues', xticklabels=labels, yticklabels=labels, ax=axs[1])\n",
    "axs[1].set_xlabel(\"Предсказаные метки\"); axs[1].set_ylabel(\"Истинные метки\")\n",
    "axs[1].set_title(\"Confusion Matrix\")\n",
    "plt.tight_layout(); plt.show()"
   ]
  },
  {
   "cell_type": "markdown",
   "metadata": {
    "id": "MnxgD8u5VaIV"
   },
   "source": []
  },
  {
   "cell_type": "markdown",
   "metadata": {
    "id": "u82FjP8bVaQw"
   },
   "source": [
    "## 14. Выводы\n",
    "**Датасет**\n",
    "- **Объём**: 284 807 транзакций, 35 признаков.\n",
    "- **Ну очень сильный дисбаланс**: 0,17% транзакций — мошеннические (Class == 1).\n",
    "\n",
    "**Временное разбиение**: данные разделены по `Time_abs_hour`:\n",
    "  - **Train**: 0–39 часов (224 865 строк).  \n",
    "  - **Test**: 40–47 часов (59 942 строк).\n",
    "  \n",
    "**Модель**  \n",
    "- **Простой Transformer-энкодер**\n",
    "  \n",
    "**Подбор гиперпараметров**\n",
    "- **Optuna**\n",
    "  \n",
    "**Метрики**  | F1   | PR AUC |\n",
    "- **Test**     | 0.78 | 0.81   |\n",
    "\n",
    "**Вывод**\n",
    "- Модель справилась с задачей детекции аномалий лучше чем LSTM.\n",
    "- использовались 17 записей, т.е. трансформер использовал небольшое временное окно для лучшего результата.\n",
    "- - PR-AUC: 0.81 — допустим.\n",
    "- -  Precision: 0.86, Recall: 0.71, F1: 0.78 — при пороге 0.9901981, подобранном на валидации достаточно не плох, если бы данные были разделены по картам и пользователям - результат был бы значительно выше наверное.)\n",
    "- Подбор гиперпараметров через Optuna был эффективен.\n",
    "- Подбор порога классификации - важен: Исходно модель с порогом 0.5 давала  Recall (0.82) ,  Precision (0.59) и F1(0.69).  Последующий подбор оптимального порога  на валидационной выборке позволил  значительно улучшить F1-меру."
   ]
  }
 ],
 "metadata": {
  "colab": {
   "collapsed_sections": [
    "LrnfEC8ntDpa"
   ],
   "provenance": []
  },
  "kernelspec": {
   "display_name": "Python 3",
   "name": "python3"
  },
  "language_info": {
   "name": "python"
  }
 },
 "nbformat": 4,
 "nbformat_minor": 0
}
