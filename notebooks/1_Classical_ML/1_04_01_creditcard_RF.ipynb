{
 "cells": [
  {
   "cell_type": "markdown",
   "id": "7f8d0cf7-ffd7-421d-b8ca-fea3ffe04631",
   "metadata": {
    "jp-MarkdownHeadingCollapsed": true
   },
   "source": [
    "## Попробуем Random Forest"
   ]
  },
  {
   "cell_type": "markdown",
   "id": "cdb47b2c-6773-498c-bfc3-c1c38ae5bd61",
   "metadata": {},
   "source": [
    "## Нюанс тот же ...\n",
    "Данные имеют временные метки. \n",
    "Соответственно, split обязательно должен быть по времени.\n",
    "- и при разделении на train - test\n",
    "- и при кроссвалидации.\n",
    "  \n",
    "Так же и нормализовывать данные необходимо после разбиения.\n",
    "- однако в этом случае качество моделей падает ниже плинтуса, то на эту утечку пока забью...)"
   ]
  },
  {
   "cell_type": "markdown",
   "id": "2bf7d8e8-8c1e-4190-96c6-98e6f147d8d1",
   "metadata": {
    "jp-MarkdownHeadingCollapsed": true
   },
   "source": [
    "## 1. Импорты"
   ]
  },
  {
   "cell_type": "code",
   "execution_count": 1,
   "id": "15e413e3-dc9a-4c57-9575-85303c7e5d33",
   "metadata": {},
   "outputs": [],
   "source": [
    "# Импорт библиотек\n",
    "import os\n",
    "import numpy as np\n",
    "import pandas as pd\n",
    "import matplotlib.pyplot as plt\n",
    "import seaborn as sns\n",
    "\n",
    "from sklearn.base import BaseEstimator, clone\n",
    "from sklearn.model_selection import train_test_split, StratifiedKFold, ParameterGrid\n",
    "from sklearn.ensemble import RandomForestClassifier\n",
    "from sklearn.preprocessing import RobustScaler\n",
    "from sklearn.ensemble import IsolationForest\n",
    "from sklearn.metrics import (precision_score, recall_score, f1_score, \n",
    "                            precision_recall_curve, auc, confusion_matrix)\n",
    "import time\n",
    "import warnings\n",
    "warnings.filterwarnings('ignore')\n",
    "\n",
    "# Конфигурация\n",
    "RANDOM_STATE = 42\n",
    "plt.style.use('seaborn-v0_8-whitegrid')\n",
    "plt.rcParams['figure.figsize'] = (8, 4)"
   ]
  },
  {
   "cell_type": "markdown",
   "id": "d266e2cf-ccaa-43e1-908e-707f5b9e877b",
   "metadata": {
    "jp-MarkdownHeadingCollapsed": true
   },
   "source": [
    "## 2. Загрузка данных"
   ]
  },
  {
   "cell_type": "code",
   "execution_count": 2,
   "id": "ead18bf6-ae6f-47bc-8e9e-5786e0b23ff0",
   "metadata": {},
   "outputs": [],
   "source": [
    "# поиск пути от текущего файла в папку \n",
    "# anomaly_detection_project\\data\\raw где лежит датасет\n",
    "def find_path_within_project(project_name, path_to_data):\n",
    "    current_path = os.getcwd()   # путь к текущему файлу\n",
    "  \n",
    "    while True:\n",
    "        # Проверяем, находится ли проект в текущем каталоге\n",
    "        # если найден лепим и возвращаем нужный путь к данным\n",
    "        if project_name in os.listdir(current_path):\n",
    "            # Строим путь до нужной папки внутри проекта\n",
    "            return os.path.join(current_path, project_name, path_to_data)\n",
    "        \n",
    "        parent_path = os.path.dirname(current_path)\n",
    "        \n",
    "        if parent_path == current_path:\n",
    "            raise FileNotFoundError(f\"Проект '{project_name}' не найден в родительских каталогах.\")\n",
    "        # если проекта нет поднимаемся выше\n",
    "        current_path = parent_path\n",
    "\n",
    "# Получаем путь\n",
    "full_path_to_cc_1_02_00 = find_path_within_project(\n",
    "    \"anomaly_detection_project\", \n",
    "    os.path.join(\"data\", \"raw\",'creditcard_1_02_00.csv' )\n",
    ")"
   ]
  },
  {
   "cell_type": "code",
   "execution_count": 3,
   "id": "2fd9050a-73ab-44a6-837f-a45e1a14a1cc",
   "metadata": {
    "jupyter": {
     "source_hidden": true
    }
   },
   "outputs": [
    {
     "name": "stdout",
     "output_type": "stream",
     "text": [
      "\n",
      "\n",
      "Размер данных: 284807 строк, 35 столбцов\n",
      "Распределение классов:\n",
      "Class\n",
      "0    0.998273\n",
      "1    0.001727\n",
      "Name: proportion, dtype: float64\n",
      "\n",
      "Данные. Первые строки:\n"
     ]
    },
    {
     "data": {
      "text/html": [
       "<div>\n",
       "<style scoped>\n",
       "    .dataframe tbody tr th:only-of-type {\n",
       "        vertical-align: middle;\n",
       "    }\n",
       "\n",
       "    .dataframe tbody tr th {\n",
       "        vertical-align: top;\n",
       "    }\n",
       "\n",
       "    .dataframe thead th {\n",
       "        text-align: right;\n",
       "    }\n",
       "</style>\n",
       "<table border=\"1\" class=\"dataframe\">\n",
       "  <thead>\n",
       "    <tr style=\"text-align: right;\">\n",
       "      <th></th>\n",
       "      <th>Time</th>\n",
       "      <th>V1</th>\n",
       "      <th>V2</th>\n",
       "      <th>V3</th>\n",
       "      <th>V4</th>\n",
       "      <th>V5</th>\n",
       "      <th>V6</th>\n",
       "      <th>V7</th>\n",
       "      <th>V8</th>\n",
       "      <th>V9</th>\n",
       "      <th>...</th>\n",
       "      <th>V25</th>\n",
       "      <th>V26</th>\n",
       "      <th>V27</th>\n",
       "      <th>V28</th>\n",
       "      <th>Amount</th>\n",
       "      <th>Class</th>\n",
       "      <th>Time_hour</th>\n",
       "      <th>Time_day</th>\n",
       "      <th>Time_abs_hour</th>\n",
       "      <th>Amount_log</th>\n",
       "    </tr>\n",
       "  </thead>\n",
       "  <tbody>\n",
       "    <tr>\n",
       "      <th>0</th>\n",
       "      <td>0.0</td>\n",
       "      <td>-1.359807</td>\n",
       "      <td>-0.072781</td>\n",
       "      <td>2.536347</td>\n",
       "      <td>1.378155</td>\n",
       "      <td>-0.338321</td>\n",
       "      <td>0.462388</td>\n",
       "      <td>0.239599</td>\n",
       "      <td>0.098698</td>\n",
       "      <td>0.363787</td>\n",
       "      <td>...</td>\n",
       "      <td>0.128539</td>\n",
       "      <td>-0.189115</td>\n",
       "      <td>0.133558</td>\n",
       "      <td>-0.021053</td>\n",
       "      <td>149.62</td>\n",
       "      <td>0</td>\n",
       "      <td>0.0</td>\n",
       "      <td>0.0</td>\n",
       "      <td>0.0</td>\n",
       "      <td>5.014760</td>\n",
       "    </tr>\n",
       "    <tr>\n",
       "      <th>1</th>\n",
       "      <td>0.0</td>\n",
       "      <td>1.191857</td>\n",
       "      <td>0.266151</td>\n",
       "      <td>0.166480</td>\n",
       "      <td>0.448154</td>\n",
       "      <td>0.060018</td>\n",
       "      <td>-0.082361</td>\n",
       "      <td>-0.078803</td>\n",
       "      <td>0.085102</td>\n",
       "      <td>-0.255425</td>\n",
       "      <td>...</td>\n",
       "      <td>0.167170</td>\n",
       "      <td>0.125895</td>\n",
       "      <td>-0.008983</td>\n",
       "      <td>0.014724</td>\n",
       "      <td>2.69</td>\n",
       "      <td>0</td>\n",
       "      <td>0.0</td>\n",
       "      <td>0.0</td>\n",
       "      <td>0.0</td>\n",
       "      <td>1.305626</td>\n",
       "    </tr>\n",
       "    <tr>\n",
       "      <th>2</th>\n",
       "      <td>1.0</td>\n",
       "      <td>-1.358354</td>\n",
       "      <td>-1.340163</td>\n",
       "      <td>1.773209</td>\n",
       "      <td>0.379780</td>\n",
       "      <td>-0.503198</td>\n",
       "      <td>1.800499</td>\n",
       "      <td>0.791461</td>\n",
       "      <td>0.247676</td>\n",
       "      <td>-1.514654</td>\n",
       "      <td>...</td>\n",
       "      <td>-0.327642</td>\n",
       "      <td>-0.139097</td>\n",
       "      <td>-0.055353</td>\n",
       "      <td>-0.059752</td>\n",
       "      <td>378.66</td>\n",
       "      <td>0</td>\n",
       "      <td>0.0</td>\n",
       "      <td>0.0</td>\n",
       "      <td>0.0</td>\n",
       "      <td>5.939276</td>\n",
       "    </tr>\n",
       "    <tr>\n",
       "      <th>3</th>\n",
       "      <td>1.0</td>\n",
       "      <td>-0.966272</td>\n",
       "      <td>-0.185226</td>\n",
       "      <td>1.792993</td>\n",
       "      <td>-0.863291</td>\n",
       "      <td>-0.010309</td>\n",
       "      <td>1.247203</td>\n",
       "      <td>0.237609</td>\n",
       "      <td>0.377436</td>\n",
       "      <td>-1.387024</td>\n",
       "      <td>...</td>\n",
       "      <td>0.647376</td>\n",
       "      <td>-0.221929</td>\n",
       "      <td>0.062723</td>\n",
       "      <td>0.061458</td>\n",
       "      <td>123.50</td>\n",
       "      <td>0</td>\n",
       "      <td>0.0</td>\n",
       "      <td>0.0</td>\n",
       "      <td>0.0</td>\n",
       "      <td>4.824306</td>\n",
       "    </tr>\n",
       "    <tr>\n",
       "      <th>4</th>\n",
       "      <td>2.0</td>\n",
       "      <td>-1.158233</td>\n",
       "      <td>0.877737</td>\n",
       "      <td>1.548718</td>\n",
       "      <td>0.403034</td>\n",
       "      <td>-0.407193</td>\n",
       "      <td>0.095921</td>\n",
       "      <td>0.592941</td>\n",
       "      <td>-0.270533</td>\n",
       "      <td>0.817739</td>\n",
       "      <td>...</td>\n",
       "      <td>-0.206010</td>\n",
       "      <td>0.502292</td>\n",
       "      <td>0.219422</td>\n",
       "      <td>0.215153</td>\n",
       "      <td>69.99</td>\n",
       "      <td>0</td>\n",
       "      <td>0.0</td>\n",
       "      <td>0.0</td>\n",
       "      <td>0.0</td>\n",
       "      <td>4.262539</td>\n",
       "    </tr>\n",
       "  </tbody>\n",
       "</table>\n",
       "<p>5 rows × 35 columns</p>\n",
       "</div>"
      ],
      "text/plain": [
       "   Time        V1        V2        V3        V4        V5        V6        V7  \\\n",
       "0   0.0 -1.359807 -0.072781  2.536347  1.378155 -0.338321  0.462388  0.239599   \n",
       "1   0.0  1.191857  0.266151  0.166480  0.448154  0.060018 -0.082361 -0.078803   \n",
       "2   1.0 -1.358354 -1.340163  1.773209  0.379780 -0.503198  1.800499  0.791461   \n",
       "3   1.0 -0.966272 -0.185226  1.792993 -0.863291 -0.010309  1.247203  0.237609   \n",
       "4   2.0 -1.158233  0.877737  1.548718  0.403034 -0.407193  0.095921  0.592941   \n",
       "\n",
       "         V8        V9  ...       V25       V26       V27       V28  Amount  \\\n",
       "0  0.098698  0.363787  ...  0.128539 -0.189115  0.133558 -0.021053  149.62   \n",
       "1  0.085102 -0.255425  ...  0.167170  0.125895 -0.008983  0.014724    2.69   \n",
       "2  0.247676 -1.514654  ... -0.327642 -0.139097 -0.055353 -0.059752  378.66   \n",
       "3  0.377436 -1.387024  ...  0.647376 -0.221929  0.062723  0.061458  123.50   \n",
       "4 -0.270533  0.817739  ... -0.206010  0.502292  0.219422  0.215153   69.99   \n",
       "\n",
       "   Class  Time_hour  Time_day  Time_abs_hour  Amount_log  \n",
       "0      0        0.0       0.0            0.0    5.014760  \n",
       "1      0        0.0       0.0            0.0    1.305626  \n",
       "2      0        0.0       0.0            0.0    5.939276  \n",
       "3      0        0.0       0.0            0.0    4.824306  \n",
       "4      0        0.0       0.0            0.0    4.262539  \n",
       "\n",
       "[5 rows x 35 columns]"
      ]
     },
     "metadata": {},
     "output_type": "display_data"
    },
    {
     "name": "stdout",
     "output_type": "stream",
     "text": [
      "Список колонок без PCA: \n",
      " Time Amount Class Time_hour Time_day Time_abs_hour Amount_log\n"
     ]
    }
   ],
   "source": [
    "# файл creditcard_1_02_00.csv лежит в папке data/raw/\n",
    "# там добавлены новые колонки времени и суммы \n",
    "# print(f\"Загрузка данных из {full_path}\")\n",
    "df = pd.read_csv(full_path_to_cc_1_02_00)\n",
    "\n",
    "# посмотрим ка\n",
    "print(\"\\n\")\n",
    "print(f\"Размер данных: {df.shape[0]} строк, {df.shape[1]} столбцов\")\n",
    "print(f\"Распределение классов:\\n{df['Class'].value_counts(normalize=True)}\")\n",
    "print(f\"\\nДанные. Первые строки:\")\n",
    "display(df.head())\n",
    "print(\"Список колонок без PCA: \\n\", *df.columns[~df.columns.str.startswith('V')])"
   ]
  },
  {
   "cell_type": "markdown",
   "id": "cb943cec-967c-40ee-8fda-9ea3c6866654",
   "metadata": {
    "jp-MarkdownHeadingCollapsed": true
   },
   "source": [
    "## 3. Выделение test"
   ]
  },
  {
   "cell_type": "code",
   "execution_count": 4,
   "id": "46949981-1217-4710-b05c-9fb4577a74a3",
   "metadata": {},
   "outputs": [
    {
     "data": {
      "text/plain": [
       "(0.0, 47.0)"
      ]
     },
     "execution_count": 4,
     "metadata": {},
     "output_type": "execute_result"
    }
   ],
   "source": [
    "# колонка для сплита\n",
    "time_column = 'Time_abs_hour'\n",
    "df[time_column].min(), df[time_column].max()"
   ]
  },
  {
   "cell_type": "code",
   "execution_count": 5,
   "id": "d28ed75a-c8ec-41b3-8375-68a9e1706b5e",
   "metadata": {},
   "outputs": [
    {
     "name": "stdout",
     "output_type": "stream",
     "text": [
      "easy checking: \n",
      " train min 0.0, train max 39.0\n",
      " test min 40.0, test max 47.0\n",
      "Отрезали тестовую выборку.\n",
      "Размеры train:(224865, 35) test: (59942, 35) .\n"
     ]
    }
   ],
   "source": [
    "# Выделим для теста последние 8 часов\n",
    "def get_train_test(df, col, train_finish,\n",
    "                   train_start = 0, test_finish = 0, gap = 0,\n",
    "                   easy_check =True):\n",
    "    '''делим df на train и test \n",
    "        - gap -зазор между train и test (возможно и не пригодиццо)\n",
    "    '''\n",
    "    # определяем test_start и test_finish\n",
    "    if test_finish == 0:\n",
    "        test_finish = df[col].max()\n",
    "    test_start = train_finish + gap + 1\n",
    "    df_train = df[(df[col] >= train_start) & (df[col] <= train_finish)]\n",
    "    df_test =  df[(df[col] >= test_start) & (df[col] <= test_finish)]\n",
    "    if  easy_check:\n",
    "        print(\"easy checking: \\n\",\n",
    "              f\"train min {df_train[col].min()}, train max {df_train[col].max()}\\n\" , \n",
    "              f\"test min {df_test[col].min()}, test max {df_test[col].max()}\")\n",
    "    return df_train, df_test\n",
    "    \n",
    "time_col = 'Time_abs_hour'\n",
    "train_finish = df[time_col].max() - 8\n",
    "df_train, df_test = get_train_test(df, time_col , train_finish)\n",
    "print(\"Отрезали тестовую выборку.\")\n",
    "print(f\"Размеры train:{df_train.shape} test: {df_test.shape} .\")\n"
   ]
  },
  {
   "cell_type": "markdown",
   "id": "8ca2a74e-6113-4477-876d-f57fd5039222",
   "metadata": {
    "jp-MarkdownHeadingCollapsed": true
   },
   "source": [
    "## 4. Кросс валидация + обучение"
   ]
  },
  {
   "cell_type": "code",
   "execution_count": 6,
   "id": "dd7642cd-d4d6-44d2-b07a-124bc4cf6c53",
   "metadata": {},
   "outputs": [],
   "source": [
    "# домашняя кросс валидация с учётом временных меток\n",
    "# возвращает позиционные индексы\n",
    "class my_Time_Series_Fold_for_df:\n",
    "    def __init__(self, talker = True):\n",
    "        self.folds = []\n",
    "        self.talker = talker\n",
    "\n",
    "    def split(self, df, time_col, n_folds, rolling_window= True):\n",
    "        '''rolling_window - тактика формирования train'''\n",
    "        # Получаем временные метки\n",
    "        time_values = df[time_col]\n",
    "        min_time = time_values.min()\n",
    "        max_time = time_values.max()\n",
    "        ############\n",
    "        print(min_time, max_time)\n",
    "\n",
    "        # Общая продолжительность временного интервала\n",
    "        total_time = max_time + 1 - min_time\n",
    "\n",
    "        # Границы фолдов\n",
    "        fold_time_limits = [total_time*i/(n_folds+1) + min_time for i in range(n_folds+2)]\n",
    "        if self.talker:\n",
    "            print(\"\\n*** my_Time_Series_Fold_for_df ***\\n\")\n",
    "            print(fold_time_limits)\n",
    "\n",
    "        for i in range(n_folds):\n",
    "            # Временные границы обучающей выборки\n",
    "            # в зависимости от стратегии\n",
    "            train_time_start = fold_time_limits[\n",
    "                    i if rolling_window else 0\n",
    "                ]\n",
    "            train_time_end =  fold_time_limits[i+1]\n",
    "\n",
    "            # Временные границы тестовой выборки\n",
    "            # test_time_start = train_time_end\n",
    "            test_time_end = fold_time_limits[i+2]\n",
    "\n",
    "            # Формируем обучающую и тестовую выборки\n",
    "            train_idx = df[(df[time_col] >= train_time_start) & \n",
    "                            (df[time_col] < train_time_end)].index\n",
    "\n",
    "            test_idx = df[(df[time_col] >= train_time_end) & \n",
    "                            (df[time_col] < test_time_end)].index\n",
    "\n",
    "            # Преобразуем метки в позиции\n",
    "            train_pos = df.index.get_indexer(train_idx)\n",
    "            test_pos = df.index.get_indexer(test_idx)\n",
    "            if self.talker:\n",
    "                print(f\"Номер фолда {i+1}\")\n",
    "                print(f\"Размер train: {len(train_pos)}, test: {len(test_pos)}\")\n",
    "\n",
    "            # Добавляем пары индексов в список фолдов\n",
    "            self.folds.append((train_pos, test_pos))\n",
    "\n",
    "        return self.folds\n",
    "\n",
    "time_separator = my_Time_Series_Fold_for_df()"
   ]
  },
  {
   "cell_type": "code",
   "execution_count": 37,
   "id": "6d404468-934a-4142-a4f4-483b7412cfe8",
   "metadata": {},
   "outputs": [],
   "source": [
    "# домашний unsupervised GridSearch для ocsvm, Isolation Forest, LOF\n",
    "class my_GridSearchCV_2:\n",
    "    '''\n",
    "        Подбор гиперпараметров модели\n",
    "        для обычных моделей \n",
    "        обучение на всех объектах\n",
    "        cv - стратегия кросс валидации класс который формирует позиции \n",
    "        X_train, y_train, X_test,  y_test по временной колонке\n",
    "        \n",
    "        drop_columns - колонки которые не учавствуют в обучении и предсказании\n",
    "        \n",
    "    '''\n",
    "    def __init__(self, model, param_grid, cv = time_separator,  scoring = f1_score,\n",
    "                 time_col = \"Time_abs_hour\", n_folds = 3, n_samples = None, drop_columns = list(),\n",
    "                 talker = True,\n",
    "                 random_state=None):\n",
    "\n",
    "        self.estimator = model\n",
    "        self.drop_columns = drop_columns\n",
    "        self.param_grid = list(ParameterGrid(param_grid))   # dict словарь параметров\n",
    "        self.cv = cv                                        # стратегия кроссвалидации\n",
    "        self.scoring = scoring                              # ф-я оценки (y_true, y_pred) -> float, например f1_score\n",
    "        self.time_col = time_col\n",
    "        self.n_folds = n_folds\n",
    "        self.n_samples = n_samples\n",
    "        self.talker = talker\n",
    "        self.random_state = random_state\n",
    "                        # стратегия кросс валидации и обучения итоговой модели\n",
    "\n",
    "    def fit(self, X, y, rolling_window = True):\n",
    "        \"\"\" Перебирает все комбинации параметров и заполняет cv_results_.\n",
    "            - X - df\n",
    "            - y - Series\n",
    "            - rolling_window - тактика формирования train и обучения\n",
    "        \"\"\"\n",
    "\n",
    "        # структуры для хранения результатов\n",
    "        all_params = []\n",
    "        mean_test_scores = []\n",
    "        std_test_scores = []\n",
    "\n",
    "        # получаем разбиение по фолдам\n",
    "        train_test_positions = self.cv.split(X, self.time_col,\n",
    "                                             self.n_folds, rolling_window)\n",
    "        \n",
    "        # добавляем в удаляемые колонку по которой делили\n",
    "        self.drop_columns.append(time_col)\n",
    "\n",
    "        # полный перебор\n",
    "        for params in self.param_grid:\n",
    "            test_scores = []\n",
    "\n",
    "            # переделано под пандас получаем позици строк , не индексы!!!\n",
    "            for train_pos, test_pos in train_test_positions:\n",
    "                X_train, y_train = X.drop(self.drop_columns, axis=1).iloc[train_pos] , y.iloc[train_pos]\n",
    "                X_test,  y_test  = X.drop(self.drop_columns, axis=1).iloc[test_pos] ,  y.iloc[test_pos]\n",
    "\n",
    "                # если нужно уменьшить выборку для обучения LOF, OCSVM\n",
    "                if self.n_samples is not None and self.n_samples < len(X_train) :\n",
    "                    # np.random.seed(self.random_state)  # фиксируем генератор\n",
    "                    # indices = np.random.choice(len(X_train), size=self.n_samples, replace=False)\n",
    "                    # X_train = X_train.iloc[indices]\n",
    "                    # y_train = y_train.iloc[indices]\n",
    "                    X_train, y_train = self.get_samples_(X_train, y_train, self.n_samples)\n",
    "\n",
    "                # рожаем модель\n",
    "                model = clone(self.estimator).set_params(**params)\n",
    "                model.fit(X_train, y_train)\n",
    "\n",
    "                # предсказания на test\n",
    "                y_pred = model.predict(X_test)\n",
    "                test_scores.append(self.scoring(y_test, y_pred))\n",
    "\n",
    "            all_params.append(params)\n",
    "            mean_test_scores.append(np.mean(test_scores))\n",
    "            std_test_scores.append(np.std(test_scores))\n",
    "            if self.talker:\n",
    "                print(f\"\\nПараметры {params}\")\n",
    "                print(f\"mean_scores {mean_test_scores[-1]}\")\n",
    "                print(f\"std {std_test_scores[-1]}\")\n",
    "\n",
    "        # собираем cv_results_\n",
    "        # можно докинуть потом 'rank_test_score', \n",
    "        #'split0_test_score', 'split1_test_score', ...: оценки на каждом фолде\n",
    "        # 'mean_fit_time', 'mean_score_time': время обучения и оценки\n",
    "        cv_results = {\n",
    "            'params': all_params,\n",
    "            'mean_test_score': np.array(mean_test_scores),\n",
    "            'std_test_score':  np.array(std_test_scores),\n",
    "        }\n",
    "\n",
    "        # сохраняем результаты\n",
    "        self.cv_results_  = cv_results\n",
    "\n",
    "        # выбираем лучший индекс по mean_test_score\n",
    "        best_idx = np.argmax(cv_results['mean_test_score'])\n",
    "        self.best_params_  = all_params[best_idx]\n",
    "        self.best_score_   = cv_results['mean_test_score'][best_idx]\n",
    "        self.best_estimator_ = clone(self.estimator).set_params(**self.best_params_)\n",
    "\n",
    "        # обучаем лучший на всей выборке кроме колонок которые нужно дропнуть\n",
    "        X = X.drop(self.drop_columns, axis=1)\n",
    "        # если тактика rolling_window обучаем только на данных последнего фолда\n",
    "        if rolling_window:\n",
    "            X, y  = X.iloc[test_pos] ,  y.iloc[test_pos]\n",
    "\n",
    "        # если нужно уменьшить выборку для обучения \n",
    "        if self.n_samples is not None and self.n_samples *2 < len(X):\n",
    "            X, y = self.get_samples_(X, y, self.n_samples *2 )\n",
    "\n",
    "        self.best_estimator_.fit(X, y)\n",
    "        return\n",
    "\n",
    "    def get_samples_(self, X, y, n_samples):\n",
    "        '''X - df , y - Series\n",
    "           сохраняем все аномалии'''\n",
    "        # Разделяем на положительный и отрицательный класс\n",
    "        anom_idx = y[y == 1].index\n",
    "        norm_idx = y[y == 0].index\n",
    "    \n",
    "        # Сколько брать нормы, чтобы вместе с аномалией получилось n_samples\n",
    "        n_norm = n_samples - len(anom_idx)\n",
    "    \n",
    "        # Сэмплируем только из нулевого класса\n",
    "        np.random.seed(self.random_state)  # фиксируем генератор\n",
    "        norm_sampled = np.random.choice(norm_idx, size = n_norm, replace = False)\n",
    "    \n",
    "        # Объединяем индексы\n",
    "        sampled_idx = np.concatenate([anom_idx, norm_sampled])\n",
    "\n",
    "        return X.loc[sampled_idx],  y.loc[sampled_idx]\n",
    "        \n",
    "\n",
    "    def predict(self, X):\n",
    "        \"\"\"\n",
    "        Предсказывает метки для X, используя best_estimator_.\n",
    "        Возвращает 1 для мошенников и 0 для нормы\n",
    "        \"\"\"\n",
    "        self.check_best_estimator()\n",
    "        X = X.drop(self.drop_columns, axis=1)\n",
    "        return self.best_estimator_.predict(X)\n",
    "\n",
    "    def decision_function(self, X):\n",
    "        \"\"\"\n",
    "        Возвращает значение типа decision_function от best_estimator_.\n",
    "        или \n",
    "        \"\"\"\n",
    "        self.check_best_estimator()  \n",
    "        X = X.drop(self.drop_columns, axis=1)\n",
    "        # Используем вероятность  как \"оценку\"\n",
    "        proba = self.best_estimator_.predict_proba(X)[:, 1]\n",
    "        # чтобы граница была в 0 чем выше , тем выше вероятность аномалии\n",
    "        return proba - 0.5\n",
    "\n",
    "    def check_best_estimator(self):\n",
    "        \"\"\"\n",
    "        проверка наличия обученого моделя\n",
    "        \"\"\"\n",
    "        if not hasattr(self, 'best_estimator_'):\n",
    "            raise AttributeError(\"Нужно сначала вызвать .fit()\")"
   ]
  },
  {
   "cell_type": "code",
   "execution_count": 33,
   "id": "a770258f-ac1c-4554-b2bb-01e784988d75",
   "metadata": {},
   "outputs": [],
   "source": [
    "# для предсказания оставляем только колонки с PCA признаками и Amount_log ???\n",
    "# Предобработка\n",
    "drop_cols = ['Class']\n",
    "\n",
    "X = df_train.drop(drop_cols, axis=1)\n",
    "y = df_train['Class']\n",
    "\n",
    "X_test = df_test.drop(drop_cols, axis=1)\n",
    "y_test = df_test['Class']"
   ]
  },
  {
   "cell_type": "code",
   "execution_count": 34,
   "id": "5d5a7059-d045-4725-b801-b4c0e6deccfb",
   "metadata": {
    "scrolled": true
   },
   "outputs": [
    {
     "name": "stdout",
     "output_type": "stream",
     "text": [
      "Данные содержат колонки:  Index(['Time', 'V1', 'V2', 'V3', 'V4', 'V5', 'V6', 'V7', 'V8', 'V9', 'V10',\n",
      "       'V11', 'V12', 'V13', 'V14', 'V15', 'V16', 'V17', 'V18', 'V19', 'V20',\n",
      "       'V21', 'V22', 'V23', 'V24', 'V25', 'V26', 'V27', 'V28', 'Amount',\n",
      "       'Time_hour', 'Time_day', 'Time_abs_hour', 'Amount_log'],\n",
      "      dtype='object')\n"
     ]
    }
   ],
   "source": [
    "print(\"Данные содержат колонки: \", X.columns)"
   ]
  },
  {
   "cell_type": "code",
   "execution_count": 35,
   "id": "294f1c53-27fd-4408-947a-bf900a0622c6",
   "metadata": {},
   "outputs": [],
   "source": [
    "# для предсказания ни временные колонки ни величина транзакций нам не нужны\n",
    "# кроме PCA колонок оставляем только  'Time_abs_hour' по ней будем бить на фолды\n",
    "unnecessary_cols = ['Time', 'Amount', 'Time_hour', 'Time_day', 'Amount_log'] "
   ]
  },
  {
   "cell_type": "code",
   "execution_count": 50,
   "id": "51c6f22d-beae-4210-9254-506c0a3af237",
   "metadata": {},
   "outputs": [
    {
     "name": "stdout",
     "output_type": "stream",
     "text": [
      "0.0 39.0\n",
      "\n",
      "*** my_Time_Series_Fold_for_df ***\n",
      "\n",
      "[0.0, 10.0, 20.0, 30.0, 40.0]\n",
      "Номер фолда 1\n",
      "Размер train: 30596, test: 80256\n",
      "Номер фолда 2\n",
      "Размер train: 110852, test: 45528\n",
      "Номер фолда 3\n",
      "Размер train: 156380, test: 68485\n",
      "\n",
      "Параметры {'max_depth': None, 'n_estimators': 200}\n",
      "mean_scores 0.6759177145142058\n",
      "std 0.20765341611506496\n",
      "\n",
      "Параметры {'max_depth': None, 'n_estimators': 100}\n",
      "mean_scores 0.66675999115335\n",
      "std 0.22404420786601653\n",
      "\n",
      " Лучшие параметры модели:  {'max_depth': None, 'n_estimators': 200}\n"
     ]
    }
   ],
   "source": [
    "rf = RandomForestClassifier(random_state=RANDOM_STATE, n_jobs=-1)\n",
    "\n",
    "param_rf = {\n",
    "    'n_estimators': [200, 100],\n",
    "    'max_depth': [ None ]\n",
    "}\n",
    "grid_rf =  my_GridSearchCV_2(\n",
    "    model=rf,\n",
    "    param_grid=param_rf, \n",
    "    time_col = time_column,\n",
    "    n_folds = 3,\n",
    "    n_samples = 3000,\n",
    "    drop_columns=unnecessary_cols,\n",
    "    random_state = RANDOM_STATE\n",
    ")\n",
    "grid_rf.fit(X, y, rolling_window=False)\n",
    "\n",
    "print( '\\n Лучшие параметры модели: ', grid_rf.best_params_)"
   ]
  },
  {
   "cell_type": "markdown",
   "id": "bf99c28a-f5a5-4a52-9c69-e726c6c3da83",
   "metadata": {},
   "source": [
    "## 5. Оценка"
   ]
  },
  {
   "cell_type": "code",
   "execution_count": 46,
   "id": "7c003040-0db7-4824-9490-2afbe5fff4b5",
   "metadata": {
    "jupyter": {
     "source_hidden": true
    }
   },
   "outputs": [],
   "source": [
    "###############################################################\n",
    "# precision-recall кривая и confusion_matrix и метрики\n",
    "\n",
    "# метрики печать и возвращаем f1, pr_auc\n",
    "def print_metrics(y_true, y_pred,  pr_auc):\n",
    "    precision = precision_score(y_true, y_pred)\n",
    "    recall = recall_score(y_true, y_pred)\n",
    "    f1 = f1_score(y_true, y_pred)\n",
    "    print('\\n'+'='*60)\n",
    "    print(f\"Precision={precision:.2f},   Recall={recall:.2f},   F1={f1:.2f},   PR_AUC={pr_auc:.2f}\")\n",
    "    print('\\n'+'='*60)\n",
    "    # return f1, pr_auc\n",
    "\n",
    "# precision-recall кривая и confusion_matrix\n",
    "def plot_pr_curve_and_conf_matrix(model, X, y_true, main_label = ''):\n",
    "    # 0) получаем предсказания и сырые и не очень)\n",
    "    # получаем сырые оценки \n",
    "    y_scores = model.decision_function(X)\n",
    "    \n",
    "    # и предсказания\n",
    "    y_pred = model.predict(X)\n",
    "\n",
    "    # 1) оценка pr_curve\n",
    "    precisions, recalls, _ = precision_recall_curve(y_true, y_scores)\n",
    "    # x  должен монотонно возрастать!!!!\n",
    "    pr_auc = auc(x = recalls, y = precisions)\n",
    "\n",
    "    # 2)отрисовка\n",
    "    # # Создаём общую фигуру с 2 подграфиками (по горизонтали)\n",
    "    fig, axs = plt.subplots(1, 2, figsize=(8, 3))\n",
    "    # pr curve\n",
    "    fig.suptitle(\"Оценка модели \" + main_label, fontsize=14, fontweight='bold')\n",
    "    \n",
    "    \n",
    "    labels = ['Норм (0)', 'Аномалии (1)']\n",
    "    \n",
    "    axs[0].plot(recalls, precisions, marker='.', color='teal')\n",
    "    axs[0].set_xlabel(\"Recall\")\n",
    "    axs[0].set_ylabel(\"Precision\")\n",
    "    axs[0].set_title(f\"PR Curve (AUC={pr_auc:.2f})\")\n",
    "    \n",
    "    # cm\n",
    "    cm = confusion_matrix(y_true, y_pred)\n",
    "    \n",
    "    sns.heatmap(cm, annot=True, fmt='d', cmap='Blues',\n",
    "                xticklabels=labels, yticklabels=labels, ax=axs[1])\n",
    "    axs[1].set_xlabel(\"Предсказаные метки\")\n",
    "    axs[1].set_ylabel(\"Истинные метки\")\n",
    "    axs[1].set_title(\"Confusion Matrix\")\n",
    "    \n",
    "    plt.tight_layout()\n",
    "    plt.subplots_adjust(wspace=0.3) # раздвигаем картинки\n",
    "    plt.show()\n",
    "    \n",
    "    # 3) печать метрик\n",
    "    print_metrics(y_true, y_pred,  pr_auc)\n",
    "    \n",
    "    pass\n",
    "\n",
    "\n",
    "################################################################"
   ]
  },
  {
   "cell_type": "code",
   "execution_count": 47,
   "id": "cb0a687b-53e0-45b0-8e67-5dd04a46b422",
   "metadata": {
    "scrolled": true
   },
   "outputs": [
    {
     "data": {
      "image/png": "[encoded data removed]",
      "text/plain": [
       "<Figure size 800x300 with 3 Axes>"
      ]
     },
     "metadata": {},
     "output_type": "display_data"
    },
    {
     "name": "stdout",
     "output_type": "stream",
     "text": [
      "\n",
      "============================================================\n",
      "Precision=0.67,   Recall=1.00,   F1=0.80,   PR_AUC=0.89\n",
      "\n",
      "============================================================\n"
     ]
    }
   ],
   "source": [
    "# Оценка на train\n",
    "plot_pr_curve_and_conf_matrix(\n",
    "    grid_rf, \n",
    "    X,\n",
    "    y,'RandomForest на train' \n",
    ")"
   ]
  },
  {
   "cell_type": "code",
   "execution_count": 48,
   "id": "a748aaf1-bfda-46a8-822f-c7575d79e265",
   "metadata": {},
   "outputs": [
    {
     "data": {
      "image/png": "[encoded data removed]",
      "text/plain": [
       "<Figure size 800x300 with 3 Axes>"
      ]
     },
     "metadata": {},
     "output_type": "display_data"
    },
    {
     "name": "stdout",
     "output_type": "stream",
     "text": [
      "\n",
      "============================================================\n",
      "Precision=0.48,   Recall=0.79,   F1=0.60,   PR_AUC=0.79\n",
      "\n",
      "============================================================\n"
     ]
    }
   ],
   "source": [
    "# Оценка на test\n",
    "plot_pr_curve_and_conf_matrix(\n",
    "    grid_rf, X_test,\n",
    "    y_test,'RandomForest на test' \n",
    ")"
   ]
  },
  {
   "cell_type": "markdown",
   "id": "f6812862-3da3-47af-9d0f-7b1fc151a3cd",
   "metadata": {},
   "source": [
    "### Заметно значительное улучшение результатов.\n",
    "**Добавим экземпляров выборки в обучение**\n"
   ]
  },
  {
   "cell_type": "code",
   "execution_count": 51,
   "id": "6863af1a-cb8a-487d-92f6-c8a2f19f39b0",
   "metadata": {},
   "outputs": [
    {
     "name": "stdout",
     "output_type": "stream",
     "text": [
      "0.0 39.0\n",
      "\n",
      "*** my_Time_Series_Fold_for_df ***\n",
      "\n",
      "[0.0, 10.0, 20.0, 30.0, 40.0]\n",
      "Номер фолда 1\n",
      "Размер train: 30596, test: 80256\n",
      "Номер фолда 2\n",
      "Размер train: 110852, test: 45528\n",
      "Номер фолда 3\n",
      "Размер train: 156380, test: 68485\n",
      "\n",
      "Параметры {'max_depth': None, 'n_estimators': 200}\n",
      "mean_scores 0.7811106104601853\n",
      "std 0.08428049790146179\n",
      "\n",
      "Параметры {'max_depth': None, 'n_estimators': 100}\n",
      "mean_scores 0.774378419166195\n",
      "std 0.1005923281905395\n",
      "\n",
      " Лучшие параметры модели:  {'max_depth': None, 'n_estimators': 200}\n"
     ]
    }
   ],
   "source": [
    "grid_rf =  my_GridSearchCV_2(\n",
    "    model=rf,\n",
    "    param_grid=param_rf, \n",
    "    time_col = time_column,\n",
    "    n_folds = 3,\n",
    "    n_samples = 15000,\n",
    "    drop_columns=unnecessary_cols,\n",
    "    random_state = RANDOM_STATE\n",
    ")\n",
    "grid_rf.fit(X, y, rolling_window=False)\n",
    "\n",
    "print( '\\n Лучшие параметры модели: ', grid_rf.best_params_)"
   ]
  },
  {
   "cell_type": "code",
   "execution_count": 52,
   "id": "a12635cf-c426-4cad-b243-52780ba4bb6d",
   "metadata": {},
   "outputs": [
    {
     "data": {
      "image/png": "[encoded data removed]",
      "text/plain": [
       "<Figure size 800x300 with 3 Axes>"
      ]
     },
     "metadata": {},
     "output_type": "display_data"
    },
    {
     "name": "stdout",
     "output_type": "stream",
     "text": [
      "\n",
      "============================================================\n",
      "Precision=0.84,   Recall=1.00,   F1=0.91,   PR_AUC=0.96\n",
      "\n",
      "============================================================\n"
     ]
    }
   ],
   "source": [
    "# Оценка на train\n",
    "plot_pr_curve_and_conf_matrix(\n",
    "    grid_rf, \n",
    "    X,\n",
    "    y,'RandomForest на train' \n",
    ")"
   ]
  },
  {
   "cell_type": "code",
   "execution_count": 53,
   "id": "d107f036-2ee0-48e4-a1d3-4081577be88f",
   "metadata": {},
   "outputs": [
    {
     "data": {
      "image/png": "[encoded data removed]",
      "text/plain": [
       "<Figure size 800x300 with 3 Axes>"
      ]
     },
     "metadata": {},
     "output_type": "display_data"
    },
    {
     "name": "stdout",
     "output_type": "stream",
     "text": [
      "\n",
      "============================================================\n",
      "Precision=0.81,   Recall=0.77,   F1=0.79,   PR_AUC=0.80\n",
      "\n",
      "============================================================\n"
     ]
    }
   ],
   "source": [
    "# Оценка на test\n",
    "plot_pr_curve_and_conf_matrix(\n",
    "    grid_rf, X_test,\n",
    "    y_test,'RandomForest на test' \n",
    ")"
   ]
  },
  {
   "cell_type": "markdown",
   "id": "e0b5c3c2-fed1-4923-aa68-994ebf91444b",
   "metadata": {},
   "source": [
    "## 6. Выводы"
   ]
  },
  {
   "cell_type": "markdown",
   "id": "6827c909-3691-4d33-88a5-9f7602e4a697",
   "metadata": {},
   "source": [
    "**Датасет**\n",
    "- **Объём**: 284 807 транзакций, 35 признаков.\n",
    "- **Ну очень сильный дисбаланс**: 0,17% транзакций — мошеннические (Class == 1).\n",
    "\n",
    "**Временное разбиение**: данные разделены по `Time_abs_hour`:\n",
    "  - **Train**: 0–39 часов (224 865 строк).  \n",
    "  - **Test**: 40–47 часов (59 942 строк).\n",
    "  \n",
    "**Модель**  \n",
    "- **Random Forest**\n",
    "  \n",
    "**Метрики**  | F1   | PR AUC |\n",
    "- **Train**   | 0.91 | 0.96   |\n",
    "- **Test**     | 0.77 | 0.80   |\n",
    "  \n",
    "  \n",
    "**Вывод**\n",
    "- **Random Forest в текущем виде уже неплохо справляется с задачей** даже несмотря на очень сильный дисбаланс.\n",
    "- **Supervised-подход (Random Forest) кардинально превосходит Unsupervised-подход (LOF)** на этой задаче.\n",
    "- **Качество, при желании, можно улучшать:**\n",
    "- - настройка гиперпараметров Random Forest/LightGBM/CatBoost.\n",
    "  - Генерация новых признаков на основе анализа ошибок.\n",
    "  - Ансамблировании лучших -моделей."
   ]
  },
  {
   "cell_type": "markdown",
   "id": "481fff57-81e1-4e7f-add5-21189670a5fa",
   "metadata": {},
   "source": [
    "## Happy end....."
   ]
  }
 ],
 "metadata": {
  "kernelspec": {
   "display_name": "Python 3 (ipykernel)",
   "language": "python",
   "name": "python3"
  },
  "language_info": {
   "codemirror_mode": {
    "name": "ipython",
    "version": 3
   },
   "file_extension": ".py",
   "mimetype": "text/x-python",
   "name": "python",
   "nbconvert_exporter": "python",
   "pygments_lexer": "ipython3",
   "version": "3.10.11"
  }
 },
 "nbformat": 4,
 "nbformat_minor": 5
}
